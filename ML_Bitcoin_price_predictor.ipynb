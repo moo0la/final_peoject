{
  "nbformat": 4,
  "nbformat_minor": 0,
  "metadata": {
    "colab": {
      "name": "ML - Bitcoin price predictor.ipynb",
      "provenance": [],
      "collapsed_sections": []
    },
    "kernelspec": {
      "name": "python3",
      "display_name": "Python 3"
    },
    "language_info": {
      "name": "python"
    }
  },
  "cells": [
    {
      "cell_type": "markdown",
      "source": [
        "#Bitcoin price predictor use ML"
      ],
      "metadata": {
        "id": "FadPWE_Rokix"
      }
    },
    {
      "cell_type": "markdown",
      "source": [
        "## Import the necessary libraries"
      ],
      "metadata": {
        "id": "e66e5-B2osqJ"
      }
    },
    {
      "cell_type": "code",
      "source": [
        "!pip install arch"
      ],
      "metadata": {
        "colab": {
          "base_uri": "https://localhost:8080/"
        },
        "id": "JJyl6EgeXn7V",
        "outputId": "a4b7c981-2d27-408e-af50-7b6566812632"
      },
      "execution_count": 1,
      "outputs": [
        {
          "output_type": "stream",
          "name": "stdout",
          "text": [
            "Requirement already satisfied: arch in /usr/local/lib/python3.7/dist-packages (5.1.0)\n",
            "Requirement already satisfied: pandas>=1.0 in /usr/local/lib/python3.7/dist-packages (from arch) (1.1.5)\n",
            "Requirement already satisfied: property-cached>=1.6.4 in /usr/local/lib/python3.7/dist-packages (from arch) (1.6.4)\n",
            "Requirement already satisfied: scipy>=1.3 in /usr/local/lib/python3.7/dist-packages (from arch) (1.4.1)\n",
            "Requirement already satisfied: numpy>=1.17 in /usr/local/lib/python3.7/dist-packages (from arch) (1.19.5)\n",
            "Requirement already satisfied: statsmodels>=0.11 in /usr/local/lib/python3.7/dist-packages (from arch) (0.13.1)\n",
            "Requirement already satisfied: python-dateutil>=2.7.3 in /usr/local/lib/python3.7/dist-packages (from pandas>=1.0->arch) (2.8.2)\n",
            "Requirement already satisfied: pytz>=2017.2 in /usr/local/lib/python3.7/dist-packages (from pandas>=1.0->arch) (2018.9)\n",
            "Requirement already satisfied: six>=1.5 in /usr/local/lib/python3.7/dist-packages (from python-dateutil>=2.7.3->pandas>=1.0->arch) (1.15.0)\n",
            "Requirement already satisfied: patsy>=0.5.2 in /usr/local/lib/python3.7/dist-packages (from statsmodels>=0.11->arch) (0.5.2)\n"
          ]
        }
      ]
    },
    {
      "cell_type": "code",
      "execution_count": 2,
      "metadata": {
        "id": "o2cwu9a5bMbN"
      },
      "outputs": [],
      "source": [
        "import pandas as pd\n",
        "import numpy as np\n",
        "import matplotlib.pyplot as plt\n",
        "import requests\n",
        "from pandas.plotting import register_matplotlib_converters\n",
        "register_matplotlib_converters()\n",
        "import warnings\n",
        "warnings.filterwarnings(\"ignore\")\n",
        "import arch\n"
      ]
    },
    {
      "cell_type": "markdown",
      "source": [
        "##Fetching data from the server , organize it and clean it"
      ],
      "metadata": {
        "id": "PmVVp7Gko-Ya"
      }
    },
    {
      "cell_type": "code",
      "source": [
        "url = 'https://api.binance.com/api/v3/klines'\n",
        "r = requests.get(url,params={'symbol':'BTCUSDT','interval': '1m','limit':2000})\n",
        "r"
      ],
      "metadata": {
        "colab": {
          "base_uri": "https://localhost:8080/"
        },
        "id": "PwZaLPDaeHiH",
        "outputId": "bccfdc80-345d-49df-f783-f0fd18469a55"
      },
      "execution_count": 3,
      "outputs": [
        {
          "output_type": "execute_result",
          "data": {
            "text/plain": [
              "<Response [200]>"
            ]
          },
          "metadata": {},
          "execution_count": 3
        }
      ]
    },
    {
      "cell_type": "markdown",
      "source": [
        "### Frame Collumn Formatting"
      ],
      "metadata": {
        "id": "vecGY3vMpxMK"
      }
    },
    {
      "cell_type": "code",
      "source": [
        "collumns = \"\"\"\n",
        "\n",
        "1499040000000,      // Open time\n",
        "    \"0.01634790\",       // Open\n",
        "    \"0.80000000\",       // High\n",
        "    \"0.01575800\",       // Low\n",
        "    \"0.01577100\",       // Close\n",
        "    \"148976.11427815\",  // Volume\n",
        "    1499644799999,      // Close time\n",
        "    \"2434.19055334\",    // Quote asset volume\n",
        "    308,                // Number of trades\n",
        "    \"1756.87402397\",    // Taker buy base asset volume\n",
        "    \"28.46694368\",      // Taker buy quote asset volume\n",
        "    \"17928899.62484339\" // Ignore.\n",
        "\n",
        "\"\"\".split(\"//\")[1:-1]\n",
        "\n",
        "\n",
        "my_col_names = [sub_str.split('\\n')[0].lower().strip().replace(' ','_') for sub_str in collumns]\n",
        "# my_col_names.insert(0, 'timestamp')\n",
        "my_col_names.append('ignore')\n",
        "my_col_names"
      ],
      "metadata": {
        "colab": {
          "base_uri": "https://localhost:8080/"
        },
        "id": "7x-7sS1NlywJ",
        "outputId": "4e20c8bd-3a9e-4158-cb44-3791549ff2b6"
      },
      "execution_count": 4,
      "outputs": [
        {
          "output_type": "execute_result",
          "data": {
            "text/plain": [
              "['open_time',\n",
              " 'open',\n",
              " 'high',\n",
              " 'low',\n",
              " 'close',\n",
              " 'volume',\n",
              " 'close_time',\n",
              " 'quote_asset_volume',\n",
              " 'number_of_trades',\n",
              " 'taker_buy_base_asset_volume',\n",
              " 'taker_buy_quote_asset_volume',\n",
              " 'ignore']"
            ]
          },
          "metadata": {},
          "execution_count": 4
        }
      ]
    },
    {
      "cell_type": "code",
      "source": [
        "df = pd.DataFrame(r.json(),columns = my_col_names)\n",
        "df.index = pd.to_datetime(df.open_time*1000000)\n",
        "#df.index = pd.DatetimeIndex(df.open_time*1000000)\n",
        "df.index.name = 'Date'\n",
        "df = df.drop(columns=['open_time','close_time','ignore'])\n",
        "df"
      ],
      "metadata": {
        "id": "Nsav3Zff2nqO",
        "colab": {
          "base_uri": "https://localhost:8080/",
          "height": 866
        },
        "outputId": "e678674d-ec80-464b-acd5-20339e34533d"
      },
      "execution_count": 5,
      "outputs": [
        {
          "output_type": "execute_result",
          "data": {
            "text/html": [
              "\n",
              "  <div id=\"df-debcf9d5-c4ff-40b0-8a59-d2ef0a19c103\">\n",
              "    <div class=\"colab-df-container\">\n",
              "      <div>\n",
              "<style scoped>\n",
              "    .dataframe tbody tr th:only-of-type {\n",
              "        vertical-align: middle;\n",
              "    }\n",
              "\n",
              "    .dataframe tbody tr th {\n",
              "        vertical-align: top;\n",
              "    }\n",
              "\n",
              "    .dataframe thead th {\n",
              "        text-align: right;\n",
              "    }\n",
              "</style>\n",
              "<table border=\"1\" class=\"dataframe\">\n",
              "  <thead>\n",
              "    <tr style=\"text-align: right;\">\n",
              "      <th></th>\n",
              "      <th>open</th>\n",
              "      <th>high</th>\n",
              "      <th>low</th>\n",
              "      <th>close</th>\n",
              "      <th>volume</th>\n",
              "      <th>quote_asset_volume</th>\n",
              "      <th>number_of_trades</th>\n",
              "      <th>taker_buy_base_asset_volume</th>\n",
              "      <th>taker_buy_quote_asset_volume</th>\n",
              "    </tr>\n",
              "    <tr>\n",
              "      <th>Date</th>\n",
              "      <th></th>\n",
              "      <th></th>\n",
              "      <th></th>\n",
              "      <th></th>\n",
              "      <th></th>\n",
              "      <th></th>\n",
              "      <th></th>\n",
              "      <th></th>\n",
              "      <th></th>\n",
              "    </tr>\n",
              "  </thead>\n",
              "  <tbody>\n",
              "    <tr>\n",
              "      <th>2022-01-05 10:38:00</th>\n",
              "      <td>46745.49000000</td>\n",
              "      <td>46748.62000000</td>\n",
              "      <td>46711.53000000</td>\n",
              "      <td>46731.91000000</td>\n",
              "      <td>18.89581000</td>\n",
              "      <td>883128.89940300</td>\n",
              "      <td>705</td>\n",
              "      <td>11.14003000</td>\n",
              "      <td>520672.15786530</td>\n",
              "    </tr>\n",
              "    <tr>\n",
              "      <th>2022-01-05 10:39:00</th>\n",
              "      <td>46731.92000000</td>\n",
              "      <td>46742.00000000</td>\n",
              "      <td>46727.02000000</td>\n",
              "      <td>46741.99000000</td>\n",
              "      <td>11.04390000</td>\n",
              "      <td>516103.87204010</td>\n",
              "      <td>447</td>\n",
              "      <td>6.77630000</td>\n",
              "      <td>316671.31471740</td>\n",
              "    </tr>\n",
              "    <tr>\n",
              "      <th>2022-01-05 10:40:00</th>\n",
              "      <td>46741.99000000</td>\n",
              "      <td>46771.81000000</td>\n",
              "      <td>46741.99000000</td>\n",
              "      <td>46764.06000000</td>\n",
              "      <td>13.43872000</td>\n",
              "      <td>628330.67476550</td>\n",
              "      <td>635</td>\n",
              "      <td>7.94018000</td>\n",
              "      <td>371245.44859570</td>\n",
              "    </tr>\n",
              "    <tr>\n",
              "      <th>2022-01-05 10:41:00</th>\n",
              "      <td>46764.07000000</td>\n",
              "      <td>46795.83000000</td>\n",
              "      <td>46764.06000000</td>\n",
              "      <td>46770.16000000</td>\n",
              "      <td>14.79116000</td>\n",
              "      <td>691919.14080280</td>\n",
              "      <td>714</td>\n",
              "      <td>8.66768000</td>\n",
              "      <td>405455.12630750</td>\n",
              "    </tr>\n",
              "    <tr>\n",
              "      <th>2022-01-05 10:42:00</th>\n",
              "      <td>46770.17000000</td>\n",
              "      <td>46786.59000000</td>\n",
              "      <td>46755.69000000</td>\n",
              "      <td>46768.62000000</td>\n",
              "      <td>10.80785000</td>\n",
              "      <td>505543.77664990</td>\n",
              "      <td>460</td>\n",
              "      <td>4.77526000</td>\n",
              "      <td>223360.96941870</td>\n",
              "    </tr>\n",
              "    <tr>\n",
              "      <th>...</th>\n",
              "      <td>...</td>\n",
              "      <td>...</td>\n",
              "      <td>...</td>\n",
              "      <td>...</td>\n",
              "      <td>...</td>\n",
              "      <td>...</td>\n",
              "      <td>...</td>\n",
              "      <td>...</td>\n",
              "      <td>...</td>\n",
              "    </tr>\n",
              "    <tr>\n",
              "      <th>2022-01-06 03:13:00</th>\n",
              "      <td>43180.92000000</td>\n",
              "      <td>43236.13000000</td>\n",
              "      <td>43166.26000000</td>\n",
              "      <td>43219.73000000</td>\n",
              "      <td>66.22635000</td>\n",
              "      <td>2860592.00146000</td>\n",
              "      <td>998</td>\n",
              "      <td>29.63234000</td>\n",
              "      <td>1279750.43679190</td>\n",
              "    </tr>\n",
              "    <tr>\n",
              "      <th>2022-01-06 03:14:00</th>\n",
              "      <td>43219.72000000</td>\n",
              "      <td>43244.71000000</td>\n",
              "      <td>43204.59000000</td>\n",
              "      <td>43239.05000000</td>\n",
              "      <td>20.20555000</td>\n",
              "      <td>873474.31276850</td>\n",
              "      <td>677</td>\n",
              "      <td>7.83588000</td>\n",
              "      <td>338707.71325180</td>\n",
              "    </tr>\n",
              "    <tr>\n",
              "      <th>2022-01-06 03:15:00</th>\n",
              "      <td>43239.05000000</td>\n",
              "      <td>43260.33000000</td>\n",
              "      <td>43185.07000000</td>\n",
              "      <td>43193.55000000</td>\n",
              "      <td>25.28753000</td>\n",
              "      <td>1092766.34508210</td>\n",
              "      <td>725</td>\n",
              "      <td>8.50719000</td>\n",
              "      <td>367602.81235540</td>\n",
              "    </tr>\n",
              "    <tr>\n",
              "      <th>2022-01-06 03:16:00</th>\n",
              "      <td>43193.54000000</td>\n",
              "      <td>43193.76000000</td>\n",
              "      <td>43142.85000000</td>\n",
              "      <td>43182.44000000</td>\n",
              "      <td>19.56296000</td>\n",
              "      <td>844558.71387670</td>\n",
              "      <td>793</td>\n",
              "      <td>8.93554000</td>\n",
              "      <td>385761.82704660</td>\n",
              "    </tr>\n",
              "    <tr>\n",
              "      <th>2022-01-06 03:17:00</th>\n",
              "      <td>43182.43000000</td>\n",
              "      <td>43182.44000000</td>\n",
              "      <td>43126.51000000</td>\n",
              "      <td>43137.97000000</td>\n",
              "      <td>18.31061000</td>\n",
              "      <td>790132.31824890</td>\n",
              "      <td>443</td>\n",
              "      <td>3.93146000</td>\n",
              "      <td>169640.10197440</td>\n",
              "    </tr>\n",
              "  </tbody>\n",
              "</table>\n",
              "<p>1000 rows × 9 columns</p>\n",
              "</div>\n",
              "      <button class=\"colab-df-convert\" onclick=\"convertToInteractive('df-debcf9d5-c4ff-40b0-8a59-d2ef0a19c103')\"\n",
              "              title=\"Convert this dataframe to an interactive table.\"\n",
              "              style=\"display:none;\">\n",
              "        \n",
              "  <svg xmlns=\"http://www.w3.org/2000/svg\" height=\"24px\"viewBox=\"0 0 24 24\"\n",
              "       width=\"24px\">\n",
              "    <path d=\"M0 0h24v24H0V0z\" fill=\"none\"/>\n",
              "    <path d=\"M18.56 5.44l.94 2.06.94-2.06 2.06-.94-2.06-.94-.94-2.06-.94 2.06-2.06.94zm-11 1L8.5 8.5l.94-2.06 2.06-.94-2.06-.94L8.5 2.5l-.94 2.06-2.06.94zm10 10l.94 2.06.94-2.06 2.06-.94-2.06-.94-.94-2.06-.94 2.06-2.06.94z\"/><path d=\"M17.41 7.96l-1.37-1.37c-.4-.4-.92-.59-1.43-.59-.52 0-1.04.2-1.43.59L10.3 9.45l-7.72 7.72c-.78.78-.78 2.05 0 2.83L4 21.41c.39.39.9.59 1.41.59.51 0 1.02-.2 1.41-.59l7.78-7.78 2.81-2.81c.8-.78.8-2.07 0-2.86zM5.41 20L4 18.59l7.72-7.72 1.47 1.35L5.41 20z\"/>\n",
              "  </svg>\n",
              "      </button>\n",
              "      \n",
              "  <style>\n",
              "    .colab-df-container {\n",
              "      display:flex;\n",
              "      flex-wrap:wrap;\n",
              "      gap: 12px;\n",
              "    }\n",
              "\n",
              "    .colab-df-convert {\n",
              "      background-color: #E8F0FE;\n",
              "      border: none;\n",
              "      border-radius: 50%;\n",
              "      cursor: pointer;\n",
              "      display: none;\n",
              "      fill: #1967D2;\n",
              "      height: 32px;\n",
              "      padding: 0 0 0 0;\n",
              "      width: 32px;\n",
              "    }\n",
              "\n",
              "    .colab-df-convert:hover {\n",
              "      background-color: #E2EBFA;\n",
              "      box-shadow: 0px 1px 2px rgba(60, 64, 67, 0.3), 0px 1px 3px 1px rgba(60, 64, 67, 0.15);\n",
              "      fill: #174EA6;\n",
              "    }\n",
              "\n",
              "    [theme=dark] .colab-df-convert {\n",
              "      background-color: #3B4455;\n",
              "      fill: #D2E3FC;\n",
              "    }\n",
              "\n",
              "    [theme=dark] .colab-df-convert:hover {\n",
              "      background-color: #434B5C;\n",
              "      box-shadow: 0px 1px 3px 1px rgba(0, 0, 0, 0.15);\n",
              "      filter: drop-shadow(0px 1px 2px rgba(0, 0, 0, 0.3));\n",
              "      fill: #FFFFFF;\n",
              "    }\n",
              "  </style>\n",
              "\n",
              "      <script>\n",
              "        const buttonEl =\n",
              "          document.querySelector('#df-debcf9d5-c4ff-40b0-8a59-d2ef0a19c103 button.colab-df-convert');\n",
              "        buttonEl.style.display =\n",
              "          google.colab.kernel.accessAllowed ? 'block' : 'none';\n",
              "\n",
              "        async function convertToInteractive(key) {\n",
              "          const element = document.querySelector('#df-debcf9d5-c4ff-40b0-8a59-d2ef0a19c103');\n",
              "          const dataTable =\n",
              "            await google.colab.kernel.invokeFunction('convertToInteractive',\n",
              "                                                     [key], {});\n",
              "          if (!dataTable) return;\n",
              "\n",
              "          const docLinkHtml = 'Like what you see? Visit the ' +\n",
              "            '<a target=\"_blank\" href=https://colab.research.google.com/notebooks/data_table.ipynb>data table notebook</a>'\n",
              "            + ' to learn more about interactive tables.';\n",
              "          element.innerHTML = '';\n",
              "          dataTable['output_type'] = 'display_data';\n",
              "          await google.colab.output.renderOutput(dataTable, element);\n",
              "          const docLink = document.createElement('div');\n",
              "          docLink.innerHTML = docLinkHtml;\n",
              "          element.appendChild(docLink);\n",
              "        }\n",
              "      </script>\n",
              "    </div>\n",
              "  </div>\n",
              "  "
            ],
            "text/plain": [
              "                               open  ... taker_buy_quote_asset_volume\n",
              "Date                                 ...                             \n",
              "2022-01-05 10:38:00  46745.49000000  ...              520672.15786530\n",
              "2022-01-05 10:39:00  46731.92000000  ...              316671.31471740\n",
              "2022-01-05 10:40:00  46741.99000000  ...              371245.44859570\n",
              "2022-01-05 10:41:00  46764.07000000  ...              405455.12630750\n",
              "2022-01-05 10:42:00  46770.17000000  ...              223360.96941870\n",
              "...                             ...  ...                          ...\n",
              "2022-01-06 03:13:00  43180.92000000  ...             1279750.43679190\n",
              "2022-01-06 03:14:00  43219.72000000  ...              338707.71325180\n",
              "2022-01-06 03:15:00  43239.05000000  ...              367602.81235540\n",
              "2022-01-06 03:16:00  43193.54000000  ...              385761.82704660\n",
              "2022-01-06 03:17:00  43182.43000000  ...              169640.10197440\n",
              "\n",
              "[1000 rows x 9 columns]"
            ]
          },
          "metadata": {},
          "execution_count": 5
        }
      ]
    },
    {
      "cell_type": "code",
      "source": [
        "r = requests.get(url,params={'symbol':'BTCUSDT','interval': '1m','limit':2000,'endTime':(1641348720-1)*2000})\n",
        "pd.DatetimeIndex(pd.DataFrame(r.json(),columns = my_col_names).open_time*1000000)"
      ],
      "metadata": {
        "colab": {
          "base_uri": "https://localhost:8080/"
        },
        "id": "aoWhlAD0HRwN",
        "outputId": "6f689291-f997-405b-9ec8-42363669b043"
      },
      "execution_count": 6,
      "outputs": [
        {
          "output_type": "execute_result",
          "data": {
            "text/plain": [
              "DatetimeIndex(['2022-01-05 10:38:00', '2022-01-05 10:39:00',\n",
              "               '2022-01-05 10:40:00', '2022-01-05 10:41:00',\n",
              "               '2022-01-05 10:42:00', '2022-01-05 10:43:00',\n",
              "               '2022-01-05 10:44:00', '2022-01-05 10:45:00',\n",
              "               '2022-01-05 10:46:00', '2022-01-05 10:47:00',\n",
              "               ...\n",
              "               '2022-01-06 03:08:00', '2022-01-06 03:09:00',\n",
              "               '2022-01-06 03:10:00', '2022-01-06 03:11:00',\n",
              "               '2022-01-06 03:12:00', '2022-01-06 03:13:00',\n",
              "               '2022-01-06 03:14:00', '2022-01-06 03:15:00',\n",
              "               '2022-01-06 03:16:00', '2022-01-06 03:17:00'],\n",
              "              dtype='datetime64[ns]', name='open_time', length=1000, freq=None)"
            ]
          },
          "metadata": {},
          "execution_count": 6
        }
      ]
    },
    {
      "cell_type": "markdown",
      "source": [
        "### Creating a new column for better representing day-wise values"
      ],
      "metadata": {
        "id": "KsNCDMp1uWvR"
      }
    },
    {
      "cell_type": "code",
      "source": [
        "df[\"low\"] = pd.to_numeric(df[\"low\"])\n",
        "df[\"high\"] = pd.to_numeric(df[\"high\"])\n",
        "df['Mean'] = (df['low'] + df['high'])/2\n",
        "df=df.dropna()\n",
        "df"
      ],
      "metadata": {
        "colab": {
          "base_uri": "https://localhost:8080/",
          "height": 866
        },
        "id": "knVBcgjK2CgP",
        "outputId": "8c5677fe-47a6-4414-9f4f-2a247e429d9a"
      },
      "execution_count": 7,
      "outputs": [
        {
          "output_type": "execute_result",
          "data": {
            "text/html": [
              "\n",
              "  <div id=\"df-d3476337-ea9b-492a-b462-fcf3a9844c1c\">\n",
              "    <div class=\"colab-df-container\">\n",
              "      <div>\n",
              "<style scoped>\n",
              "    .dataframe tbody tr th:only-of-type {\n",
              "        vertical-align: middle;\n",
              "    }\n",
              "\n",
              "    .dataframe tbody tr th {\n",
              "        vertical-align: top;\n",
              "    }\n",
              "\n",
              "    .dataframe thead th {\n",
              "        text-align: right;\n",
              "    }\n",
              "</style>\n",
              "<table border=\"1\" class=\"dataframe\">\n",
              "  <thead>\n",
              "    <tr style=\"text-align: right;\">\n",
              "      <th></th>\n",
              "      <th>open</th>\n",
              "      <th>high</th>\n",
              "      <th>low</th>\n",
              "      <th>close</th>\n",
              "      <th>volume</th>\n",
              "      <th>quote_asset_volume</th>\n",
              "      <th>number_of_trades</th>\n",
              "      <th>taker_buy_base_asset_volume</th>\n",
              "      <th>taker_buy_quote_asset_volume</th>\n",
              "      <th>Mean</th>\n",
              "    </tr>\n",
              "    <tr>\n",
              "      <th>Date</th>\n",
              "      <th></th>\n",
              "      <th></th>\n",
              "      <th></th>\n",
              "      <th></th>\n",
              "      <th></th>\n",
              "      <th></th>\n",
              "      <th></th>\n",
              "      <th></th>\n",
              "      <th></th>\n",
              "      <th></th>\n",
              "    </tr>\n",
              "  </thead>\n",
              "  <tbody>\n",
              "    <tr>\n",
              "      <th>2022-01-05 10:38:00</th>\n",
              "      <td>46745.49000000</td>\n",
              "      <td>46748.62</td>\n",
              "      <td>46711.53</td>\n",
              "      <td>46731.91000000</td>\n",
              "      <td>18.89581000</td>\n",
              "      <td>883128.89940300</td>\n",
              "      <td>705</td>\n",
              "      <td>11.14003000</td>\n",
              "      <td>520672.15786530</td>\n",
              "      <td>46730.075</td>\n",
              "    </tr>\n",
              "    <tr>\n",
              "      <th>2022-01-05 10:39:00</th>\n",
              "      <td>46731.92000000</td>\n",
              "      <td>46742.00</td>\n",
              "      <td>46727.02</td>\n",
              "      <td>46741.99000000</td>\n",
              "      <td>11.04390000</td>\n",
              "      <td>516103.87204010</td>\n",
              "      <td>447</td>\n",
              "      <td>6.77630000</td>\n",
              "      <td>316671.31471740</td>\n",
              "      <td>46734.510</td>\n",
              "    </tr>\n",
              "    <tr>\n",
              "      <th>2022-01-05 10:40:00</th>\n",
              "      <td>46741.99000000</td>\n",
              "      <td>46771.81</td>\n",
              "      <td>46741.99</td>\n",
              "      <td>46764.06000000</td>\n",
              "      <td>13.43872000</td>\n",
              "      <td>628330.67476550</td>\n",
              "      <td>635</td>\n",
              "      <td>7.94018000</td>\n",
              "      <td>371245.44859570</td>\n",
              "      <td>46756.900</td>\n",
              "    </tr>\n",
              "    <tr>\n",
              "      <th>2022-01-05 10:41:00</th>\n",
              "      <td>46764.07000000</td>\n",
              "      <td>46795.83</td>\n",
              "      <td>46764.06</td>\n",
              "      <td>46770.16000000</td>\n",
              "      <td>14.79116000</td>\n",
              "      <td>691919.14080280</td>\n",
              "      <td>714</td>\n",
              "      <td>8.66768000</td>\n",
              "      <td>405455.12630750</td>\n",
              "      <td>46779.945</td>\n",
              "    </tr>\n",
              "    <tr>\n",
              "      <th>2022-01-05 10:42:00</th>\n",
              "      <td>46770.17000000</td>\n",
              "      <td>46786.59</td>\n",
              "      <td>46755.69</td>\n",
              "      <td>46768.62000000</td>\n",
              "      <td>10.80785000</td>\n",
              "      <td>505543.77664990</td>\n",
              "      <td>460</td>\n",
              "      <td>4.77526000</td>\n",
              "      <td>223360.96941870</td>\n",
              "      <td>46771.140</td>\n",
              "    </tr>\n",
              "    <tr>\n",
              "      <th>...</th>\n",
              "      <td>...</td>\n",
              "      <td>...</td>\n",
              "      <td>...</td>\n",
              "      <td>...</td>\n",
              "      <td>...</td>\n",
              "      <td>...</td>\n",
              "      <td>...</td>\n",
              "      <td>...</td>\n",
              "      <td>...</td>\n",
              "      <td>...</td>\n",
              "    </tr>\n",
              "    <tr>\n",
              "      <th>2022-01-06 03:13:00</th>\n",
              "      <td>43180.92000000</td>\n",
              "      <td>43236.13</td>\n",
              "      <td>43166.26</td>\n",
              "      <td>43219.73000000</td>\n",
              "      <td>66.22635000</td>\n",
              "      <td>2860592.00146000</td>\n",
              "      <td>998</td>\n",
              "      <td>29.63234000</td>\n",
              "      <td>1279750.43679190</td>\n",
              "      <td>43201.195</td>\n",
              "    </tr>\n",
              "    <tr>\n",
              "      <th>2022-01-06 03:14:00</th>\n",
              "      <td>43219.72000000</td>\n",
              "      <td>43244.71</td>\n",
              "      <td>43204.59</td>\n",
              "      <td>43239.05000000</td>\n",
              "      <td>20.20555000</td>\n",
              "      <td>873474.31276850</td>\n",
              "      <td>677</td>\n",
              "      <td>7.83588000</td>\n",
              "      <td>338707.71325180</td>\n",
              "      <td>43224.650</td>\n",
              "    </tr>\n",
              "    <tr>\n",
              "      <th>2022-01-06 03:15:00</th>\n",
              "      <td>43239.05000000</td>\n",
              "      <td>43260.33</td>\n",
              "      <td>43185.07</td>\n",
              "      <td>43193.55000000</td>\n",
              "      <td>25.28753000</td>\n",
              "      <td>1092766.34508210</td>\n",
              "      <td>725</td>\n",
              "      <td>8.50719000</td>\n",
              "      <td>367602.81235540</td>\n",
              "      <td>43222.700</td>\n",
              "    </tr>\n",
              "    <tr>\n",
              "      <th>2022-01-06 03:16:00</th>\n",
              "      <td>43193.54000000</td>\n",
              "      <td>43193.76</td>\n",
              "      <td>43142.85</td>\n",
              "      <td>43182.44000000</td>\n",
              "      <td>19.56296000</td>\n",
              "      <td>844558.71387670</td>\n",
              "      <td>793</td>\n",
              "      <td>8.93554000</td>\n",
              "      <td>385761.82704660</td>\n",
              "      <td>43168.305</td>\n",
              "    </tr>\n",
              "    <tr>\n",
              "      <th>2022-01-06 03:17:00</th>\n",
              "      <td>43182.43000000</td>\n",
              "      <td>43182.44</td>\n",
              "      <td>43126.51</td>\n",
              "      <td>43137.97000000</td>\n",
              "      <td>18.31061000</td>\n",
              "      <td>790132.31824890</td>\n",
              "      <td>443</td>\n",
              "      <td>3.93146000</td>\n",
              "      <td>169640.10197440</td>\n",
              "      <td>43154.475</td>\n",
              "    </tr>\n",
              "  </tbody>\n",
              "</table>\n",
              "<p>1000 rows × 10 columns</p>\n",
              "</div>\n",
              "      <button class=\"colab-df-convert\" onclick=\"convertToInteractive('df-d3476337-ea9b-492a-b462-fcf3a9844c1c')\"\n",
              "              title=\"Convert this dataframe to an interactive table.\"\n",
              "              style=\"display:none;\">\n",
              "        \n",
              "  <svg xmlns=\"http://www.w3.org/2000/svg\" height=\"24px\"viewBox=\"0 0 24 24\"\n",
              "       width=\"24px\">\n",
              "    <path d=\"M0 0h24v24H0V0z\" fill=\"none\"/>\n",
              "    <path d=\"M18.56 5.44l.94 2.06.94-2.06 2.06-.94-2.06-.94-.94-2.06-.94 2.06-2.06.94zm-11 1L8.5 8.5l.94-2.06 2.06-.94-2.06-.94L8.5 2.5l-.94 2.06-2.06.94zm10 10l.94 2.06.94-2.06 2.06-.94-2.06-.94-.94-2.06-.94 2.06-2.06.94z\"/><path d=\"M17.41 7.96l-1.37-1.37c-.4-.4-.92-.59-1.43-.59-.52 0-1.04.2-1.43.59L10.3 9.45l-7.72 7.72c-.78.78-.78 2.05 0 2.83L4 21.41c.39.39.9.59 1.41.59.51 0 1.02-.2 1.41-.59l7.78-7.78 2.81-2.81c.8-.78.8-2.07 0-2.86zM5.41 20L4 18.59l7.72-7.72 1.47 1.35L5.41 20z\"/>\n",
              "  </svg>\n",
              "      </button>\n",
              "      \n",
              "  <style>\n",
              "    .colab-df-container {\n",
              "      display:flex;\n",
              "      flex-wrap:wrap;\n",
              "      gap: 12px;\n",
              "    }\n",
              "\n",
              "    .colab-df-convert {\n",
              "      background-color: #E8F0FE;\n",
              "      border: none;\n",
              "      border-radius: 50%;\n",
              "      cursor: pointer;\n",
              "      display: none;\n",
              "      fill: #1967D2;\n",
              "      height: 32px;\n",
              "      padding: 0 0 0 0;\n",
              "      width: 32px;\n",
              "    }\n",
              "\n",
              "    .colab-df-convert:hover {\n",
              "      background-color: #E2EBFA;\n",
              "      box-shadow: 0px 1px 2px rgba(60, 64, 67, 0.3), 0px 1px 3px 1px rgba(60, 64, 67, 0.15);\n",
              "      fill: #174EA6;\n",
              "    }\n",
              "\n",
              "    [theme=dark] .colab-df-convert {\n",
              "      background-color: #3B4455;\n",
              "      fill: #D2E3FC;\n",
              "    }\n",
              "\n",
              "    [theme=dark] .colab-df-convert:hover {\n",
              "      background-color: #434B5C;\n",
              "      box-shadow: 0px 1px 3px 1px rgba(0, 0, 0, 0.15);\n",
              "      filter: drop-shadow(0px 1px 2px rgba(0, 0, 0, 0.3));\n",
              "      fill: #FFFFFF;\n",
              "    }\n",
              "  </style>\n",
              "\n",
              "      <script>\n",
              "        const buttonEl =\n",
              "          document.querySelector('#df-d3476337-ea9b-492a-b462-fcf3a9844c1c button.colab-df-convert');\n",
              "        buttonEl.style.display =\n",
              "          google.colab.kernel.accessAllowed ? 'block' : 'none';\n",
              "\n",
              "        async function convertToInteractive(key) {\n",
              "          const element = document.querySelector('#df-d3476337-ea9b-492a-b462-fcf3a9844c1c');\n",
              "          const dataTable =\n",
              "            await google.colab.kernel.invokeFunction('convertToInteractive',\n",
              "                                                     [key], {});\n",
              "          if (!dataTable) return;\n",
              "\n",
              "          const docLinkHtml = 'Like what you see? Visit the ' +\n",
              "            '<a target=\"_blank\" href=https://colab.research.google.com/notebooks/data_table.ipynb>data table notebook</a>'\n",
              "            + ' to learn more about interactive tables.';\n",
              "          element.innerHTML = '';\n",
              "          dataTable['output_type'] = 'display_data';\n",
              "          await google.colab.output.renderOutput(dataTable, element);\n",
              "          const docLink = document.createElement('div');\n",
              "          docLink.innerHTML = docLinkHtml;\n",
              "          element.appendChild(docLink);\n",
              "        }\n",
              "      </script>\n",
              "    </div>\n",
              "  </div>\n",
              "  "
            ],
            "text/plain": [
              "                               open  ...       Mean\n",
              "Date                                 ...           \n",
              "2022-01-05 10:38:00  46745.49000000  ...  46730.075\n",
              "2022-01-05 10:39:00  46731.92000000  ...  46734.510\n",
              "2022-01-05 10:40:00  46741.99000000  ...  46756.900\n",
              "2022-01-05 10:41:00  46764.07000000  ...  46779.945\n",
              "2022-01-05 10:42:00  46770.17000000  ...  46771.140\n",
              "...                             ...  ...        ...\n",
              "2022-01-06 03:13:00  43180.92000000  ...  43201.195\n",
              "2022-01-06 03:14:00  43219.72000000  ...  43224.650\n",
              "2022-01-06 03:15:00  43239.05000000  ...  43222.700\n",
              "2022-01-06 03:16:00  43193.54000000  ...  43168.305\n",
              "2022-01-06 03:17:00  43182.43000000  ...  43154.475\n",
              "\n",
              "[1000 rows x 10 columns]"
            ]
          },
          "metadata": {},
          "execution_count": 7
        }
      ]
    },
    {
      "cell_type": "code",
      "source": [
        "dataset_for_prediction = df.copy()\n",
        "dataset_for_prediction['Actual']=dataset_for_prediction['Mean'].shift()\n",
        "dataset_for_prediction=dataset_for_prediction.dropna()\n",
        "dataset_for_prediction"
      ],
      "metadata": {
        "colab": {
          "base_uri": "https://localhost:8080/",
          "height": 866
        },
        "id": "auwDh8a8Hg5q",
        "outputId": "092d2d59-8037-49b8-ce76-7c4c3c75abac"
      },
      "execution_count": 8,
      "outputs": [
        {
          "output_type": "execute_result",
          "data": {
            "text/html": [
              "\n",
              "  <div id=\"df-42f74a86-cd26-43e2-89ae-9fc3d58104ef\">\n",
              "    <div class=\"colab-df-container\">\n",
              "      <div>\n",
              "<style scoped>\n",
              "    .dataframe tbody tr th:only-of-type {\n",
              "        vertical-align: middle;\n",
              "    }\n",
              "\n",
              "    .dataframe tbody tr th {\n",
              "        vertical-align: top;\n",
              "    }\n",
              "\n",
              "    .dataframe thead th {\n",
              "        text-align: right;\n",
              "    }\n",
              "</style>\n",
              "<table border=\"1\" class=\"dataframe\">\n",
              "  <thead>\n",
              "    <tr style=\"text-align: right;\">\n",
              "      <th></th>\n",
              "      <th>open</th>\n",
              "      <th>high</th>\n",
              "      <th>low</th>\n",
              "      <th>close</th>\n",
              "      <th>volume</th>\n",
              "      <th>quote_asset_volume</th>\n",
              "      <th>number_of_trades</th>\n",
              "      <th>taker_buy_base_asset_volume</th>\n",
              "      <th>taker_buy_quote_asset_volume</th>\n",
              "      <th>Mean</th>\n",
              "      <th>Actual</th>\n",
              "    </tr>\n",
              "    <tr>\n",
              "      <th>Date</th>\n",
              "      <th></th>\n",
              "      <th></th>\n",
              "      <th></th>\n",
              "      <th></th>\n",
              "      <th></th>\n",
              "      <th></th>\n",
              "      <th></th>\n",
              "      <th></th>\n",
              "      <th></th>\n",
              "      <th></th>\n",
              "      <th></th>\n",
              "    </tr>\n",
              "  </thead>\n",
              "  <tbody>\n",
              "    <tr>\n",
              "      <th>2022-01-05 10:39:00</th>\n",
              "      <td>46731.92000000</td>\n",
              "      <td>46742.00</td>\n",
              "      <td>46727.02</td>\n",
              "      <td>46741.99000000</td>\n",
              "      <td>11.04390000</td>\n",
              "      <td>516103.87204010</td>\n",
              "      <td>447</td>\n",
              "      <td>6.77630000</td>\n",
              "      <td>316671.31471740</td>\n",
              "      <td>46734.510</td>\n",
              "      <td>46730.075</td>\n",
              "    </tr>\n",
              "    <tr>\n",
              "      <th>2022-01-05 10:40:00</th>\n",
              "      <td>46741.99000000</td>\n",
              "      <td>46771.81</td>\n",
              "      <td>46741.99</td>\n",
              "      <td>46764.06000000</td>\n",
              "      <td>13.43872000</td>\n",
              "      <td>628330.67476550</td>\n",
              "      <td>635</td>\n",
              "      <td>7.94018000</td>\n",
              "      <td>371245.44859570</td>\n",
              "      <td>46756.900</td>\n",
              "      <td>46734.510</td>\n",
              "    </tr>\n",
              "    <tr>\n",
              "      <th>2022-01-05 10:41:00</th>\n",
              "      <td>46764.07000000</td>\n",
              "      <td>46795.83</td>\n",
              "      <td>46764.06</td>\n",
              "      <td>46770.16000000</td>\n",
              "      <td>14.79116000</td>\n",
              "      <td>691919.14080280</td>\n",
              "      <td>714</td>\n",
              "      <td>8.66768000</td>\n",
              "      <td>405455.12630750</td>\n",
              "      <td>46779.945</td>\n",
              "      <td>46756.900</td>\n",
              "    </tr>\n",
              "    <tr>\n",
              "      <th>2022-01-05 10:42:00</th>\n",
              "      <td>46770.17000000</td>\n",
              "      <td>46786.59</td>\n",
              "      <td>46755.69</td>\n",
              "      <td>46768.62000000</td>\n",
              "      <td>10.80785000</td>\n",
              "      <td>505543.77664990</td>\n",
              "      <td>460</td>\n",
              "      <td>4.77526000</td>\n",
              "      <td>223360.96941870</td>\n",
              "      <td>46771.140</td>\n",
              "      <td>46779.945</td>\n",
              "    </tr>\n",
              "    <tr>\n",
              "      <th>2022-01-05 10:43:00</th>\n",
              "      <td>46768.61000000</td>\n",
              "      <td>46770.00</td>\n",
              "      <td>46741.71</td>\n",
              "      <td>46741.71000000</td>\n",
              "      <td>13.92236000</td>\n",
              "      <td>650942.52587600</td>\n",
              "      <td>334</td>\n",
              "      <td>7.37993000</td>\n",
              "      <td>345055.42542890</td>\n",
              "      <td>46755.855</td>\n",
              "      <td>46771.140</td>\n",
              "    </tr>\n",
              "    <tr>\n",
              "      <th>...</th>\n",
              "      <td>...</td>\n",
              "      <td>...</td>\n",
              "      <td>...</td>\n",
              "      <td>...</td>\n",
              "      <td>...</td>\n",
              "      <td>...</td>\n",
              "      <td>...</td>\n",
              "      <td>...</td>\n",
              "      <td>...</td>\n",
              "      <td>...</td>\n",
              "      <td>...</td>\n",
              "    </tr>\n",
              "    <tr>\n",
              "      <th>2022-01-06 03:13:00</th>\n",
              "      <td>43180.92000000</td>\n",
              "      <td>43236.13</td>\n",
              "      <td>43166.26</td>\n",
              "      <td>43219.73000000</td>\n",
              "      <td>66.22635000</td>\n",
              "      <td>2860592.00146000</td>\n",
              "      <td>998</td>\n",
              "      <td>29.63234000</td>\n",
              "      <td>1279750.43679190</td>\n",
              "      <td>43201.195</td>\n",
              "      <td>43183.900</td>\n",
              "    </tr>\n",
              "    <tr>\n",
              "      <th>2022-01-06 03:14:00</th>\n",
              "      <td>43219.72000000</td>\n",
              "      <td>43244.71</td>\n",
              "      <td>43204.59</td>\n",
              "      <td>43239.05000000</td>\n",
              "      <td>20.20555000</td>\n",
              "      <td>873474.31276850</td>\n",
              "      <td>677</td>\n",
              "      <td>7.83588000</td>\n",
              "      <td>338707.71325180</td>\n",
              "      <td>43224.650</td>\n",
              "      <td>43201.195</td>\n",
              "    </tr>\n",
              "    <tr>\n",
              "      <th>2022-01-06 03:15:00</th>\n",
              "      <td>43239.05000000</td>\n",
              "      <td>43260.33</td>\n",
              "      <td>43185.07</td>\n",
              "      <td>43193.55000000</td>\n",
              "      <td>25.28753000</td>\n",
              "      <td>1092766.34508210</td>\n",
              "      <td>725</td>\n",
              "      <td>8.50719000</td>\n",
              "      <td>367602.81235540</td>\n",
              "      <td>43222.700</td>\n",
              "      <td>43224.650</td>\n",
              "    </tr>\n",
              "    <tr>\n",
              "      <th>2022-01-06 03:16:00</th>\n",
              "      <td>43193.54000000</td>\n",
              "      <td>43193.76</td>\n",
              "      <td>43142.85</td>\n",
              "      <td>43182.44000000</td>\n",
              "      <td>19.56296000</td>\n",
              "      <td>844558.71387670</td>\n",
              "      <td>793</td>\n",
              "      <td>8.93554000</td>\n",
              "      <td>385761.82704660</td>\n",
              "      <td>43168.305</td>\n",
              "      <td>43222.700</td>\n",
              "    </tr>\n",
              "    <tr>\n",
              "      <th>2022-01-06 03:17:00</th>\n",
              "      <td>43182.43000000</td>\n",
              "      <td>43182.44</td>\n",
              "      <td>43126.51</td>\n",
              "      <td>43137.97000000</td>\n",
              "      <td>18.31061000</td>\n",
              "      <td>790132.31824890</td>\n",
              "      <td>443</td>\n",
              "      <td>3.93146000</td>\n",
              "      <td>169640.10197440</td>\n",
              "      <td>43154.475</td>\n",
              "      <td>43168.305</td>\n",
              "    </tr>\n",
              "  </tbody>\n",
              "</table>\n",
              "<p>999 rows × 11 columns</p>\n",
              "</div>\n",
              "      <button class=\"colab-df-convert\" onclick=\"convertToInteractive('df-42f74a86-cd26-43e2-89ae-9fc3d58104ef')\"\n",
              "              title=\"Convert this dataframe to an interactive table.\"\n",
              "              style=\"display:none;\">\n",
              "        \n",
              "  <svg xmlns=\"http://www.w3.org/2000/svg\" height=\"24px\"viewBox=\"0 0 24 24\"\n",
              "       width=\"24px\">\n",
              "    <path d=\"M0 0h24v24H0V0z\" fill=\"none\"/>\n",
              "    <path d=\"M18.56 5.44l.94 2.06.94-2.06 2.06-.94-2.06-.94-.94-2.06-.94 2.06-2.06.94zm-11 1L8.5 8.5l.94-2.06 2.06-.94-2.06-.94L8.5 2.5l-.94 2.06-2.06.94zm10 10l.94 2.06.94-2.06 2.06-.94-2.06-.94-.94-2.06-.94 2.06-2.06.94z\"/><path d=\"M17.41 7.96l-1.37-1.37c-.4-.4-.92-.59-1.43-.59-.52 0-1.04.2-1.43.59L10.3 9.45l-7.72 7.72c-.78.78-.78 2.05 0 2.83L4 21.41c.39.39.9.59 1.41.59.51 0 1.02-.2 1.41-.59l7.78-7.78 2.81-2.81c.8-.78.8-2.07 0-2.86zM5.41 20L4 18.59l7.72-7.72 1.47 1.35L5.41 20z\"/>\n",
              "  </svg>\n",
              "      </button>\n",
              "      \n",
              "  <style>\n",
              "    .colab-df-container {\n",
              "      display:flex;\n",
              "      flex-wrap:wrap;\n",
              "      gap: 12px;\n",
              "    }\n",
              "\n",
              "    .colab-df-convert {\n",
              "      background-color: #E8F0FE;\n",
              "      border: none;\n",
              "      border-radius: 50%;\n",
              "      cursor: pointer;\n",
              "      display: none;\n",
              "      fill: #1967D2;\n",
              "      height: 32px;\n",
              "      padding: 0 0 0 0;\n",
              "      width: 32px;\n",
              "    }\n",
              "\n",
              "    .colab-df-convert:hover {\n",
              "      background-color: #E2EBFA;\n",
              "      box-shadow: 0px 1px 2px rgba(60, 64, 67, 0.3), 0px 1px 3px 1px rgba(60, 64, 67, 0.15);\n",
              "      fill: #174EA6;\n",
              "    }\n",
              "\n",
              "    [theme=dark] .colab-df-convert {\n",
              "      background-color: #3B4455;\n",
              "      fill: #D2E3FC;\n",
              "    }\n",
              "\n",
              "    [theme=dark] .colab-df-convert:hover {\n",
              "      background-color: #434B5C;\n",
              "      box-shadow: 0px 1px 3px 1px rgba(0, 0, 0, 0.15);\n",
              "      filter: drop-shadow(0px 1px 2px rgba(0, 0, 0, 0.3));\n",
              "      fill: #FFFFFF;\n",
              "    }\n",
              "  </style>\n",
              "\n",
              "      <script>\n",
              "        const buttonEl =\n",
              "          document.querySelector('#df-42f74a86-cd26-43e2-89ae-9fc3d58104ef button.colab-df-convert');\n",
              "        buttonEl.style.display =\n",
              "          google.colab.kernel.accessAllowed ? 'block' : 'none';\n",
              "\n",
              "        async function convertToInteractive(key) {\n",
              "          const element = document.querySelector('#df-42f74a86-cd26-43e2-89ae-9fc3d58104ef');\n",
              "          const dataTable =\n",
              "            await google.colab.kernel.invokeFunction('convertToInteractive',\n",
              "                                                     [key], {});\n",
              "          if (!dataTable) return;\n",
              "\n",
              "          const docLinkHtml = 'Like what you see? Visit the ' +\n",
              "            '<a target=\"_blank\" href=https://colab.research.google.com/notebooks/data_table.ipynb>data table notebook</a>'\n",
              "            + ' to learn more about interactive tables.';\n",
              "          element.innerHTML = '';\n",
              "          dataTable['output_type'] = 'display_data';\n",
              "          await google.colab.output.renderOutput(dataTable, element);\n",
              "          const docLink = document.createElement('div');\n",
              "          docLink.innerHTML = docLinkHtml;\n",
              "          element.appendChild(docLink);\n",
              "        }\n",
              "      </script>\n",
              "    </div>\n",
              "  </div>\n",
              "  "
            ],
            "text/plain": [
              "                               open      high  ...       Mean     Actual\n",
              "Date                                           ...                      \n",
              "2022-01-05 10:39:00  46731.92000000  46742.00  ...  46734.510  46730.075\n",
              "2022-01-05 10:40:00  46741.99000000  46771.81  ...  46756.900  46734.510\n",
              "2022-01-05 10:41:00  46764.07000000  46795.83  ...  46779.945  46756.900\n",
              "2022-01-05 10:42:00  46770.17000000  46786.59  ...  46771.140  46779.945\n",
              "2022-01-05 10:43:00  46768.61000000  46770.00  ...  46755.855  46771.140\n",
              "...                             ...       ...  ...        ...        ...\n",
              "2022-01-06 03:13:00  43180.92000000  43236.13  ...  43201.195  43183.900\n",
              "2022-01-06 03:14:00  43219.72000000  43244.71  ...  43224.650  43201.195\n",
              "2022-01-06 03:15:00  43239.05000000  43260.33  ...  43222.700  43224.650\n",
              "2022-01-06 03:16:00  43193.54000000  43193.76  ...  43168.305  43222.700\n",
              "2022-01-06 03:17:00  43182.43000000  43182.44  ...  43154.475  43168.305\n",
              "\n",
              "[999 rows x 11 columns]"
            ]
          },
          "metadata": {},
          "execution_count": 8
        }
      ]
    },
    {
      "cell_type": "markdown",
      "source": [
        "##LinearRegression MODEL"
      ],
      "metadata": {
        "id": "drAP46xRRymX"
      }
    },
    {
      "cell_type": "code",
      "source": [
        "from sklearn.preprocessing import PolynomialFeatures \n",
        "from sklearn.linear_model import LinearRegression\n",
        "N=2411"
      ],
      "metadata": {
        "id": "W2hMQxvEH9El"
      },
      "execution_count": 9,
      "outputs": []
    },
    {
      "cell_type": "code",
      "source": [
        "X=[]\n",
        "for i in range(2411):\n",
        "    X.append([i])\n",
        "X=np.array(X)\n",
        "Xtrain=X[:N]\n",
        "Xtest=X[-272:]\n",
        "Y=df[\"Mean\"]\n",
        "Y=np.array(Y,dtype='float32')\n",
        "ytrain=Y[:N]\n",
        "ytest=Y[-272:]\n",
        "arr=ytest\n",
        "plt.plot(arr,label='actual')\n"
      ],
      "metadata": {
        "colab": {
          "base_uri": "https://localhost:8080/",
          "height": 286
        },
        "id": "kXnp-jlVJhx7",
        "outputId": "6e032896-09f0-4c19-c8ad-7719bd85426c"
      },
      "execution_count": 10,
      "outputs": [
        {
          "output_type": "execute_result",
          "data": {
            "text/plain": [
              "[<matplotlib.lines.Line2D at 0x7f03302a4710>]"
            ]
          },
          "metadata": {},
          "execution_count": 10
        },
        {
          "output_type": "display_data",
          "data": {
            "image/png": "[encoded data removed]",
            "text/plain": [
              "<Figure size 432x288 with 1 Axes>"
            ]
          },
          "metadata": {
            "needs_background": "light"
          }
        }
      ]
    },
    {
      "cell_type": "markdown",
      "source": [
        "## GARCH-SARIMAX model"
      ],
      "metadata": {
        "id": "c1EiRjtOV7Zu"
      }
    },
    {
      "cell_type": "code",
      "source": [
        "from sklearn.preprocessing import MinMaxScaler\n",
        "sc_in = MinMaxScaler(feature_range=(0, 1))\n",
        "scaled_input = sc_in.fit_transform(dataset_for_prediction[['low', 'high', 'open', 'close', 'volume', 'Mean']])\n",
        "scaled_input = pd.DataFrame(scaled_input, index=dataset_for_prediction.index)\n",
        "X= scaled_input\n",
        "X.rename(columns={0:'low', 1:'high', 2:'open', 3:'close', 4:'volume', 5:'Mean'}, inplace=True)\n",
        "print(X.head())"
      ],
      "metadata": {
        "colab": {
          "base_uri": "https://localhost:8080/"
        },
        "id": "oSPWMpmkV461",
        "outputId": "2d820df2-2f98-40f5-df2d-30364328df10"
      },
      "execution_count": 11,
      "outputs": [
        {
          "output_type": "stream",
          "name": "stdout",
          "text": [
            "                          low      high      open     close    volume      Mean\n",
            "Date                                                                           \n",
            "2022-01-05 10:39:00  0.978819  0.969683  0.978284  0.980638  0.004907  0.976616\n",
            "2022-01-05 10:40:00  0.982285  0.976785  0.980640  0.985800  0.006463  0.981887\n",
            "2022-01-05 10:41:00  0.987396  0.982508  0.985805  0.987227  0.007343  0.987312\n",
            "2022-01-05 10:42:00  0.985458  0.980306  0.987232  0.986867  0.004753  0.985240\n",
            "2022-01-05 10:43:00  0.982221  0.976354  0.986867  0.980572  0.006778  0.981641\n"
          ]
        }
      ]
    },
    {
      "cell_type": "code",
      "source": [
        "sc_out = MinMaxScaler(feature_range=(0, 1))\n",
        "scaler_output = sc_out.fit_transform(dataset_for_prediction[['Actual']])\n",
        "scaler_output =pd.DataFrame(scaler_output, index=dataset_for_prediction.index)\n",
        "y=scaler_output\n",
        "y.rename(columns={0:'BTC Price next day'}, inplace= True)\n",
        "y.index=dataset_for_prediction.index\n",
        "print(y.head())"
      ],
      "metadata": {
        "colab": {
          "base_uri": "https://localhost:8080/"
        },
        "id": "tbBvdB0cWq2o",
        "outputId": "18234a7e-bf88-4ef8-bf16-f9e2ced7393d"
      },
      "execution_count": 12,
      "outputs": [
        {
          "output_type": "stream",
          "name": "stdout",
          "text": [
            "                     BTC Price next day\n",
            "Date                                   \n",
            "2022-01-05 10:39:00            0.975572\n",
            "2022-01-05 10:40:00            0.976616\n",
            "2022-01-05 10:41:00            0.981887\n",
            "2022-01-05 10:42:00            0.987312\n",
            "2022-01-05 10:43:00            0.985240\n"
          ]
        }
      ]
    },
    {
      "cell_type": "code",
      "source": [
        "train_size=int(len(df) *0.9)\n",
        "test_size = int(len(df)) - train_size\n",
        "train_X, train_y = X[:train_size].dropna(), y[:train_size].dropna()\n",
        "test_X, test_y = X[train_size:].dropna(), y[train_size:].dropna()\n"
      ],
      "metadata": {
        "id": "_9iNjtofW1Su"
      },
      "execution_count": 13,
      "outputs": []
    },
    {
      "cell_type": "code",
      "source": [
        "from statsmodels.tsa.statespace.sarimax import SARIMAX\n"
      ],
      "metadata": {
        "id": "XlGMssGiW6kS"
      },
      "execution_count": 14,
      "outputs": []
    },
    {
      "cell_type": "code",
      "source": [
        "predic_garch =[]\n",
        "for i in range(test_size):\n",
        "  model= SARIMAX(pd.concat([train_y,test_y.iloc[:i+1]]),\n",
        "  exog=pd.concat([train_X,test_X.iloc[:i+1]]),\n",
        "  order=(0,1,1),\n",
        "  seasonal_order =(0, 0, 1, 12),\n",
        "  enforce_invertibility=False, enforce_stationarity=False)\n",
        "  results= model.fit()\n",
        "  garch = arch.arch_model(results.resid, p=1, q=1,vol='GARCH')\n",
        "  garch_model = garch.fit(update_freq=1)\n",
        "  garch_forecast = garch_model.forecast(start = train_size-1,horizon=1,method='simulation')\n",
        "  predicted_et = garch_forecast.mean['h.1'].iloc[-1]\n",
        "  predic_garch.append(predicted_et)\n",
        "  print(predicted_et)"
      ],
      "metadata": {
        "colab": {
          "base_uri": "https://localhost:8080/"
        },
        "id": "G8WuXkx7XBVF",
        "outputId": "4720b710-0f8b-4f3d-fc2e-18686c5d2d05"
      },
      "execution_count": 15,
      "outputs": [
        {
          "output_type": "stream",
          "name": "stderr",
          "text": [
            "/usr/local/lib/python3.7/dist-packages/statsmodels/tsa/base/tsa_model.py:539: ValueWarning: No frequency information was provided, so inferred frequency T will be used.\n",
            "  % freq, ValueWarning)\n",
            "/usr/local/lib/python3.7/dist-packages/statsmodels/tsa/base/tsa_model.py:539: ValueWarning: No frequency information was provided, so inferred frequency T will be used.\n",
            "  % freq, ValueWarning)\n"
          ]
        },
        {
          "output_type": "stream",
          "name": "stdout",
          "text": [
            "Iteration:      1,   Func. Count:      6,   Neg. LLF: -3136.0913223536686\n",
            "Iteration:      2,   Func. Count:     22,   Neg. LLF: -3136.6977275305608\n",
            "Iteration:      3,   Func. Count:     38,   Neg. LLF: -3135.390923920272\n",
            "Iteration:      4,   Func. Count:     54,   Neg. LLF: -3096.8138832412405\n",
            "Iteration:      5,   Func. Count:     70,   Neg. LLF: 725.3249677897252\n",
            "Iteration:      6,   Func. Count:     81,   Neg. LLF: -601.0182714327669\n",
            "Iteration:      7,   Func. Count:     88,   Neg. LLF: -895.293766850878\n",
            "Iteration:      8,   Func. Count:     94,   Neg. LLF: -1548.2678674581027\n",
            "Iteration:      9,   Func. Count:    101,   Neg. LLF: -1641.3165540675552\n",
            "Iteration:     10,   Func. Count:    116,   Neg. LLF: -1932.9285666377255\n",
            "Iteration:     11,   Func. Count:    128,   Neg. LLF: -1933.4826567900675\n",
            "Iteration:     12,   Func. Count:    141,   Neg. LLF: -1934.0409544831448\n",
            "Optimization terminated successfully.    (Exit mode 0)\n",
            "            Current function value: -1934.0409613588245\n",
            "            Iterations: 16\n",
            "            Function evaluations: 141\n",
            "            Gradient evaluations: 12\n",
            "-0.00030243915066190943\n"
          ]
        },
        {
          "output_type": "stream",
          "name": "stderr",
          "text": [
            "/usr/local/lib/python3.7/dist-packages/statsmodels/tsa/base/tsa_model.py:539: ValueWarning: No frequency information was provided, so inferred frequency T will be used.\n",
            "  % freq, ValueWarning)\n",
            "/usr/local/lib/python3.7/dist-packages/statsmodels/tsa/base/tsa_model.py:539: ValueWarning: No frequency information was provided, so inferred frequency T will be used.\n",
            "  % freq, ValueWarning)\n"
          ]
        },
        {
          "output_type": "stream",
          "name": "stdout",
          "text": [
            "Iteration:      1,   Func. Count:      6,   Neg. LLF: -3140.4833287490874\n",
            "Iteration:      2,   Func. Count:     22,   Neg. LLF: -3141.087569624063\n",
            "Iteration:      3,   Func. Count:     38,   Neg. LLF: -3138.879399271635\n",
            "Iteration:      4,   Func. Count:     54,   Neg. LLF: -2640.8196079431295\n",
            "Iteration:      5,   Func. Count:     70,   Neg. LLF: 1178.7673946856648\n",
            "Iteration:      6,   Func. Count:     80,   Neg. LLF: 20.3392837650282\n",
            "Iteration:      7,   Func. Count:     87,   Neg. LLF: -723.93124504209\n",
            "Iteration:      8,   Func. Count:     94,   Neg. LLF: -1929.8634152131553\n",
            "Iteration:      9,   Func. Count:    107,   Neg. LLF: -1931.1140373050978\n",
            "Iteration:     10,   Func. Count:    118,   Neg. LLF: -1931.1164536133228\n",
            "Iteration:     11,   Func. Count:    125,   Neg. LLF: -1976.373999025915\n",
            "Optimization terminated successfully.    (Exit mode 0)\n",
            "            Current function value: -1976.374007303315\n",
            "            Iterations: 15\n",
            "            Function evaluations: 125\n",
            "            Gradient evaluations: 11\n",
            "0.0054622713564237745\n"
          ]
        },
        {
          "output_type": "stream",
          "name": "stderr",
          "text": [
            "/usr/local/lib/python3.7/dist-packages/statsmodels/tsa/base/tsa_model.py:539: ValueWarning: No frequency information was provided, so inferred frequency T will be used.\n",
            "  % freq, ValueWarning)\n",
            "/usr/local/lib/python3.7/dist-packages/statsmodels/tsa/base/tsa_model.py:539: ValueWarning: No frequency information was provided, so inferred frequency T will be used.\n",
            "  % freq, ValueWarning)\n"
          ]
        },
        {
          "output_type": "stream",
          "name": "stdout",
          "text": [
            "Iteration:      1,   Func. Count:      6,   Neg. LLF: -3144.8237481453325\n",
            "Iteration:      2,   Func. Count:     22,   Neg. LLF: -3145.4210131434866\n",
            "Iteration:      3,   Func. Count:     37,   Neg. LLF: -3145.495021625346\n",
            "Iteration:      4,   Func. Count:     53,   Neg. LLF: -3145.4775648335026\n",
            "Iteration:      5,   Func. Count:     69,   Neg. LLF: -3145.4900546487015\n",
            "Iteration:      6,   Func. Count:     85,   Neg. LLF: -3145.491567996799\n",
            "Iteration:      7,   Func. Count:     99,   Neg. LLF: -3145.4950460541813\n",
            "Iteration:      8,   Func. Count:    115,   Neg. LLF: -3145.494237564766\n",
            "Iteration:      9,   Func. Count:    129,   Neg. LLF: -3145.4943420684885\n",
            "Optimization terminated successfully.    (Exit mode 0)\n",
            "            Current function value: -3145.494350914686\n",
            "            Iterations: 13\n",
            "            Function evaluations: 129\n",
            "            Gradient evaluations: 9\n",
            "-0.00021445149799583548\n"
          ]
        },
        {
          "output_type": "stream",
          "name": "stderr",
          "text": [
            "/usr/local/lib/python3.7/dist-packages/statsmodels/tsa/base/tsa_model.py:539: ValueWarning: No frequency information was provided, so inferred frequency T will be used.\n",
            "  % freq, ValueWarning)\n",
            "/usr/local/lib/python3.7/dist-packages/statsmodels/tsa/base/tsa_model.py:539: ValueWarning: No frequency information was provided, so inferred frequency T will be used.\n",
            "  % freq, ValueWarning)\n",
            "/usr/local/lib/python3.7/dist-packages/statsmodels/base/model.py:606: ConvergenceWarning: Maximum Likelihood optimization failed to converge. Check mle_retvals\n",
            "  ConvergenceWarning)\n"
          ]
        },
        {
          "output_type": "stream",
          "name": "stdout",
          "text": [
            "Iteration:      1,   Func. Count:      6,   Neg. LLF: -3148.8977391824383\n",
            "Iteration:      2,   Func. Count:     22,   Neg. LLF: -3149.4786636025237\n",
            "Iteration:      3,   Func. Count:     38,   Neg. LLF: -3108.1511512300926\n",
            "Iteration:      4,   Func. Count:     54,   Neg. LLF: 757.3814355281335\n",
            "Iteration:      5,   Func. Count:     65,   Neg. LLF: 57.175998091944834\n",
            "Iteration:      6,   Func. Count:     72,   Neg. LLF: -1982.2826702764685\n",
            "Iteration:      7,   Func. Count:     85,   Neg. LLF: -1983.5646886823233\n",
            "Iteration:      8,   Func. Count:     96,   Neg. LLF: -1983.572008674701\n",
            "Iteration:      9,   Func. Count:    105,   Neg. LLF: -1983.868446352023\n",
            "Iteration:     10,   Func. Count:    118,   Neg. LLF: -1984.293254778953\n",
            "Optimization terminated successfully.    (Exit mode 0)\n",
            "            Current function value: -1984.2932656176195\n",
            "            Iterations: 14\n",
            "            Function evaluations: 118\n",
            "            Gradient evaluations: 10\n",
            "-0.0002902300317150484\n"
          ]
        },
        {
          "output_type": "stream",
          "name": "stderr",
          "text": [
            "/usr/local/lib/python3.7/dist-packages/statsmodels/tsa/base/tsa_model.py:539: ValueWarning: No frequency information was provided, so inferred frequency T will be used.\n",
            "  % freq, ValueWarning)\n",
            "/usr/local/lib/python3.7/dist-packages/statsmodels/tsa/base/tsa_model.py:539: ValueWarning: No frequency information was provided, so inferred frequency T will be used.\n",
            "  % freq, ValueWarning)\n",
            "/usr/local/lib/python3.7/dist-packages/statsmodels/base/model.py:606: ConvergenceWarning: Maximum Likelihood optimization failed to converge. Check mle_retvals\n",
            "  ConvergenceWarning)\n"
          ]
        },
        {
          "output_type": "stream",
          "name": "stdout",
          "text": [
            "Iteration:      1,   Func. Count:      6,   Neg. LLF: -3152.949159863113\n",
            "Iteration:      2,   Func. Count:     22,   Neg. LLF: -3153.534919427886\n",
            "Iteration:      3,   Func. Count:     38,   Neg. LLF: -2987.3831267861\n",
            "Iteration:      4,   Func. Count:     54,   Neg. LLF: 1330.09246243704\n",
            "Iteration:      5,   Func. Count:     64,   Neg. LLF: 420.69457532794667\n",
            "Iteration:      6,   Func. Count:     71,   Neg. LLF: -1937.436526649607\n",
            "Iteration:      7,   Func. Count:     80,   Neg. LLF: -2049.145275676095\n",
            "Iteration:      8,   Func. Count:     92,   Neg. LLF: -2049.1642534235043\n",
            "Optimization terminated successfully.    (Exit mode 0)\n",
            "            Current function value: -2049.164264916105\n",
            "            Iterations: 12\n",
            "            Function evaluations: 101\n",
            "            Gradient evaluations: 8\n",
            "-0.0003048296331581223\n"
          ]
        },
        {
          "output_type": "stream",
          "name": "stderr",
          "text": [
            "/usr/local/lib/python3.7/dist-packages/statsmodels/tsa/base/tsa_model.py:539: ValueWarning: No frequency information was provided, so inferred frequency T will be used.\n",
            "  % freq, ValueWarning)\n",
            "/usr/local/lib/python3.7/dist-packages/statsmodels/tsa/base/tsa_model.py:539: ValueWarning: No frequency information was provided, so inferred frequency T will be used.\n",
            "  % freq, ValueWarning)\n",
            "/usr/local/lib/python3.7/dist-packages/statsmodels/base/model.py:606: ConvergenceWarning: Maximum Likelihood optimization failed to converge. Check mle_retvals\n",
            "  ConvergenceWarning)\n"
          ]
        },
        {
          "output_type": "stream",
          "name": "stdout",
          "text": [
            "Iteration:      1,   Func. Count:      6,   Neg. LLF: -3157.251606357201\n",
            "Iteration:      2,   Func. Count:     22,   Neg. LLF: -3157.8532243860022\n",
            "Iteration:      3,   Func. Count:     38,   Neg. LLF: -3090.015687878843\n",
            "Iteration:      4,   Func. Count:     54,   Neg. LLF: 1015.2661057145485\n",
            "Iteration:      5,   Func. Count:     65,   Neg. LLF: -1563.4003845601953\n",
            "Iteration:      6,   Func. Count:     74,   Neg. LLF: -2392.393320041995\n",
            "Iteration:      7,   Func. Count:     90,   Neg. LLF: -1379.6103892631156\n",
            "Iteration:      8,   Func. Count:    106,   Neg. LLF: -808.2951409122691\n",
            "Iteration:      9,   Func. Count:    112,   Neg. LLF: -903.9411658852384\n",
            "Optimization terminated successfully.    (Exit mode 0)\n",
            "            Current function value: -903.941083415802\n",
            "            Iterations: 13\n",
            "            Function evaluations: 112\n",
            "            Gradient evaluations: 9\n",
            "-0.036629311913503125\n"
          ]
        },
        {
          "output_type": "stream",
          "name": "stderr",
          "text": [
            "/usr/local/lib/python3.7/dist-packages/statsmodels/tsa/base/tsa_model.py:539: ValueWarning: No frequency information was provided, so inferred frequency T will be used.\n",
            "  % freq, ValueWarning)\n",
            "/usr/local/lib/python3.7/dist-packages/statsmodels/tsa/base/tsa_model.py:539: ValueWarning: No frequency information was provided, so inferred frequency T will be used.\n",
            "  % freq, ValueWarning)\n"
          ]
        },
        {
          "output_type": "stream",
          "name": "stdout",
          "text": [
            "Iteration:      1,   Func. Count:      6,   Neg. LLF: -3161.4812039322064\n",
            "Iteration:      2,   Func. Count:     22,   Neg. LLF: -3162.085753062521\n",
            "Iteration:      3,   Func. Count:     38,   Neg. LLF: -3148.490531548635\n",
            "Iteration:      4,   Func. Count:     54,   Neg. LLF: -9.605898470509613\n",
            "Iteration:      5,   Func. Count:     67,   Neg. LLF: -1084.0395254947412\n",
            "Iteration:      6,   Func. Count:     74,   Neg. LLF: -2103.571785538871\n",
            "Iteration:      7,   Func. Count:     89,   Neg. LLF: -3087.3551286198663\n",
            "Iteration:      8,   Func. Count:    105,   Neg. LLF: 1288.895144210695\n",
            "Iteration:      9,   Func. Count:    115,   Neg. LLF: 549.4661069619312\n",
            "Iteration:     10,   Func. Count:    122,   Neg. LLF: -914.0422201736383\n",
            "Iteration:     11,   Func. Count:    133,   Neg. LLF: -1841.9343621402031\n",
            "Iteration:     12,   Func. Count:    146,   Neg. LLF: -1842.2088733098744\n",
            "Optimization terminated successfully.    (Exit mode 0)\n",
            "            Current function value: -1842.208894537669\n",
            "            Iterations: 16\n",
            "            Function evaluations: 146\n",
            "            Gradient evaluations: 12\n",
            "-0.0002572516906485247\n"
          ]
        },
        {
          "output_type": "stream",
          "name": "stderr",
          "text": [
            "/usr/local/lib/python3.7/dist-packages/statsmodels/tsa/base/tsa_model.py:539: ValueWarning: No frequency information was provided, so inferred frequency T will be used.\n",
            "  % freq, ValueWarning)\n",
            "/usr/local/lib/python3.7/dist-packages/statsmodels/tsa/base/tsa_model.py:539: ValueWarning: No frequency information was provided, so inferred frequency T will be used.\n",
            "  % freq, ValueWarning)\n"
          ]
        },
        {
          "output_type": "stream",
          "name": "stdout",
          "text": [
            "Iteration:      1,   Func. Count:      6,   Neg. LLF: -3165.6589151545386\n",
            "Iteration:      2,   Func. Count:     22,   Neg. LLF: -3166.2757898804707\n",
            "Iteration:      3,   Func. Count:     36,   Neg. LLF: -3166.2985592935543\n",
            "Iteration:      4,   Func. Count:     52,   Neg. LLF: -3166.2894228245314\n",
            "Iteration:      5,   Func. Count:     68,   Neg. LLF: -3166.298568573605\n",
            "Optimization terminated successfully.    (Exit mode 0)\n",
            "            Current function value: -3166.2985775066263\n",
            "            Iterations: 9\n",
            "            Function evaluations: 68\n",
            "            Gradient evaluations: 5\n",
            "-0.00019889216353389453\n"
          ]
        },
        {
          "output_type": "stream",
          "name": "stderr",
          "text": [
            "/usr/local/lib/python3.7/dist-packages/statsmodels/tsa/base/tsa_model.py:539: ValueWarning: No frequency information was provided, so inferred frequency T will be used.\n",
            "  % freq, ValueWarning)\n",
            "/usr/local/lib/python3.7/dist-packages/statsmodels/tsa/base/tsa_model.py:539: ValueWarning: No frequency information was provided, so inferred frequency T will be used.\n",
            "  % freq, ValueWarning)\n"
          ]
        },
        {
          "output_type": "stream",
          "name": "stdout",
          "text": [
            "Iteration:      1,   Func. Count:      6,   Neg. LLF: -3170.058463057062\n",
            "Iteration:      2,   Func. Count:     22,   Neg. LLF: -3170.673378921625\n",
            "Iteration:      3,   Func. Count:     36,   Neg. LLF: -3170.6850571464183\n",
            "Iteration:      4,   Func. Count:     47,   Neg. LLF: -3170.6904767613914\n",
            "Iteration:      5,   Func. Count:     61,   Neg. LLF: -3170.695897632795\n",
            "Iteration:      6,   Func. Count:     72,   Neg. LLF: -3170.699937199228\n",
            "Iteration:      7,   Func. Count:     88,   Neg. LLF: -3170.667804985306\n",
            "Iteration:      8,   Func. Count:    104,   Neg. LLF: -3170.7039549359006\n",
            "Optimization terminated successfully.    (Exit mode 0)\n",
            "            Current function value: -3170.7039638825763\n",
            "            Iterations: 12\n",
            "            Function evaluations: 104\n",
            "            Gradient evaluations: 8\n",
            "-0.00019384254163842758\n"
          ]
        },
        {
          "output_type": "stream",
          "name": "stderr",
          "text": [
            "/usr/local/lib/python3.7/dist-packages/statsmodels/tsa/base/tsa_model.py:539: ValueWarning: No frequency information was provided, so inferred frequency T will be used.\n",
            "  % freq, ValueWarning)\n",
            "/usr/local/lib/python3.7/dist-packages/statsmodels/tsa/base/tsa_model.py:539: ValueWarning: No frequency information was provided, so inferred frequency T will be used.\n",
            "  % freq, ValueWarning)\n",
            "/usr/local/lib/python3.7/dist-packages/statsmodels/base/model.py:606: ConvergenceWarning: Maximum Likelihood optimization failed to converge. Check mle_retvals\n",
            "  ConvergenceWarning)\n"
          ]
        },
        {
          "output_type": "stream",
          "name": "stdout",
          "text": [
            "Iteration:      1,   Func. Count:      6,   Neg. LLF: -3173.9842083629655\n",
            "Iteration:      2,   Func. Count:     22,   Neg. LLF: -3174.597478439203\n",
            "Iteration:      3,   Func. Count:     38,   Neg. LLF: -3174.4180800385043\n",
            "Iteration:      4,   Func. Count:     53,   Neg. LLF: -3174.6055105125297\n",
            "Iteration:      5,   Func. Count:     67,   Neg. LLF: -3174.6153906413415\n",
            "Optimization terminated successfully.    (Exit mode 0)\n",
            "            Current function value: -3174.615399622974\n",
            "            Iterations: 9\n",
            "            Function evaluations: 67\n",
            "            Gradient evaluations: 5\n",
            "-0.00020088031552322364\n"
          ]
        },
        {
          "output_type": "stream",
          "name": "stderr",
          "text": [
            "/usr/local/lib/python3.7/dist-packages/statsmodels/tsa/base/tsa_model.py:539: ValueWarning: No frequency information was provided, so inferred frequency T will be used.\n",
            "  % freq, ValueWarning)\n",
            "/usr/local/lib/python3.7/dist-packages/statsmodels/tsa/base/tsa_model.py:539: ValueWarning: No frequency information was provided, so inferred frequency T will be used.\n",
            "  % freq, ValueWarning)\n"
          ]
        },
        {
          "output_type": "stream",
          "name": "stdout",
          "text": [
            "Iteration:      1,   Func. Count:      6,   Neg. LLF: -3177.8978115481473\n",
            "Iteration:      2,   Func. Count:     22,   Neg. LLF: -3178.509043349365\n",
            "Iteration:      3,   Func. Count:     36,   Neg. LLF: -3178.5400596345053\n",
            "Iteration:      4,   Func. Count:     49,   Neg. LLF: -3178.5400903501163\n",
            "Iteration:      5,   Func. Count:     63,   Neg. LLF: -3178.5401709007865\n",
            "Iteration:      6,   Func. Count:     79,   Neg. LLF: -3178.5390457387493\n",
            "Iteration:      7,   Func. Count:     95,   Neg. LLF: -3178.540138872914\n",
            "Iteration:      8,   Func. Count:    108,   Neg. LLF: -3178.5401670975534\n",
            "Optimization terminated successfully.    (Exit mode 0)\n",
            "            Current function value: -3178.540176041162\n",
            "            Iterations: 12\n",
            "            Function evaluations: 108\n",
            "            Gradient evaluations: 8\n",
            "-0.00020966684474186596\n"
          ]
        },
        {
          "output_type": "stream",
          "name": "stderr",
          "text": [
            "/usr/local/lib/python3.7/dist-packages/statsmodels/tsa/base/tsa_model.py:539: ValueWarning: No frequency information was provided, so inferred frequency T will be used.\n",
            "  % freq, ValueWarning)\n",
            "/usr/local/lib/python3.7/dist-packages/statsmodels/tsa/base/tsa_model.py:539: ValueWarning: No frequency information was provided, so inferred frequency T will be used.\n",
            "  % freq, ValueWarning)\n"
          ]
        },
        {
          "output_type": "stream",
          "name": "stdout",
          "text": [
            "Iteration:      1,   Func. Count:      6,   Neg. LLF: -3181.994395162613\n",
            "Iteration:      2,   Func. Count:     22,   Neg. LLF: -3182.5918545929867\n",
            "Iteration:      3,   Func. Count:     38,   Neg. LLF: -3181.7410890078836\n",
            "Iteration:      4,   Func. Count:     54,   Neg. LLF: -3180.814265158598\n",
            "Iteration:      5,   Func. Count:     70,   Neg. LLF: -761.7182113897636\n",
            "Iteration:      6,   Func. Count:     85,   Neg. LLF: -1824.6124024358114\n",
            "Iteration:      7,   Func. Count:     92,   Neg. LLF: -2231.3531272889213\n",
            "Iteration:      8,   Func. Count:    105,   Neg. LLF: -2279.516604010437\n",
            "Iteration:      9,   Func. Count:    118,   Neg. LLF: -2279.705310666354\n",
            "Optimization terminated successfully.    (Exit mode 0)\n",
            "            Current function value: -2279.705322563478\n",
            "            Iterations: 13\n",
            "            Function evaluations: 118\n",
            "            Gradient evaluations: 9\n",
            "-0.0002795649534631282\n"
          ]
        },
        {
          "output_type": "stream",
          "name": "stderr",
          "text": [
            "/usr/local/lib/python3.7/dist-packages/statsmodels/tsa/base/tsa_model.py:539: ValueWarning: No frequency information was provided, so inferred frequency T will be used.\n",
            "  % freq, ValueWarning)\n",
            "/usr/local/lib/python3.7/dist-packages/statsmodels/tsa/base/tsa_model.py:539: ValueWarning: No frequency information was provided, so inferred frequency T will be used.\n",
            "  % freq, ValueWarning)\n",
            "/usr/local/lib/python3.7/dist-packages/statsmodels/base/model.py:606: ConvergenceWarning: Maximum Likelihood optimization failed to converge. Check mle_retvals\n",
            "  ConvergenceWarning)\n"
          ]
        },
        {
          "output_type": "stream",
          "name": "stdout",
          "text": [
            "Iteration:      1,   Func. Count:      6,   Neg. LLF: -3186.4210907004526\n",
            "Iteration:      2,   Func. Count:     22,   Neg. LLF: -3187.017153820215\n",
            "Iteration:      3,   Func. Count:     38,   Neg. LLF: -3097.716584825785\n",
            "Iteration:      4,   Func. Count:     54,   Neg. LLF: 3432.6876306952445\n",
            "Iteration:      5,   Func. Count:     63,   Neg. LLF: -11.290738464005706\n",
            "Iteration:      6,   Func. Count:     71,   Neg. LLF: -906.1916586102643\n",
            "Iteration:      7,   Func. Count:     78,   Neg. LLF: -2006.013532361254\n",
            "Iteration:      8,   Func. Count:     89,   Neg. LLF: -2074.3377379605977\n",
            "Iteration:      9,   Func. Count:    100,   Neg. LLF: -2075.9122835044727\n",
            "Iteration:     10,   Func. Count:    110,   Neg. LLF: -2075.9619324529403\n",
            "Iteration:     11,   Func. Count:    117,   Neg. LLF: -2163.494636757627\n",
            "Iteration:     12,   Func. Count:    133,   Neg. LLF: -2177.7666374629325\n",
            "Iteration:     13,   Func. Count:    145,   Neg. LLF: -2177.771229078033\n",
            "Iteration:     14,   Func. Count:    158,   Neg. LLF: -2177.7713628527154\n",
            "Optimization terminated successfully.    (Exit mode 0)\n",
            "            Current function value: -2177.771372534691\n",
            "            Iterations: 18\n",
            "            Function evaluations: 158\n",
            "            Gradient evaluations: 14\n",
            "-0.00029893459895979116\n"
          ]
        },
        {
          "output_type": "stream",
          "name": "stderr",
          "text": [
            "/usr/local/lib/python3.7/dist-packages/statsmodels/tsa/base/tsa_model.py:539: ValueWarning: No frequency information was provided, so inferred frequency T will be used.\n",
            "  % freq, ValueWarning)\n",
            "/usr/local/lib/python3.7/dist-packages/statsmodels/tsa/base/tsa_model.py:539: ValueWarning: No frequency information was provided, so inferred frequency T will be used.\n",
            "  % freq, ValueWarning)\n",
            "/usr/local/lib/python3.7/dist-packages/statsmodels/base/model.py:606: ConvergenceWarning: Maximum Likelihood optimization failed to converge. Check mle_retvals\n",
            "  ConvergenceWarning)\n"
          ]
        },
        {
          "output_type": "stream",
          "name": "stdout",
          "text": [
            "Iteration:      1,   Func. Count:      6,   Neg. LLF: -3190.643422191457\n",
            "Iteration:      2,   Func. Count:     22,   Neg. LLF: -3191.2369605787917\n",
            "Iteration:      3,   Func. Count:     38,   Neg. LLF: -3189.2334932002245\n",
            "Iteration:      4,   Func. Count:     54,   Neg. LLF: -2840.9929283576294\n",
            "Iteration:      5,   Func. Count:     70,   Neg. LLF: 1664.6816009051395\n",
            "Iteration:      6,   Func. Count:     79,   Neg. LLF: 1311.2997324880903\n",
            "Iteration:      7,   Func. Count:     85,   Neg. LLF: 611.974540006009\n",
            "Iteration:      8,   Func. Count:     92,   Neg. LLF: -1933.5470536313296\n",
            "Iteration:      9,   Func. Count:    102,   Neg. LLF: -1944.704686628787\n",
            "Iteration:     10,   Func. Count:    111,   Neg. LLF: -1944.7547683019575\n",
            "Iteration:     11,   Func. Count:    118,   Neg. LLF: -1964.8570812072244\n",
            "Iteration:     12,   Func. Count:    128,   Neg. LLF: -1990.3394969468893\n",
            "Iteration:     13,   Func. Count:    140,   Neg. LLF: -1990.4562503493976\n",
            "Iteration:     14,   Func. Count:    152,   Neg. LLF: -1990.4602912015926\n",
            "Optimization terminated successfully.    (Exit mode 0)\n",
            "            Current function value: -1990.46029816272\n",
            "            Iterations: 18\n",
            "            Function evaluations: 152\n",
            "            Gradient evaluations: 14\n",
            "-0.00030333698425352045\n"
          ]
        },
        {
          "output_type": "stream",
          "name": "stderr",
          "text": [
            "/usr/local/lib/python3.7/dist-packages/statsmodels/tsa/base/tsa_model.py:539: ValueWarning: No frequency information was provided, so inferred frequency T will be used.\n",
            "  % freq, ValueWarning)\n",
            "/usr/local/lib/python3.7/dist-packages/statsmodels/tsa/base/tsa_model.py:539: ValueWarning: No frequency information was provided, so inferred frequency T will be used.\n",
            "  % freq, ValueWarning)\n"
          ]
        },
        {
          "output_type": "stream",
          "name": "stdout",
          "text": [
            "Iteration:      1,   Func. Count:      6,   Neg. LLF: -3195.356033183337\n",
            "Iteration:      2,   Func. Count:     22,   Neg. LLF: -3195.9516230490663\n",
            "Iteration:      3,   Func. Count:     36,   Neg. LLF: -3195.981885409027\n",
            "Iteration:      4,   Func. Count:     50,   Neg. LLF: -3195.997656972423\n",
            "Iteration:      5,   Func. Count:     63,   Neg. LLF: -3195.9976974170804\n",
            "Iteration:      6,   Func. Count:     76,   Neg. LLF: -3195.997725898317\n",
            "Iteration:      7,   Func. Count:     92,   Neg. LLF: -3195.997727426486\n",
            "Iteration:      8,   Func. Count:    108,   Neg. LLF: -3195.986218454281\n",
            "Optimization terminated successfully.    (Exit mode 0)\n",
            "            Current function value: -3195.986227345351\n",
            "            Iterations: 12\n",
            "            Function evaluations: 108\n",
            "            Gradient evaluations: 8\n",
            "-0.00017905494173968244\n"
          ]
        },
        {
          "output_type": "stream",
          "name": "stderr",
          "text": [
            "/usr/local/lib/python3.7/dist-packages/statsmodels/tsa/base/tsa_model.py:539: ValueWarning: No frequency information was provided, so inferred frequency T will be used.\n",
            "  % freq, ValueWarning)\n",
            "/usr/local/lib/python3.7/dist-packages/statsmodels/tsa/base/tsa_model.py:539: ValueWarning: No frequency information was provided, so inferred frequency T will be used.\n",
            "  % freq, ValueWarning)\n",
            "/usr/local/lib/python3.7/dist-packages/statsmodels/base/model.py:606: ConvergenceWarning: Maximum Likelihood optimization failed to converge. Check mle_retvals\n",
            "  ConvergenceWarning)\n"
          ]
        },
        {
          "output_type": "stream",
          "name": "stdout",
          "text": [
            "Iteration:      1,   Func. Count:      6,   Neg. LLF: -3188.5646917979643\n",
            "Iteration:      2,   Func. Count:     22,   Neg. LLF: -3189.0973128776936\n",
            "Iteration:      3,   Func. Count:     38,   Neg. LLF: -3189.0584077165076\n",
            "Iteration:      4,   Func. Count:     54,   Neg. LLF: -3189.097394804651\n",
            "Iteration:      5,   Func. Count:     70,   Neg. LLF: -3189.0973000501826\n",
            "Optimization terminated successfully.    (Exit mode 0)\n",
            "            Current function value: -3189.097308510967\n",
            "            Iterations: 9\n",
            "            Function evaluations: 70\n",
            "            Gradient evaluations: 5\n",
            "-0.00022221599809234277\n"
          ]
        },
        {
          "output_type": "stream",
          "name": "stderr",
          "text": [
            "/usr/local/lib/python3.7/dist-packages/statsmodels/tsa/base/tsa_model.py:539: ValueWarning: No frequency information was provided, so inferred frequency T will be used.\n",
            "  % freq, ValueWarning)\n",
            "/usr/local/lib/python3.7/dist-packages/statsmodels/tsa/base/tsa_model.py:539: ValueWarning: No frequency information was provided, so inferred frequency T will be used.\n",
            "  % freq, ValueWarning)\n",
            "/usr/local/lib/python3.7/dist-packages/statsmodels/base/model.py:606: ConvergenceWarning: Maximum Likelihood optimization failed to converge. Check mle_retvals\n",
            "  ConvergenceWarning)\n"
          ]
        },
        {
          "output_type": "stream",
          "name": "stdout",
          "text": [
            "Iteration:      1,   Func. Count:      6,   Neg. LLF: -3194.8995269075463\n",
            "Iteration:      2,   Func. Count:     22,   Neg. LLF: -3195.375195929405\n",
            "Iteration:      3,   Func. Count:     35,   Neg. LLF: -3195.375232975246\n",
            "Iteration:      4,   Func. Count:     51,   Neg. LLF: -3195.372273480667\n",
            "Iteration:      5,   Func. Count:     65,   Neg. LLF: -3195.374458354787\n",
            "Iteration:      6,   Func. Count:     81,   Neg. LLF: -3195.3740421234556\n",
            "Optimization terminated successfully.    (Exit mode 0)\n",
            "            Current function value: -3195.3740549386903\n",
            "            Iterations: 9\n",
            "            Function evaluations: 91\n",
            "            Gradient evaluations: 6\n",
            "-0.00020393788624345808\n"
          ]
        },
        {
          "output_type": "stream",
          "name": "stderr",
          "text": [
            "/usr/local/lib/python3.7/dist-packages/statsmodels/tsa/base/tsa_model.py:539: ValueWarning: No frequency information was provided, so inferred frequency T will be used.\n",
            "  % freq, ValueWarning)\n",
            "/usr/local/lib/python3.7/dist-packages/statsmodels/tsa/base/tsa_model.py:539: ValueWarning: No frequency information was provided, so inferred frequency T will be used.\n",
            "  % freq, ValueWarning)\n",
            "/usr/local/lib/python3.7/dist-packages/statsmodels/base/model.py:606: ConvergenceWarning: Maximum Likelihood optimization failed to converge. Check mle_retvals\n",
            "  ConvergenceWarning)\n"
          ]
        },
        {
          "output_type": "stream",
          "name": "stdout",
          "text": [
            "Iteration:      1,   Func. Count:      6,   Neg. LLF: -3195.615521103213\n",
            "Iteration:      2,   Func. Count:     22,   Neg. LLF: -3196.177823126532\n",
            "Iteration:      3,   Func. Count:     38,   Neg. LLF: -3196.0563404744557\n",
            "Iteration:      4,   Func. Count:     53,   Neg. LLF: -3196.1781742728335\n",
            "Iteration:      5,   Func. Count:     69,   Neg. LLF: -3196.1704676476643\n",
            "Iteration:      6,   Func. Count:     85,   Neg. LLF: -3196.178168034054\n",
            "Iteration:      7,   Func. Count:    101,   Neg. LLF: -3196.1760729559996\n",
            "Iteration:      8,   Func. Count:    115,   Neg. LLF: -3196.1773403758707\n",
            "Optimization terminated successfully.    (Exit mode 0)\n",
            "            Current function value: -3196.1773487724768\n",
            "            Iterations: 12\n",
            "            Function evaluations: 115\n",
            "            Gradient evaluations: 8\n",
            "-0.0002198861478001397\n"
          ]
        },
        {
          "output_type": "stream",
          "name": "stderr",
          "text": [
            "/usr/local/lib/python3.7/dist-packages/statsmodels/tsa/base/tsa_model.py:539: ValueWarning: No frequency information was provided, so inferred frequency T will be used.\n",
            "  % freq, ValueWarning)\n",
            "/usr/local/lib/python3.7/dist-packages/statsmodels/tsa/base/tsa_model.py:539: ValueWarning: No frequency information was provided, so inferred frequency T will be used.\n",
            "  % freq, ValueWarning)\n"
          ]
        },
        {
          "output_type": "stream",
          "name": "stdout",
          "text": [
            "Iteration:      1,   Func. Count:      6,   Neg. LLF: -3198.8472475733793\n",
            "Iteration:      2,   Func. Count:     22,   Neg. LLF: -3199.4462606944644\n",
            "Iteration:      3,   Func. Count:     38,   Neg. LLF: -3199.3416914818918\n",
            "Iteration:      4,   Func. Count:     53,   Neg. LLF: -3199.4462246673856\n",
            "Optimization terminated successfully.    (Exit mode 0)\n",
            "            Current function value: -3199.446233016646\n",
            "            Iterations: 8\n",
            "            Function evaluations: 53\n",
            "            Gradient evaluations: 4\n",
            "-0.00021168364138352246\n"
          ]
        },
        {
          "output_type": "stream",
          "name": "stderr",
          "text": [
            "/usr/local/lib/python3.7/dist-packages/statsmodels/tsa/base/tsa_model.py:539: ValueWarning: No frequency information was provided, so inferred frequency T will be used.\n",
            "  % freq, ValueWarning)\n",
            "/usr/local/lib/python3.7/dist-packages/statsmodels/tsa/base/tsa_model.py:539: ValueWarning: No frequency information was provided, so inferred frequency T will be used.\n",
            "  % freq, ValueWarning)\n"
          ]
        },
        {
          "output_type": "stream",
          "name": "stdout",
          "text": [
            "Iteration:      1,   Func. Count:      6,   Neg. LLF: -3202.4722629210905\n",
            "Iteration:      2,   Func. Count:     22,   Neg. LLF: -3203.083178850976\n",
            "Iteration:      3,   Func. Count:     38,   Neg. LLF: -3202.7025183584024\n",
            "Iteration:      4,   Func. Count:     54,   Neg. LLF: -3108.761097763283\n",
            "Iteration:      5,   Func. Count:     70,   Neg. LLF: 1131.0417172753773\n",
            "Iteration:      6,   Func. Count:     80,   Neg. LLF: 414.4801555891113\n",
            "Iteration:      7,   Func. Count:     87,   Neg. LLF: -1949.7212532670403\n",
            "Iteration:      8,   Func. Count:     96,   Neg. LLF: -2022.4835242992517\n",
            "Iteration:      9,   Func. Count:    107,   Neg. LLF: -2022.5975710336784\n",
            "Iteration:     10,   Func. Count:    119,   Neg. LLF: -2022.613414834535\n",
            "Optimization terminated successfully.    (Exit mode 0)\n",
            "            Current function value: -2022.6134260203485\n",
            "            Iterations: 14\n",
            "            Function evaluations: 119\n",
            "            Gradient evaluations: 10\n",
            "-0.00029249662424901397\n"
          ]
        },
        {
          "output_type": "stream",
          "name": "stderr",
          "text": [
            "/usr/local/lib/python3.7/dist-packages/statsmodels/tsa/base/tsa_model.py:539: ValueWarning: No frequency information was provided, so inferred frequency T will be used.\n",
            "  % freq, ValueWarning)\n",
            "/usr/local/lib/python3.7/dist-packages/statsmodels/tsa/base/tsa_model.py:539: ValueWarning: No frequency information was provided, so inferred frequency T will be used.\n",
            "  % freq, ValueWarning)\n",
            "/usr/local/lib/python3.7/dist-packages/statsmodels/base/model.py:606: ConvergenceWarning: Maximum Likelihood optimization failed to converge. Check mle_retvals\n",
            "  ConvergenceWarning)\n"
          ]
        },
        {
          "output_type": "stream",
          "name": "stdout",
          "text": [
            "Iteration:      1,   Func. Count:      6,   Neg. LLF: -3206.1463988807272\n",
            "Iteration:      2,   Func. Count:     22,   Neg. LLF: -3206.768133362331\n",
            "Iteration:      3,   Func. Count:     38,   Neg. LLF: -3206.772725141681\n",
            "Iteration:      4,   Func. Count:     54,   Neg. LLF: -3206.7729131938722\n",
            "Optimization terminated successfully.    (Exit mode 0)\n",
            "            Current function value: -3206.7729215642203\n",
            "            Iterations: 8\n",
            "            Function evaluations: 54\n",
            "            Gradient evaluations: 4\n",
            "-0.00021339326511539105\n"
          ]
        },
        {
          "output_type": "stream",
          "name": "stderr",
          "text": [
            "/usr/local/lib/python3.7/dist-packages/statsmodels/tsa/base/tsa_model.py:539: ValueWarning: No frequency information was provided, so inferred frequency T will be used.\n",
            "  % freq, ValueWarning)\n",
            "/usr/local/lib/python3.7/dist-packages/statsmodels/tsa/base/tsa_model.py:539: ValueWarning: No frequency information was provided, so inferred frequency T will be used.\n",
            "  % freq, ValueWarning)\n",
            "/usr/local/lib/python3.7/dist-packages/statsmodels/base/model.py:606: ConvergenceWarning: Maximum Likelihood optimization failed to converge. Check mle_retvals\n",
            "  ConvergenceWarning)\n"
          ]
        },
        {
          "output_type": "stream",
          "name": "stdout",
          "text": [
            "Iteration:      1,   Func. Count:      6,   Neg. LLF: -3210.186458900421\n",
            "Iteration:      2,   Func. Count:     22,   Neg. LLF: -3210.8130729817935\n",
            "Iteration:      3,   Func. Count:     36,   Neg. LLF: -3210.824815590622\n",
            "Iteration:      4,   Func. Count:     47,   Neg. LLF: -3210.830554886784\n",
            "Iteration:      5,   Func. Count:     61,   Neg. LLF: -3210.8362956993933\n",
            "Iteration:      6,   Func. Count:     77,   Neg. LLF: -3210.7764204313175\n",
            "Iteration:      7,   Func. Count:     93,   Neg. LLF: -3208.5145322753033\n",
            "Iteration:      8,   Func. Count:    109,   Neg. LLF: 376.4994299199808\n",
            "Iteration:      9,   Func. Count:    115,   Neg. LLF: 332.3753548038535\n",
            "Iteration:     10,   Func. Count:    121,   Neg. LLF: 319.33663475190787\n",
            "Iteration:     11,   Func. Count:    127,   Neg. LLF: 308.391139677659\n",
            "Iteration:     12,   Func. Count:    133,   Neg. LLF: 176.06445599307142\n",
            "Iteration:     13,   Func. Count:    139,   Neg. LLF: -913.373668302153\n",
            "Iteration:     14,   Func. Count:    149,   Neg. LLF: -2121.253982032103\n",
            "Iteration:     15,   Func. Count:    163,   Neg. LLF: -2123.710007280866\n",
            "Optimization terminated successfully.    (Exit mode 0)\n",
            "            Current function value: -2123.710014465493\n",
            "            Iterations: 19\n",
            "            Function evaluations: 163\n",
            "            Gradient evaluations: 15\n",
            "-0.0003329686568764186\n"
          ]
        },
        {
          "output_type": "stream",
          "name": "stderr",
          "text": [
            "/usr/local/lib/python3.7/dist-packages/statsmodels/tsa/base/tsa_model.py:539: ValueWarning: No frequency information was provided, so inferred frequency T will be used.\n",
            "  % freq, ValueWarning)\n",
            "/usr/local/lib/python3.7/dist-packages/statsmodels/tsa/base/tsa_model.py:539: ValueWarning: No frequency information was provided, so inferred frequency T will be used.\n",
            "  % freq, ValueWarning)\n"
          ]
        },
        {
          "output_type": "stream",
          "name": "stdout",
          "text": [
            "Iteration:      1,   Func. Count:      6,   Neg. LLF: -3213.2500755431183\n",
            "Iteration:      2,   Func. Count:     22,   Neg. LLF: -3213.869749679813\n",
            "Iteration:      3,   Func. Count:     36,   Neg. LLF: -3213.888265779414\n",
            "Iteration:      4,   Func. Count:     52,   Neg. LLF: -3213.8870610238005\n",
            "Iteration:      5,   Func. Count:     66,   Neg. LLF: -3213.8875202183253\n",
            "Iteration:      6,   Func. Count:     80,   Neg. LLF: -3213.8877194506995\n",
            "Iteration:      7,   Func. Count:     96,   Neg. LLF: -3213.8873029587435\n",
            "Optimization terminated successfully.    (Exit mode 0)\n",
            "            Current function value: -3213.8873114093603\n",
            "            Iterations: 11\n",
            "            Function evaluations: 96\n",
            "            Gradient evaluations: 7\n",
            "-0.0002105905342599806\n"
          ]
        },
        {
          "output_type": "stream",
          "name": "stderr",
          "text": [
            "/usr/local/lib/python3.7/dist-packages/statsmodels/tsa/base/tsa_model.py:539: ValueWarning: No frequency information was provided, so inferred frequency T will be used.\n",
            "  % freq, ValueWarning)\n",
            "/usr/local/lib/python3.7/dist-packages/statsmodels/tsa/base/tsa_model.py:539: ValueWarning: No frequency information was provided, so inferred frequency T will be used.\n",
            "  % freq, ValueWarning)\n",
            "/usr/local/lib/python3.7/dist-packages/statsmodels/base/model.py:606: ConvergenceWarning: Maximum Likelihood optimization failed to converge. Check mle_retvals\n",
            "  ConvergenceWarning)\n"
          ]
        },
        {
          "output_type": "stream",
          "name": "stdout",
          "text": [
            "Iteration:      1,   Func. Count:      6,   Neg. LLF: -3217.1163293816\n",
            "Iteration:      2,   Func. Count:     22,   Neg. LLF: -3217.7316076465395\n",
            "Iteration:      3,   Func. Count:     38,   Neg. LLF: -3217.6563272587814\n",
            "Iteration:      4,   Func. Count:     53,   Neg. LLF: -3217.73669819981\n",
            "Optimization terminated successfully.    (Exit mode 0)\n",
            "            Current function value: -3217.736706663859\n",
            "            Iterations: 8\n",
            "            Function evaluations: 53\n",
            "            Gradient evaluations: 4\n",
            "-0.00020441469809685518\n"
          ]
        },
        {
          "output_type": "stream",
          "name": "stderr",
          "text": [
            "/usr/local/lib/python3.7/dist-packages/statsmodels/tsa/base/tsa_model.py:539: ValueWarning: No frequency information was provided, so inferred frequency T will be used.\n",
            "  % freq, ValueWarning)\n",
            "/usr/local/lib/python3.7/dist-packages/statsmodels/tsa/base/tsa_model.py:539: ValueWarning: No frequency information was provided, so inferred frequency T will be used.\n",
            "  % freq, ValueWarning)\n"
          ]
        },
        {
          "output_type": "stream",
          "name": "stdout",
          "text": [
            "Iteration:      1,   Func. Count:      6,   Neg. LLF: -3220.967989340602\n",
            "Iteration:      2,   Func. Count:     22,   Neg. LLF: -3221.5780466797987\n",
            "Iteration:      3,   Func. Count:     38,   Neg. LLF: -3221.5765217922935\n",
            "Iteration:      4,   Func. Count:     54,   Neg. LLF: -3221.5806447587665\n",
            "Iteration:      5,   Func. Count:     70,   Neg. LLF: -3221.5462111590514\n",
            "Iteration:      6,   Func. Count:     84,   Neg. LLF: -3221.5803306969065\n",
            "Iteration:      7,   Func. Count:    100,   Neg. LLF: -3221.5777689120105\n",
            "Iteration:      8,   Func. Count:    114,   Neg. LLF: -3221.579817207009\n",
            "Optimization terminated successfully.    (Exit mode 0)\n",
            "            Current function value: -3221.5798257147353\n",
            "            Iterations: 12\n",
            "            Function evaluations: 114\n",
            "            Gradient evaluations: 8\n",
            "-0.00021009064488051028\n"
          ]
        },
        {
          "output_type": "stream",
          "name": "stderr",
          "text": [
            "/usr/local/lib/python3.7/dist-packages/statsmodels/tsa/base/tsa_model.py:539: ValueWarning: No frequency information was provided, so inferred frequency T will be used.\n",
            "  % freq, ValueWarning)\n",
            "/usr/local/lib/python3.7/dist-packages/statsmodels/tsa/base/tsa_model.py:539: ValueWarning: No frequency information was provided, so inferred frequency T will be used.\n",
            "  % freq, ValueWarning)\n",
            "/usr/local/lib/python3.7/dist-packages/statsmodels/base/model.py:606: ConvergenceWarning: Maximum Likelihood optimization failed to converge. Check mle_retvals\n",
            "  ConvergenceWarning)\n"
          ]
        },
        {
          "output_type": "stream",
          "name": "stdout",
          "text": [
            "Iteration:      1,   Func. Count:      6,   Neg. LLF: -3224.976031670499\n",
            "Iteration:      2,   Func. Count:     22,   Neg. LLF: -3225.583209582244\n",
            "Iteration:      3,   Func. Count:     38,   Neg. LLF: -3225.5848536990716\n",
            "Iteration:      4,   Func. Count:     54,   Neg. LLF: -3225.576883395689\n",
            "Iteration:      5,   Func. Count:     68,   Neg. LLF: -3225.5839595141024\n",
            "Optimization terminated successfully.    (Exit mode 0)\n",
            "            Current function value: -3225.5839680583613\n",
            "            Iterations: 9\n",
            "            Function evaluations: 68\n",
            "            Gradient evaluations: 5\n",
            "-0.00020795288085582596\n"
          ]
        },
        {
          "output_type": "stream",
          "name": "stderr",
          "text": [
            "/usr/local/lib/python3.7/dist-packages/statsmodels/tsa/base/tsa_model.py:539: ValueWarning: No frequency information was provided, so inferred frequency T will be used.\n",
            "  % freq, ValueWarning)\n",
            "/usr/local/lib/python3.7/dist-packages/statsmodels/tsa/base/tsa_model.py:539: ValueWarning: No frequency information was provided, so inferred frequency T will be used.\n",
            "  % freq, ValueWarning)\n",
            "/usr/local/lib/python3.7/dist-packages/statsmodels/base/model.py:606: ConvergenceWarning: Maximum Likelihood optimization failed to converge. Check mle_retvals\n",
            "  ConvergenceWarning)\n"
          ]
        },
        {
          "output_type": "stream",
          "name": "stdout",
          "text": [
            "Iteration:      1,   Func. Count:      6,   Neg. LLF: -3229.1253204152245\n",
            "Iteration:      2,   Func. Count:     22,   Neg. LLF: -3229.734053077439\n",
            "Iteration:      3,   Func. Count:     38,   Neg. LLF: -3229.725694575298\n",
            "Iteration:      4,   Func. Count:     54,   Neg. LLF: -3229.6795737277303\n",
            "Iteration:      5,   Func. Count:     69,   Neg. LLF: -3229.7356815674875\n",
            "Iteration:      6,   Func. Count:     85,   Neg. LLF: -3229.7331497908717\n",
            "Iteration:      7,   Func. Count:     99,   Neg. LLF: -3229.734850636155\n",
            "Iteration:      8,   Func. Count:    115,   Neg. LLF: -3229.734789557194\n",
            "Optimization terminated successfully.    (Exit mode 0)\n",
            "            Current function value: -3229.7347981217586\n",
            "            Iterations: 12\n",
            "            Function evaluations: 115\n",
            "            Gradient evaluations: 8\n",
            "-0.00021243085518048418\n"
          ]
        },
        {
          "output_type": "stream",
          "name": "stderr",
          "text": [
            "/usr/local/lib/python3.7/dist-packages/statsmodels/tsa/base/tsa_model.py:539: ValueWarning: No frequency information was provided, so inferred frequency T will be used.\n",
            "  % freq, ValueWarning)\n",
            "/usr/local/lib/python3.7/dist-packages/statsmodels/tsa/base/tsa_model.py:539: ValueWarning: No frequency information was provided, so inferred frequency T will be used.\n",
            "  % freq, ValueWarning)\n",
            "/usr/local/lib/python3.7/dist-packages/statsmodels/base/model.py:606: ConvergenceWarning: Maximum Likelihood optimization failed to converge. Check mle_retvals\n",
            "  ConvergenceWarning)\n"
          ]
        },
        {
          "output_type": "stream",
          "name": "stdout",
          "text": [
            "Iteration:      1,   Func. Count:      6,   Neg. LLF: -3232.7540281877373\n",
            "Iteration:      2,   Func. Count:     22,   Neg. LLF: -3233.363562730251\n",
            "Iteration:      3,   Func. Count:     38,   Neg. LLF: -3233.1786632321223\n",
            "Iteration:      4,   Func. Count:     53,   Neg. LLF: -3233.363803083248\n",
            "Iteration:      5,   Func. Count:     67,   Neg. LLF: -3233.365466661141\n",
            "Optimization terminated successfully.    (Exit mode 0)\n",
            "            Current function value: -3233.3654752587636\n",
            "            Iterations: 9\n",
            "            Function evaluations: 67\n",
            "            Gradient evaluations: 5\n",
            "-0.00020651765570712749\n"
          ]
        },
        {
          "output_type": "stream",
          "name": "stderr",
          "text": [
            "/usr/local/lib/python3.7/dist-packages/statsmodels/tsa/base/tsa_model.py:539: ValueWarning: No frequency information was provided, so inferred frequency T will be used.\n",
            "  % freq, ValueWarning)\n",
            "/usr/local/lib/python3.7/dist-packages/statsmodels/tsa/base/tsa_model.py:539: ValueWarning: No frequency information was provided, so inferred frequency T will be used.\n",
            "  % freq, ValueWarning)\n"
          ]
        },
        {
          "output_type": "stream",
          "name": "stdout",
          "text": [
            "Iteration:      1,   Func. Count:      6,   Neg. LLF: -3236.7056368331005\n",
            "Iteration:      2,   Func. Count:     22,   Neg. LLF: -3237.316671690186\n",
            "Iteration:      3,   Func. Count:     38,   Neg. LLF: -3237.0894069767273\n",
            "Iteration:      4,   Func. Count:     53,   Neg. LLF: -3237.2673099997437\n",
            "Iteration:      5,   Func. Count:     69,   Neg. LLF: -3237.3034452339352\n",
            "Iteration:      6,   Func. Count:     85,   Neg. LLF: -3237.2617818494177\n",
            "Iteration:      7,   Func. Count:    100,   Neg. LLF: -3237.316032718638\n",
            "Optimization terminated successfully.    (Exit mode 0)\n",
            "            Current function value: -3237.316041351567\n",
            "            Iterations: 11\n",
            "            Function evaluations: 100\n",
            "            Gradient evaluations: 7\n",
            "-0.0002009416872741573\n"
          ]
        },
        {
          "output_type": "stream",
          "name": "stderr",
          "text": [
            "/usr/local/lib/python3.7/dist-packages/statsmodels/tsa/base/tsa_model.py:539: ValueWarning: No frequency information was provided, so inferred frequency T will be used.\n",
            "  % freq, ValueWarning)\n",
            "/usr/local/lib/python3.7/dist-packages/statsmodels/tsa/base/tsa_model.py:539: ValueWarning: No frequency information was provided, so inferred frequency T will be used.\n",
            "  % freq, ValueWarning)\n",
            "/usr/local/lib/python3.7/dist-packages/statsmodels/base/model.py:606: ConvergenceWarning: Maximum Likelihood optimization failed to converge. Check mle_retvals\n",
            "  ConvergenceWarning)\n"
          ]
        },
        {
          "output_type": "stream",
          "name": "stdout",
          "text": [
            "Iteration:      1,   Func. Count:      6,   Neg. LLF: -3243.717883642873\n",
            "Iteration:      2,   Func. Count:     22,   Neg. LLF: -3244.2626081082276\n",
            "Iteration:      3,   Func. Count:     38,   Neg. LLF: -3244.2235116215406\n",
            "Iteration:      4,   Func. Count:     52,   Neg. LLF: -3244.2611823955226\n",
            "Iteration:      5,   Func. Count:     68,   Neg. LLF: -3244.2618283330708\n",
            "Iteration:      6,   Func. Count:     77,   Neg. LLF: -3244.994480948916\n",
            "Iteration:      7,   Func. Count:     93,   Neg. LLF: -3245.475998201159\n",
            "Iteration:      8,   Func. Count:    109,   Neg. LLF: -3242.4552402116237\n",
            "Iteration:      9,   Func. Count:    125,   Neg. LLF: -1968.3777037972009\n",
            "Optimization terminated successfully.    (Exit mode 0)\n",
            "            Current function value: -1968.3777001840085\n",
            "            Iterations: 13\n",
            "            Function evaluations: 125\n",
            "            Gradient evaluations: 9\n",
            "0.026726250425529816\n"
          ]
        },
        {
          "output_type": "stream",
          "name": "stderr",
          "text": [
            "/usr/local/lib/python3.7/dist-packages/statsmodels/tsa/base/tsa_model.py:539: ValueWarning: No frequency information was provided, so inferred frequency T will be used.\n",
            "  % freq, ValueWarning)\n",
            "/usr/local/lib/python3.7/dist-packages/statsmodels/tsa/base/tsa_model.py:539: ValueWarning: No frequency information was provided, so inferred frequency T will be used.\n",
            "  % freq, ValueWarning)\n",
            "/usr/local/lib/python3.7/dist-packages/statsmodels/base/model.py:606: ConvergenceWarning: Maximum Likelihood optimization failed to converge. Check mle_retvals\n",
            "  ConvergenceWarning)\n"
          ]
        },
        {
          "output_type": "stream",
          "name": "stdout",
          "text": [
            "Iteration:      1,   Func. Count:      6,   Neg. LLF: -3250.802695358761\n",
            "Iteration:      2,   Func. Count:     22,   Neg. LLF: -3251.2686270049185\n",
            "Iteration:      3,   Func. Count:     38,   Neg. LLF: -3251.2686068463063\n",
            "Iteration:      4,   Func. Count:     52,   Neg. LLF: -3251.268656765882\n",
            "Iteration:      5,   Func. Count:     68,   Neg. LLF: -3251.258497414979\n",
            "Iteration:      6,   Func. Count:     82,   Neg. LLF: -3251.268679509347\n",
            "Iteration:      7,   Func. Count:     98,   Neg. LLF: -3251.263664457141\n",
            "Iteration:      8,   Func. Count:    112,   Neg. LLF: -3251.2686988721966\n",
            "Iteration:      9,   Func. Count:    128,   Neg. LLF: -3251.207742258569\n",
            "Iteration:     10,   Func. Count:    143,   Neg. LLF: -3251.2679496567844\n",
            "Optimization terminated successfully.    (Exit mode 0)\n",
            "            Current function value: -3251.267957403158\n",
            "            Iterations: 14\n",
            "            Function evaluations: 143\n",
            "            Gradient evaluations: 10\n",
            "-0.0001697076980964583\n"
          ]
        },
        {
          "output_type": "stream",
          "name": "stderr",
          "text": [
            "/usr/local/lib/python3.7/dist-packages/statsmodels/tsa/base/tsa_model.py:539: ValueWarning: No frequency information was provided, so inferred frequency T will be used.\n",
            "  % freq, ValueWarning)\n",
            "/usr/local/lib/python3.7/dist-packages/statsmodels/tsa/base/tsa_model.py:539: ValueWarning: No frequency information was provided, so inferred frequency T will be used.\n",
            "  % freq, ValueWarning)\n"
          ]
        },
        {
          "output_type": "stream",
          "name": "stdout",
          "text": [
            "Iteration:      1,   Func. Count:      6,   Neg. LLF: -3249.1874064939516\n",
            "Iteration:      2,   Func. Count:     22,   Neg. LLF: -3249.7828583603427\n",
            "Iteration:      3,   Func. Count:     38,   Neg. LLF: -3249.4218041296053\n",
            "Iteration:      4,   Func. Count:     54,   Neg. LLF: -3243.496184013121\n",
            "Iteration:      5,   Func. Count:     70,   Neg. LLF: -823.3326265090668\n",
            "Iteration:      6,   Func. Count:     85,   Neg. LLF: -1492.3071816436332\n",
            "Iteration:      7,   Func. Count:     91,   Neg. LLF: -1923.6455245836764\n",
            "Iteration:      8,   Func. Count:    105,   Neg. LLF: -1966.1729923982973\n",
            "Iteration:      9,   Func. Count:    118,   Neg. LLF: -1967.436574531634\n",
            "Iteration:     10,   Func. Count:    127,   Neg. LLF: -1968.3335929638106\n",
            "Iteration:     11,   Func. Count:    135,   Neg. LLF: -1969.680403365144\n",
            "Iteration:     12,   Func. Count:    143,   Neg. LLF: -1972.8007025243871\n",
            "Iteration:     13,   Func. Count:    151,   Neg. LLF: -1979.3356531104591\n",
            "Iteration:     14,   Func. Count:    166,   Neg. LLF: -1986.608332163737\n",
            "Optimization terminated successfully.    (Exit mode 0)\n",
            "            Current function value: -1986.6083392697387\n",
            "            Iterations: 18\n",
            "            Function evaluations: 166\n",
            "            Gradient evaluations: 14\n",
            "-0.000291048428200269\n"
          ]
        },
        {
          "output_type": "stream",
          "name": "stderr",
          "text": [
            "/usr/local/lib/python3.7/dist-packages/statsmodels/tsa/base/tsa_model.py:539: ValueWarning: No frequency information was provided, so inferred frequency T will be used.\n",
            "  % freq, ValueWarning)\n",
            "/usr/local/lib/python3.7/dist-packages/statsmodels/tsa/base/tsa_model.py:539: ValueWarning: No frequency information was provided, so inferred frequency T will be used.\n",
            "  % freq, ValueWarning)\n",
            "/usr/local/lib/python3.7/dist-packages/statsmodels/base/model.py:606: ConvergenceWarning: Maximum Likelihood optimization failed to converge. Check mle_retvals\n",
            "  ConvergenceWarning)\n"
          ]
        },
        {
          "output_type": "stream",
          "name": "stdout",
          "text": [
            "Iteration:      1,   Func. Count:      6,   Neg. LLF: -3253.404337704061\n",
            "Iteration:      2,   Func. Count:     22,   Neg. LLF: -3254.000513538281\n",
            "Iteration:      3,   Func. Count:     36,   Neg. LLF: -3254.001604793276\n",
            "Optimization terminated successfully.    (Exit mode 0)\n",
            "            Current function value: -3254.0016135073433\n",
            "            Iterations: 7\n",
            "            Function evaluations: 36\n",
            "            Gradient evaluations: 3\n",
            "-0.00020350158298568035\n"
          ]
        },
        {
          "output_type": "stream",
          "name": "stderr",
          "text": [
            "/usr/local/lib/python3.7/dist-packages/statsmodels/tsa/base/tsa_model.py:539: ValueWarning: No frequency information was provided, so inferred frequency T will be used.\n",
            "  % freq, ValueWarning)\n",
            "/usr/local/lib/python3.7/dist-packages/statsmodels/tsa/base/tsa_model.py:539: ValueWarning: No frequency information was provided, so inferred frequency T will be used.\n",
            "  % freq, ValueWarning)\n",
            "/usr/local/lib/python3.7/dist-packages/statsmodels/base/model.py:606: ConvergenceWarning: Maximum Likelihood optimization failed to converge. Check mle_retvals\n",
            "  ConvergenceWarning)\n"
          ]
        },
        {
          "output_type": "stream",
          "name": "stdout",
          "text": [
            "Iteration:      1,   Func. Count:      6,   Neg. LLF: -3256.857643714237\n",
            "Iteration:      2,   Func. Count:     22,   Neg. LLF: -3257.445516790057\n",
            "Iteration:      3,   Func. Count:     38,   Neg. LLF: -3256.521331026578\n",
            "Iteration:      4,   Func. Count:     54,   Neg. LLF: -315.47540830096233\n",
            "Iteration:      5,   Func. Count:     63,   Neg. LLF: -316.13345591581106\n",
            "Iteration:      6,   Func. Count:     69,   Neg. LLF: -359.1322796768703\n",
            "Iteration:      7,   Func. Count:     75,   Neg. LLF: -662.4557875505675\n",
            "Iteration:      8,   Func. Count:     82,   Neg. LLF: -2051.883881171335\n",
            "Iteration:      9,   Func. Count:     91,   Neg. LLF: -2183.839579583654\n",
            "Iteration:     10,   Func. Count:    106,   Neg. LLF: -2188.767026088046\n",
            "Iteration:     11,   Func. Count:    118,   Neg. LLF: -2188.768959044367\n",
            "Iteration:     12,   Func. Count:    130,   Neg. LLF: -2188.771432182809\n",
            "Iteration:     13,   Func. Count:    138,   Neg. LLF: -2190.6584203821653\n",
            "Iteration:     14,   Func. Count:    153,   Neg. LLF: -2195.898598542399\n",
            "Iteration:     15,   Func. Count:    162,   Neg. LLF: -2196.1097375036875\n",
            "Optimization terminated successfully.    (Exit mode 0)\n",
            "            Current function value: -2196.1097481430656\n",
            "            Iterations: 19\n",
            "            Function evaluations: 162\n",
            "            Gradient evaluations: 15\n",
            "0.0005868501099820392\n"
          ]
        },
        {
          "output_type": "stream",
          "name": "stderr",
          "text": [
            "/usr/local/lib/python3.7/dist-packages/statsmodels/tsa/base/tsa_model.py:539: ValueWarning: No frequency information was provided, so inferred frequency T will be used.\n",
            "  % freq, ValueWarning)\n",
            "/usr/local/lib/python3.7/dist-packages/statsmodels/tsa/base/tsa_model.py:539: ValueWarning: No frequency information was provided, so inferred frequency T will be used.\n",
            "  % freq, ValueWarning)\n",
            "/usr/local/lib/python3.7/dist-packages/statsmodels/base/model.py:606: ConvergenceWarning: Maximum Likelihood optimization failed to converge. Check mle_retvals\n",
            "  ConvergenceWarning)\n"
          ]
        },
        {
          "output_type": "stream",
          "name": "stdout",
          "text": [
            "Iteration:      1,   Func. Count:      6,   Neg. LLF: -3260.0640450975816\n",
            "Iteration:      2,   Func. Count:     22,   Neg. LLF: -3260.6619756521204\n",
            "Iteration:      3,   Func. Count:     38,   Neg. LLF: -3260.2541357150776\n",
            "Iteration:      4,   Func. Count:     54,   Neg. LLF: -3260.6630660876667\n",
            "Iteration:      5,   Func. Count:     70,   Neg. LLF: -3260.08830805654\n",
            "Iteration:      6,   Func. Count:     86,   Neg. LLF: -3260.6616172011363\n",
            "Iteration:      7,   Func. Count:    102,   Neg. LLF: -3260.2536402019296\n",
            "Iteration:      8,   Func. Count:    118,   Neg. LLF: -3260.662154052493\n",
            "Iteration:      9,   Func. Count:    134,   Neg. LLF: -3259.7167257588985\n",
            "Iteration:     10,   Func. Count:    150,   Neg. LLF: -3258.265231531099\n",
            "Optimization terminated successfully.    (Exit mode 0)\n",
            "            Current function value: -3258.265240022496\n",
            "            Iterations: 14\n",
            "            Function evaluations: 150\n",
            "            Gradient evaluations: 10\n",
            "-0.0006688801179681451\n"
          ]
        },
        {
          "output_type": "stream",
          "name": "stderr",
          "text": [
            "/usr/local/lib/python3.7/dist-packages/statsmodels/tsa/base/tsa_model.py:539: ValueWarning: No frequency information was provided, so inferred frequency T will be used.\n",
            "  % freq, ValueWarning)\n",
            "/usr/local/lib/python3.7/dist-packages/statsmodels/tsa/base/tsa_model.py:539: ValueWarning: No frequency information was provided, so inferred frequency T will be used.\n",
            "  % freq, ValueWarning)\n"
          ]
        },
        {
          "output_type": "stream",
          "name": "stdout",
          "text": [
            "Iteration:      1,   Func. Count:      6,   Neg. LLF: -3264.7798857230587\n",
            "Iteration:      2,   Func. Count:     22,   Neg. LLF: -3265.373025015698\n",
            "Iteration:      3,   Func. Count:     36,   Neg. LLF: -3265.3739705236007\n",
            "Iteration:      4,   Func. Count:     52,   Neg. LLF: -3265.3693218526496\n",
            "Iteration:      5,   Func. Count:     66,   Neg. LLF: -3265.3731275151413\n",
            "Iteration:      6,   Func. Count:     82,   Neg. LLF: -3265.3731694961025\n",
            "Optimization terminated successfully.    (Exit mode 0)\n",
            "            Current function value: -3265.3731780141766\n",
            "            Iterations: 10\n",
            "            Function evaluations: 82\n",
            "            Gradient evaluations: 6\n",
            "-0.00021518921541929895\n"
          ]
        },
        {
          "output_type": "stream",
          "name": "stderr",
          "text": [
            "/usr/local/lib/python3.7/dist-packages/statsmodels/tsa/base/tsa_model.py:539: ValueWarning: No frequency information was provided, so inferred frequency T will be used.\n",
            "  % freq, ValueWarning)\n",
            "/usr/local/lib/python3.7/dist-packages/statsmodels/tsa/base/tsa_model.py:539: ValueWarning: No frequency information was provided, so inferred frequency T will be used.\n",
            "  % freq, ValueWarning)\n"
          ]
        },
        {
          "output_type": "stream",
          "name": "stdout",
          "text": [
            "Iteration:      1,   Func. Count:      6,   Neg. LLF: -3268.3564472315193\n",
            "Iteration:      2,   Func. Count:     22,   Neg. LLF: -3268.9597254533264\n",
            "Iteration:      3,   Func. Count:     36,   Neg. LLF: -3268.9601648086273\n",
            "Iteration:      4,   Func. Count:     52,   Neg. LLF: -3268.932475796098\n",
            "Iteration:      5,   Func. Count:     66,   Neg. LLF: -3268.9603571045354\n",
            "Optimization terminated successfully.    (Exit mode 0)\n",
            "            Current function value: -3268.9603603324704\n",
            "            Iterations: 7\n",
            "            Function evaluations: 77\n",
            "            Gradient evaluations: 5\n",
            "-0.00021027531578749528\n"
          ]
        },
        {
          "output_type": "stream",
          "name": "stderr",
          "text": [
            "/usr/local/lib/python3.7/dist-packages/statsmodels/tsa/base/tsa_model.py:539: ValueWarning: No frequency information was provided, so inferred frequency T will be used.\n",
            "  % freq, ValueWarning)\n",
            "/usr/local/lib/python3.7/dist-packages/statsmodels/tsa/base/tsa_model.py:539: ValueWarning: No frequency information was provided, so inferred frequency T will be used.\n",
            "  % freq, ValueWarning)\n",
            "/usr/local/lib/python3.7/dist-packages/statsmodels/base/model.py:606: ConvergenceWarning: Maximum Likelihood optimization failed to converge. Check mle_retvals\n",
            "  ConvergenceWarning)\n"
          ]
        },
        {
          "output_type": "stream",
          "name": "stdout",
          "text": [
            "Iteration:      1,   Func. Count:      6,   Neg. LLF: -3273.0034002890707\n",
            "Iteration:      2,   Func. Count:     22,   Neg. LLF: -3273.590248299579\n",
            "Iteration:      3,   Func. Count:     38,   Neg. LLF: -3273.42871458204\n",
            "Iteration:      4,   Func. Count:     53,   Neg. LLF: -3273.590145224909\n",
            "Iteration:      5,   Func. Count:     66,   Neg. LLF: -3273.5902100546473\n",
            "Iteration:      6,   Func. Count:     82,   Neg. LLF: -3273.5471165103845\n",
            "Iteration:      7,   Func. Count:     96,   Neg. LLF: -3273.584168081935\n",
            "Iteration:      8,   Func. Count:    112,   Neg. LLF: -3273.537274082454\n",
            "Iteration:      9,   Func. Count:    127,   Neg. LLF: -3273.588225604625\n",
            "Optimization terminated successfully.    (Exit mode 0)\n",
            "            Current function value: -3273.588234050652\n",
            "            Iterations: 13\n",
            "            Function evaluations: 127\n",
            "            Gradient evaluations: 9\n",
            "-0.0002145435510186385\n"
          ]
        },
        {
          "output_type": "stream",
          "name": "stderr",
          "text": [
            "/usr/local/lib/python3.7/dist-packages/statsmodels/tsa/base/tsa_model.py:539: ValueWarning: No frequency information was provided, so inferred frequency T will be used.\n",
            "  % freq, ValueWarning)\n",
            "/usr/local/lib/python3.7/dist-packages/statsmodels/tsa/base/tsa_model.py:539: ValueWarning: No frequency information was provided, so inferred frequency T will be used.\n",
            "  % freq, ValueWarning)\n",
            "/usr/local/lib/python3.7/dist-packages/statsmodels/base/model.py:606: ConvergenceWarning: Maximum Likelihood optimization failed to converge. Check mle_retvals\n",
            "  ConvergenceWarning)\n"
          ]
        },
        {
          "output_type": "stream",
          "name": "stdout",
          "text": [
            "Iteration:      1,   Func. Count:      6,   Neg. LLF: -3275.173689663474\n",
            "Iteration:      2,   Func. Count:     22,   Neg. LLF: -3275.7787204371452\n",
            "Iteration:      3,   Func. Count:     38,   Neg. LLF: -3275.7762504616194\n",
            "Iteration:      4,   Func. Count:     54,   Neg. LLF: -3275.783755140206\n",
            "Optimization terminated successfully.    (Exit mode 0)\n",
            "            Current function value: -3275.7837637865255\n",
            "            Iterations: 8\n",
            "            Function evaluations: 54\n",
            "            Gradient evaluations: 4\n",
            "-0.00022644112953792636\n"
          ]
        },
        {
          "output_type": "stream",
          "name": "stderr",
          "text": [
            "/usr/local/lib/python3.7/dist-packages/statsmodels/tsa/base/tsa_model.py:539: ValueWarning: No frequency information was provided, so inferred frequency T will be used.\n",
            "  % freq, ValueWarning)\n",
            "/usr/local/lib/python3.7/dist-packages/statsmodels/tsa/base/tsa_model.py:539: ValueWarning: No frequency information was provided, so inferred frequency T will be used.\n",
            "  % freq, ValueWarning)\n"
          ]
        },
        {
          "output_type": "stream",
          "name": "stdout",
          "text": [
            "Iteration:      1,   Func. Count:      6,   Neg. LLF: -3279.0826426922076\n",
            "Iteration:      2,   Func. Count:     22,   Neg. LLF: -3279.691029883212\n",
            "Iteration:      3,   Func. Count:     38,   Neg. LLF: -3277.596967028274\n",
            "Iteration:      4,   Func. Count:     54,   Neg. LLF: -2901.9299805379223\n",
            "Iteration:      5,   Func. Count:     70,   Neg. LLF: 1375.8194159831837\n",
            "Iteration:      6,   Func. Count:     76,   Neg. LLF: 1363.394415215102\n",
            "Iteration:      7,   Func. Count:     86,   Neg. LLF: -840.1927190237188\n",
            "Iteration:      8,   Func. Count:     94,   Neg. LLF: -1406.2830278440451\n",
            "Iteration:      9,   Func. Count:    101,   Neg. LLF: -1838.0438810999863\n",
            "Iteration:     10,   Func. Count:    117,   Neg. LLF: -135.91991979619362\n",
            "Iteration:     11,   Func. Count:    124,   Neg. LLF: -138.20957939527472\n",
            "Iteration:     12,   Func. Count:    131,   Neg. LLF: -1317.6340229236055\n",
            "Iteration:     13,   Func. Count:    138,   Neg. LLF: -2022.910092330581\n",
            "Iteration:     14,   Func. Count:    152,   Neg. LLF: -2269.502269379188\n",
            "Optimization terminated successfully.    (Exit mode 0)\n",
            "            Current function value: -2269.5022822912647\n",
            "            Iterations: 18\n",
            "            Function evaluations: 152\n",
            "            Gradient evaluations: 14\n",
            "-0.00019567627923091496\n"
          ]
        },
        {
          "output_type": "stream",
          "name": "stderr",
          "text": [
            "/usr/local/lib/python3.7/dist-packages/statsmodels/tsa/base/tsa_model.py:539: ValueWarning: No frequency information was provided, so inferred frequency T will be used.\n",
            "  % freq, ValueWarning)\n",
            "/usr/local/lib/python3.7/dist-packages/statsmodels/tsa/base/tsa_model.py:539: ValueWarning: No frequency information was provided, so inferred frequency T will be used.\n",
            "  % freq, ValueWarning)\n",
            "/usr/local/lib/python3.7/dist-packages/statsmodels/base/model.py:606: ConvergenceWarning: Maximum Likelihood optimization failed to converge. Check mle_retvals\n",
            "  ConvergenceWarning)\n"
          ]
        },
        {
          "output_type": "stream",
          "name": "stdout",
          "text": [
            "Iteration:      1,   Func. Count:      6,   Neg. LLF: -3283.334394439605\n",
            "Iteration:      2,   Func. Count:     22,   Neg. LLF: -3283.9421027999215\n",
            "Iteration:      3,   Func. Count:     38,   Neg. LLF: -3283.9371365359734\n",
            "Iteration:      4,   Func. Count:     54,   Neg. LLF: -3283.6418751901274\n",
            "Iteration:      5,   Func. Count:     70,   Neg. LLF: -3283.9568902265146\n",
            "Iteration:      6,   Func. Count:     86,   Neg. LLF: -3283.929815413304\n",
            "Iteration:      7,   Func. Count:    100,   Neg. LLF: -3283.9559941905613\n",
            "Optimization terminated successfully.    (Exit mode 0)\n",
            "            Current function value: -3283.9560028654496\n",
            "            Iterations: 11\n",
            "            Function evaluations: 100\n",
            "            Gradient evaluations: 7\n",
            "-0.00022209928844923313\n"
          ]
        },
        {
          "output_type": "stream",
          "name": "stderr",
          "text": [
            "/usr/local/lib/python3.7/dist-packages/statsmodels/tsa/base/tsa_model.py:539: ValueWarning: No frequency information was provided, so inferred frequency T will be used.\n",
            "  % freq, ValueWarning)\n",
            "/usr/local/lib/python3.7/dist-packages/statsmodels/tsa/base/tsa_model.py:539: ValueWarning: No frequency information was provided, so inferred frequency T will be used.\n",
            "  % freq, ValueWarning)\n"
          ]
        },
        {
          "output_type": "stream",
          "name": "stdout",
          "text": [
            "Iteration:      1,   Func. Count:      6,   Neg. LLF: -3287.2522744266216\n",
            "Iteration:      2,   Func. Count:     22,   Neg. LLF: -3287.859560832835\n",
            "Iteration:      3,   Func. Count:     38,   Neg. LLF: -3287.6452997312012\n",
            "Iteration:      4,   Func. Count:     53,   Neg. LLF: -3287.808665439589\n",
            "Iteration:      5,   Func. Count:     69,   Neg. LLF: -3287.4463646166305\n",
            "Iteration:      6,   Func. Count:     85,   Neg. LLF: -3287.87587526701\n",
            "Iteration:      7,   Func. Count:    101,   Neg. LLF: -3287.07933900375\n",
            "Iteration:      8,   Func. Count:    117,   Neg. LLF: -3287.1205322421897\n",
            "Iteration:      9,   Func. Count:    133,   Neg. LLF: -3287.1318691315896\n",
            "Iteration:     10,   Func. Count:    149,   Neg. LLF: -1681.2861355717446\n",
            "Optimization terminated successfully.    (Exit mode 0)\n",
            "            Current function value: -1681.2861321488422\n",
            "            Iterations: 14\n",
            "            Function evaluations: 149\n",
            "            Gradient evaluations: 10\n",
            "-0.03894593570705536\n"
          ]
        },
        {
          "output_type": "stream",
          "name": "stderr",
          "text": [
            "/usr/local/lib/python3.7/dist-packages/statsmodels/tsa/base/tsa_model.py:539: ValueWarning: No frequency information was provided, so inferred frequency T will be used.\n",
            "  % freq, ValueWarning)\n",
            "/usr/local/lib/python3.7/dist-packages/statsmodels/tsa/base/tsa_model.py:539: ValueWarning: No frequency information was provided, so inferred frequency T will be used.\n",
            "  % freq, ValueWarning)\n"
          ]
        },
        {
          "output_type": "stream",
          "name": "stdout",
          "text": [
            "Iteration:      1,   Func. Count:      6,   Neg. LLF: -3290.902801681442\n",
            "Iteration:      2,   Func. Count:     22,   Neg. LLF: -3291.5097796375057\n",
            "Iteration:      3,   Func. Count:     38,   Neg. LLF: -3288.399234919003\n",
            "Iteration:      4,   Func. Count:     54,   Neg. LLF: -2110.4287337854894\n",
            "Iteration:      5,   Func. Count:     70,   Neg. LLF: 562.2054897091726\n",
            "Iteration:      6,   Func. Count:     82,   Neg. LLF: -3022.8914485229975\n",
            "Iteration:      7,   Func. Count:     98,   Neg. LLF: 1986.1916501770188\n",
            "Iteration:      8,   Func. Count:    104,   Neg. LLF: 1961.0181347620214\n",
            "Iteration:      9,   Func. Count:    110,   Neg. LLF: 1673.412481946585\n",
            "Iteration:     10,   Func. Count:    118,   Neg. LLF: -1429.3664054341607\n",
            "Iteration:     11,   Func. Count:    127,   Neg. LLF: -1724.8575597601744\n",
            "Iteration:     12,   Func. Count:    133,   Neg. LLF: -1833.7201481160569\n",
            "Iteration:     13,   Func. Count:    149,   Neg. LLF: -1880.645247894189\n",
            "Iteration:     14,   Func. Count:    159,   Neg. LLF: -1881.150209883944\n",
            "Iteration:     15,   Func. Count:    168,   Neg. LLF: -1881.7843968209072\n",
            "Iteration:     16,   Func. Count:    177,   Neg. LLF: -1882.3399151084354\n",
            "Iteration:     17,   Func. Count:    186,   Neg. LLF: -1883.7125701177908\n",
            "Iteration:     18,   Func. Count:    195,   Neg. LLF: -1885.2704446823377\n",
            "Optimization terminated successfully.    (Exit mode 0)\n",
            "            Current function value: -1885.2704535057574\n",
            "            Iterations: 22\n",
            "            Function evaluations: 195\n",
            "            Gradient evaluations: 18\n",
            "2.4048783043707604e-06\n"
          ]
        },
        {
          "output_type": "stream",
          "name": "stderr",
          "text": [
            "/usr/local/lib/python3.7/dist-packages/statsmodels/tsa/base/tsa_model.py:539: ValueWarning: No frequency information was provided, so inferred frequency T will be used.\n",
            "  % freq, ValueWarning)\n",
            "/usr/local/lib/python3.7/dist-packages/statsmodels/tsa/base/tsa_model.py:539: ValueWarning: No frequency information was provided, so inferred frequency T will be used.\n",
            "  % freq, ValueWarning)\n"
          ]
        },
        {
          "output_type": "stream",
          "name": "stdout",
          "text": [
            "Iteration:      1,   Func. Count:      6,   Neg. LLF: -3294.6961127788854\n",
            "Iteration:      2,   Func. Count:     22,   Neg. LLF: -3295.301731657126\n",
            "Iteration:      3,   Func. Count:     38,   Neg. LLF: -3289.9980757837193\n",
            "Iteration:      4,   Func. Count:     54,   Neg. LLF: -1119.8883733780588\n",
            "Iteration:      5,   Func. Count:     70,   Neg. LLF: 1073.8766345114177\n",
            "Iteration:      6,   Func. Count:     80,   Neg. LLF: 814.9931674044585\n",
            "Iteration:      7,   Func. Count:     86,   Neg. LLF: -99.83717444960143\n",
            "Iteration:      8,   Func. Count:     93,   Neg. LLF: -1932.076140932814\n",
            "Iteration:      9,   Func. Count:    103,   Neg. LLF: -1997.7295194696999\n",
            "Iteration:     10,   Func. Count:    113,   Neg. LLF: -1998.7010956107224\n",
            "Iteration:     11,   Func. Count:    123,   Neg. LLF: -1998.7011927853614\n",
            "Iteration:     12,   Func. Count:    135,   Neg. LLF: -1998.701203015979\n",
            "Iteration:     13,   Func. Count:    142,   Neg. LLF: -2045.9762484540488\n",
            "Iteration:     14,   Func. Count:    155,   Neg. LLF: -2046.1179267283123\n",
            "Iteration:     15,   Func. Count:    168,   Neg. LLF: -2046.1179473690866\n",
            "Iteration:     16,   Func. Count:    181,   Neg. LLF: -2046.1179525004486\n",
            "Optimization terminated successfully.    (Exit mode 0)\n",
            "            Current function value: -2046.1179596810562\n",
            "            Iterations: 20\n",
            "            Function evaluations: 181\n",
            "            Gradient evaluations: 16\n",
            "-0.0003122126682344525\n"
          ]
        },
        {
          "output_type": "stream",
          "name": "stderr",
          "text": [
            "/usr/local/lib/python3.7/dist-packages/statsmodels/tsa/base/tsa_model.py:539: ValueWarning: No frequency information was provided, so inferred frequency T will be used.\n",
            "  % freq, ValueWarning)\n",
            "/usr/local/lib/python3.7/dist-packages/statsmodels/tsa/base/tsa_model.py:539: ValueWarning: No frequency information was provided, so inferred frequency T will be used.\n",
            "  % freq, ValueWarning)\n",
            "/usr/local/lib/python3.7/dist-packages/statsmodels/base/model.py:606: ConvergenceWarning: Maximum Likelihood optimization failed to converge. Check mle_retvals\n",
            "  ConvergenceWarning)\n"
          ]
        },
        {
          "output_type": "stream",
          "name": "stdout",
          "text": [
            "Iteration:      1,   Func. Count:      6,   Neg. LLF: -3298.412714728391\n",
            "Iteration:      2,   Func. Count:     22,   Neg. LLF: -3299.023540395192\n",
            "Iteration:      3,   Func. Count:     36,   Neg. LLF: -3299.0476314613106\n",
            "Iteration:      4,   Func. Count:     52,   Neg. LLF: -3298.573554261597\n",
            "Iteration:      5,   Func. Count:     68,   Neg. LLF: -2932.7382999199144\n",
            "Iteration:      6,   Func. Count:     84,   Neg. LLF: 1400.7412674460331\n",
            "Iteration:      7,   Func. Count:     94,   Neg. LLF: -1201.691186505729\n",
            "Iteration:      8,   Func. Count:    103,   Neg. LLF: -2489.475069492908\n",
            "Iteration:      9,   Func. Count:    119,   Neg. LLF: -652.0150995138807\n",
            "Optimization terminated successfully.    (Exit mode 0)\n",
            "            Current function value: -652.0150985508917\n",
            "            Iterations: 13\n",
            "            Function evaluations: 119\n",
            "            Gradient evaluations: 9\n",
            "-0.11941024600283817\n"
          ]
        },
        {
          "output_type": "stream",
          "name": "stderr",
          "text": [
            "/usr/local/lib/python3.7/dist-packages/statsmodels/tsa/base/tsa_model.py:539: ValueWarning: No frequency information was provided, so inferred frequency T will be used.\n",
            "  % freq, ValueWarning)\n",
            "/usr/local/lib/python3.7/dist-packages/statsmodels/tsa/base/tsa_model.py:539: ValueWarning: No frequency information was provided, so inferred frequency T will be used.\n",
            "  % freq, ValueWarning)\n"
          ]
        },
        {
          "output_type": "stream",
          "name": "stdout",
          "text": [
            "Iteration:      1,   Func. Count:      6,   Neg. LLF: -3303.980425755899\n",
            "Iteration:      2,   Func. Count:     22,   Neg. LLF: -3304.5841540221054\n",
            "Iteration:      3,   Func. Count:     38,   Neg. LLF: -3304.093134917378\n",
            "Iteration:      4,   Func. Count:     54,   Neg. LLF: -3304.5904568795936\n",
            "Iteration:      5,   Func. Count:     70,   Neg. LLF: -3304.2741649362097\n",
            "Iteration:      6,   Func. Count:     86,   Neg. LLF: -3304.589625897195\n",
            "Optimization terminated successfully.    (Exit mode 0)\n",
            "            Current function value: -3304.589634447898\n",
            "            Iterations: 10\n",
            "            Function evaluations: 86\n",
            "            Gradient evaluations: 6\n",
            "-0.0002274272489461663\n"
          ]
        },
        {
          "output_type": "stream",
          "name": "stderr",
          "text": [
            "/usr/local/lib/python3.7/dist-packages/statsmodels/tsa/base/tsa_model.py:539: ValueWarning: No frequency information was provided, so inferred frequency T will be used.\n",
            "  % freq, ValueWarning)\n",
            "/usr/local/lib/python3.7/dist-packages/statsmodels/tsa/base/tsa_model.py:539: ValueWarning: No frequency information was provided, so inferred frequency T will be used.\n",
            "  % freq, ValueWarning)\n"
          ]
        },
        {
          "output_type": "stream",
          "name": "stdout",
          "text": [
            "Iteration:      1,   Func. Count:      6,   Neg. LLF: -3306.2730331827033\n",
            "Iteration:      2,   Func. Count:     22,   Neg. LLF: -3306.869221089545\n",
            "Iteration:      3,   Func. Count:     38,   Neg. LLF: -3305.6993374990825\n",
            "Iteration:      4,   Func. Count:     54,   Neg. LLF: -3285.8802838917763\n",
            "Iteration:      5,   Func. Count:     70,   Neg. LLF: 379.33199921237406\n",
            "Iteration:      6,   Func. Count:     82,   Neg. LLF: -982.7409253297897\n",
            "Iteration:      7,   Func. Count:     89,   Neg. LLF: -1363.7080816226219\n",
            "Iteration:      8,   Func. Count:     96,   Neg. LLF: -1631.5902701364955\n",
            "Iteration:      9,   Func. Count:    112,   Neg. LLF: -346.2503528791094\n",
            "Iteration:     10,   Func. Count:    119,   Neg. LLF: -370.78518714406823\n",
            "Iteration:     11,   Func. Count:    126,   Neg. LLF: -1712.4595265032403\n",
            "Iteration:     12,   Func. Count:    133,   Neg. LLF: -2142.4491741939037\n",
            "Optimization terminated successfully.    (Exit mode 0)\n",
            "            Current function value: -2142.44917711561\n",
            "            Iterations: 16\n",
            "            Function evaluations: 133\n",
            "            Gradient evaluations: 12\n",
            "-0.02233829720899539\n"
          ]
        },
        {
          "output_type": "stream",
          "name": "stderr",
          "text": [
            "/usr/local/lib/python3.7/dist-packages/statsmodels/tsa/base/tsa_model.py:539: ValueWarning: No frequency information was provided, so inferred frequency T will be used.\n",
            "  % freq, ValueWarning)\n",
            "/usr/local/lib/python3.7/dist-packages/statsmodels/tsa/base/tsa_model.py:539: ValueWarning: No frequency information was provided, so inferred frequency T will be used.\n",
            "  % freq, ValueWarning)\n"
          ]
        },
        {
          "output_type": "stream",
          "name": "stdout",
          "text": [
            "Iteration:      1,   Func. Count:      6,   Neg. LLF: -3310.1126381267673\n",
            "Iteration:      2,   Func. Count:     22,   Neg. LLF: -3310.719730598585\n",
            "Iteration:      3,   Func. Count:     38,   Neg. LLF: -3302.763250302872\n",
            "Iteration:      4,   Func. Count:     54,   Neg. LLF: -554.6342304612842\n",
            "Iteration:      5,   Func. Count:     70,   Neg. LLF: -1598.8162983854281\n",
            "Iteration:      6,   Func. Count:     77,   Neg. LLF: -2503.5610957901463\n",
            "Iteration:      7,   Func. Count:     93,   Neg. LLF: 889.0313732567635\n",
            "Iteration:      8,   Func. Count:    104,   Neg. LLF: -2019.4699142533264\n",
            "Iteration:      9,   Func. Count:    113,   Neg. LLF: -2239.820929636797\n",
            "Iteration:     10,   Func. Count:    129,   Neg. LLF: -2114.7347506181754\n",
            "Iteration:     11,   Func. Count:    145,   Neg. LLF: -1218.038793421441\n",
            "Iteration:     12,   Func. Count:    161,   Neg. LLF: -1567.8847808890514\n",
            "Iteration:     13,   Func. Count:    168,   Neg. LLF: -2892.624552313374\n",
            "Optimization terminated successfully.    (Exit mode 0)\n",
            "            Current function value: -2892.6245464015337\n",
            "            Iterations: 17\n",
            "            Function evaluations: 168\n",
            "            Gradient evaluations: 13\n",
            "0.007277634115172946\n"
          ]
        },
        {
          "output_type": "stream",
          "name": "stderr",
          "text": [
            "/usr/local/lib/python3.7/dist-packages/statsmodels/tsa/base/tsa_model.py:539: ValueWarning: No frequency information was provided, so inferred frequency T will be used.\n",
            "  % freq, ValueWarning)\n",
            "/usr/local/lib/python3.7/dist-packages/statsmodels/tsa/base/tsa_model.py:539: ValueWarning: No frequency information was provided, so inferred frequency T will be used.\n",
            "  % freq, ValueWarning)\n",
            "/usr/local/lib/python3.7/dist-packages/statsmodels/base/model.py:606: ConvergenceWarning: Maximum Likelihood optimization failed to converge. Check mle_retvals\n",
            "  ConvergenceWarning)\n"
          ]
        },
        {
          "output_type": "stream",
          "name": "stdout",
          "text": [
            "Iteration:      1,   Func. Count:      6,   Neg. LLF: -3313.9567612340593\n",
            "Iteration:      2,   Func. Count:     22,   Neg. LLF: -3314.555782407454\n",
            "Iteration:      3,   Func. Count:     38,   Neg. LLF: -3314.0133439698557\n",
            "Iteration:      4,   Func. Count:     54,   Neg. LLF: -3314.5883830766716\n",
            "Iteration:      5,   Func. Count:     70,   Neg. LLF: -3314.5876131433533\n",
            "Iteration:      6,   Func. Count:     86,   Neg. LLF: -3314.5889789848534\n",
            "Iteration:      7,   Func. Count:    102,   Neg. LLF: -3314.5822986673525\n",
            "Iteration:      8,   Func. Count:    116,   Neg. LLF: -3314.588110242469\n",
            "Iteration:      9,   Func. Count:    132,   Neg. LLF: -3314.579529122222\n",
            "Iteration:     10,   Func. Count:    148,   Neg. LLF: -3314.5870483216454\n",
            "Iteration:     11,   Func. Count:    164,   Neg. LLF: -3314.57515329085\n",
            "Iteration:     12,   Func. Count:    178,   Neg. LLF: -3314.5872575276\n",
            "Iteration:     13,   Func. Count:    194,   Neg. LLF: -3314.5854405410387\n",
            "Iteration:     14,   Func. Count:    208,   Neg. LLF: -3314.5864815176856\n",
            "Optimization terminated successfully.    (Exit mode 0)\n",
            "            Current function value: -3314.5864902677777\n",
            "            Iterations: 18\n",
            "            Function evaluations: 208\n",
            "            Gradient evaluations: 14\n",
            "-0.00022608178291955012\n"
          ]
        },
        {
          "output_type": "stream",
          "name": "stderr",
          "text": [
            "/usr/local/lib/python3.7/dist-packages/statsmodels/tsa/base/tsa_model.py:539: ValueWarning: No frequency information was provided, so inferred frequency T will be used.\n",
            "  % freq, ValueWarning)\n",
            "/usr/local/lib/python3.7/dist-packages/statsmodels/tsa/base/tsa_model.py:539: ValueWarning: No frequency information was provided, so inferred frequency T will be used.\n",
            "  % freq, ValueWarning)\n",
            "/usr/local/lib/python3.7/dist-packages/statsmodels/base/model.py:606: ConvergenceWarning: Maximum Likelihood optimization failed to converge. Check mle_retvals\n",
            "  ConvergenceWarning)\n"
          ]
        },
        {
          "output_type": "stream",
          "name": "stdout",
          "text": [
            "Iteration:      1,   Func. Count:      6,   Neg. LLF: -3318.2287746822085\n",
            "Iteration:      2,   Func. Count:     22,   Neg. LLF: -3318.8295404695127\n",
            "Iteration:      3,   Func. Count:     38,   Neg. LLF: -3317.559375223473\n",
            "Iteration:      4,   Func. Count:     54,   Neg. LLF: -3287.2931686571073\n",
            "Iteration:      5,   Func. Count:     70,   Neg. LLF: 655.1650197474049\n",
            "Iteration:      6,   Func. Count:     81,   Neg. LLF: 198.3862989309554\n",
            "Iteration:      7,   Func. Count:     87,   Neg. LLF: -214.8557469946282\n",
            "Iteration:      8,   Func. Count:     93,   Neg. LLF: -851.3231067821121\n",
            "Iteration:      9,   Func. Count:    100,   Neg. LLF: -1054.8931135382727\n",
            "Iteration:     10,   Func. Count:    109,   Neg. LLF: -1997.416478819619\n",
            "Iteration:     11,   Func. Count:    119,   Neg. LLF: -2045.2626962000943\n",
            "Iteration:     12,   Func. Count:    132,   Neg. LLF: -2045.7344398819357\n",
            "Optimization terminated successfully.    (Exit mode 0)\n",
            "            Current function value: -2045.7344472758198\n",
            "            Iterations: 16\n",
            "            Function evaluations: 132\n",
            "            Gradient evaluations: 12\n",
            "-0.0003022945449596031\n"
          ]
        },
        {
          "output_type": "stream",
          "name": "stderr",
          "text": [
            "/usr/local/lib/python3.7/dist-packages/statsmodels/tsa/base/tsa_model.py:539: ValueWarning: No frequency information was provided, so inferred frequency T will be used.\n",
            "  % freq, ValueWarning)\n",
            "/usr/local/lib/python3.7/dist-packages/statsmodels/tsa/base/tsa_model.py:539: ValueWarning: No frequency information was provided, so inferred frequency T will be used.\n",
            "  % freq, ValueWarning)\n"
          ]
        },
        {
          "output_type": "stream",
          "name": "stdout",
          "text": [
            "Iteration:      1,   Func. Count:      6,   Neg. LLF: -3319.265475474413\n",
            "Iteration:      2,   Func. Count:     22,   Neg. LLF: -3319.8655668753922\n",
            "Iteration:      3,   Func. Count:     38,   Neg. LLF: -3318.201336983173\n",
            "Iteration:      4,   Func. Count:     54,   Neg. LLF: -3171.801722336789\n",
            "Iteration:      5,   Func. Count:     70,   Neg. LLF: 1349.8321511834376\n",
            "Iteration:      6,   Func. Count:     76,   Neg. LLF: 1190.4962638963168\n",
            "Iteration:      7,   Func. Count:     83,   Neg. LLF: 1163.0405922617529\n",
            "Iteration:      8,   Func. Count:     90,   Neg. LLF: -141.1886622108941\n",
            "Iteration:      9,   Func. Count:    103,   Neg. LLF: -759.3944965655847\n",
            "Iteration:     10,   Func. Count:    110,   Neg. LLF: -2297.6741286679426\n",
            "Iteration:     11,   Func. Count:    124,   Neg. LLF: -2299.4046903676517\n",
            "Optimization terminated successfully.    (Exit mode 0)\n",
            "            Current function value: -2299.404697395491\n",
            "            Iterations: 15\n",
            "            Function evaluations: 124\n",
            "            Gradient evaluations: 11\n",
            "-0.00032910284612843333\n"
          ]
        },
        {
          "output_type": "stream",
          "name": "stderr",
          "text": [
            "/usr/local/lib/python3.7/dist-packages/statsmodels/tsa/base/tsa_model.py:539: ValueWarning: No frequency information was provided, so inferred frequency T will be used.\n",
            "  % freq, ValueWarning)\n",
            "/usr/local/lib/python3.7/dist-packages/statsmodels/tsa/base/tsa_model.py:539: ValueWarning: No frequency information was provided, so inferred frequency T will be used.\n",
            "  % freq, ValueWarning)\n",
            "/usr/local/lib/python3.7/dist-packages/statsmodels/base/model.py:606: ConvergenceWarning: Maximum Likelihood optimization failed to converge. Check mle_retvals\n",
            "  ConvergenceWarning)\n"
          ]
        },
        {
          "output_type": "stream",
          "name": "stdout",
          "text": [
            "Iteration:      1,   Func. Count:      6,   Neg. LLF: -3322.001722886471\n",
            "Iteration:      2,   Func. Count:     22,   Neg. LLF: -3322.602214421639\n",
            "Iteration:      3,   Func. Count:     36,   Neg. LLF: -3322.608697561484\n",
            "Iteration:      4,   Func. Count:     52,   Neg. LLF: -3322.605609522457\n",
            "Iteration:      5,   Func. Count:     66,   Neg. LLF: -3322.6087455437146\n",
            "Iteration:      6,   Func. Count:     77,   Neg. LLF: -3322.6127929411377\n",
            "Iteration:      7,   Func. Count:     91,   Neg. LLF: -3322.6159901215374\n",
            "Optimization terminated successfully.    (Exit mode 0)\n",
            "            Current function value: -3322.615998694617\n",
            "            Iterations: 11\n",
            "            Function evaluations: 91\n",
            "            Gradient evaluations: 7\n",
            "-0.00024459919175575566\n"
          ]
        },
        {
          "output_type": "stream",
          "name": "stderr",
          "text": [
            "/usr/local/lib/python3.7/dist-packages/statsmodels/tsa/base/tsa_model.py:539: ValueWarning: No frequency information was provided, so inferred frequency T will be used.\n",
            "  % freq, ValueWarning)\n",
            "/usr/local/lib/python3.7/dist-packages/statsmodels/tsa/base/tsa_model.py:539: ValueWarning: No frequency information was provided, so inferred frequency T will be used.\n",
            "  % freq, ValueWarning)\n"
          ]
        },
        {
          "output_type": "stream",
          "name": "stdout",
          "text": [
            "Iteration:      1,   Func. Count:      6,   Neg. LLF: -3325.600515941279\n",
            "Iteration:      2,   Func. Count:     22,   Neg. LLF: -3326.210000620863\n",
            "Iteration:      3,   Func. Count:     36,   Neg. LLF: -3326.231577975361\n",
            "Iteration:      4,   Func. Count:     52,   Neg. LLF: -3326.2292054987097\n",
            "Iteration:      5,   Func. Count:     66,   Neg. LLF: -3326.2316069833555\n",
            "Optimization terminated successfully.    (Exit mode 0)\n",
            "            Current function value: -3326.231615546097\n",
            "            Iterations: 9\n",
            "            Function evaluations: 66\n",
            "            Gradient evaluations: 5\n",
            "-0.0002464387061023873\n"
          ]
        },
        {
          "output_type": "stream",
          "name": "stderr",
          "text": [
            "/usr/local/lib/python3.7/dist-packages/statsmodels/tsa/base/tsa_model.py:539: ValueWarning: No frequency information was provided, so inferred frequency T will be used.\n",
            "  % freq, ValueWarning)\n",
            "/usr/local/lib/python3.7/dist-packages/statsmodels/tsa/base/tsa_model.py:539: ValueWarning: No frequency information was provided, so inferred frequency T will be used.\n",
            "  % freq, ValueWarning)\n",
            "/usr/local/lib/python3.7/dist-packages/statsmodels/base/model.py:606: ConvergenceWarning: Maximum Likelihood optimization failed to converge. Check mle_retvals\n",
            "  ConvergenceWarning)\n"
          ]
        },
        {
          "output_type": "stream",
          "name": "stdout",
          "text": [
            "Iteration:      1,   Func. Count:      6,   Neg. LLF: -3329.4484038952546\n",
            "Iteration:      2,   Func. Count:     22,   Neg. LLF: -3330.048596827675\n",
            "Iteration:      3,   Func. Count:     36,   Neg. LLF: -3330.0778724433203\n",
            "Iteration:      4,   Func. Count:     52,   Neg. LLF: -3330.0958646058025\n",
            "Optimization terminated successfully.    (Exit mode 0)\n",
            "            Current function value: -3330.0958731686233\n",
            "            Iterations: 8\n",
            "            Function evaluations: 52\n",
            "            Gradient evaluations: 4\n",
            "-0.0002451230013058869\n"
          ]
        },
        {
          "output_type": "stream",
          "name": "stderr",
          "text": [
            "/usr/local/lib/python3.7/dist-packages/statsmodels/tsa/base/tsa_model.py:539: ValueWarning: No frequency information was provided, so inferred frequency T will be used.\n",
            "  % freq, ValueWarning)\n",
            "/usr/local/lib/python3.7/dist-packages/statsmodels/tsa/base/tsa_model.py:539: ValueWarning: No frequency information was provided, so inferred frequency T will be used.\n",
            "  % freq, ValueWarning)\n"
          ]
        },
        {
          "output_type": "stream",
          "name": "stdout",
          "text": [
            "Iteration:      1,   Func. Count:      6,   Neg. LLF: -3333.2725394837744\n",
            "Iteration:      2,   Func. Count:     22,   Neg. LLF: -3333.8546873841283\n",
            "Iteration:      3,   Func. Count:     37,   Neg. LLF: -3333.93015888088\n",
            "Iteration:      4,   Func. Count:     53,   Neg. LLF: -3333.9280854781555\n",
            "Iteration:      5,   Func. Count:     69,   Neg. LLF: -3333.930156874555\n",
            "Iteration:      6,   Func. Count:     85,   Neg. LLF: -3333.9209949111\n",
            "Iteration:      7,   Func. Count:     99,   Neg. LLF: -3333.9293100086643\n",
            "Iteration:      8,   Func. Count:    112,   Neg. LLF: -3333.9293411086155\n",
            "Iteration:      9,   Func. Count:    128,   Neg. LLF: -3333.92938061303\n",
            "Iteration:     10,   Func. Count:    144,   Neg. LLF: -3333.9293348882184\n",
            "Iteration:     11,   Func. Count:    158,   Neg. LLF: -3333.9294028826266\n",
            "Iteration:     12,   Func. Count:    174,   Neg. LLF: -3333.9288074208685\n",
            "Optimization terminated successfully.    (Exit mode 0)\n",
            "            Current function value: -3333.9288159764837\n",
            "            Iterations: 16\n",
            "            Function evaluations: 174\n",
            "            Gradient evaluations: 12\n",
            "-0.00025001617916425183\n"
          ]
        },
        {
          "output_type": "stream",
          "name": "stderr",
          "text": [
            "/usr/local/lib/python3.7/dist-packages/statsmodels/tsa/base/tsa_model.py:539: ValueWarning: No frequency information was provided, so inferred frequency T will be used.\n",
            "  % freq, ValueWarning)\n",
            "/usr/local/lib/python3.7/dist-packages/statsmodels/tsa/base/tsa_model.py:539: ValueWarning: No frequency information was provided, so inferred frequency T will be used.\n",
            "  % freq, ValueWarning)\n",
            "/usr/local/lib/python3.7/dist-packages/statsmodels/base/model.py:606: ConvergenceWarning: Maximum Likelihood optimization failed to converge. Check mle_retvals\n",
            "  ConvergenceWarning)\n"
          ]
        },
        {
          "output_type": "stream",
          "name": "stdout",
          "text": [
            "Iteration:      1,   Func. Count:      6,   Neg. LLF: -3335.7783100600445\n",
            "Iteration:      2,   Func. Count:     22,   Neg. LLF: -3336.2943999520567\n",
            "Iteration:      3,   Func. Count:     38,   Neg. LLF: -3254.8127038564935\n",
            "Iteration:      4,   Func. Count:     54,   Neg. LLF: 1182.942327213023\n",
            "Iteration:      5,   Func. Count:     65,   Neg. LLF: -2140.477483926783\n",
            "Iteration:      6,   Func. Count:     75,   Neg. LLF: -2802.70356133883\n",
            "Iteration:      7,   Func. Count:     88,   Neg. LLF: -2802.7338891088784\n",
            "Optimization terminated successfully.    (Exit mode 0)\n",
            "            Current function value: -2802.733914590568\n",
            "            Iterations: 11\n",
            "            Function evaluations: 88\n",
            "            Gradient evaluations: 7\n",
            "-0.00027705816390711493\n"
          ]
        },
        {
          "output_type": "stream",
          "name": "stderr",
          "text": [
            "/usr/local/lib/python3.7/dist-packages/statsmodels/tsa/base/tsa_model.py:539: ValueWarning: No frequency information was provided, so inferred frequency T will be used.\n",
            "  % freq, ValueWarning)\n",
            "/usr/local/lib/python3.7/dist-packages/statsmodels/tsa/base/tsa_model.py:539: ValueWarning: No frequency information was provided, so inferred frequency T will be used.\n",
            "  % freq, ValueWarning)\n",
            "/usr/local/lib/python3.7/dist-packages/statsmodels/base/model.py:606: ConvergenceWarning: Maximum Likelihood optimization failed to converge. Check mle_retvals\n",
            "  ConvergenceWarning)\n"
          ]
        },
        {
          "output_type": "stream",
          "name": "stdout",
          "text": [
            "Iteration:      1,   Func. Count:      6,   Neg. LLF: -3339.5712784341454\n",
            "Iteration:      2,   Func. Count:     22,   Neg. LLF: -3340.1036792933346\n",
            "Iteration:      3,   Func. Count:     38,   Neg. LLF: -3278.2685233653037\n",
            "Iteration:      4,   Func. Count:     54,   Neg. LLF: 1048.187105848198\n",
            "Iteration:      5,   Func. Count:     65,   Neg. LLF: -1226.067427412253\n",
            "Iteration:      6,   Func. Count:     73,   Neg. LLF: -1668.4099327418512\n",
            "Iteration:      7,   Func. Count:     80,   Neg. LLF: -1802.7742410226604\n",
            "Iteration:      8,   Func. Count:     90,   Neg. LLF: -2446.9072353043853\n",
            "Iteration:      9,   Func. Count:    106,   Neg. LLF: -1511.6476055993667\n",
            "Iteration:     10,   Func. Count:    122,   Neg. LLF: -543.7666603667159\n",
            "Iteration:     11,   Func. Count:    129,   Neg. LLF: -570.2606958645388\n",
            "Iteration:     12,   Func. Count:    138,   Neg. LLF: -2600.500534208262\n",
            "Iteration:     13,   Func. Count:    154,   Neg. LLF: -2606.811796067101\n",
            "Optimization terminated successfully.    (Exit mode 0)\n",
            "            Current function value: -2606.8118090260114\n",
            "            Iterations: 17\n",
            "            Function evaluations: 154\n",
            "            Gradient evaluations: 13\n",
            "0.0019358964549624526\n"
          ]
        },
        {
          "output_type": "stream",
          "name": "stderr",
          "text": [
            "/usr/local/lib/python3.7/dist-packages/statsmodels/tsa/base/tsa_model.py:539: ValueWarning: No frequency information was provided, so inferred frequency T will be used.\n",
            "  % freq, ValueWarning)\n",
            "/usr/local/lib/python3.7/dist-packages/statsmodels/tsa/base/tsa_model.py:539: ValueWarning: No frequency information was provided, so inferred frequency T will be used.\n",
            "  % freq, ValueWarning)\n",
            "/usr/local/lib/python3.7/dist-packages/statsmodels/base/model.py:606: ConvergenceWarning: Maximum Likelihood optimization failed to converge. Check mle_retvals\n",
            "  ConvergenceWarning)\n"
          ]
        },
        {
          "output_type": "stream",
          "name": "stdout",
          "text": [
            "Iteration:      1,   Func. Count:      6,   Neg. LLF: -3352.5214018600896\n",
            "Iteration:      2,   Func. Count:     22,   Neg. LLF: -3352.9120679548396\n",
            "Iteration:      3,   Func. Count:     38,   Neg. LLF: -3352.9094196423207\n",
            "Iteration:      4,   Func. Count:     52,   Neg. LLF: -3352.9115655871296\n",
            "Iteration:      5,   Func. Count:     68,   Neg. LLF: -3352.8832042583817\n",
            "Iteration:      6,   Func. Count:     82,   Neg. LLF: -3352.9116070503296\n",
            "Iteration:      7,   Func. Count:     93,   Neg. LLF: -3352.9159255282475\n",
            "Iteration:      8,   Func. Count:    107,   Neg. LLF: -3352.9202383175057\n",
            "Optimization terminated successfully.    (Exit mode 0)\n",
            "            Current function value: -3352.920244768242\n",
            "            Iterations: 12\n",
            "            Function evaluations: 107\n",
            "            Gradient evaluations: 8\n",
            "-0.0001746831580005966\n"
          ]
        },
        {
          "output_type": "stream",
          "name": "stderr",
          "text": [
            "/usr/local/lib/python3.7/dist-packages/statsmodels/tsa/base/tsa_model.py:539: ValueWarning: No frequency information was provided, so inferred frequency T will be used.\n",
            "  % freq, ValueWarning)\n",
            "/usr/local/lib/python3.7/dist-packages/statsmodels/tsa/base/tsa_model.py:539: ValueWarning: No frequency information was provided, so inferred frequency T will be used.\n",
            "  % freq, ValueWarning)\n"
          ]
        },
        {
          "output_type": "stream",
          "name": "stdout",
          "text": [
            "Iteration:      1,   Func. Count:      6,   Neg. LLF: -3346.9944263459374\n",
            "Iteration:      2,   Func. Count:     22,   Neg. LLF: -3347.594627529863\n",
            "Iteration:      3,   Func. Count:     38,   Neg. LLF: -3340.932005690918\n",
            "Iteration:      4,   Func. Count:     54,   Neg. LLF: -788.0974726431991\n",
            "Iteration:      5,   Func. Count:     69,   Neg. LLF: -1541.8103037199255\n",
            "Iteration:      6,   Func. Count:     85,   Neg. LLF: -503.47248985574026\n",
            "Iteration:      7,   Func. Count:     91,   Neg. LLF: -876.4583769034813\n",
            "Iteration:      8,   Func. Count:    103,   Neg. LLF: -1615.0335320790048\n",
            "Iteration:      9,   Func. Count:    119,   Neg. LLF: 2414.8568460639244\n",
            "Iteration:     10,   Func. Count:    128,   Neg. LLF: 1989.9117176226478\n",
            "Iteration:     11,   Func. Count:    138,   Neg. LLF: 1044.2991316527446\n",
            "Iteration:     12,   Func. Count:    149,   Neg. LLF: -1136.7707884632223\n",
            "Iteration:     13,   Func. Count:    157,   Neg. LLF: -1988.135611079966\n",
            "Iteration:     14,   Func. Count:    164,   Neg. LLF: -2669.587118038635\n",
            "Iteration:     15,   Func. Count:    180,   Neg. LLF: 579.552970402354\n",
            "Iteration:     16,   Func. Count:    189,   Neg. LLF: -2555.5254886446555\n",
            "Iteration:     17,   Func. Count:    205,   Neg. LLF: -2567.7174886699004\n",
            "Optimization terminated successfully.    (Exit mode 0)\n",
            "            Current function value: -2567.7174996315725\n",
            "            Iterations: 21\n",
            "            Function evaluations: 205\n",
            "            Gradient evaluations: 17\n",
            "-0.00032872452679176415\n"
          ]
        },
        {
          "output_type": "stream",
          "name": "stderr",
          "text": [
            "/usr/local/lib/python3.7/dist-packages/statsmodels/tsa/base/tsa_model.py:539: ValueWarning: No frequency information was provided, so inferred frequency T will be used.\n",
            "  % freq, ValueWarning)\n",
            "/usr/local/lib/python3.7/dist-packages/statsmodels/tsa/base/tsa_model.py:539: ValueWarning: No frequency information was provided, so inferred frequency T will be used.\n",
            "  % freq, ValueWarning)\n",
            "/usr/local/lib/python3.7/dist-packages/statsmodels/base/model.py:606: ConvergenceWarning: Maximum Likelihood optimization failed to converge. Check mle_retvals\n",
            "  ConvergenceWarning)\n"
          ]
        },
        {
          "output_type": "stream",
          "name": "stdout",
          "text": [
            "Iteration:      1,   Func. Count:      6,   Neg. LLF: -3351.050138842108\n",
            "Iteration:      2,   Func. Count:     22,   Neg. LLF: -3351.6352597832915\n",
            "Iteration:      3,   Func. Count:     37,   Neg. LLF: -3351.7028350644932\n",
            "Iteration:      4,   Func. Count:     53,   Neg. LLF: -3351.6986389596814\n",
            "Iteration:      5,   Func. Count:     68,   Neg. LLF: -3351.7028362135816\n",
            "Optimization terminated successfully.    (Exit mode 0)\n",
            "            Current function value: -3351.7028422907133\n",
            "            Iterations: 6\n",
            "            Function evaluations: 79\n",
            "            Gradient evaluations: 5\n",
            "-0.00023653682137428483\n"
          ]
        },
        {
          "output_type": "stream",
          "name": "stderr",
          "text": [
            "/usr/local/lib/python3.7/dist-packages/statsmodels/tsa/base/tsa_model.py:539: ValueWarning: No frequency information was provided, so inferred frequency T will be used.\n",
            "  % freq, ValueWarning)\n",
            "/usr/local/lib/python3.7/dist-packages/statsmodels/tsa/base/tsa_model.py:539: ValueWarning: No frequency information was provided, so inferred frequency T will be used.\n",
            "  % freq, ValueWarning)\n",
            "/usr/local/lib/python3.7/dist-packages/statsmodels/base/model.py:606: ConvergenceWarning: Maximum Likelihood optimization failed to converge. Check mle_retvals\n",
            "  ConvergenceWarning)\n"
          ]
        },
        {
          "output_type": "stream",
          "name": "stdout",
          "text": [
            "Iteration:      1,   Func. Count:      6,   Neg. LLF: -3354.958706074747\n",
            "Iteration:      2,   Func. Count:     22,   Neg. LLF: -3355.554573578435\n",
            "Iteration:      3,   Func. Count:     38,   Neg. LLF: -3355.6129937930455\n",
            "Iteration:      4,   Func. Count:     54,   Neg. LLF: -3355.401348526826\n",
            "Iteration:      5,   Func. Count:     69,   Neg. LLF: -3355.5512089169\n",
            "Iteration:      6,   Func. Count:     84,   Neg. LLF: -3355.610828418602\n",
            "Optimization terminated successfully.    (Exit mode 0)\n",
            "            Current function value: -3355.610837006673\n",
            "            Iterations: 10\n",
            "            Function evaluations: 84\n",
            "            Gradient evaluations: 6\n",
            "-0.0002365861943879466\n"
          ]
        },
        {
          "output_type": "stream",
          "name": "stderr",
          "text": [
            "/usr/local/lib/python3.7/dist-packages/statsmodels/tsa/base/tsa_model.py:539: ValueWarning: No frequency information was provided, so inferred frequency T will be used.\n",
            "  % freq, ValueWarning)\n",
            "/usr/local/lib/python3.7/dist-packages/statsmodels/tsa/base/tsa_model.py:539: ValueWarning: No frequency information was provided, so inferred frequency T will be used.\n",
            "  % freq, ValueWarning)\n",
            "/usr/local/lib/python3.7/dist-packages/statsmodels/base/model.py:606: ConvergenceWarning: Maximum Likelihood optimization failed to converge. Check mle_retvals\n",
            "  ConvergenceWarning)\n"
          ]
        },
        {
          "output_type": "stream",
          "name": "stdout",
          "text": [
            "Iteration:      1,   Func. Count:      6,   Neg. LLF: -3359.000323288905\n",
            "Iteration:      2,   Func. Count:     22,   Neg. LLF: -3359.590659346498\n",
            "Iteration:      3,   Func. Count:     38,   Neg. LLF: -3286.0488542298826\n",
            "Iteration:      4,   Func. Count:     54,   Neg. LLF: 1144.7955141989755\n",
            "Iteration:      5,   Func. Count:     62,   Neg. LLF: 855.7132111269459\n",
            "Iteration:      6,   Func. Count:     73,   Neg. LLF: -1187.0511479841296\n",
            "Iteration:      7,   Func. Count:     81,   Neg. LLF: -2022.0269412777275\n",
            "Iteration:      8,   Func. Count:     91,   Neg. LLF: -2334.6957032127566\n",
            "Iteration:      9,   Func. Count:    107,   Neg. LLF: -1258.0979795469575\n",
            "Iteration:     10,   Func. Count:    123,   Neg. LLF: -1463.8483100906722\n",
            "Iteration:     11,   Func. Count:    129,   Neg. LLF: -1728.1141042767968\n",
            "Iteration:     12,   Func. Count:    136,   Neg. LLF: -1831.9854842723175\n",
            "Optimization terminated successfully.    (Exit mode 0)\n",
            "            Current function value: -1831.9854855302947\n",
            "            Iterations: 16\n",
            "            Function evaluations: 136\n",
            "            Gradient evaluations: 12\n",
            "0.031125913030158197\n"
          ]
        },
        {
          "output_type": "stream",
          "name": "stderr",
          "text": [
            "/usr/local/lib/python3.7/dist-packages/statsmodels/tsa/base/tsa_model.py:539: ValueWarning: No frequency information was provided, so inferred frequency T will be used.\n",
            "  % freq, ValueWarning)\n",
            "/usr/local/lib/python3.7/dist-packages/statsmodels/tsa/base/tsa_model.py:539: ValueWarning: No frequency information was provided, so inferred frequency T will be used.\n",
            "  % freq, ValueWarning)\n",
            "/usr/local/lib/python3.7/dist-packages/statsmodels/base/model.py:606: ConvergenceWarning: Maximum Likelihood optimization failed to converge. Check mle_retvals\n",
            "  ConvergenceWarning)\n"
          ]
        },
        {
          "output_type": "stream",
          "name": "stdout",
          "text": [
            "Iteration:      1,   Func. Count:      6,   Neg. LLF: -3364.129184965195\n",
            "Iteration:      2,   Func. Count:     22,   Neg. LLF: -3364.7318598863653\n",
            "Iteration:      3,   Func. Count:     38,   Neg. LLF: -3364.276816024934\n",
            "Iteration:      4,   Func. Count:     54,   Neg. LLF: -3364.7559339746767\n",
            "Iteration:      5,   Func. Count:     70,   Neg. LLF: -3364.5074549684387\n",
            "Iteration:      6,   Func. Count:     85,   Neg. LLF: -3364.6307780421334\n",
            "Iteration:      7,   Func. Count:    101,   Neg. LLF: -3364.5559394428333\n",
            "Iteration:      8,   Func. Count:    116,   Neg. LLF: -3364.739386857428\n",
            "Iteration:      9,   Func. Count:    132,   Neg. LLF: -3364.753455390759\n",
            "Optimization terminated successfully.    (Exit mode 0)\n",
            "            Current function value: -3364.7534638507923\n",
            "            Iterations: 13\n",
            "            Function evaluations: 132\n",
            "            Gradient evaluations: 9\n",
            "-0.00022751159155278073\n"
          ]
        },
        {
          "output_type": "stream",
          "name": "stderr",
          "text": [
            "/usr/local/lib/python3.7/dist-packages/statsmodels/tsa/base/tsa_model.py:539: ValueWarning: No frequency information was provided, so inferred frequency T will be used.\n",
            "  % freq, ValueWarning)\n",
            "/usr/local/lib/python3.7/dist-packages/statsmodels/tsa/base/tsa_model.py:539: ValueWarning: No frequency information was provided, so inferred frequency T will be used.\n",
            "  % freq, ValueWarning)\n"
          ]
        },
        {
          "output_type": "stream",
          "name": "stdout",
          "text": [
            "Iteration:      1,   Func. Count:      6,   Neg. LLF: -3367.0131005877765\n",
            "Iteration:      2,   Func. Count:     22,   Neg. LLF: -3367.591430447952\n",
            "Iteration:      3,   Func. Count:     38,   Neg. LLF: -3264.4033138135364\n",
            "Iteration:      4,   Func. Count:     54,   Neg. LLF: 1312.8668087881388\n",
            "Iteration:      5,   Func. Count:     64,   Neg. LLF: 832.4025060250973\n",
            "Iteration:      6,   Func. Count:     70,   Neg. LLF: 34.8808499349623\n",
            "Iteration:      7,   Func. Count:     77,   Neg. LLF: -2019.9144047960458\n",
            "Iteration:      8,   Func. Count:     85,   Neg. LLF: -2067.4875675834555\n",
            "Iteration:      9,   Func. Count:     98,   Neg. LLF: -2067.8605146217033\n",
            "Iteration:     10,   Func. Count:    106,   Neg. LLF: -2070.6851878627153\n",
            "Iteration:     11,   Func. Count:    114,   Neg. LLF: -2073.187490124169\n",
            "Iteration:     12,   Func. Count:    126,   Neg. LLF: -2073.242388219689\n",
            "Optimization terminated successfully.    (Exit mode 0)\n",
            "            Current function value: -2073.242395537771\n",
            "            Iterations: 16\n",
            "            Function evaluations: 126\n",
            "            Gradient evaluations: 12\n",
            "-0.00030815224208460487\n"
          ]
        },
        {
          "output_type": "stream",
          "name": "stderr",
          "text": [
            "/usr/local/lib/python3.7/dist-packages/statsmodels/tsa/base/tsa_model.py:539: ValueWarning: No frequency information was provided, so inferred frequency T will be used.\n",
            "  % freq, ValueWarning)\n",
            "/usr/local/lib/python3.7/dist-packages/statsmodels/tsa/base/tsa_model.py:539: ValueWarning: No frequency information was provided, so inferred frequency T will be used.\n",
            "  % freq, ValueWarning)\n"
          ]
        },
        {
          "output_type": "stream",
          "name": "stdout",
          "text": [
            "Iteration:      1,   Func. Count:      6,   Neg. LLF: -3370.659587861138\n",
            "Iteration:      2,   Func. Count:     22,   Neg. LLF: -3371.236841988921\n",
            "Iteration:      3,   Func. Count:     38,   Neg. LLF: -3325.1562722234344\n",
            "Iteration:      4,   Func. Count:     54,   Neg. LLF: 3932.944998791452\n",
            "Iteration:      5,   Func. Count:     63,   Neg. LLF: 26.741320133439455\n",
            "Iteration:      6,   Func. Count:     76,   Neg. LLF: -1837.9834593031583\n",
            "Iteration:      7,   Func. Count:     84,   Neg. LLF: -3006.721751637384\n",
            "Iteration:      8,   Func. Count:    100,   Neg. LLF: -3330.75425067206\n",
            "Iteration:      9,   Func. Count:    114,   Neg. LLF: -3330.7589311032216\n",
            "Iteration:     10,   Func. Count:    130,   Neg. LLF: -3330.7566176235896\n",
            "Iteration:     11,   Func. Count:    144,   Neg. LLF: -3330.7581376851954\n",
            "Optimization terminated successfully.    (Exit mode 0)\n",
            "            Current function value: -3330.7581468422864\n",
            "            Iterations: 15\n",
            "            Function evaluations: 144\n",
            "            Gradient evaluations: 11\n",
            "-0.00020038114166900478\n"
          ]
        },
        {
          "output_type": "stream",
          "name": "stderr",
          "text": [
            "/usr/local/lib/python3.7/dist-packages/statsmodels/tsa/base/tsa_model.py:539: ValueWarning: No frequency information was provided, so inferred frequency T will be used.\n",
            "  % freq, ValueWarning)\n",
            "/usr/local/lib/python3.7/dist-packages/statsmodels/tsa/base/tsa_model.py:539: ValueWarning: No frequency information was provided, so inferred frequency T will be used.\n",
            "  % freq, ValueWarning)\n"
          ]
        },
        {
          "output_type": "stream",
          "name": "stdout",
          "text": [
            "Iteration:      1,   Func. Count:      6,   Neg. LLF: -3375.6749495141166\n",
            "Iteration:      2,   Func. Count:     22,   Neg. LLF: -3376.2676892623663\n",
            "Iteration:      3,   Func. Count:     36,   Neg. LLF: -3376.2980890949875\n",
            "Iteration:      4,   Func. Count:     50,   Neg. LLF: -3376.3122125192413\n",
            "Iteration:      5,   Func. Count:     66,   Neg. LLF: -3376.310740234371\n",
            "Iteration:      6,   Func. Count:     81,   Neg. LLF: -3376.311466489821\n",
            "Iteration:      7,   Func. Count:     95,   Neg. LLF: -3376.3115978894502\n",
            "Optimization terminated successfully.    (Exit mode 0)\n",
            "            Current function value: -3376.3116064170054\n",
            "            Iterations: 11\n",
            "            Function evaluations: 95\n",
            "            Gradient evaluations: 7\n",
            "-0.00023442491015916806\n"
          ]
        },
        {
          "output_type": "stream",
          "name": "stderr",
          "text": [
            "/usr/local/lib/python3.7/dist-packages/statsmodels/tsa/base/tsa_model.py:539: ValueWarning: No frequency information was provided, so inferred frequency T will be used.\n",
            "  % freq, ValueWarning)\n",
            "/usr/local/lib/python3.7/dist-packages/statsmodels/tsa/base/tsa_model.py:539: ValueWarning: No frequency information was provided, so inferred frequency T will be used.\n",
            "  % freq, ValueWarning)\n"
          ]
        },
        {
          "output_type": "stream",
          "name": "stdout",
          "text": [
            "Iteration:      1,   Func. Count:      6,   Neg. LLF: -3384.3542493929863\n",
            "Iteration:      2,   Func. Count:     22,   Neg. LLF: -3384.844524943347\n",
            "Iteration:      3,   Func. Count:     38,   Neg. LLF: -3384.7423846001325\n",
            "Iteration:      4,   Func. Count:     53,   Neg. LLF: -3384.8438600505524\n",
            "Optimization terminated successfully.    (Exit mode 0)\n",
            "            Current function value: -3384.843867728751\n",
            "            Iterations: 8\n",
            "            Function evaluations: 53\n",
            "            Gradient evaluations: 4\n",
            "-0.0001975584277243513\n"
          ]
        },
        {
          "output_type": "stream",
          "name": "stderr",
          "text": [
            "/usr/local/lib/python3.7/dist-packages/statsmodels/tsa/base/tsa_model.py:539: ValueWarning: No frequency information was provided, so inferred frequency T will be used.\n",
            "  % freq, ValueWarning)\n",
            "/usr/local/lib/python3.7/dist-packages/statsmodels/tsa/base/tsa_model.py:539: ValueWarning: No frequency information was provided, so inferred frequency T will be used.\n",
            "  % freq, ValueWarning)\n",
            "/usr/local/lib/python3.7/dist-packages/statsmodels/base/model.py:606: ConvergenceWarning: Maximum Likelihood optimization failed to converge. Check mle_retvals\n",
            "  ConvergenceWarning)\n"
          ]
        },
        {
          "output_type": "stream",
          "name": "stdout",
          "text": [
            "Iteration:      1,   Func. Count:      6,   Neg. LLF: -3382.442421947358\n",
            "Iteration:      2,   Func. Count:     22,   Neg. LLF: -3383.012510579697\n",
            "Iteration:      3,   Func. Count:     38,   Neg. LLF: -3325.516251261125\n",
            "Iteration:      4,   Func. Count:     54,   Neg. LLF: 1033.1849138951175\n",
            "Iteration:      5,   Func. Count:     63,   Neg. LLF: 710.1513751497978\n",
            "Iteration:      6,   Func. Count:     74,   Neg. LLF: 33.45499705929056\n",
            "Iteration:      7,   Func. Count:     81,   Neg. LLF: -2143.2669169672617\n",
            "Iteration:      8,   Func. Count:     92,   Neg. LLF: -2147.3792490594824\n",
            "Iteration:      9,   Func. Count:    102,   Neg. LLF: -2148.142751893646\n",
            "Iteration:     10,   Func. Count:    114,   Neg. LLF: -2148.1679302689954\n",
            "Iteration:     11,   Func. Count:    127,   Neg. LLF: -2148.167931724044\n",
            "Optimization terminated successfully.    (Exit mode 0)\n",
            "            Current function value: -2148.1679431794846\n",
            "            Iterations: 15\n",
            "            Function evaluations: 127\n",
            "            Gradient evaluations: 11\n",
            "-0.000281218267173626\n"
          ]
        },
        {
          "output_type": "stream",
          "name": "stderr",
          "text": [
            "/usr/local/lib/python3.7/dist-packages/statsmodels/tsa/base/tsa_model.py:539: ValueWarning: No frequency information was provided, so inferred frequency T will be used.\n",
            "  % freq, ValueWarning)\n",
            "/usr/local/lib/python3.7/dist-packages/statsmodels/tsa/base/tsa_model.py:539: ValueWarning: No frequency information was provided, so inferred frequency T will be used.\n",
            "  % freq, ValueWarning)\n",
            "/usr/local/lib/python3.7/dist-packages/statsmodels/base/model.py:606: ConvergenceWarning: Maximum Likelihood optimization failed to converge. Check mle_retvals\n",
            "  ConvergenceWarning)\n"
          ]
        },
        {
          "output_type": "stream",
          "name": "stdout",
          "text": [
            "Iteration:      1,   Func. Count:      6,   Neg. LLF: -3386.3682474173393\n",
            "Iteration:      2,   Func. Count:     22,   Neg. LLF: -3386.943796730743\n",
            "Iteration:      3,   Func. Count:     37,   Neg. LLF: -3387.018255667531\n",
            "Iteration:      4,   Func. Count:     48,   Neg. LLF: -3387.0216162654433\n",
            "Iteration:      5,   Func. Count:     64,   Neg. LLF: -3386.7707205780625\n",
            "Iteration:      6,   Func. Count:     80,   Neg. LLF: -3287.1455521264215\n",
            "Iteration:      7,   Func. Count:     96,   Neg. LLF: 4346.748538296421\n",
            "Iteration:      8,   Func. Count:    104,   Neg. LLF: 3163.3770082880715\n",
            "Iteration:      9,   Func. Count:    113,   Neg. LLF: 167.79562349343422\n",
            "Iteration:     10,   Func. Count:    121,   Neg. LLF: -1158.5158031310648\n",
            "Iteration:     11,   Func. Count:    128,   Neg. LLF: -1643.3575270891756\n",
            "Iteration:     12,   Func. Count:    135,   Neg. LLF: -2097.5702633535475\n",
            "Iteration:     13,   Func. Count:    146,   Neg. LLF: -2097.731793914056\n",
            "Iteration:     14,   Func. Count:    155,   Neg. LLF: -2098.8634649716832\n",
            "Iteration:     15,   Func. Count:    162,   Neg. LLF: -2156.9337315480043\n",
            "Optimization terminated successfully.    (Exit mode 0)\n",
            "            Current function value: -2156.9337400082622\n",
            "            Iterations: 19\n",
            "            Function evaluations: 162\n",
            "            Gradient evaluations: 15\n",
            "0.0033575739011857493\n"
          ]
        },
        {
          "output_type": "stream",
          "name": "stderr",
          "text": [
            "/usr/local/lib/python3.7/dist-packages/statsmodels/tsa/base/tsa_model.py:539: ValueWarning: No frequency information was provided, so inferred frequency T will be used.\n",
            "  % freq, ValueWarning)\n",
            "/usr/local/lib/python3.7/dist-packages/statsmodels/tsa/base/tsa_model.py:539: ValueWarning: No frequency information was provided, so inferred frequency T will be used.\n",
            "  % freq, ValueWarning)\n",
            "/usr/local/lib/python3.7/dist-packages/statsmodels/base/model.py:606: ConvergenceWarning: Maximum Likelihood optimization failed to converge. Check mle_retvals\n",
            "  ConvergenceWarning)\n"
          ]
        },
        {
          "output_type": "stream",
          "name": "stdout",
          "text": [
            "Iteration:      1,   Func. Count:      6,   Neg. LLF: -3390.5793646515385\n",
            "Iteration:      2,   Func. Count:     22,   Neg. LLF: -3391.1652401692445\n",
            "Iteration:      3,   Func. Count:     38,   Neg. LLF: -3378.394873253661\n",
            "Iteration:      4,   Func. Count:     54,   Neg. LLF: -36.571095736803386\n",
            "Iteration:      5,   Func. Count:     67,   Neg. LLF: -801.9581692488139\n",
            "Iteration:      6,   Func. Count:     74,   Neg. LLF: -2266.6982982600794\n",
            "Iteration:      7,   Func. Count:     86,   Neg. LLF: -2266.801956231522\n",
            "Iteration:      8,   Func. Count:     95,   Neg. LLF: -2267.1817475252797\n",
            "Iteration:      9,   Func. Count:    108,   Neg. LLF: -2267.569214964923\n",
            "Iteration:     10,   Func. Count:    119,   Neg. LLF: -2267.591153231965\n",
            "Iteration:     11,   Func. Count:    128,   Neg. LLF: -2268.023827434952\n",
            "Optimization terminated successfully.    (Exit mode 0)\n",
            "            Current function value: -2268.0238392548627\n",
            "            Iterations: 15\n",
            "            Function evaluations: 128\n",
            "            Gradient evaluations: 11\n",
            "0.0007015645267253343\n"
          ]
        },
        {
          "output_type": "stream",
          "name": "stderr",
          "text": [
            "/usr/local/lib/python3.7/dist-packages/statsmodels/tsa/base/tsa_model.py:539: ValueWarning: No frequency information was provided, so inferred frequency T will be used.\n",
            "  % freq, ValueWarning)\n",
            "/usr/local/lib/python3.7/dist-packages/statsmodels/tsa/base/tsa_model.py:539: ValueWarning: No frequency information was provided, so inferred frequency T will be used.\n",
            "  % freq, ValueWarning)\n",
            "/usr/local/lib/python3.7/dist-packages/statsmodels/base/model.py:606: ConvergenceWarning: Maximum Likelihood optimization failed to converge. Check mle_retvals\n",
            "  ConvergenceWarning)\n"
          ]
        },
        {
          "output_type": "stream",
          "name": "stdout",
          "text": [
            "Iteration:      1,   Func. Count:      6,   Neg. LLF: -3394.301338643533\n",
            "Iteration:      2,   Func. Count:     22,   Neg. LLF: -3394.8905176915696\n",
            "Iteration:      3,   Func. Count:     37,   Neg. LLF: -3394.9452823956117\n",
            "Iteration:      4,   Func. Count:     48,   Neg. LLF: -3394.958190496256\n",
            "Iteration:      5,   Func. Count:     62,   Neg. LLF: -3394.971087757488\n",
            "Iteration:      6,   Func. Count:     73,   Neg. LLF: -3394.976429204772\n",
            "Iteration:      7,   Func. Count:     89,   Neg. LLF: -3394.007477202301\n",
            "Iteration:      8,   Func. Count:    105,   Neg. LLF: -1183.47272621525\n",
            "Iteration:      9,   Func. Count:    117,   Neg. LLF: -2662.7291000058544\n",
            "Iteration:     10,   Func. Count:    133,   Neg. LLF: -914.5496824369848\n",
            "Iteration:     11,   Func. Count:    142,   Neg. LLF: -1287.3674505607476\n",
            "Iteration:     12,   Func. Count:    148,   Neg. LLF: -2026.8666700386184\n",
            "Iteration:     13,   Func. Count:    158,   Neg. LLF: -2061.3588055321216\n",
            "Optimization terminated successfully.    (Exit mode 0)\n",
            "            Current function value: -2061.358812874354\n",
            "            Iterations: 17\n",
            "            Function evaluations: 158\n",
            "            Gradient evaluations: 13\n",
            "0.0008977944878271506\n"
          ]
        },
        {
          "output_type": "stream",
          "name": "stderr",
          "text": [
            "/usr/local/lib/python3.7/dist-packages/statsmodels/tsa/base/tsa_model.py:539: ValueWarning: No frequency information was provided, so inferred frequency T will be used.\n",
            "  % freq, ValueWarning)\n",
            "/usr/local/lib/python3.7/dist-packages/statsmodels/tsa/base/tsa_model.py:539: ValueWarning: No frequency information was provided, so inferred frequency T will be used.\n",
            "  % freq, ValueWarning)\n",
            "/usr/local/lib/python3.7/dist-packages/statsmodels/base/model.py:606: ConvergenceWarning: Maximum Likelihood optimization failed to converge. Check mle_retvals\n",
            "  ConvergenceWarning)\n"
          ]
        },
        {
          "output_type": "stream",
          "name": "stdout",
          "text": [
            "Iteration:      1,   Func. Count:      6,   Neg. LLF: -3397.715611461398\n",
            "Iteration:      2,   Func. Count:     22,   Neg. LLF: -3398.29948462923\n",
            "Iteration:      3,   Func. Count:     38,   Neg. LLF: -3306.4681499328817\n",
            "Iteration:      4,   Func. Count:     54,   Neg. LLF: 1283.2871386055344\n",
            "Iteration:      5,   Func. Count:     64,   Neg. LLF: 953.3011271644447\n",
            "Iteration:      6,   Func. Count:     70,   Neg. LLF: -458.5845247434934\n",
            "Iteration:      7,   Func. Count:     77,   Neg. LLF: -814.8447615651147\n",
            "Iteration:      8,   Func. Count:     84,   Neg. LLF: -960.8393205357437\n",
            "Iteration:      9,   Func. Count:     93,   Neg. LLF: -1966.3620479537888\n",
            "Iteration:     10,   Func. Count:    109,   Neg. LLF: -1370.5666648994836\n",
            "Iteration:     11,   Func. Count:    116,   Neg. LLF: -1664.8852512658523\n",
            "Iteration:     12,   Func. Count:    132,   Neg. LLF: -742.5500721868214\n",
            "Iteration:     13,   Func. Count:    139,   Neg. LLF: -800.9162784933892\n",
            "Optimization terminated successfully.    (Exit mode 0)\n",
            "            Current function value: -800.9162767414765\n",
            "            Iterations: 17\n",
            "            Function evaluations: 139\n",
            "            Gradient evaluations: 13\n",
            "-0.10328647248591186\n"
          ]
        },
        {
          "output_type": "stream",
          "name": "stderr",
          "text": [
            "/usr/local/lib/python3.7/dist-packages/statsmodels/tsa/base/tsa_model.py:539: ValueWarning: No frequency information was provided, so inferred frequency T will be used.\n",
            "  % freq, ValueWarning)\n",
            "/usr/local/lib/python3.7/dist-packages/statsmodels/tsa/base/tsa_model.py:539: ValueWarning: No frequency information was provided, so inferred frequency T will be used.\n",
            "  % freq, ValueWarning)\n",
            "/usr/local/lib/python3.7/dist-packages/statsmodels/base/model.py:606: ConvergenceWarning: Maximum Likelihood optimization failed to converge. Check mle_retvals\n",
            "  ConvergenceWarning)\n"
          ]
        },
        {
          "output_type": "stream",
          "name": "stdout",
          "text": [
            "Iteration:      1,   Func. Count:      6,   Neg. LLF: -3401.4224464724202\n",
            "Iteration:      2,   Func. Count:     22,   Neg. LLF: -3402.0030733613676\n",
            "Iteration:      3,   Func. Count:     37,   Neg. LLF: -3402.0722234115433\n",
            "Iteration:      4,   Func. Count:     48,   Neg. LLF: -3402.077504515909\n",
            "Iteration:      5,   Func. Count:     62,   Neg. LLF: -3402.082788048521\n",
            "Optimization terminated successfully.    (Exit mode 0)\n",
            "            Current function value: -3402.082796783461\n",
            "            Iterations: 9\n",
            "            Function evaluations: 62\n",
            "            Gradient evaluations: 5\n",
            "-0.00022626675504209038\n"
          ]
        },
        {
          "output_type": "stream",
          "name": "stderr",
          "text": [
            "/usr/local/lib/python3.7/dist-packages/statsmodels/tsa/base/tsa_model.py:539: ValueWarning: No frequency information was provided, so inferred frequency T will be used.\n",
            "  % freq, ValueWarning)\n",
            "/usr/local/lib/python3.7/dist-packages/statsmodels/tsa/base/tsa_model.py:539: ValueWarning: No frequency information was provided, so inferred frequency T will be used.\n",
            "  % freq, ValueWarning)\n"
          ]
        },
        {
          "output_type": "stream",
          "name": "stdout",
          "text": [
            "Iteration:      1,   Func. Count:      6,   Neg. LLF: -3404.5167454112498\n",
            "Iteration:      2,   Func. Count:     22,   Neg. LLF: -3405.0695746248707\n",
            "Iteration:      3,   Func. Count:     38,   Neg. LLF: -3392.796275100372\n",
            "Iteration:      4,   Func. Count:     54,   Neg. LLF: -75.68767088467732\n",
            "Iteration:      5,   Func. Count:     69,   Neg. LLF: -3053.648355111425\n",
            "Iteration:      6,   Func. Count:     84,   Neg. LLF: -3405.4025980191027\n",
            "Iteration:      7,   Func. Count:     98,   Neg. LLF: -3405.413536525037\n",
            "Iteration:      8,   Func. Count:    114,   Neg. LLF: -3405.4126004770183\n",
            "Iteration:      9,   Func. Count:    128,   Neg. LLF: -3405.412897893175\n",
            "Optimization terminated successfully.    (Exit mode 0)\n",
            "            Current function value: -3405.4129065042234\n",
            "            Iterations: 13\n",
            "            Function evaluations: 128\n",
            "            Gradient evaluations: 9\n",
            "-0.00022014140719538896\n"
          ]
        },
        {
          "output_type": "stream",
          "name": "stderr",
          "text": [
            "/usr/local/lib/python3.7/dist-packages/statsmodels/tsa/base/tsa_model.py:539: ValueWarning: No frequency information was provided, so inferred frequency T will be used.\n",
            "  % freq, ValueWarning)\n",
            "/usr/local/lib/python3.7/dist-packages/statsmodels/tsa/base/tsa_model.py:539: ValueWarning: No frequency information was provided, so inferred frequency T will be used.\n",
            "  % freq, ValueWarning)\n",
            "/usr/local/lib/python3.7/dist-packages/statsmodels/base/model.py:606: ConvergenceWarning: Maximum Likelihood optimization failed to converge. Check mle_retvals\n",
            "  ConvergenceWarning)\n"
          ]
        },
        {
          "output_type": "stream",
          "name": "stdout",
          "text": [
            "Iteration:      1,   Func. Count:      6,   Neg. LLF: -3408.7687677362055\n",
            "Iteration:      2,   Func. Count:     22,   Neg. LLF: -3409.3566247724457\n",
            "Iteration:      3,   Func. Count:     38,   Neg. LLF: -3392.896490455502\n",
            "Iteration:      4,   Func. Count:     54,   Neg. LLF: 2264.8278496425937\n",
            "Iteration:      5,   Func. Count:     60,   Neg. LLF: 232.32855083289365\n",
            "Iteration:      6,   Func. Count:     73,   Neg. LLF: -2076.94040409408\n",
            "Iteration:      7,   Func. Count:     85,   Neg. LLF: -2076.9494246148483\n",
            "Iteration:      8,   Func. Count:     92,   Neg. LLF: -2123.409022088553\n",
            "Iteration:      9,   Func. Count:    105,   Neg. LLF: -2124.2523874576063\n",
            "Optimization terminated successfully.    (Exit mode 0)\n",
            "            Current function value: -2124.252394820412\n",
            "            Iterations: 12\n",
            "            Function evaluations: 114\n",
            "            Gradient evaluations: 9\n",
            "-0.0002989976448866257\n"
          ]
        },
        {
          "output_type": "stream",
          "name": "stderr",
          "text": [
            "/usr/local/lib/python3.7/dist-packages/statsmodels/tsa/base/tsa_model.py:539: ValueWarning: No frequency information was provided, so inferred frequency T will be used.\n",
            "  % freq, ValueWarning)\n",
            "/usr/local/lib/python3.7/dist-packages/statsmodels/tsa/base/tsa_model.py:539: ValueWarning: No frequency information was provided, so inferred frequency T will be used.\n",
            "  % freq, ValueWarning)\n"
          ]
        },
        {
          "output_type": "stream",
          "name": "stdout",
          "text": [
            "Iteration:      1,   Func. Count:      6,   Neg. LLF: -3412.1574899336756\n",
            "Iteration:      2,   Func. Count:     22,   Neg. LLF: -3412.745809679066\n",
            "Iteration:      3,   Func. Count:     38,   Neg. LLF: -3412.775044623666\n",
            "Iteration:      4,   Func. Count:     53,   Neg. LLF: -3412.7848552821615\n",
            "Optimization terminated successfully.    (Exit mode 0)\n",
            "            Current function value: -3412.7848639224458\n",
            "            Iterations: 8\n",
            "            Function evaluations: 53\n",
            "            Gradient evaluations: 4\n",
            "-0.00022097378038392183\n"
          ]
        },
        {
          "output_type": "stream",
          "name": "stderr",
          "text": [
            "/usr/local/lib/python3.7/dist-packages/statsmodels/tsa/base/tsa_model.py:539: ValueWarning: No frequency information was provided, so inferred frequency T will be used.\n",
            "  % freq, ValueWarning)\n",
            "/usr/local/lib/python3.7/dist-packages/statsmodels/tsa/base/tsa_model.py:539: ValueWarning: No frequency information was provided, so inferred frequency T will be used.\n",
            "  % freq, ValueWarning)\n"
          ]
        },
        {
          "output_type": "stream",
          "name": "stdout",
          "text": [
            "Iteration:      1,   Func. Count:      6,   Neg. LLF: -3423.0503759438598\n",
            "Iteration:      2,   Func. Count:     22,   Neg. LLF: -3423.5058794569477\n",
            "Iteration:      3,   Func. Count:     38,   Neg. LLF: -3423.461091378167\n",
            "Iteration:      4,   Func. Count:     52,   Neg. LLF: -3423.4996146822623\n",
            "Iteration:      5,   Func. Count:     66,   Neg. LLF: -3423.5044225619095\n",
            "Optimization terminated successfully.    (Exit mode 0)\n",
            "            Current function value: -3423.5044299539113\n",
            "            Iterations: 9\n",
            "            Function evaluations: 66\n",
            "            Gradient evaluations: 5\n",
            "-0.00018478453720576494\n"
          ]
        },
        {
          "output_type": "stream",
          "name": "stderr",
          "text": [
            "/usr/local/lib/python3.7/dist-packages/statsmodels/tsa/base/tsa_model.py:539: ValueWarning: No frequency information was provided, so inferred frequency T will be used.\n",
            "  % freq, ValueWarning)\n",
            "/usr/local/lib/python3.7/dist-packages/statsmodels/tsa/base/tsa_model.py:539: ValueWarning: No frequency information was provided, so inferred frequency T will be used.\n",
            "  % freq, ValueWarning)\n"
          ]
        },
        {
          "output_type": "stream",
          "name": "stdout",
          "text": [
            "Iteration:      1,   Func. Count:      6,   Neg. LLF: -3419.752328300173\n",
            "Iteration:      2,   Func. Count:     22,   Neg. LLF: -3420.3448264245453\n",
            "Iteration:      3,   Func. Count:     36,   Neg. LLF: -3420.3802989949063\n",
            "Iteration:      4,   Func. Count:     50,   Neg. LLF: -3420.3844839370677\n",
            "Iteration:      5,   Func. Count:     66,   Neg. LLF: -3420.381553530592\n",
            "Iteration:      6,   Func. Count:     82,   Neg. LLF: -3420.384482034825\n",
            "Iteration:      7,   Func. Count:     98,   Neg. LLF: -3420.3842740690625\n",
            "Iteration:      8,   Func. Count:    114,   Neg. LLF: -3420.3827841236807\n",
            "Iteration:      9,   Func. Count:    128,   Neg. LLF: -3420.3845034809087\n",
            "Optimization terminated successfully.    (Exit mode 0)\n",
            "            Current function value: -3420.3845120795913\n",
            "            Iterations: 12\n",
            "            Function evaluations: 139\n",
            "            Gradient evaluations: 9\n",
            "-0.0002246464794471582\n"
          ]
        },
        {
          "output_type": "stream",
          "name": "stderr",
          "text": [
            "/usr/local/lib/python3.7/dist-packages/statsmodels/tsa/base/tsa_model.py:539: ValueWarning: No frequency information was provided, so inferred frequency T will be used.\n",
            "  % freq, ValueWarning)\n",
            "/usr/local/lib/python3.7/dist-packages/statsmodels/tsa/base/tsa_model.py:539: ValueWarning: No frequency information was provided, so inferred frequency T will be used.\n",
            "  % freq, ValueWarning)\n",
            "/usr/local/lib/python3.7/dist-packages/statsmodels/base/model.py:606: ConvergenceWarning: Maximum Likelihood optimization failed to converge. Check mle_retvals\n",
            "  ConvergenceWarning)\n"
          ]
        },
        {
          "output_type": "stream",
          "name": "stdout",
          "text": [
            "Iteration:      1,   Func. Count:      6,   Neg. LLF: -3423.8864926033093\n",
            "Iteration:      2,   Func. Count:     22,   Neg. LLF: -3424.475705967078\n",
            "Iteration:      3,   Func. Count:     38,   Neg. LLF: -3357.148564469318\n",
            "Iteration:      4,   Func. Count:     54,   Neg. LLF: 1148.3703094674204\n",
            "Iteration:      5,   Func. Count:     65,   Neg. LLF: -1850.890582273932\n",
            "Iteration:      6,   Func. Count:     74,   Neg. LLF: -2565.0945803075665\n",
            "Iteration:      7,   Func. Count:     90,   Neg. LLF: 1059.9097393264556\n",
            "Iteration:      8,   Func. Count:    101,   Neg. LLF: -2347.371133321611\n",
            "Iteration:      9,   Func. Count:    117,   Neg. LLF: 1410.61914410095\n",
            "Optimization terminated successfully.    (Exit mode 0)\n",
            "            Current function value: 1410.6191476097597\n",
            "            Iterations: 13\n",
            "            Function evaluations: 117\n",
            "            Gradient evaluations: 9\n",
            "-0.9217347569863665\n"
          ]
        },
        {
          "output_type": "stream",
          "name": "stderr",
          "text": [
            "/usr/local/lib/python3.7/dist-packages/statsmodels/tsa/base/tsa_model.py:539: ValueWarning: No frequency information was provided, so inferred frequency T will be used.\n",
            "  % freq, ValueWarning)\n",
            "/usr/local/lib/python3.7/dist-packages/statsmodels/tsa/base/tsa_model.py:539: ValueWarning: No frequency information was provided, so inferred frequency T will be used.\n",
            "  % freq, ValueWarning)\n"
          ]
        },
        {
          "output_type": "stream",
          "name": "stdout",
          "text": [
            "Iteration:      1,   Func. Count:      6,   Neg. LLF: -3431.158102203736\n",
            "Iteration:      2,   Func. Count:     22,   Neg. LLF: -3431.728597449124\n",
            "Iteration:      3,   Func. Count:     36,   Neg. LLF: -3431.72868035595\n",
            "Optimization terminated successfully.    (Exit mode 0)\n",
            "            Current function value: -3431.728688641525\n",
            "            Iterations: 7\n",
            "            Function evaluations: 36\n",
            "            Gradient evaluations: 3\n",
            "-0.00021715871797193097\n"
          ]
        },
        {
          "output_type": "stream",
          "name": "stderr",
          "text": [
            "/usr/local/lib/python3.7/dist-packages/statsmodels/tsa/base/tsa_model.py:539: ValueWarning: No frequency information was provided, so inferred frequency T will be used.\n",
            "  % freq, ValueWarning)\n",
            "/usr/local/lib/python3.7/dist-packages/statsmodels/tsa/base/tsa_model.py:539: ValueWarning: No frequency information was provided, so inferred frequency T will be used.\n",
            "  % freq, ValueWarning)\n"
          ]
        },
        {
          "output_type": "stream",
          "name": "stdout",
          "text": [
            "Iteration:      1,   Func. Count:      6,   Neg. LLF: -3432.132018227252\n",
            "Iteration:      2,   Func. Count:     22,   Neg. LLF: -3432.694108776766\n",
            "Iteration:      3,   Func. Count:     37,   Neg. LLF: -3432.776112673189\n",
            "Iteration:      4,   Func. Count:     53,   Neg. LLF: -3432.727771740599\n",
            "Iteration:      5,   Func. Count:     67,   Neg. LLF: -3432.759440307503\n",
            "Iteration:      6,   Func. Count:     83,   Neg. LLF: -3432.774771990021\n",
            "Optimization terminated successfully.    (Exit mode 0)\n",
            "            Current function value: -3432.7747807947976\n",
            "            Iterations: 10\n",
            "            Function evaluations: 83\n",
            "            Gradient evaluations: 6\n",
            "-0.00023093822668422977\n"
          ]
        },
        {
          "output_type": "stream",
          "name": "stderr",
          "text": [
            "/usr/local/lib/python3.7/dist-packages/statsmodels/tsa/base/tsa_model.py:539: ValueWarning: No frequency information was provided, so inferred frequency T will be used.\n",
            "  % freq, ValueWarning)\n",
            "/usr/local/lib/python3.7/dist-packages/statsmodels/tsa/base/tsa_model.py:539: ValueWarning: No frequency information was provided, so inferred frequency T will be used.\n",
            "  % freq, ValueWarning)\n"
          ]
        },
        {
          "output_type": "stream",
          "name": "stdout",
          "text": [
            "Iteration:      1,   Func. Count:      6,   Neg. LLF: -3436.654002993651\n",
            "Iteration:      2,   Func. Count:     22,   Neg. LLF: -3437.223473401167\n",
            "Iteration:      3,   Func. Count:     38,   Neg. LLF: -3345.0586044103675\n",
            "Iteration:      4,   Func. Count:     54,   Neg. LLF: 1297.1434115089678\n",
            "Iteration:      5,   Func. Count:     64,   Neg. LLF: 972.5282817464479\n",
            "Iteration:      6,   Func. Count:     70,   Neg. LLF: -495.8257551286892\n",
            "Iteration:      7,   Func. Count:     77,   Neg. LLF: -762.0298837807647\n",
            "Iteration:      8,   Func. Count:     84,   Neg. LLF: -896.0914209655665\n",
            "Iteration:      9,   Func. Count:     93,   Neg. LLF: -1547.851331686907\n",
            "Iteration:     10,   Func. Count:    100,   Neg. LLF: -1703.089474680667\n",
            "Iteration:     11,   Func. Count:    116,   Neg. LLF: -670.5430226276582\n",
            "Iteration:     12,   Func. Count:    123,   Neg. LLF: -749.8529280445634\n",
            "Iteration:     13,   Func. Count:    130,   Neg. LLF: -2436.135658032241\n",
            "Iteration:     14,   Func. Count:    144,   Neg. LLF: -2438.8288306241475\n",
            "Iteration:     15,   Func. Count:    155,   Neg. LLF: -2439.223201862149\n",
            "Optimization terminated successfully.    (Exit mode 0)\n",
            "            Current function value: -2439.22320916684\n",
            "            Iterations: 19\n",
            "            Function evaluations: 155\n",
            "            Gradient evaluations: 15\n",
            "-0.000308525490400628\n"
          ]
        },
        {
          "output_type": "stream",
          "name": "stderr",
          "text": [
            "/usr/local/lib/python3.7/dist-packages/statsmodels/tsa/base/tsa_model.py:539: ValueWarning: No frequency information was provided, so inferred frequency T will be used.\n",
            "  % freq, ValueWarning)\n",
            "/usr/local/lib/python3.7/dist-packages/statsmodels/tsa/base/tsa_model.py:539: ValueWarning: No frequency information was provided, so inferred frequency T will be used.\n",
            "  % freq, ValueWarning)\n"
          ]
        },
        {
          "output_type": "stream",
          "name": "stdout",
          "text": [
            "Iteration:      1,   Func. Count:      6,   Neg. LLF: -3440.3046927694786\n",
            "Iteration:      2,   Func. Count:     22,   Neg. LLF: -3440.8343562780265\n",
            "Iteration:      3,   Func. Count:     38,   Neg. LLF: -3437.6697781549633\n",
            "Iteration:      4,   Func. Count:     54,   Neg. LLF: -2054.6766464624725\n",
            "Iteration:      5,   Func. Count:     70,   Neg. LLF: 2706.6068993438626\n",
            "Iteration:      6,   Func. Count:     79,   Neg. LLF: -809.4491430545081\n",
            "Iteration:      7,   Func. Count:     95,   Neg. LLF: -3343.868482090453\n",
            "Iteration:      8,   Func. Count:    111,   Neg. LLF: 482.0161499171372\n",
            "Iteration:      9,   Func. Count:    123,   Neg. LLF: -1792.0203770592366\n",
            "Iteration:     10,   Func. Count:    131,   Neg. LLF: -2132.9733458199653\n",
            "Iteration:     11,   Func. Count:    142,   Neg. LLF: -2559.5896628847454\n",
            "Iteration:     12,   Func. Count:    155,   Neg. LLF: -2559.9323973138403\n",
            "Iteration:     13,   Func. Count:    168,   Neg. LLF: -2559.9896761980904\n",
            "Optimization terminated successfully.    (Exit mode 0)\n",
            "            Current function value: -2559.98969632561\n",
            "            Iterations: 17\n",
            "            Function evaluations: 168\n",
            "            Gradient evaluations: 13\n",
            "-0.00028924317889098005\n"
          ]
        },
        {
          "output_type": "stream",
          "name": "stderr",
          "text": [
            "/usr/local/lib/python3.7/dist-packages/statsmodels/tsa/base/tsa_model.py:539: ValueWarning: No frequency information was provided, so inferred frequency T will be used.\n",
            "  % freq, ValueWarning)\n",
            "/usr/local/lib/python3.7/dist-packages/statsmodels/tsa/base/tsa_model.py:539: ValueWarning: No frequency information was provided, so inferred frequency T will be used.\n",
            "  % freq, ValueWarning)\n"
          ]
        },
        {
          "output_type": "stream",
          "name": "stdout",
          "text": [
            "Iteration:      1,   Func. Count:      6,   Neg. LLF: -3444.618692273134\n",
            "Iteration:      2,   Func. Count:     22,   Neg. LLF: -3445.151879586766\n",
            "Iteration:      3,   Func. Count:     38,   Neg. LLF: -3411.14938797359\n",
            "Iteration:      4,   Func. Count:     54,   Neg. LLF: 2952.7702874621536\n",
            "Iteration:      5,   Func. Count:     63,   Neg. LLF: 444.43960009370915\n",
            "Iteration:      6,   Func. Count:     71,   Neg. LLF: -3286.73174383114\n",
            "Iteration:      7,   Func. Count:     87,   Neg. LLF: 1610.3232352511238\n",
            "Iteration:      8,   Func. Count:     95,   Neg. LLF: 483.9637352706279\n",
            "Iteration:      9,   Func. Count:    107,   Neg. LLF: -896.7747266182798\n",
            "Iteration:     10,   Func. Count:    114,   Neg. LLF: -1648.7388021053207\n",
            "Iteration:     11,   Func. Count:    130,   Neg. LLF: -1353.5392329053345\n",
            "Optimization terminated successfully.    (Exit mode 0)\n",
            "            Current function value: -1353.5392461243591\n",
            "            Iterations: 15\n",
            "            Function evaluations: 130\n",
            "            Gradient evaluations: 11\n",
            "0.054455985787314615\n"
          ]
        },
        {
          "output_type": "stream",
          "name": "stderr",
          "text": [
            "/usr/local/lib/python3.7/dist-packages/statsmodels/tsa/base/tsa_model.py:539: ValueWarning: No frequency information was provided, so inferred frequency T will be used.\n",
            "  % freq, ValueWarning)\n",
            "/usr/local/lib/python3.7/dist-packages/statsmodels/tsa/base/tsa_model.py:539: ValueWarning: No frequency information was provided, so inferred frequency T will be used.\n",
            "  % freq, ValueWarning)\n"
          ]
        },
        {
          "output_type": "stream",
          "name": "stdout",
          "text": [
            "Iteration:      1,   Func. Count:      6,   Neg. LLF: -3448.4804449141493\n",
            "Iteration:      2,   Func. Count:     22,   Neg. LLF: -3448.985619104859\n",
            "Iteration:      3,   Func. Count:     38,   Neg. LLF: -3443.719633947541\n",
            "Iteration:      4,   Func. Count:     54,   Neg. LLF: -1092.7715321854505\n",
            "Iteration:      5,   Func. Count:     70,   Neg. LLF: 1278.3319856112157\n",
            "Iteration:      6,   Func. Count:     80,   Neg. LLF: 344.6644345953915\n",
            "Iteration:      7,   Func. Count:     87,   Neg. LLF: -1648.5593627891446\n",
            "Iteration:      8,   Func. Count:     95,   Neg. LLF: -2304.5084387860898\n",
            "Iteration:      9,   Func. Count:    111,   Neg. LLF: -2245.615006476009\n",
            "Iteration:     10,   Func. Count:    127,   Neg. LLF: -1094.6857267068679\n",
            "Optimization terminated successfully.    (Exit mode 0)\n",
            "            Current function value: -1094.6857281661373\n",
            "            Iterations: 14\n",
            "            Function evaluations: 127\n",
            "            Gradient evaluations: 10\n",
            "-0.07770056245283247\n"
          ]
        },
        {
          "output_type": "stream",
          "name": "stderr",
          "text": [
            "/usr/local/lib/python3.7/dist-packages/statsmodels/tsa/base/tsa_model.py:539: ValueWarning: No frequency information was provided, so inferred frequency T will be used.\n",
            "  % freq, ValueWarning)\n",
            "/usr/local/lib/python3.7/dist-packages/statsmodels/tsa/base/tsa_model.py:539: ValueWarning: No frequency information was provided, so inferred frequency T will be used.\n",
            "  % freq, ValueWarning)\n"
          ]
        },
        {
          "output_type": "stream",
          "name": "stdout",
          "text": [
            "Iteration:      1,   Func. Count:      6,   Neg. LLF: -3452.5817450176464\n",
            "Iteration:      2,   Func. Count:     22,   Neg. LLF: -3453.091969184955\n",
            "Iteration:      3,   Func. Count:     37,   Neg. LLF: -3453.2536947351673\n",
            "Iteration:      4,   Func. Count:     53,   Neg. LLF: -3453.2558852060342\n",
            "Optimization terminated successfully.    (Exit mode 0)\n",
            "            Current function value: -3453.2558940571707\n",
            "            Iterations: 8\n",
            "            Function evaluations: 53\n",
            "            Gradient evaluations: 4\n",
            "-0.0002381621357561244\n"
          ]
        },
        {
          "output_type": "stream",
          "name": "stderr",
          "text": [
            "/usr/local/lib/python3.7/dist-packages/statsmodels/tsa/base/tsa_model.py:539: ValueWarning: No frequency information was provided, so inferred frequency T will be used.\n",
            "  % freq, ValueWarning)\n",
            "/usr/local/lib/python3.7/dist-packages/statsmodels/tsa/base/tsa_model.py:539: ValueWarning: No frequency information was provided, so inferred frequency T will be used.\n",
            "  % freq, ValueWarning)\n"
          ]
        },
        {
          "output_type": "stream",
          "name": "stdout",
          "text": [
            "Iteration:      1,   Func. Count:      6,   Neg. LLF: -3455.6566600653937\n",
            "Iteration:      2,   Func. Count:     22,   Neg. LLF: -3456.1887018587354\n",
            "Iteration:      3,   Func. Count:     38,   Neg. LLF: -3456.217971617997\n",
            "Iteration:      4,   Func. Count:     53,   Neg. LLF: -3456.3197909707897\n",
            "Iteration:      5,   Func. Count:     69,   Neg. LLF: -3456.3049112949066\n",
            "Iteration:      6,   Func. Count:     85,   Neg. LLF: -3456.3053206529485\n",
            "Iteration:      7,   Func. Count:    101,   Neg. LLF: -3456.319785269685\n",
            "Optimization terminated successfully.    (Exit mode 0)\n",
            "            Current function value: -3456.3197883488638\n",
            "            Iterations: 8\n",
            "            Function evaluations: 112\n",
            "            Gradient evaluations: 7\n",
            "-0.00022894618639686336\n"
          ]
        },
        {
          "output_type": "stream",
          "name": "stderr",
          "text": [
            "/usr/local/lib/python3.7/dist-packages/statsmodels/tsa/base/tsa_model.py:539: ValueWarning: No frequency information was provided, so inferred frequency T will be used.\n",
            "  % freq, ValueWarning)\n",
            "/usr/local/lib/python3.7/dist-packages/statsmodels/tsa/base/tsa_model.py:539: ValueWarning: No frequency information was provided, so inferred frequency T will be used.\n",
            "  % freq, ValueWarning)\n"
          ]
        },
        {
          "output_type": "stream",
          "name": "stdout",
          "text": [
            "Iteration:      1,   Func. Count:      6,   Neg. LLF: -3459.6932198949407\n",
            "Iteration:      2,   Func. Count:     22,   Neg. LLF: -3460.229936107446\n",
            "Iteration:      3,   Func. Count:     38,   Neg. LLF: -3460.353333775901\n",
            "Iteration:      4,   Func. Count:     54,   Neg. LLF: -3459.719926690923\n",
            "Iteration:      5,   Func. Count:     70,   Neg. LLF: -3460.204029002709\n",
            "Iteration:      6,   Func. Count:     85,   Neg. LLF: -3460.3525128421834\n",
            "Iteration:      7,   Func. Count:    101,   Neg. LLF: -3460.1045115815623\n",
            "Iteration:      8,   Func. Count:    117,   Neg. LLF: -3460.351663749774\n",
            "Optimization terminated successfully.    (Exit mode 0)\n",
            "            Current function value: -3460.3516726416437\n",
            "            Iterations: 12\n",
            "            Function evaluations: 117\n",
            "            Gradient evaluations: 8\n",
            "-0.00022434878703375926\n"
          ]
        },
        {
          "output_type": "stream",
          "name": "stderr",
          "text": [
            "/usr/local/lib/python3.7/dist-packages/statsmodels/tsa/base/tsa_model.py:539: ValueWarning: No frequency information was provided, so inferred frequency T will be used.\n",
            "  % freq, ValueWarning)\n",
            "/usr/local/lib/python3.7/dist-packages/statsmodels/tsa/base/tsa_model.py:539: ValueWarning: No frequency information was provided, so inferred frequency T will be used.\n",
            "  % freq, ValueWarning)\n",
            "/usr/local/lib/python3.7/dist-packages/statsmodels/base/model.py:606: ConvergenceWarning: Maximum Likelihood optimization failed to converge. Check mle_retvals\n",
            "  ConvergenceWarning)\n"
          ]
        },
        {
          "output_type": "stream",
          "name": "stdout",
          "text": [
            "Iteration:      1,   Func. Count:      6,   Neg. LLF: -3464.164514224939\n",
            "Iteration:      2,   Func. Count:     22,   Neg. LLF: -3464.7254084460396\n",
            "Iteration:      3,   Func. Count:     38,   Neg. LLF: -3349.6630473810515\n",
            "Iteration:      4,   Func. Count:     54,   Neg. LLF: 1405.0099718927527\n",
            "Iteration:      5,   Func. Count:     61,   Neg. LLF: -744.9999448821804\n",
            "Iteration:      6,   Func. Count:     70,   Neg. LLF: -1414.749229945915\n",
            "Iteration:      7,   Func. Count:     77,   Neg. LLF: -1884.5546784329654\n",
            "Iteration:      8,   Func. Count:     92,   Neg. LLF: -2315.621898517268\n",
            "Iteration:      9,   Func. Count:    105,   Neg. LLF: -2316.340232663467\n",
            "Iteration:     10,   Func. Count:    115,   Neg. LLF: -2316.3589015302414\n",
            "Iteration:     11,   Func. Count:    128,   Neg. LLF: -2316.443891690252\n",
            "Optimization terminated successfully.    (Exit mode 0)\n",
            "            Current function value: -2316.4439073542617\n",
            "            Iterations: 15\n",
            "            Function evaluations: 128\n",
            "            Gradient evaluations: 11\n",
            "-0.0002846736133668344\n"
          ]
        },
        {
          "output_type": "stream",
          "name": "stderr",
          "text": [
            "/usr/local/lib/python3.7/dist-packages/statsmodels/tsa/base/tsa_model.py:539: ValueWarning: No frequency information was provided, so inferred frequency T will be used.\n",
            "  % freq, ValueWarning)\n",
            "/usr/local/lib/python3.7/dist-packages/statsmodels/tsa/base/tsa_model.py:539: ValueWarning: No frequency information was provided, so inferred frequency T will be used.\n",
            "  % freq, ValueWarning)\n"
          ]
        },
        {
          "output_type": "stream",
          "name": "stdout",
          "text": [
            "Iteration:      1,   Func. Count:      6,   Neg. LLF: -3467.9219141603858\n",
            "Iteration:      2,   Func. Count:     22,   Neg. LLF: -3468.483491447455\n",
            "Iteration:      3,   Func. Count:     38,   Neg. LLF: -3464.4567261014686\n",
            "Iteration:      4,   Func. Count:     54,   Neg. LLF: 1372.8298172478599\n",
            "Iteration:      5,   Func. Count:     60,   Neg. LLF: 1009.2178169289419\n",
            "Iteration:      6,   Func. Count:     71,   Neg. LLF: -464.37477568063184\n",
            "Iteration:      7,   Func. Count:     78,   Neg. LLF: -905.5567609082889\n",
            "Iteration:      8,   Func. Count:     85,   Neg. LLF: -1071.2700561381457\n",
            "Iteration:      9,   Func. Count:     93,   Neg. LLF: -2014.4851292015635\n",
            "Iteration:     10,   Func. Count:    109,   Neg. LLF: -2005.3265857156844\n",
            "Iteration:     11,   Func. Count:    125,   Neg. LLF: -1916.7032904710613\n",
            "Iteration:     12,   Func. Count:    141,   Neg. LLF: -1301.5422895329975\n",
            "Optimization terminated successfully.    (Exit mode 0)\n",
            "            Current function value: -1301.5422921319505\n",
            "            Iterations: 16\n",
            "            Function evaluations: 141\n",
            "            Gradient evaluations: 12\n",
            "-0.06197201817047743\n"
          ]
        },
        {
          "output_type": "stream",
          "name": "stderr",
          "text": [
            "/usr/local/lib/python3.7/dist-packages/statsmodels/tsa/base/tsa_model.py:539: ValueWarning: No frequency information was provided, so inferred frequency T will be used.\n",
            "  % freq, ValueWarning)\n",
            "/usr/local/lib/python3.7/dist-packages/statsmodels/tsa/base/tsa_model.py:539: ValueWarning: No frequency information was provided, so inferred frequency T will be used.\n",
            "  % freq, ValueWarning)\n"
          ]
        },
        {
          "output_type": "stream",
          "name": "stdout",
          "text": [
            "Iteration:      1,   Func. Count:      6,   Neg. LLF: -3471.868208779997\n",
            "Iteration:      2,   Func. Count:     22,   Neg. LLF: -3472.4128193406623\n",
            "Iteration:      3,   Func. Count:     38,   Neg. LLF: -3457.7941576676285\n",
            "Iteration:      4,   Func. Count:     54,   Neg. LLF: 2517.4381613500364\n",
            "Iteration:      5,   Func. Count:     63,   Neg. LLF: 1055.057111376564\n",
            "Iteration:      6,   Func. Count:     70,   Neg. LLF: -1956.055317298799\n",
            "Iteration:      7,   Func. Count:     79,   Neg. LLF: -2558.001697201428\n",
            "Iteration:      8,   Func. Count:     88,   Neg. LLF: -2824.324978010095\n",
            "Iteration:      9,   Func. Count:    104,   Neg. LLF: -3.8666269978651835\n",
            "Iteration:     10,   Func. Count:    117,   Neg. LLF: -1428.9041555760834\n",
            "Iteration:     11,   Func. Count:    124,   Neg. LLF: -1929.9320911371024\n",
            "Iteration:     12,   Func. Count:    140,   Neg. LLF: -1120.861984783605\n",
            "Optimization terminated successfully.    (Exit mode 0)\n",
            "            Current function value: -1120.8619892263469\n",
            "            Iterations: 16\n",
            "            Function evaluations: 140\n",
            "            Gradient evaluations: 12\n",
            "-0.07548630293873208\n"
          ]
        },
        {
          "output_type": "stream",
          "name": "stderr",
          "text": [
            "/usr/local/lib/python3.7/dist-packages/statsmodels/tsa/base/tsa_model.py:539: ValueWarning: No frequency information was provided, so inferred frequency T will be used.\n",
            "  % freq, ValueWarning)\n",
            "/usr/local/lib/python3.7/dist-packages/statsmodels/tsa/base/tsa_model.py:539: ValueWarning: No frequency information was provided, so inferred frequency T will be used.\n",
            "  % freq, ValueWarning)\n"
          ]
        },
        {
          "output_type": "stream",
          "name": "stdout",
          "text": [
            "Iteration:      1,   Func. Count:      6,   Neg. LLF: -3474.5715551995363\n",
            "Iteration:      2,   Func. Count:     22,   Neg. LLF: -3475.091387654077\n",
            "Iteration:      3,   Func. Count:     37,   Neg. LLF: -3475.236475536691\n",
            "Iteration:      4,   Func. Count:     53,   Neg. LLF: -3475.2296663077677\n",
            "Iteration:      5,   Func. Count:     67,   Neg. LLF: -3475.235680207308\n",
            "Iteration:      6,   Func. Count:     81,   Neg. LLF: -3475.2357313012562\n",
            "Iteration:      7,   Func. Count:     97,   Neg. LLF: -3475.235262648881\n",
            "Iteration:      8,   Func. Count:    112,   Neg. LLF: -3475.2356854658883\n",
            "Iteration:      9,   Func. Count:    128,   Neg. LLF: -3475.2356709019364\n",
            "Optimization terminated successfully.    (Exit mode 0)\n",
            "            Current function value: -3475.235679740995\n",
            "            Iterations: 13\n",
            "            Function evaluations: 128\n",
            "            Gradient evaluations: 9\n",
            "-0.0002459410228764845\n"
          ]
        },
        {
          "output_type": "stream",
          "name": "stderr",
          "text": [
            "/usr/local/lib/python3.7/dist-packages/statsmodels/tsa/base/tsa_model.py:539: ValueWarning: No frequency information was provided, so inferred frequency T will be used.\n",
            "  % freq, ValueWarning)\n",
            "/usr/local/lib/python3.7/dist-packages/statsmodels/tsa/base/tsa_model.py:539: ValueWarning: No frequency information was provided, so inferred frequency T will be used.\n",
            "  % freq, ValueWarning)\n",
            "/usr/local/lib/python3.7/dist-packages/statsmodels/base/model.py:606: ConvergenceWarning: Maximum Likelihood optimization failed to converge. Check mle_retvals\n",
            "  ConvergenceWarning)\n"
          ]
        },
        {
          "output_type": "stream",
          "name": "stdout",
          "text": [
            "Iteration:      1,   Func. Count:      6,   Neg. LLF: -3478.217812051622\n",
            "Iteration:      2,   Func. Count:     22,   Neg. LLF: -3478.7537112399245\n",
            "Iteration:      3,   Func. Count:     37,   Neg. LLF: -3478.866525501192\n",
            "Iteration:      4,   Func. Count:     49,   Neg. LLF: -3478.867573647951\n",
            "Iteration:      5,   Func. Count:     63,   Neg. LLF: -3478.868619669554\n",
            "Iteration:      6,   Func. Count:     79,   Neg. LLF: -3478.868604723804\n",
            "Iteration:      7,   Func. Count:     92,   Neg. LLF: -3478.868638286558\n",
            "Iteration:      8,   Func. Count:    108,   Neg. LLF: -3478.8684450656633\n",
            "Optimization terminated successfully.    (Exit mode 0)\n",
            "            Current function value: -3478.8684538622506\n",
            "            Iterations: 12\n",
            "            Function evaluations: 108\n",
            "            Gradient evaluations: 8\n",
            "-0.0002478222201282155\n"
          ]
        },
        {
          "output_type": "stream",
          "name": "stderr",
          "text": [
            "/usr/local/lib/python3.7/dist-packages/statsmodels/tsa/base/tsa_model.py:539: ValueWarning: No frequency information was provided, so inferred frequency T will be used.\n",
            "  % freq, ValueWarning)\n",
            "/usr/local/lib/python3.7/dist-packages/statsmodels/tsa/base/tsa_model.py:539: ValueWarning: No frequency information was provided, so inferred frequency T will be used.\n",
            "  % freq, ValueWarning)\n",
            "/usr/local/lib/python3.7/dist-packages/statsmodels/base/model.py:606: ConvergenceWarning: Maximum Likelihood optimization failed to converge. Check mle_retvals\n",
            "  ConvergenceWarning)\n"
          ]
        },
        {
          "output_type": "stream",
          "name": "stdout",
          "text": [
            "Iteration:      1,   Func. Count:      6,   Neg. LLF: -3481.9361638020423\n",
            "Iteration:      2,   Func. Count:     22,   Neg. LLF: -3482.4471703579425\n",
            "Iteration:      3,   Func. Count:     37,   Neg. LLF: -3482.594154266356\n",
            "Optimization terminated successfully.    (Exit mode 0)\n",
            "            Current function value: -3482.5941639936623\n",
            "            Iterations: 4\n",
            "            Function evaluations: 48\n",
            "            Gradient evaluations: 3\n",
            "-0.00024846397077186267\n"
          ]
        },
        {
          "output_type": "stream",
          "name": "stderr",
          "text": [
            "/usr/local/lib/python3.7/dist-packages/statsmodels/tsa/base/tsa_model.py:539: ValueWarning: No frequency information was provided, so inferred frequency T will be used.\n",
            "  % freq, ValueWarning)\n",
            "/usr/local/lib/python3.7/dist-packages/statsmodels/tsa/base/tsa_model.py:539: ValueWarning: No frequency information was provided, so inferred frequency T will be used.\n",
            "  % freq, ValueWarning)\n",
            "/usr/local/lib/python3.7/dist-packages/statsmodels/base/model.py:606: ConvergenceWarning: Maximum Likelihood optimization failed to converge. Check mle_retvals\n",
            "  ConvergenceWarning)\n"
          ]
        },
        {
          "output_type": "stream",
          "name": "stdout",
          "text": [
            "Iteration:      1,   Func. Count:      6,   Neg. LLF: -3487.466486673118\n",
            "Iteration:      2,   Func. Count:     22,   Neg. LLF: -3488.031600195819\n",
            "Iteration:      3,   Func. Count:     38,   Neg. LLF: -3485.237167830368\n",
            "Iteration:      4,   Func. Count:     54,   Neg. LLF: -2380.7085089692405\n",
            "Iteration:      5,   Func. Count:     70,   Neg. LLF: 826.0579071553747\n",
            "Iteration:      6,   Func. Count:     76,   Neg. LLF: -11.150885307242229\n",
            "Iteration:      7,   Func. Count:     89,   Neg. LLF: -983.1096064555168\n",
            "Iteration:      8,   Func. Count:     96,   Neg. LLF: -1279.2284894130712\n",
            "Iteration:      9,   Func. Count:    104,   Neg. LLF: -1723.154496741321\n",
            "Iteration:     10,   Func. Count:    111,   Neg. LLF: -1829.9878758640716\n",
            "Iteration:     11,   Func. Count:    127,   Neg. LLF: -599.6530653785204\n",
            "Iteration:     12,   Func. Count:    133,   Neg. LLF: -999.3198826321046\n",
            "Optimization terminated successfully.    (Exit mode 0)\n",
            "            Current function value: -999.3198837769412\n",
            "            Iterations: 16\n",
            "            Function evaluations: 133\n",
            "            Gradient evaluations: 12\n",
            "-0.08602857052396926\n"
          ]
        },
        {
          "output_type": "stream",
          "name": "stderr",
          "text": [
            "/usr/local/lib/python3.7/dist-packages/statsmodels/tsa/base/tsa_model.py:539: ValueWarning: No frequency information was provided, so inferred frequency T will be used.\n",
            "  % freq, ValueWarning)\n",
            "/usr/local/lib/python3.7/dist-packages/statsmodels/tsa/base/tsa_model.py:539: ValueWarning: No frequency information was provided, so inferred frequency T will be used.\n",
            "  % freq, ValueWarning)\n"
          ]
        },
        {
          "output_type": "stream",
          "name": "stdout",
          "text": [
            "Iteration:      1,   Func. Count:      6,   Neg. LLF: -3489.8240011822036\n",
            "Iteration:      2,   Func. Count:     22,   Neg. LLF: -3490.309471855484\n",
            "Iteration:      3,   Func. Count:     37,   Neg. LLF: -3490.468705925697\n",
            "Iteration:      4,   Func. Count:     53,   Neg. LLF: -3490.354206744084\n",
            "Iteration:      5,   Func. Count:     69,   Neg. LLF: -3490.113034062232\n",
            "Iteration:      6,   Func. Count:     85,   Neg. LLF: -3490.4897041908243\n",
            "Iteration:      7,   Func. Count:     97,   Neg. LLF: -3490.489840168667\n",
            "Iteration:      8,   Func. Count:    113,   Neg. LLF: -3490.490250668011\n",
            "Iteration:      9,   Func. Count:    122,   Neg. LLF: -3491.7394158592515\n",
            "Iteration:     10,   Func. Count:    138,   Neg. LLF: -1516.8723552230445\n",
            "Iteration:     11,   Func. Count:    154,   Neg. LLF: -1436.653186677135\n",
            "Optimization terminated successfully.    (Exit mode 0)\n",
            "            Current function value: -1436.653182408509\n",
            "            Iterations: 15\n",
            "            Function evaluations: 154\n",
            "            Gradient evaluations: 11\n",
            "-0.055645877433010964\n"
          ]
        },
        {
          "output_type": "stream",
          "name": "stderr",
          "text": [
            "/usr/local/lib/python3.7/dist-packages/statsmodels/tsa/base/tsa_model.py:539: ValueWarning: No frequency information was provided, so inferred frequency T will be used.\n",
            "  % freq, ValueWarning)\n",
            "/usr/local/lib/python3.7/dist-packages/statsmodels/tsa/base/tsa_model.py:539: ValueWarning: No frequency information was provided, so inferred frequency T will be used.\n",
            "  % freq, ValueWarning)\n",
            "/usr/local/lib/python3.7/dist-packages/statsmodels/base/model.py:606: ConvergenceWarning: Maximum Likelihood optimization failed to converge. Check mle_retvals\n",
            "  ConvergenceWarning)\n"
          ]
        },
        {
          "output_type": "stream",
          "name": "stdout",
          "text": [
            "Iteration:      1,   Func. Count:      6,   Neg. LLF: -3493.460491870279\n",
            "Iteration:      2,   Func. Count:     22,   Neg. LLF: -3493.9292315837483\n",
            "Iteration:      3,   Func. Count:     37,   Neg. LLF: -3494.064009327646\n",
            "Iteration:      4,   Func. Count:     52,   Neg. LLF: -3494.130852769307\n",
            "Iteration:      5,   Func. Count:     68,   Neg. LLF: -3494.110522060637\n",
            "Iteration:      6,   Func. Count:     84,   Neg. LLF: -3494.12842609339\n",
            "Iteration:      7,   Func. Count:     98,   Neg. LLF: -3494.130873933611\n",
            "Iteration:      8,   Func. Count:    109,   Neg. LLF: -3494.1339454955205\n",
            "Optimization terminated successfully.    (Exit mode 0)\n",
            "            Current function value: -3494.133954322714\n",
            "            Iterations: 12\n",
            "            Function evaluations: 109\n",
            "            Gradient evaluations: 8\n",
            "-0.00022340176975505746\n"
          ]
        },
        {
          "output_type": "stream",
          "name": "stderr",
          "text": [
            "/usr/local/lib/python3.7/dist-packages/statsmodels/tsa/base/tsa_model.py:539: ValueWarning: No frequency information was provided, so inferred frequency T will be used.\n",
            "  % freq, ValueWarning)\n",
            "/usr/local/lib/python3.7/dist-packages/statsmodels/tsa/base/tsa_model.py:539: ValueWarning: No frequency information was provided, so inferred frequency T will be used.\n",
            "  % freq, ValueWarning)\n"
          ]
        },
        {
          "output_type": "stream",
          "name": "stdout",
          "text": [
            "Iteration:      1,   Func. Count:      6,   Neg. LLF: -3497.852894256015\n",
            "Iteration:      2,   Func. Count:     22,   Neg. LLF: -3498.3570294241026\n",
            "Iteration:      3,   Func. Count:     38,   Neg. LLF: -3469.8383878438485\n",
            "Iteration:      4,   Func. Count:     54,   Neg. LLF: 3289.1514670761\n",
            "Iteration:      5,   Func. Count:     63,   Neg. LLF: 157.94920252482888\n",
            "Iteration:      6,   Func. Count:     72,   Neg. LLF: -2571.9851688127364\n",
            "Iteration:      7,   Func. Count:     88,   Neg. LLF: 118.71742883150037\n",
            "Iteration:      8,   Func. Count:    101,   Neg. LLF: -2608.6566817896787\n",
            "Iteration:      9,   Func. Count:    117,   Neg. LLF: -1849.2247102749602\n",
            "Iteration:     10,   Func. Count:    133,   Neg. LLF: -166.847319966638\n",
            "Iteration:     11,   Func. Count:    147,   Neg. LLF: -2719.6888955310387\n",
            "Iteration:     12,   Func. Count:    163,   Neg. LLF: -2579.669272393573\n",
            "Iteration:     13,   Func. Count:    179,   Neg. LLF: 551.0573706183083\n",
            "Iteration:     14,   Func. Count:    186,   Neg. LLF: 534.6763874702397\n",
            "Iteration:     15,   Func. Count:    192,   Neg. LLF: -131.83526245358243\n",
            "Iteration:     16,   Func. Count:    200,   Neg. LLF: -392.6621681723133\n",
            "Iteration:     17,   Func. Count:    207,   Neg. LLF: -533.8708805730055\n",
            "Iteration:     18,   Func. Count:    221,   Neg. LLF: -2079.5521883688243\n",
            "Iteration:     19,   Func. Count:    233,   Neg. LLF: -2080.5302149047147\n",
            "Iteration:     20,   Func. Count:    242,   Neg. LLF: -2080.5410400065466\n",
            "Iteration:     21,   Func. Count:    251,   Neg. LLF: -2080.585973711972\n",
            "Iteration:     22,   Func. Count:    260,   Neg. LLF: -2080.7745460838087\n",
            "Optimization terminated successfully.    (Exit mode 0)\n",
            "            Current function value: -2080.7745550766567\n",
            "            Iterations: 26\n",
            "            Function evaluations: 260\n",
            "            Gradient evaluations: 22\n",
            "-0.0002514920191406231\n"
          ]
        },
        {
          "output_type": "stream",
          "name": "stderr",
          "text": [
            "/usr/local/lib/python3.7/dist-packages/statsmodels/tsa/base/tsa_model.py:539: ValueWarning: No frequency information was provided, so inferred frequency T will be used.\n",
            "  % freq, ValueWarning)\n",
            "/usr/local/lib/python3.7/dist-packages/statsmodels/tsa/base/tsa_model.py:539: ValueWarning: No frequency information was provided, so inferred frequency T will be used.\n",
            "  % freq, ValueWarning)\n",
            "/usr/local/lib/python3.7/dist-packages/statsmodels/base/model.py:606: ConvergenceWarning: Maximum Likelihood optimization failed to converge. Check mle_retvals\n",
            "  ConvergenceWarning)\n"
          ]
        },
        {
          "output_type": "stream",
          "name": "stdout",
          "text": [
            "Iteration:      1,   Func. Count:      6,   Neg. LLF: -3501.0763090255223\n",
            "Iteration:      2,   Func. Count:     22,   Neg. LLF: -3501.561935525122\n",
            "Iteration:      3,   Func. Count:     37,   Neg. LLF: -3501.72400992709\n",
            "Iteration:      4,   Func. Count:     51,   Neg. LLF: -3501.740835840687\n",
            "Iteration:      5,   Func. Count:     61,   Neg. LLF: -3501.779539433235\n",
            "Iteration:      6,   Func. Count:     75,   Neg. LLF: -3501.814614086289\n",
            "Iteration:      7,   Func. Count:     91,   Neg. LLF: -3501.816550250474\n",
            "Optimization terminated successfully.    (Exit mode 0)\n",
            "            Current function value: -3501.8165590228095\n",
            "            Iterations: 11\n",
            "            Function evaluations: 91\n",
            "            Gradient evaluations: 7\n",
            "-0.0002365502564268947\n"
          ]
        },
        {
          "output_type": "stream",
          "name": "stderr",
          "text": [
            "/usr/local/lib/python3.7/dist-packages/statsmodels/tsa/base/tsa_model.py:539: ValueWarning: No frequency information was provided, so inferred frequency T will be used.\n",
            "  % freq, ValueWarning)\n",
            "/usr/local/lib/python3.7/dist-packages/statsmodels/tsa/base/tsa_model.py:539: ValueWarning: No frequency information was provided, so inferred frequency T will be used.\n",
            "  % freq, ValueWarning)\n",
            "/usr/local/lib/python3.7/dist-packages/statsmodels/base/model.py:606: ConvergenceWarning: Maximum Likelihood optimization failed to converge. Check mle_retvals\n",
            "  ConvergenceWarning)\n"
          ]
        },
        {
          "output_type": "stream",
          "name": "stdout",
          "text": [
            "Iteration:      1,   Func. Count:      6,   Neg. LLF: -3501.0763090255223\n",
            "Iteration:      2,   Func. Count:     22,   Neg. LLF: -3501.561935525122\n",
            "Iteration:      3,   Func. Count:     37,   Neg. LLF: -3501.72400992709\n",
            "Iteration:      4,   Func. Count:     51,   Neg. LLF: -3501.740835840687\n",
            "Iteration:      5,   Func. Count:     61,   Neg. LLF: -3501.779539433235\n",
            "Iteration:      6,   Func. Count:     75,   Neg. LLF: -3501.814614086289\n",
            "Iteration:      7,   Func. Count:     91,   Neg. LLF: -3501.816550250474\n",
            "Optimization terminated successfully.    (Exit mode 0)\n",
            "            Current function value: -3501.8165590228095\n",
            "            Iterations: 11\n",
            "            Function evaluations: 91\n",
            "            Gradient evaluations: 7\n",
            "-0.0002365502564268947\n"
          ]
        }
      ]
    },
    {
      "cell_type": "code",
      "source": [
        "model= SARIMAX(train_y,\n",
        " exog=train_X,\n",
        " order=(0,1,1),\n",
        " seasonal_order =(0, 0, 1, 12),\n",
        " enforce_invertibility=False, enforce_stationarity=False)\n"
      ],
      "metadata": {
        "colab": {
          "base_uri": "https://localhost:8080/"
        },
        "id": "P-oI6PNLa_7S",
        "outputId": "b2d30fb7-cbef-4bce-a4a1-04b954c63a4b"
      },
      "execution_count": 16,
      "outputs": [
        {
          "output_type": "stream",
          "name": "stderr",
          "text": [
            "/usr/local/lib/python3.7/dist-packages/statsmodels/tsa/base/tsa_model.py:539: ValueWarning: No frequency information was provided, so inferred frequency T will be used.\n",
            "  % freq, ValueWarning)\n",
            "/usr/local/lib/python3.7/dist-packages/statsmodels/tsa/base/tsa_model.py:539: ValueWarning: No frequency information was provided, so inferred frequency T will be used.\n",
            "  % freq, ValueWarning)\n"
          ]
        }
      ]
    },
    {
      "cell_type": "code",
      "source": [
        "# training the model\n",
        "results= model.fit()\n",
        "\n",
        "# plotting residuals\n",
        "results.resid.plot()"
      ],
      "metadata": {
        "colab": {
          "base_uri": "https://localhost:8080/",
          "height": 308
        },
        "id": "8FpsOdG9bF1b",
        "outputId": "54b851ab-7bf5-45ee-c995-6e161b548b05"
      },
      "execution_count": 17,
      "outputs": [
        {
          "output_type": "execute_result",
          "data": {
            "text/plain": [
              "<matplotlib.axes._subplots.AxesSubplot at 0x7f0324c46550>"
            ]
          },
          "metadata": {},
          "execution_count": 17
        },
        {
          "output_type": "display_data",
          "data": {
            "image/png": "[encoded data removed]",
            "text/plain": [
              "<Figure size 432x288 with 1 Axes>"
            ]
          },
          "metadata": {
            "needs_background": "light"
          }
        }
      ]
    },
    {
      "cell_type": "code",
      "source": [
        "predictions= results.predict(start =train_size, end=train_size+test_size-2,exog=test_X)\n",
        "act= pd.DataFrame(scaler_output.iloc[train_size:, 0])\n",
        "predictions=pd.DataFrame(predictions)\n",
        "predictions.reset_index(drop=True, inplace=True)\n",
        "predictions.index=test_X.index\n",
        "predictions['Actual'] = act['BTC Price next day']\n",
        "predictions.rename(columns={'predicted_mean':'Pred'}, inplace=True)\n",
        "print(predictions)\n",
        "for i in range(len(predictions)) : \n",
        "  predictions.iloc[i,0]= predictions.iloc[i,0]+predic_garch[i]\n"
      ],
      "metadata": {
        "colab": {
          "base_uri": "https://localhost:8080/"
        },
        "id": "ageL_XxXbMh7",
        "outputId": "f50a33ac-98f9-437b-ca57-d40d4b0068f8"
      },
      "execution_count": 18,
      "outputs": [
        {
          "output_type": "stream",
          "name": "stdout",
          "text": [
            "                         Pred    Actual\n",
            "Date                                   \n",
            "2022-01-06 01:39:00  0.233797  0.234003\n",
            "2022-01-06 01:40:00  0.232332  0.230943\n",
            "2022-01-06 01:41:00  0.234853  0.229696\n",
            "2022-01-06 01:42:00  0.235537  0.232580\n",
            "2022-01-06 01:43:00  0.240591  0.240977\n",
            "...                       ...       ...\n",
            "2022-01-06 03:13:00  0.177390  0.140756\n",
            "2022-01-06 03:14:00  0.183285  0.144827\n",
            "2022-01-06 03:15:00  0.182534  0.150349\n",
            "2022-01-06 03:16:00  0.181087  0.149890\n",
            "2022-01-06 03:17:00  0.176431  0.137085\n",
            "\n",
            "[99 rows x 2 columns]\n"
          ]
        }
      ]
    },
    {
      "cell_type": "code",
      "source": [
        "trainPredict = sc_out.inverse_transform(predictions[['Pred']])\n",
        "testPredict = sc_out.inverse_transform(predictions[['Actual']])\n",
        "\n",
        "plt.figure(figsize=(20,10))\n",
        "plt.plot(predictions.index, trainPredict, label='Pred', color='blue')\n",
        "plt.plot(predictions.index, testPredict, label='Actual', color='red')\n",
        "plt.legend()\n",
        "plt.show()\n",
        "\n",
        "from statsmodels.tools.eval_measures import rmse\n",
        "error=rmse(trainPredict, testPredict)\n",
        "print(\"RMSE:\",error)"
      ],
      "metadata": {
        "colab": {
          "base_uri": "https://localhost:8080/",
          "height": 609
        },
        "id": "qpKZ-f6ebSdr",
        "outputId": "db69f9de-459d-4268-b138-e037bb68a635"
      },
      "execution_count": 19,
      "outputs": [
        {
          "output_type": "display_data",
          "data": {
            "image/png": "[encoded data removed]",
            "text/plain": [
              "<Figure size 1440x720 with 1 Axes>"
            ]
          },
          "metadata": {
            "needs_background": "light"
          }
        },
        {
          "output_type": "stream",
          "name": "stdout",
          "text": [
            "RMSE: [400.00113802]\n"
          ]
        }
      ]
    }
  ]
}