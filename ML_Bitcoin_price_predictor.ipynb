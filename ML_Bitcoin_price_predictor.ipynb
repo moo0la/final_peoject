{
  "nbformat": 4,
  "nbformat_minor": 0,
  "metadata": {
    "colab": {
      "name": "ML - Bitcoin price predictor.ipynb",
      "provenance": [],
      "collapsed_sections": [],
      "include_colab_link": true
    },
    "kernelspec": {
      "name": "python3",
      "display_name": "Python 3.8.8 64-bit ('base': conda)"
    },
    "language_info": {
      "name": "python",
      "version": "3.8.8",
      "mimetype": "text/x-python",
      "codemirror_mode": {
        "name": "ipython",
        "version": 3
      },
      "pygments_lexer": "ipython3",
      "nbconvert_exporter": "python",
      "file_extension": ".py"
    },
    "interpreter": {
      "hash": "e022fcf0502e8ece1359f52bd1ca3eaa4ee08585cf07225c75dbbba0c404b6c8"
    }
  },
  "cells": [
    {
      "cell_type": "markdown",
      "metadata": {
        "id": "view-in-github",
        "colab_type": "text"
      },
      "source": [
        "<a href=\"https://colab.research.google.com/github/moo0la/final_peoject/blob/main/ML_Bitcoin_price_predictor.ipynb\" target=\"_parent\"><img src=\"https://colab.research.google.com/assets/colab-badge.svg\" alt=\"Open In Colab\"/></a>"
      ]
    },
    {
      "cell_type": "code",
      "execution_count": 1,
      "source": [
        "!pip install arch"
      ],
      "outputs": [
        {
          "output_type": "stream",
          "name": "stdout",
          "text": [
            "Requirement already satisfied: arch in /usr/local/lib/python3.7/dist-packages (5.1.0)\n",
            "Requirement already satisfied: property-cached>=1.6.4 in /usr/local/lib/python3.7/dist-packages (from arch) (1.6.4)\n",
            "Requirement already satisfied: statsmodels>=0.11 in /usr/local/lib/python3.7/dist-packages (from arch) (0.13.1)\n",
            "Requirement already satisfied: pandas>=1.0 in /usr/local/lib/python3.7/dist-packages (from arch) (1.1.5)\n",
            "Requirement already satisfied: scipy>=1.3 in /usr/local/lib/python3.7/dist-packages (from arch) (1.4.1)\n",
            "Requirement already satisfied: numpy>=1.17 in /usr/local/lib/python3.7/dist-packages (from arch) (1.19.5)\n",
            "Requirement already satisfied: python-dateutil>=2.7.3 in /usr/local/lib/python3.7/dist-packages (from pandas>=1.0->arch) (2.8.2)\n",
            "Requirement already satisfied: pytz>=2017.2 in /usr/local/lib/python3.7/dist-packages (from pandas>=1.0->arch) (2018.9)\n",
            "Requirement already satisfied: six>=1.5 in /usr/local/lib/python3.7/dist-packages (from python-dateutil>=2.7.3->pandas>=1.0->arch) (1.15.0)\n",
            "Requirement already satisfied: patsy>=0.5.2 in /usr/local/lib/python3.7/dist-packages (from statsmodels>=0.11->arch) (0.5.2)\n"
          ]
        }
      ],
      "metadata": {
        "colab": {
          "base_uri": "https://localhost:8080/"
        },
        "id": "fzZHUyk-T3Sw",
        "outputId": "69a285fd-2f5c-48f7-fabd-42264276d8e0"
      }
    },
    {
      "cell_type": "code",
      "execution_count": 2,
      "source": [
        "import pandas as pd\n",
        "import numpy as np\n",
        "import matplotlib.pyplot as plt\n",
        "import requests\n",
        "from pandas.plotting import register_matplotlib_converters\n",
        "register_matplotlib_converters()\n",
        "import warnings\n",
        "warnings.filterwarnings(\"ignore\")\n",
        "import arch\n"
      ],
      "outputs": [],
      "metadata": {
        "id": "o2cwu9a5bMbN"
      }
    },
    {
      "cell_type": "code",
      "execution_count": 3,
      "source": [
        "url = 'https://api.binance.com/api/v3/klines'\n",
        "\n",
        "\n",
        "\n",
        "r = requests.get(url,params={'symbol':'BTCUSDT','interval': '1d','limit':2000})\n",
        "r\n"
      ],
      "outputs": [
        {
          "output_type": "execute_result",
          "data": {
            "text/plain": [
              "<Response [200]>"
            ]
          },
          "metadata": {},
          "execution_count": 3
        }
      ],
      "metadata": {
        "colab": {
          "base_uri": "https://localhost:8080/"
        },
        "id": "PwZaLPDaeHiH",
        "outputId": "2a2cc351-1bbc-406a-e021-88801acca666"
      }
    },
    {
      "cell_type": "code",
      "execution_count": 4,
      "source": [
        "collumns = \"\"\"\n",
        "\n",
        "1499040000000,      // Open time\n",
        "    \"0.01634790\",       // Open\n",
        "    \"0.80000000\",       // High\n",
        "    \"0.01575800\",       // Low\n",
        "    \"0.01577100\",       // Close\n",
        "    \"148976.11427815\",  // Volume\n",
        "    1499644799999,      // Close time\n",
        "    \"2434.19055334\",    // Quote asset volume\n",
        "    308,                // Number of trades\n",
        "    \"1756.87402397\",    // Taker buy base asset volume\n",
        "    \"28.46694368\",      // Taker buy quote asset volume\n",
        "    \"17928899.62484339\" // Ignore.\n",
        "\n",
        "\"\"\".split(\"//\")[1:-1]\n",
        "\n",
        "\n",
        "my_col_names = [sub_str.split('\\n')[0].lower().strip().replace(' ','_') for sub_str in collumns]\n",
        "# my_col_names.insert(0, 'timestamp')\n",
        "my_col_names.append('ignore')\n",
        "my_col_names"
      ],
      "outputs": [
        {
          "output_type": "execute_result",
          "data": {
            "text/plain": [
              "['open_time',\n",
              " 'open',\n",
              " 'high',\n",
              " 'low',\n",
              " 'close',\n",
              " 'volume',\n",
              " 'close_time',\n",
              " 'quote_asset_volume',\n",
              " 'number_of_trades',\n",
              " 'taker_buy_base_asset_volume',\n",
              " 'taker_buy_quote_asset_volume',\n",
              " 'ignore']"
            ]
          },
          "metadata": {},
          "execution_count": 4
        }
      ],
      "metadata": {
        "colab": {
          "base_uri": "https://localhost:8080/"
        },
        "id": "7x-7sS1NlywJ",
        "outputId": "01dc8561-dedc-4ec1-9894-9ba484c2486d"
      }
    },
    {
      "cell_type": "code",
      "execution_count": 5,
      "source": [
        "df = pd.DataFrame(r.json(),columns = my_col_names)\n",
        "df.index = pd.to_datetime(df.open_time*1000000)\n",
        "#df.index = pd.DatetimeIndex(df.open_time*1000000)\n",
        "df.index.name = 'Date'\n",
        "df = df.drop(columns=['open_time','close_time','ignore'])\n",
        "df"
      ],
      "outputs": [
        {
          "output_type": "execute_result",
          "data": {
            "text/html": [
              "\n",
              "  <div id=\"df-3a992f87-0400-49a5-9b80-c72e3c45be3d\">\n",
              "    <div class=\"colab-df-container\">\n",
              "      <div>\n",
              "<style scoped>\n",
              "    .dataframe tbody tr th:only-of-type {\n",
              "        vertical-align: middle;\n",
              "    }\n",
              "\n",
              "    .dataframe tbody tr th {\n",
              "        vertical-align: top;\n",
              "    }\n",
              "\n",
              "    .dataframe thead th {\n",
              "        text-align: right;\n",
              "    }\n",
              "</style>\n",
              "<table border=\"1\" class=\"dataframe\">\n",
              "  <thead>\n",
              "    <tr style=\"text-align: right;\">\n",
              "      <th></th>\n",
              "      <th>open</th>\n",
              "      <th>high</th>\n",
              "      <th>low</th>\n",
              "      <th>close</th>\n",
              "      <th>volume</th>\n",
              "      <th>quote_asset_volume</th>\n",
              "      <th>number_of_trades</th>\n",
              "      <th>taker_buy_base_asset_volume</th>\n",
              "      <th>taker_buy_quote_asset_volume</th>\n",
              "    </tr>\n",
              "    <tr>\n",
              "      <th>Date</th>\n",
              "      <th></th>\n",
              "      <th></th>\n",
              "      <th></th>\n",
              "      <th></th>\n",
              "      <th></th>\n",
              "      <th></th>\n",
              "      <th></th>\n",
              "      <th></th>\n",
              "      <th></th>\n",
              "    </tr>\n",
              "  </thead>\n",
              "  <tbody>\n",
              "    <tr>\n",
              "      <th>2019-04-17</th>\n",
              "      <td>5173.72000000</td>\n",
              "      <td>5230.40000000</td>\n",
              "      <td>5146.80000000</td>\n",
              "      <td>5202.82000000</td>\n",
              "      <td>23307.53613400</td>\n",
              "      <td>120972345.51821637</td>\n",
              "      <td>179490</td>\n",
              "      <td>12172.53172400</td>\n",
              "      <td>63190167.89632924</td>\n",
              "    </tr>\n",
              "    <tr>\n",
              "      <th>2019-04-18</th>\n",
              "      <td>5202.41000000</td>\n",
              "      <td>5287.00000000</td>\n",
              "      <td>5198.80000000</td>\n",
              "      <td>5258.44000000</td>\n",
              "      <td>22619.23900100</td>\n",
              "      <td>118573129.86520114</td>\n",
              "      <td>167110</td>\n",
              "      <td>12104.85293200</td>\n",
              "      <td>63464128.54331125</td>\n",
              "    </tr>\n",
              "    <tr>\n",
              "      <th>2019-04-19</th>\n",
              "      <td>5258.44000000</td>\n",
              "      <td>5320.00000000</td>\n",
              "      <td>5175.00000000</td>\n",
              "      <td>5258.68000000</td>\n",
              "      <td>24611.23632300</td>\n",
              "      <td>128937309.63806376</td>\n",
              "      <td>178148</td>\n",
              "      <td>12889.68334400</td>\n",
              "      <td>67549701.12506344</td>\n",
              "    </tr>\n",
              "    <tr>\n",
              "      <th>2019-04-20</th>\n",
              "      <td>5258.68000000</td>\n",
              "      <td>5333.42000000</td>\n",
              "      <td>5230.10000000</td>\n",
              "      <td>5291.73000000</td>\n",
              "      <td>19168.90827400</td>\n",
              "      <td>101343660.15324434</td>\n",
              "      <td>157080</td>\n",
              "      <td>10029.27226200</td>\n",
              "      <td>53029542.91017945</td>\n",
              "    </tr>\n",
              "    <tr>\n",
              "      <th>2019-04-21</th>\n",
              "      <td>5292.91000000</td>\n",
              "      <td>5314.35000000</td>\n",
              "      <td>5165.00000000</td>\n",
              "      <td>5256.14000000</td>\n",
              "      <td>25549.57093900</td>\n",
              "      <td>133929931.15068736</td>\n",
              "      <td>210494</td>\n",
              "      <td>13147.77101600</td>\n",
              "      <td>68909870.81367928</td>\n",
              "    </tr>\n",
              "    <tr>\n",
              "      <th>...</th>\n",
              "      <td>...</td>\n",
              "      <td>...</td>\n",
              "      <td>...</td>\n",
              "      <td>...</td>\n",
              "      <td>...</td>\n",
              "      <td>...</td>\n",
              "      <td>...</td>\n",
              "      <td>...</td>\n",
              "      <td>...</td>\n",
              "    </tr>\n",
              "    <tr>\n",
              "      <th>2022-01-06</th>\n",
              "      <td>43451.14000000</td>\n",
              "      <td>43816.00000000</td>\n",
              "      <td>42430.58000000</td>\n",
              "      <td>43082.31000000</td>\n",
              "      <td>38880.37305000</td>\n",
              "      <td>1674466154.43833260</td>\n",
              "      <td>1150707</td>\n",
              "      <td>19268.82662000</td>\n",
              "      <td>829886561.82614530</td>\n",
              "    </tr>\n",
              "    <tr>\n",
              "      <th>2022-01-07</th>\n",
              "      <td>43082.30000000</td>\n",
              "      <td>43145.83000000</td>\n",
              "      <td>40610.00000000</td>\n",
              "      <td>41566.48000000</td>\n",
              "      <td>54836.50818000</td>\n",
              "      <td>2293851015.46523690</td>\n",
              "      <td>1406635</td>\n",
              "      <td>26519.39261000</td>\n",
              "      <td>1109740200.23872120</td>\n",
              "    </tr>\n",
              "    <tr>\n",
              "      <th>2022-01-08</th>\n",
              "      <td>41566.48000000</td>\n",
              "      <td>42300.00000000</td>\n",
              "      <td>40501.00000000</td>\n",
              "      <td>41679.74000000</td>\n",
              "      <td>32952.73111000</td>\n",
              "      <td>1367233494.82776660</td>\n",
              "      <td>1021908</td>\n",
              "      <td>16462.53747000</td>\n",
              "      <td>683155535.42153480</td>\n",
              "    </tr>\n",
              "    <tr>\n",
              "      <th>2022-01-09</th>\n",
              "      <td>41679.74000000</td>\n",
              "      <td>42786.70000000</td>\n",
              "      <td>41200.02000000</td>\n",
              "      <td>41864.62000000</td>\n",
              "      <td>22724.39426000</td>\n",
              "      <td>952830064.51258490</td>\n",
              "      <td>752733</td>\n",
              "      <td>11399.78979000</td>\n",
              "      <td>478046850.27715200</td>\n",
              "    </tr>\n",
              "    <tr>\n",
              "      <th>2022-01-10</th>\n",
              "      <td>41864.62000000</td>\n",
              "      <td>42248.50000000</td>\n",
              "      <td>41601.00000000</td>\n",
              "      <td>41824.84000000</td>\n",
              "      <td>7578.32671000</td>\n",
              "      <td>317719789.22662560</td>\n",
              "      <td>258803</td>\n",
              "      <td>3707.42980000</td>\n",
              "      <td>155447377.74867720</td>\n",
              "    </tr>\n",
              "  </tbody>\n",
              "</table>\n",
              "<p>1000 rows × 9 columns</p>\n",
              "</div>\n",
              "      <button class=\"colab-df-convert\" onclick=\"convertToInteractive('df-3a992f87-0400-49a5-9b80-c72e3c45be3d')\"\n",
              "              title=\"Convert this dataframe to an interactive table.\"\n",
              "              style=\"display:none;\">\n",
              "        \n",
              "  <svg xmlns=\"http://www.w3.org/2000/svg\" height=\"24px\"viewBox=\"0 0 24 24\"\n",
              "       width=\"24px\">\n",
              "    <path d=\"M0 0h24v24H0V0z\" fill=\"none\"/>\n",
              "    <path d=\"M18.56 5.44l.94 2.06.94-2.06 2.06-.94-2.06-.94-.94-2.06-.94 2.06-2.06.94zm-11 1L8.5 8.5l.94-2.06 2.06-.94-2.06-.94L8.5 2.5l-.94 2.06-2.06.94zm10 10l.94 2.06.94-2.06 2.06-.94-2.06-.94-.94-2.06-.94 2.06-2.06.94z\"/><path d=\"M17.41 7.96l-1.37-1.37c-.4-.4-.92-.59-1.43-.59-.52 0-1.04.2-1.43.59L10.3 9.45l-7.72 7.72c-.78.78-.78 2.05 0 2.83L4 21.41c.39.39.9.59 1.41.59.51 0 1.02-.2 1.41-.59l7.78-7.78 2.81-2.81c.8-.78.8-2.07 0-2.86zM5.41 20L4 18.59l7.72-7.72 1.47 1.35L5.41 20z\"/>\n",
              "  </svg>\n",
              "      </button>\n",
              "      \n",
              "  <style>\n",
              "    .colab-df-container {\n",
              "      display:flex;\n",
              "      flex-wrap:wrap;\n",
              "      gap: 12px;\n",
              "    }\n",
              "\n",
              "    .colab-df-convert {\n",
              "      background-color: #E8F0FE;\n",
              "      border: none;\n",
              "      border-radius: 50%;\n",
              "      cursor: pointer;\n",
              "      display: none;\n",
              "      fill: #1967D2;\n",
              "      height: 32px;\n",
              "      padding: 0 0 0 0;\n",
              "      width: 32px;\n",
              "    }\n",
              "\n",
              "    .colab-df-convert:hover {\n",
              "      background-color: #E2EBFA;\n",
              "      box-shadow: 0px 1px 2px rgba(60, 64, 67, 0.3), 0px 1px 3px 1px rgba(60, 64, 67, 0.15);\n",
              "      fill: #174EA6;\n",
              "    }\n",
              "\n",
              "    [theme=dark] .colab-df-convert {\n",
              "      background-color: #3B4455;\n",
              "      fill: #D2E3FC;\n",
              "    }\n",
              "\n",
              "    [theme=dark] .colab-df-convert:hover {\n",
              "      background-color: #434B5C;\n",
              "      box-shadow: 0px 1px 3px 1px rgba(0, 0, 0, 0.15);\n",
              "      filter: drop-shadow(0px 1px 2px rgba(0, 0, 0, 0.3));\n",
              "      fill: #FFFFFF;\n",
              "    }\n",
              "  </style>\n",
              "\n",
              "      <script>\n",
              "        const buttonEl =\n",
              "          document.querySelector('#df-3a992f87-0400-49a5-9b80-c72e3c45be3d button.colab-df-convert');\n",
              "        buttonEl.style.display =\n",
              "          google.colab.kernel.accessAllowed ? 'block' : 'none';\n",
              "\n",
              "        async function convertToInteractive(key) {\n",
              "          const element = document.querySelector('#df-3a992f87-0400-49a5-9b80-c72e3c45be3d');\n",
              "          const dataTable =\n",
              "            await google.colab.kernel.invokeFunction('convertToInteractive',\n",
              "                                                     [key], {});\n",
              "          if (!dataTable) return;\n",
              "\n",
              "          const docLinkHtml = 'Like what you see? Visit the ' +\n",
              "            '<a target=\"_blank\" href=https://colab.research.google.com/notebooks/data_table.ipynb>data table notebook</a>'\n",
              "            + ' to learn more about interactive tables.';\n",
              "          element.innerHTML = '';\n",
              "          dataTable['output_type'] = 'display_data';\n",
              "          await google.colab.output.renderOutput(dataTable, element);\n",
              "          const docLink = document.createElement('div');\n",
              "          docLink.innerHTML = docLinkHtml;\n",
              "          element.appendChild(docLink);\n",
              "        }\n",
              "      </script>\n",
              "    </div>\n",
              "  </div>\n",
              "  "
            ],
            "text/plain": [
              "                      open  ... taker_buy_quote_asset_volume\n",
              "Date                        ...                             \n",
              "2019-04-17   5173.72000000  ...            63190167.89632924\n",
              "2019-04-18   5202.41000000  ...            63464128.54331125\n",
              "2019-04-19   5258.44000000  ...            67549701.12506344\n",
              "2019-04-20   5258.68000000  ...            53029542.91017945\n",
              "2019-04-21   5292.91000000  ...            68909870.81367928\n",
              "...                    ...  ...                          ...\n",
              "2022-01-06  43451.14000000  ...           829886561.82614530\n",
              "2022-01-07  43082.30000000  ...          1109740200.23872120\n",
              "2022-01-08  41566.48000000  ...           683155535.42153480\n",
              "2022-01-09  41679.74000000  ...           478046850.27715200\n",
              "2022-01-10  41864.62000000  ...           155447377.74867720\n",
              "\n",
              "[1000 rows x 9 columns]"
            ]
          },
          "metadata": {},
          "execution_count": 5
        }
      ],
      "metadata": {
        "colab": {
          "base_uri": "https://localhost:8080/",
          "height": 693
        },
        "id": "KiVJqSkeeLOt",
        "outputId": "05577b22-7f23-445b-e151-6b0091e75b0c"
      }
    },
    {
      "cell_type": "code",
      "execution_count": 6,
      "source": [
        "r = requests.get(url,params={'symbol':'BTCUSDT','interval': '1d','limit':2000,'endTime':(1641348720-1)*2000})\n",
        "pd.DatetimeIndex(pd.DataFrame(r.json(),columns = my_col_names).open_time*1000000)"
      ],
      "outputs": [
        {
          "output_type": "execute_result",
          "data": {
            "text/plain": [
              "DatetimeIndex(['2019-04-17', '2019-04-18', '2019-04-19', '2019-04-20',\n",
              "               '2019-04-21', '2019-04-22', '2019-04-23', '2019-04-24',\n",
              "               '2019-04-25', '2019-04-26',\n",
              "               ...\n",
              "               '2022-01-01', '2022-01-02', '2022-01-03', '2022-01-04',\n",
              "               '2022-01-05', '2022-01-06', '2022-01-07', '2022-01-08',\n",
              "               '2022-01-09', '2022-01-10'],\n",
              "              dtype='datetime64[ns]', name='open_time', length=1000, freq=None)"
            ]
          },
          "metadata": {},
          "execution_count": 6
        }
      ],
      "metadata": {
        "colab": {
          "base_uri": "https://localhost:8080/"
        },
        "id": "1tihROGHmz6q",
        "outputId": "17e053d6-6379-4125-d98c-ab5b9a89e92d"
      }
    },
    {
      "cell_type": "code",
      "execution_count": 7,
      "source": [
        "cols = df.columns\n",
        "df[cols] = df[cols].apply(pd.to_numeric, errors='coerce')"
      ],
      "outputs": [],
      "metadata": {
        "id": "SD3rQIfsidQ0"
      }
    },
    {
      "cell_type": "code",
      "execution_count": 8,
      "source": [
        "df['taker_sell_base_asset_volume'] = df.volume - df.taker_buy_base_asset_volume\n",
        "df"
      ],
      "outputs": [
        {
          "output_type": "execute_result",
          "data": {
            "text/html": [
              "\n",
              "  <div id=\"df-f97befd2-d901-41b7-baa1-4e0f2426cce3\">\n",
              "    <div class=\"colab-df-container\">\n",
              "      <div>\n",
              "<style scoped>\n",
              "    .dataframe tbody tr th:only-of-type {\n",
              "        vertical-align: middle;\n",
              "    }\n",
              "\n",
              "    .dataframe tbody tr th {\n",
              "        vertical-align: top;\n",
              "    }\n",
              "\n",
              "    .dataframe thead th {\n",
              "        text-align: right;\n",
              "    }\n",
              "</style>\n",
              "<table border=\"1\" class=\"dataframe\">\n",
              "  <thead>\n",
              "    <tr style=\"text-align: right;\">\n",
              "      <th></th>\n",
              "      <th>open</th>\n",
              "      <th>high</th>\n",
              "      <th>low</th>\n",
              "      <th>close</th>\n",
              "      <th>volume</th>\n",
              "      <th>quote_asset_volume</th>\n",
              "      <th>number_of_trades</th>\n",
              "      <th>taker_buy_base_asset_volume</th>\n",
              "      <th>taker_buy_quote_asset_volume</th>\n",
              "      <th>taker_sell_base_asset_volume</th>\n",
              "    </tr>\n",
              "    <tr>\n",
              "      <th>Date</th>\n",
              "      <th></th>\n",
              "      <th></th>\n",
              "      <th></th>\n",
              "      <th></th>\n",
              "      <th></th>\n",
              "      <th></th>\n",
              "      <th></th>\n",
              "      <th></th>\n",
              "      <th></th>\n",
              "      <th></th>\n",
              "    </tr>\n",
              "  </thead>\n",
              "  <tbody>\n",
              "    <tr>\n",
              "      <th>2019-04-17</th>\n",
              "      <td>5173.72</td>\n",
              "      <td>5230.40</td>\n",
              "      <td>5146.80</td>\n",
              "      <td>5202.82</td>\n",
              "      <td>23307.536134</td>\n",
              "      <td>1.209723e+08</td>\n",
              "      <td>179490</td>\n",
              "      <td>12172.531724</td>\n",
              "      <td>6.319017e+07</td>\n",
              "      <td>11135.004410</td>\n",
              "    </tr>\n",
              "    <tr>\n",
              "      <th>2019-04-18</th>\n",
              "      <td>5202.41</td>\n",
              "      <td>5287.00</td>\n",
              "      <td>5198.80</td>\n",
              "      <td>5258.44</td>\n",
              "      <td>22619.239001</td>\n",
              "      <td>1.185731e+08</td>\n",
              "      <td>167110</td>\n",
              "      <td>12104.852932</td>\n",
              "      <td>6.346413e+07</td>\n",
              "      <td>10514.386069</td>\n",
              "    </tr>\n",
              "    <tr>\n",
              "      <th>2019-04-19</th>\n",
              "      <td>5258.44</td>\n",
              "      <td>5320.00</td>\n",
              "      <td>5175.00</td>\n",
              "      <td>5258.68</td>\n",
              "      <td>24611.236323</td>\n",
              "      <td>1.289373e+08</td>\n",
              "      <td>178148</td>\n",
              "      <td>12889.683344</td>\n",
              "      <td>6.754970e+07</td>\n",
              "      <td>11721.552979</td>\n",
              "    </tr>\n",
              "    <tr>\n",
              "      <th>2019-04-20</th>\n",
              "      <td>5258.68</td>\n",
              "      <td>5333.42</td>\n",
              "      <td>5230.10</td>\n",
              "      <td>5291.73</td>\n",
              "      <td>19168.908274</td>\n",
              "      <td>1.013437e+08</td>\n",
              "      <td>157080</td>\n",
              "      <td>10029.272262</td>\n",
              "      <td>5.302954e+07</td>\n",
              "      <td>9139.636012</td>\n",
              "    </tr>\n",
              "    <tr>\n",
              "      <th>2019-04-21</th>\n",
              "      <td>5292.91</td>\n",
              "      <td>5314.35</td>\n",
              "      <td>5165.00</td>\n",
              "      <td>5256.14</td>\n",
              "      <td>25549.570939</td>\n",
              "      <td>1.339299e+08</td>\n",
              "      <td>210494</td>\n",
              "      <td>13147.771016</td>\n",
              "      <td>6.890987e+07</td>\n",
              "      <td>12401.799923</td>\n",
              "    </tr>\n",
              "    <tr>\n",
              "      <th>...</th>\n",
              "      <td>...</td>\n",
              "      <td>...</td>\n",
              "      <td>...</td>\n",
              "      <td>...</td>\n",
              "      <td>...</td>\n",
              "      <td>...</td>\n",
              "      <td>...</td>\n",
              "      <td>...</td>\n",
              "      <td>...</td>\n",
              "      <td>...</td>\n",
              "    </tr>\n",
              "    <tr>\n",
              "      <th>2022-01-06</th>\n",
              "      <td>43451.14</td>\n",
              "      <td>43816.00</td>\n",
              "      <td>42430.58</td>\n",
              "      <td>43082.31</td>\n",
              "      <td>38880.373050</td>\n",
              "      <td>1.674466e+09</td>\n",
              "      <td>1150707</td>\n",
              "      <td>19268.826620</td>\n",
              "      <td>8.298866e+08</td>\n",
              "      <td>19611.546430</td>\n",
              "    </tr>\n",
              "    <tr>\n",
              "      <th>2022-01-07</th>\n",
              "      <td>43082.30</td>\n",
              "      <td>43145.83</td>\n",
              "      <td>40610.00</td>\n",
              "      <td>41566.48</td>\n",
              "      <td>54836.508180</td>\n",
              "      <td>2.293851e+09</td>\n",
              "      <td>1406635</td>\n",
              "      <td>26519.392610</td>\n",
              "      <td>1.109740e+09</td>\n",
              "      <td>28317.115570</td>\n",
              "    </tr>\n",
              "    <tr>\n",
              "      <th>2022-01-08</th>\n",
              "      <td>41566.48</td>\n",
              "      <td>42300.00</td>\n",
              "      <td>40501.00</td>\n",
              "      <td>41679.74</td>\n",
              "      <td>32952.731110</td>\n",
              "      <td>1.367233e+09</td>\n",
              "      <td>1021908</td>\n",
              "      <td>16462.537470</td>\n",
              "      <td>6.831555e+08</td>\n",
              "      <td>16490.193640</td>\n",
              "    </tr>\n",
              "    <tr>\n",
              "      <th>2022-01-09</th>\n",
              "      <td>41679.74</td>\n",
              "      <td>42786.70</td>\n",
              "      <td>41200.02</td>\n",
              "      <td>41864.62</td>\n",
              "      <td>22724.394260</td>\n",
              "      <td>9.528301e+08</td>\n",
              "      <td>752733</td>\n",
              "      <td>11399.789790</td>\n",
              "      <td>4.780469e+08</td>\n",
              "      <td>11324.604470</td>\n",
              "    </tr>\n",
              "    <tr>\n",
              "      <th>2022-01-10</th>\n",
              "      <td>41864.62</td>\n",
              "      <td>42248.50</td>\n",
              "      <td>41601.00</td>\n",
              "      <td>41824.84</td>\n",
              "      <td>7578.326710</td>\n",
              "      <td>3.177198e+08</td>\n",
              "      <td>258803</td>\n",
              "      <td>3707.429800</td>\n",
              "      <td>1.554474e+08</td>\n",
              "      <td>3870.896910</td>\n",
              "    </tr>\n",
              "  </tbody>\n",
              "</table>\n",
              "<p>1000 rows × 10 columns</p>\n",
              "</div>\n",
              "      <button class=\"colab-df-convert\" onclick=\"convertToInteractive('df-f97befd2-d901-41b7-baa1-4e0f2426cce3')\"\n",
              "              title=\"Convert this dataframe to an interactive table.\"\n",
              "              style=\"display:none;\">\n",
              "        \n",
              "  <svg xmlns=\"http://www.w3.org/2000/svg\" height=\"24px\"viewBox=\"0 0 24 24\"\n",
              "       width=\"24px\">\n",
              "    <path d=\"M0 0h24v24H0V0z\" fill=\"none\"/>\n",
              "    <path d=\"M18.56 5.44l.94 2.06.94-2.06 2.06-.94-2.06-.94-.94-2.06-.94 2.06-2.06.94zm-11 1L8.5 8.5l.94-2.06 2.06-.94-2.06-.94L8.5 2.5l-.94 2.06-2.06.94zm10 10l.94 2.06.94-2.06 2.06-.94-2.06-.94-.94-2.06-.94 2.06-2.06.94z\"/><path d=\"M17.41 7.96l-1.37-1.37c-.4-.4-.92-.59-1.43-.59-.52 0-1.04.2-1.43.59L10.3 9.45l-7.72 7.72c-.78.78-.78 2.05 0 2.83L4 21.41c.39.39.9.59 1.41.59.51 0 1.02-.2 1.41-.59l7.78-7.78 2.81-2.81c.8-.78.8-2.07 0-2.86zM5.41 20L4 18.59l7.72-7.72 1.47 1.35L5.41 20z\"/>\n",
              "  </svg>\n",
              "      </button>\n",
              "      \n",
              "  <style>\n",
              "    .colab-df-container {\n",
              "      display:flex;\n",
              "      flex-wrap:wrap;\n",
              "      gap: 12px;\n",
              "    }\n",
              "\n",
              "    .colab-df-convert {\n",
              "      background-color: #E8F0FE;\n",
              "      border: none;\n",
              "      border-radius: 50%;\n",
              "      cursor: pointer;\n",
              "      display: none;\n",
              "      fill: #1967D2;\n",
              "      height: 32px;\n",
              "      padding: 0 0 0 0;\n",
              "      width: 32px;\n",
              "    }\n",
              "\n",
              "    .colab-df-convert:hover {\n",
              "      background-color: #E2EBFA;\n",
              "      box-shadow: 0px 1px 2px rgba(60, 64, 67, 0.3), 0px 1px 3px 1px rgba(60, 64, 67, 0.15);\n",
              "      fill: #174EA6;\n",
              "    }\n",
              "\n",
              "    [theme=dark] .colab-df-convert {\n",
              "      background-color: #3B4455;\n",
              "      fill: #D2E3FC;\n",
              "    }\n",
              "\n",
              "    [theme=dark] .colab-df-convert:hover {\n",
              "      background-color: #434B5C;\n",
              "      box-shadow: 0px 1px 3px 1px rgba(0, 0, 0, 0.15);\n",
              "      filter: drop-shadow(0px 1px 2px rgba(0, 0, 0, 0.3));\n",
              "      fill: #FFFFFF;\n",
              "    }\n",
              "  </style>\n",
              "\n",
              "      <script>\n",
              "        const buttonEl =\n",
              "          document.querySelector('#df-f97befd2-d901-41b7-baa1-4e0f2426cce3 button.colab-df-convert');\n",
              "        buttonEl.style.display =\n",
              "          google.colab.kernel.accessAllowed ? 'block' : 'none';\n",
              "\n",
              "        async function convertToInteractive(key) {\n",
              "          const element = document.querySelector('#df-f97befd2-d901-41b7-baa1-4e0f2426cce3');\n",
              "          const dataTable =\n",
              "            await google.colab.kernel.invokeFunction('convertToInteractive',\n",
              "                                                     [key], {});\n",
              "          if (!dataTable) return;\n",
              "\n",
              "          const docLinkHtml = 'Like what you see? Visit the ' +\n",
              "            '<a target=\"_blank\" href=https://colab.research.google.com/notebooks/data_table.ipynb>data table notebook</a>'\n",
              "            + ' to learn more about interactive tables.';\n",
              "          element.innerHTML = '';\n",
              "          dataTable['output_type'] = 'display_data';\n",
              "          await google.colab.output.renderOutput(dataTable, element);\n",
              "          const docLink = document.createElement('div');\n",
              "          docLink.innerHTML = docLinkHtml;\n",
              "          element.appendChild(docLink);\n",
              "        }\n",
              "      </script>\n",
              "    </div>\n",
              "  </div>\n",
              "  "
            ],
            "text/plain": [
              "                open  ...  taker_sell_base_asset_volume\n",
              "Date                  ...                              \n",
              "2019-04-17   5173.72  ...                  11135.004410\n",
              "2019-04-18   5202.41  ...                  10514.386069\n",
              "2019-04-19   5258.44  ...                  11721.552979\n",
              "2019-04-20   5258.68  ...                   9139.636012\n",
              "2019-04-21   5292.91  ...                  12401.799923\n",
              "...              ...  ...                           ...\n",
              "2022-01-06  43451.14  ...                  19611.546430\n",
              "2022-01-07  43082.30  ...                  28317.115570\n",
              "2022-01-08  41566.48  ...                  16490.193640\n",
              "2022-01-09  41679.74  ...                  11324.604470\n",
              "2022-01-10  41864.62  ...                   3870.896910\n",
              "\n",
              "[1000 rows x 10 columns]"
            ]
          },
          "metadata": {},
          "execution_count": 8
        }
      ],
      "metadata": {
        "colab": {
          "base_uri": "https://localhost:8080/",
          "height": 693
        },
        "id": "zIqusLoalSbN",
        "outputId": "ac97c328-f134-4ea3-a414-6855cade08a8"
      }
    },
    {
      "cell_type": "code",
      "execution_count": 9,
      "source": [
        "df['order_flow_imbalance'] = 1-(df.taker_sell_base_asset_volume/df.taker_buy_base_asset_volume)\n",
        "df"
      ],
      "outputs": [
        {
          "output_type": "execute_result",
          "data": {
            "text/html": [
              "\n",
              "  <div id=\"df-dfb81849-e971-494b-942e-752f5259f09a\">\n",
              "    <div class=\"colab-df-container\">\n",
              "      <div>\n",
              "<style scoped>\n",
              "    .dataframe tbody tr th:only-of-type {\n",
              "        vertical-align: middle;\n",
              "    }\n",
              "\n",
              "    .dataframe tbody tr th {\n",
              "        vertical-align: top;\n",
              "    }\n",
              "\n",
              "    .dataframe thead th {\n",
              "        text-align: right;\n",
              "    }\n",
              "</style>\n",
              "<table border=\"1\" class=\"dataframe\">\n",
              "  <thead>\n",
              "    <tr style=\"text-align: right;\">\n",
              "      <th></th>\n",
              "      <th>open</th>\n",
              "      <th>high</th>\n",
              "      <th>low</th>\n",
              "      <th>close</th>\n",
              "      <th>volume</th>\n",
              "      <th>quote_asset_volume</th>\n",
              "      <th>number_of_trades</th>\n",
              "      <th>taker_buy_base_asset_volume</th>\n",
              "      <th>taker_buy_quote_asset_volume</th>\n",
              "      <th>taker_sell_base_asset_volume</th>\n",
              "      <th>order_flow_imbalance</th>\n",
              "    </tr>\n",
              "    <tr>\n",
              "      <th>Date</th>\n",
              "      <th></th>\n",
              "      <th></th>\n",
              "      <th></th>\n",
              "      <th></th>\n",
              "      <th></th>\n",
              "      <th></th>\n",
              "      <th></th>\n",
              "      <th></th>\n",
              "      <th></th>\n",
              "      <th></th>\n",
              "      <th></th>\n",
              "    </tr>\n",
              "  </thead>\n",
              "  <tbody>\n",
              "    <tr>\n",
              "      <th>2019-04-17</th>\n",
              "      <td>5173.72</td>\n",
              "      <td>5230.40</td>\n",
              "      <td>5146.80</td>\n",
              "      <td>5202.82</td>\n",
              "      <td>23307.536134</td>\n",
              "      <td>1.209723e+08</td>\n",
              "      <td>179490</td>\n",
              "      <td>12172.531724</td>\n",
              "      <td>6.319017e+07</td>\n",
              "      <td>11135.004410</td>\n",
              "      <td>0.085235</td>\n",
              "    </tr>\n",
              "    <tr>\n",
              "      <th>2019-04-18</th>\n",
              "      <td>5202.41</td>\n",
              "      <td>5287.00</td>\n",
              "      <td>5198.80</td>\n",
              "      <td>5258.44</td>\n",
              "      <td>22619.239001</td>\n",
              "      <td>1.185731e+08</td>\n",
              "      <td>167110</td>\n",
              "      <td>12104.852932</td>\n",
              "      <td>6.346413e+07</td>\n",
              "      <td>10514.386069</td>\n",
              "      <td>0.131391</td>\n",
              "    </tr>\n",
              "    <tr>\n",
              "      <th>2019-04-19</th>\n",
              "      <td>5258.44</td>\n",
              "      <td>5320.00</td>\n",
              "      <td>5175.00</td>\n",
              "      <td>5258.68</td>\n",
              "      <td>24611.236323</td>\n",
              "      <td>1.289373e+08</td>\n",
              "      <td>178148</td>\n",
              "      <td>12889.683344</td>\n",
              "      <td>6.754970e+07</td>\n",
              "      <td>11721.552979</td>\n",
              "      <td>0.090625</td>\n",
              "    </tr>\n",
              "    <tr>\n",
              "      <th>2019-04-20</th>\n",
              "      <td>5258.68</td>\n",
              "      <td>5333.42</td>\n",
              "      <td>5230.10</td>\n",
              "      <td>5291.73</td>\n",
              "      <td>19168.908274</td>\n",
              "      <td>1.013437e+08</td>\n",
              "      <td>157080</td>\n",
              "      <td>10029.272262</td>\n",
              "      <td>5.302954e+07</td>\n",
              "      <td>9139.636012</td>\n",
              "      <td>0.088704</td>\n",
              "    </tr>\n",
              "    <tr>\n",
              "      <th>2019-04-21</th>\n",
              "      <td>5292.91</td>\n",
              "      <td>5314.35</td>\n",
              "      <td>5165.00</td>\n",
              "      <td>5256.14</td>\n",
              "      <td>25549.570939</td>\n",
              "      <td>1.339299e+08</td>\n",
              "      <td>210494</td>\n",
              "      <td>13147.771016</td>\n",
              "      <td>6.890987e+07</td>\n",
              "      <td>12401.799923</td>\n",
              "      <td>0.056737</td>\n",
              "    </tr>\n",
              "    <tr>\n",
              "      <th>...</th>\n",
              "      <td>...</td>\n",
              "      <td>...</td>\n",
              "      <td>...</td>\n",
              "      <td>...</td>\n",
              "      <td>...</td>\n",
              "      <td>...</td>\n",
              "      <td>...</td>\n",
              "      <td>...</td>\n",
              "      <td>...</td>\n",
              "      <td>...</td>\n",
              "      <td>...</td>\n",
              "    </tr>\n",
              "    <tr>\n",
              "      <th>2022-01-06</th>\n",
              "      <td>43451.14</td>\n",
              "      <td>43816.00</td>\n",
              "      <td>42430.58</td>\n",
              "      <td>43082.31</td>\n",
              "      <td>38880.373050</td>\n",
              "      <td>1.674466e+09</td>\n",
              "      <td>1150707</td>\n",
              "      <td>19268.826620</td>\n",
              "      <td>8.298866e+08</td>\n",
              "      <td>19611.546430</td>\n",
              "      <td>-0.017786</td>\n",
              "    </tr>\n",
              "    <tr>\n",
              "      <th>2022-01-07</th>\n",
              "      <td>43082.30</td>\n",
              "      <td>43145.83</td>\n",
              "      <td>40610.00</td>\n",
              "      <td>41566.48</td>\n",
              "      <td>54836.508180</td>\n",
              "      <td>2.293851e+09</td>\n",
              "      <td>1406635</td>\n",
              "      <td>26519.392610</td>\n",
              "      <td>1.109740e+09</td>\n",
              "      <td>28317.115570</td>\n",
              "      <td>-0.067789</td>\n",
              "    </tr>\n",
              "    <tr>\n",
              "      <th>2022-01-08</th>\n",
              "      <td>41566.48</td>\n",
              "      <td>42300.00</td>\n",
              "      <td>40501.00</td>\n",
              "      <td>41679.74</td>\n",
              "      <td>32952.731110</td>\n",
              "      <td>1.367233e+09</td>\n",
              "      <td>1021908</td>\n",
              "      <td>16462.537470</td>\n",
              "      <td>6.831555e+08</td>\n",
              "      <td>16490.193640</td>\n",
              "      <td>-0.001680</td>\n",
              "    </tr>\n",
              "    <tr>\n",
              "      <th>2022-01-09</th>\n",
              "      <td>41679.74</td>\n",
              "      <td>42786.70</td>\n",
              "      <td>41200.02</td>\n",
              "      <td>41864.62</td>\n",
              "      <td>22724.394260</td>\n",
              "      <td>9.528301e+08</td>\n",
              "      <td>752733</td>\n",
              "      <td>11399.789790</td>\n",
              "      <td>4.780469e+08</td>\n",
              "      <td>11324.604470</td>\n",
              "      <td>0.006595</td>\n",
              "    </tr>\n",
              "    <tr>\n",
              "      <th>2022-01-10</th>\n",
              "      <td>41864.62</td>\n",
              "      <td>42248.50</td>\n",
              "      <td>41601.00</td>\n",
              "      <td>41824.84</td>\n",
              "      <td>7578.326710</td>\n",
              "      <td>3.177198e+08</td>\n",
              "      <td>258803</td>\n",
              "      <td>3707.429800</td>\n",
              "      <td>1.554474e+08</td>\n",
              "      <td>3870.896910</td>\n",
              "      <td>-0.044092</td>\n",
              "    </tr>\n",
              "  </tbody>\n",
              "</table>\n",
              "<p>1000 rows × 11 columns</p>\n",
              "</div>\n",
              "      <button class=\"colab-df-convert\" onclick=\"convertToInteractive('df-dfb81849-e971-494b-942e-752f5259f09a')\"\n",
              "              title=\"Convert this dataframe to an interactive table.\"\n",
              "              style=\"display:none;\">\n",
              "        \n",
              "  <svg xmlns=\"http://www.w3.org/2000/svg\" height=\"24px\"viewBox=\"0 0 24 24\"\n",
              "       width=\"24px\">\n",
              "    <path d=\"M0 0h24v24H0V0z\" fill=\"none\"/>\n",
              "    <path d=\"M18.56 5.44l.94 2.06.94-2.06 2.06-.94-2.06-.94-.94-2.06-.94 2.06-2.06.94zm-11 1L8.5 8.5l.94-2.06 2.06-.94-2.06-.94L8.5 2.5l-.94 2.06-2.06.94zm10 10l.94 2.06.94-2.06 2.06-.94-2.06-.94-.94-2.06-.94 2.06-2.06.94z\"/><path d=\"M17.41 7.96l-1.37-1.37c-.4-.4-.92-.59-1.43-.59-.52 0-1.04.2-1.43.59L10.3 9.45l-7.72 7.72c-.78.78-.78 2.05 0 2.83L4 21.41c.39.39.9.59 1.41.59.51 0 1.02-.2 1.41-.59l7.78-7.78 2.81-2.81c.8-.78.8-2.07 0-2.86zM5.41 20L4 18.59l7.72-7.72 1.47 1.35L5.41 20z\"/>\n",
              "  </svg>\n",
              "      </button>\n",
              "      \n",
              "  <style>\n",
              "    .colab-df-container {\n",
              "      display:flex;\n",
              "      flex-wrap:wrap;\n",
              "      gap: 12px;\n",
              "    }\n",
              "\n",
              "    .colab-df-convert {\n",
              "      background-color: #E8F0FE;\n",
              "      border: none;\n",
              "      border-radius: 50%;\n",
              "      cursor: pointer;\n",
              "      display: none;\n",
              "      fill: #1967D2;\n",
              "      height: 32px;\n",
              "      padding: 0 0 0 0;\n",
              "      width: 32px;\n",
              "    }\n",
              "\n",
              "    .colab-df-convert:hover {\n",
              "      background-color: #E2EBFA;\n",
              "      box-shadow: 0px 1px 2px rgba(60, 64, 67, 0.3), 0px 1px 3px 1px rgba(60, 64, 67, 0.15);\n",
              "      fill: #174EA6;\n",
              "    }\n",
              "\n",
              "    [theme=dark] .colab-df-convert {\n",
              "      background-color: #3B4455;\n",
              "      fill: #D2E3FC;\n",
              "    }\n",
              "\n",
              "    [theme=dark] .colab-df-convert:hover {\n",
              "      background-color: #434B5C;\n",
              "      box-shadow: 0px 1px 3px 1px rgba(0, 0, 0, 0.15);\n",
              "      filter: drop-shadow(0px 1px 2px rgba(0, 0, 0, 0.3));\n",
              "      fill: #FFFFFF;\n",
              "    }\n",
              "  </style>\n",
              "\n",
              "      <script>\n",
              "        const buttonEl =\n",
              "          document.querySelector('#df-dfb81849-e971-494b-942e-752f5259f09a button.colab-df-convert');\n",
              "        buttonEl.style.display =\n",
              "          google.colab.kernel.accessAllowed ? 'block' : 'none';\n",
              "\n",
              "        async function convertToInteractive(key) {\n",
              "          const element = document.querySelector('#df-dfb81849-e971-494b-942e-752f5259f09a');\n",
              "          const dataTable =\n",
              "            await google.colab.kernel.invokeFunction('convertToInteractive',\n",
              "                                                     [key], {});\n",
              "          if (!dataTable) return;\n",
              "\n",
              "          const docLinkHtml = 'Like what you see? Visit the ' +\n",
              "            '<a target=\"_blank\" href=https://colab.research.google.com/notebooks/data_table.ipynb>data table notebook</a>'\n",
              "            + ' to learn more about interactive tables.';\n",
              "          element.innerHTML = '';\n",
              "          dataTable['output_type'] = 'display_data';\n",
              "          await google.colab.output.renderOutput(dataTable, element);\n",
              "          const docLink = document.createElement('div');\n",
              "          docLink.innerHTML = docLinkHtml;\n",
              "          element.appendChild(docLink);\n",
              "        }\n",
              "      </script>\n",
              "    </div>\n",
              "  </div>\n",
              "  "
            ],
            "text/plain": [
              "                open  ...  order_flow_imbalance\n",
              "Date                  ...                      \n",
              "2019-04-17   5173.72  ...              0.085235\n",
              "2019-04-18   5202.41  ...              0.131391\n",
              "2019-04-19   5258.44  ...              0.090625\n",
              "2019-04-20   5258.68  ...              0.088704\n",
              "2019-04-21   5292.91  ...              0.056737\n",
              "...              ...  ...                   ...\n",
              "2022-01-06  43451.14  ...             -0.017786\n",
              "2022-01-07  43082.30  ...             -0.067789\n",
              "2022-01-08  41566.48  ...             -0.001680\n",
              "2022-01-09  41679.74  ...              0.006595\n",
              "2022-01-10  41864.62  ...             -0.044092\n",
              "\n",
              "[1000 rows x 11 columns]"
            ]
          },
          "metadata": {},
          "execution_count": 9
        }
      ],
      "metadata": {
        "colab": {
          "base_uri": "https://localhost:8080/",
          "height": 693
        },
        "id": "u9L9lfZ6GBs-",
        "outputId": "9cb9c47b-f105-4950-a360-b66fb3c86fcf"
      }
    },
    {
      "cell_type": "code",
      "execution_count": 10,
      "source": [
        "df['price_change'] = df.close.pct_change()\n",
        "df = df.dropna()\n",
        "df"
      ],
      "outputs": [
        {
          "output_type": "execute_result",
          "data": {
            "text/html": [
              "\n",
              "  <div id=\"df-4c116cb9-c73a-43d6-8867-0e3ecc0bd6a8\">\n",
              "    <div class=\"colab-df-container\">\n",
              "      <div>\n",
              "<style scoped>\n",
              "    .dataframe tbody tr th:only-of-type {\n",
              "        vertical-align: middle;\n",
              "    }\n",
              "\n",
              "    .dataframe tbody tr th {\n",
              "        vertical-align: top;\n",
              "    }\n",
              "\n",
              "    .dataframe thead th {\n",
              "        text-align: right;\n",
              "    }\n",
              "</style>\n",
              "<table border=\"1\" class=\"dataframe\">\n",
              "  <thead>\n",
              "    <tr style=\"text-align: right;\">\n",
              "      <th></th>\n",
              "      <th>open</th>\n",
              "      <th>high</th>\n",
              "      <th>low</th>\n",
              "      <th>close</th>\n",
              "      <th>volume</th>\n",
              "      <th>quote_asset_volume</th>\n",
              "      <th>number_of_trades</th>\n",
              "      <th>taker_buy_base_asset_volume</th>\n",
              "      <th>taker_buy_quote_asset_volume</th>\n",
              "      <th>taker_sell_base_asset_volume</th>\n",
              "      <th>order_flow_imbalance</th>\n",
              "      <th>price_change</th>\n",
              "    </tr>\n",
              "    <tr>\n",
              "      <th>Date</th>\n",
              "      <th></th>\n",
              "      <th></th>\n",
              "      <th></th>\n",
              "      <th></th>\n",
              "      <th></th>\n",
              "      <th></th>\n",
              "      <th></th>\n",
              "      <th></th>\n",
              "      <th></th>\n",
              "      <th></th>\n",
              "      <th></th>\n",
              "      <th></th>\n",
              "    </tr>\n",
              "  </thead>\n",
              "  <tbody>\n",
              "    <tr>\n",
              "      <th>2019-04-18</th>\n",
              "      <td>5202.41</td>\n",
              "      <td>5287.00</td>\n",
              "      <td>5198.80</td>\n",
              "      <td>5258.44</td>\n",
              "      <td>22619.239001</td>\n",
              "      <td>1.185731e+08</td>\n",
              "      <td>167110</td>\n",
              "      <td>12104.852932</td>\n",
              "      <td>6.346413e+07</td>\n",
              "      <td>10514.386069</td>\n",
              "      <td>0.131391</td>\n",
              "      <td>0.010690</td>\n",
              "    </tr>\n",
              "    <tr>\n",
              "      <th>2019-04-19</th>\n",
              "      <td>5258.44</td>\n",
              "      <td>5320.00</td>\n",
              "      <td>5175.00</td>\n",
              "      <td>5258.68</td>\n",
              "      <td>24611.236323</td>\n",
              "      <td>1.289373e+08</td>\n",
              "      <td>178148</td>\n",
              "      <td>12889.683344</td>\n",
              "      <td>6.754970e+07</td>\n",
              "      <td>11721.552979</td>\n",
              "      <td>0.090625</td>\n",
              "      <td>0.000046</td>\n",
              "    </tr>\n",
              "    <tr>\n",
              "      <th>2019-04-20</th>\n",
              "      <td>5258.68</td>\n",
              "      <td>5333.42</td>\n",
              "      <td>5230.10</td>\n",
              "      <td>5291.73</td>\n",
              "      <td>19168.908274</td>\n",
              "      <td>1.013437e+08</td>\n",
              "      <td>157080</td>\n",
              "      <td>10029.272262</td>\n",
              "      <td>5.302954e+07</td>\n",
              "      <td>9139.636012</td>\n",
              "      <td>0.088704</td>\n",
              "      <td>0.006285</td>\n",
              "    </tr>\n",
              "    <tr>\n",
              "      <th>2019-04-21</th>\n",
              "      <td>5292.91</td>\n",
              "      <td>5314.35</td>\n",
              "      <td>5165.00</td>\n",
              "      <td>5256.14</td>\n",
              "      <td>25549.570939</td>\n",
              "      <td>1.339299e+08</td>\n",
              "      <td>210494</td>\n",
              "      <td>13147.771016</td>\n",
              "      <td>6.890987e+07</td>\n",
              "      <td>12401.799923</td>\n",
              "      <td>0.056737</td>\n",
              "      <td>-0.006726</td>\n",
              "    </tr>\n",
              "    <tr>\n",
              "      <th>2019-04-22</th>\n",
              "      <td>5257.41</td>\n",
              "      <td>5400.00</td>\n",
              "      <td>5208.35</td>\n",
              "      <td>5357.14</td>\n",
              "      <td>29563.852309</td>\n",
              "      <td>1.566322e+08</td>\n",
              "      <td>210361</td>\n",
              "      <td>15828.004851</td>\n",
              "      <td>8.387936e+07</td>\n",
              "      <td>13735.847458</td>\n",
              "      <td>0.132181</td>\n",
              "      <td>0.019216</td>\n",
              "    </tr>\n",
              "    <tr>\n",
              "      <th>...</th>\n",
              "      <td>...</td>\n",
              "      <td>...</td>\n",
              "      <td>...</td>\n",
              "      <td>...</td>\n",
              "      <td>...</td>\n",
              "      <td>...</td>\n",
              "      <td>...</td>\n",
              "      <td>...</td>\n",
              "      <td>...</td>\n",
              "      <td>...</td>\n",
              "      <td>...</td>\n",
              "      <td>...</td>\n",
              "    </tr>\n",
              "    <tr>\n",
              "      <th>2022-01-06</th>\n",
              "      <td>43451.14</td>\n",
              "      <td>43816.00</td>\n",
              "      <td>42430.58</td>\n",
              "      <td>43082.31</td>\n",
              "      <td>38880.373050</td>\n",
              "      <td>1.674466e+09</td>\n",
              "      <td>1150707</td>\n",
              "      <td>19268.826620</td>\n",
              "      <td>8.298866e+08</td>\n",
              "      <td>19611.546430</td>\n",
              "      <td>-0.017786</td>\n",
              "      <td>-0.008488</td>\n",
              "    </tr>\n",
              "    <tr>\n",
              "      <th>2022-01-07</th>\n",
              "      <td>43082.30</td>\n",
              "      <td>43145.83</td>\n",
              "      <td>40610.00</td>\n",
              "      <td>41566.48</td>\n",
              "      <td>54836.508180</td>\n",
              "      <td>2.293851e+09</td>\n",
              "      <td>1406635</td>\n",
              "      <td>26519.392610</td>\n",
              "      <td>1.109740e+09</td>\n",
              "      <td>28317.115570</td>\n",
              "      <td>-0.067789</td>\n",
              "      <td>-0.035185</td>\n",
              "    </tr>\n",
              "    <tr>\n",
              "      <th>2022-01-08</th>\n",
              "      <td>41566.48</td>\n",
              "      <td>42300.00</td>\n",
              "      <td>40501.00</td>\n",
              "      <td>41679.74</td>\n",
              "      <td>32952.731110</td>\n",
              "      <td>1.367233e+09</td>\n",
              "      <td>1021908</td>\n",
              "      <td>16462.537470</td>\n",
              "      <td>6.831555e+08</td>\n",
              "      <td>16490.193640</td>\n",
              "      <td>-0.001680</td>\n",
              "      <td>0.002725</td>\n",
              "    </tr>\n",
              "    <tr>\n",
              "      <th>2022-01-09</th>\n",
              "      <td>41679.74</td>\n",
              "      <td>42786.70</td>\n",
              "      <td>41200.02</td>\n",
              "      <td>41864.62</td>\n",
              "      <td>22724.394260</td>\n",
              "      <td>9.528301e+08</td>\n",
              "      <td>752733</td>\n",
              "      <td>11399.789790</td>\n",
              "      <td>4.780469e+08</td>\n",
              "      <td>11324.604470</td>\n",
              "      <td>0.006595</td>\n",
              "      <td>0.004436</td>\n",
              "    </tr>\n",
              "    <tr>\n",
              "      <th>2022-01-10</th>\n",
              "      <td>41864.62</td>\n",
              "      <td>42248.50</td>\n",
              "      <td>41601.00</td>\n",
              "      <td>41824.84</td>\n",
              "      <td>7578.326710</td>\n",
              "      <td>3.177198e+08</td>\n",
              "      <td>258803</td>\n",
              "      <td>3707.429800</td>\n",
              "      <td>1.554474e+08</td>\n",
              "      <td>3870.896910</td>\n",
              "      <td>-0.044092</td>\n",
              "      <td>-0.000950</td>\n",
              "    </tr>\n",
              "  </tbody>\n",
              "</table>\n",
              "<p>999 rows × 12 columns</p>\n",
              "</div>\n",
              "      <button class=\"colab-df-convert\" onclick=\"convertToInteractive('df-4c116cb9-c73a-43d6-8867-0e3ecc0bd6a8')\"\n",
              "              title=\"Convert this dataframe to an interactive table.\"\n",
              "              style=\"display:none;\">\n",
              "        \n",
              "  <svg xmlns=\"http://www.w3.org/2000/svg\" height=\"24px\"viewBox=\"0 0 24 24\"\n",
              "       width=\"24px\">\n",
              "    <path d=\"M0 0h24v24H0V0z\" fill=\"none\"/>\n",
              "    <path d=\"M18.56 5.44l.94 2.06.94-2.06 2.06-.94-2.06-.94-.94-2.06-.94 2.06-2.06.94zm-11 1L8.5 8.5l.94-2.06 2.06-.94-2.06-.94L8.5 2.5l-.94 2.06-2.06.94zm10 10l.94 2.06.94-2.06 2.06-.94-2.06-.94-.94-2.06-.94 2.06-2.06.94z\"/><path d=\"M17.41 7.96l-1.37-1.37c-.4-.4-.92-.59-1.43-.59-.52 0-1.04.2-1.43.59L10.3 9.45l-7.72 7.72c-.78.78-.78 2.05 0 2.83L4 21.41c.39.39.9.59 1.41.59.51 0 1.02-.2 1.41-.59l7.78-7.78 2.81-2.81c.8-.78.8-2.07 0-2.86zM5.41 20L4 18.59l7.72-7.72 1.47 1.35L5.41 20z\"/>\n",
              "  </svg>\n",
              "      </button>\n",
              "      \n",
              "  <style>\n",
              "    .colab-df-container {\n",
              "      display:flex;\n",
              "      flex-wrap:wrap;\n",
              "      gap: 12px;\n",
              "    }\n",
              "\n",
              "    .colab-df-convert {\n",
              "      background-color: #E8F0FE;\n",
              "      border: none;\n",
              "      border-radius: 50%;\n",
              "      cursor: pointer;\n",
              "      display: none;\n",
              "      fill: #1967D2;\n",
              "      height: 32px;\n",
              "      padding: 0 0 0 0;\n",
              "      width: 32px;\n",
              "    }\n",
              "\n",
              "    .colab-df-convert:hover {\n",
              "      background-color: #E2EBFA;\n",
              "      box-shadow: 0px 1px 2px rgba(60, 64, 67, 0.3), 0px 1px 3px 1px rgba(60, 64, 67, 0.15);\n",
              "      fill: #174EA6;\n",
              "    }\n",
              "\n",
              "    [theme=dark] .colab-df-convert {\n",
              "      background-color: #3B4455;\n",
              "      fill: #D2E3FC;\n",
              "    }\n",
              "\n",
              "    [theme=dark] .colab-df-convert:hover {\n",
              "      background-color: #434B5C;\n",
              "      box-shadow: 0px 1px 3px 1px rgba(0, 0, 0, 0.15);\n",
              "      filter: drop-shadow(0px 1px 2px rgba(0, 0, 0, 0.3));\n",
              "      fill: #FFFFFF;\n",
              "    }\n",
              "  </style>\n",
              "\n",
              "      <script>\n",
              "        const buttonEl =\n",
              "          document.querySelector('#df-4c116cb9-c73a-43d6-8867-0e3ecc0bd6a8 button.colab-df-convert');\n",
              "        buttonEl.style.display =\n",
              "          google.colab.kernel.accessAllowed ? 'block' : 'none';\n",
              "\n",
              "        async function convertToInteractive(key) {\n",
              "          const element = document.querySelector('#df-4c116cb9-c73a-43d6-8867-0e3ecc0bd6a8');\n",
              "          const dataTable =\n",
              "            await google.colab.kernel.invokeFunction('convertToInteractive',\n",
              "                                                     [key], {});\n",
              "          if (!dataTable) return;\n",
              "\n",
              "          const docLinkHtml = 'Like what you see? Visit the ' +\n",
              "            '<a target=\"_blank\" href=https://colab.research.google.com/notebooks/data_table.ipynb>data table notebook</a>'\n",
              "            + ' to learn more about interactive tables.';\n",
              "          element.innerHTML = '';\n",
              "          dataTable['output_type'] = 'display_data';\n",
              "          await google.colab.output.renderOutput(dataTable, element);\n",
              "          const docLink = document.createElement('div');\n",
              "          docLink.innerHTML = docLinkHtml;\n",
              "          element.appendChild(docLink);\n",
              "        }\n",
              "      </script>\n",
              "    </div>\n",
              "  </div>\n",
              "  "
            ],
            "text/plain": [
              "                open      high  ...  order_flow_imbalance  price_change\n",
              "Date                            ...                                    \n",
              "2019-04-18   5202.41   5287.00  ...              0.131391      0.010690\n",
              "2019-04-19   5258.44   5320.00  ...              0.090625      0.000046\n",
              "2019-04-20   5258.68   5333.42  ...              0.088704      0.006285\n",
              "2019-04-21   5292.91   5314.35  ...              0.056737     -0.006726\n",
              "2019-04-22   5257.41   5400.00  ...              0.132181      0.019216\n",
              "...              ...       ...  ...                   ...           ...\n",
              "2022-01-06  43451.14  43816.00  ...             -0.017786     -0.008488\n",
              "2022-01-07  43082.30  43145.83  ...             -0.067789     -0.035185\n",
              "2022-01-08  41566.48  42300.00  ...             -0.001680      0.002725\n",
              "2022-01-09  41679.74  42786.70  ...              0.006595      0.004436\n",
              "2022-01-10  41864.62  42248.50  ...             -0.044092     -0.000950\n",
              "\n",
              "[999 rows x 12 columns]"
            ]
          },
          "metadata": {},
          "execution_count": 10
        }
      ],
      "metadata": {
        "colab": {
          "base_uri": "https://localhost:8080/",
          "height": 693
        },
        "id": "XxqGYWRuGCBm",
        "outputId": "746f1dac-f38c-43c9-b684-fc61572f81bf"
      }
    },
    {
      "cell_type": "code",
      "execution_count": 11,
      "source": [
        "df.plot.scatter(x='order_flow_imbalance',y='price_change')"
      ],
      "outputs": [
        {
          "output_type": "execute_result",
          "data": {
            "text/plain": [
              "<matplotlib.axes._subplots.AxesSubplot at 0x7fdb696a2e90>"
            ]
          },
          "metadata": {},
          "execution_count": 11
        },
        {
          "output_type": "display_data",
          "data": {
            "image/png": "[encoded data removed]",
            "text/plain": [
              "<Figure size 432x288 with 1 Axes>"
            ]
          },
          "metadata": {
            "needs_background": "light"
          }
        }
      ],
      "metadata": {
        "colab": {
          "base_uri": "https://localhost:8080/",
          "height": 297
        },
        "id": "x2DAnJ1rG-JD",
        "outputId": "546631b2-3953-4079-93b5-9d5bf2e04074"
      }
    },
    {
      "cell_type": "code",
      "execution_count": 12,
      "source": [
        "df[\"low\"] = pd.to_numeric(df[\"low\"])\n",
        "df[\"high\"] = pd.to_numeric(df[\"high\"])\n",
        "df['Mean'] = (df['low'] + df['high'])/2\n",
        "df=df.dropna()\n",
        "df"
      ],
      "outputs": [
        {
          "output_type": "execute_result",
          "data": {
            "text/html": [
              "\n",
              "  <div id=\"df-600dddaf-3ccf-4ec7-aab1-2392e9904961\">\n",
              "    <div class=\"colab-df-container\">\n",
              "      <div>\n",
              "<style scoped>\n",
              "    .dataframe tbody tr th:only-of-type {\n",
              "        vertical-align: middle;\n",
              "    }\n",
              "\n",
              "    .dataframe tbody tr th {\n",
              "        vertical-align: top;\n",
              "    }\n",
              "\n",
              "    .dataframe thead th {\n",
              "        text-align: right;\n",
              "    }\n",
              "</style>\n",
              "<table border=\"1\" class=\"dataframe\">\n",
              "  <thead>\n",
              "    <tr style=\"text-align: right;\">\n",
              "      <th></th>\n",
              "      <th>open</th>\n",
              "      <th>high</th>\n",
              "      <th>low</th>\n",
              "      <th>close</th>\n",
              "      <th>volume</th>\n",
              "      <th>quote_asset_volume</th>\n",
              "      <th>number_of_trades</th>\n",
              "      <th>taker_buy_base_asset_volume</th>\n",
              "      <th>taker_buy_quote_asset_volume</th>\n",
              "      <th>taker_sell_base_asset_volume</th>\n",
              "      <th>order_flow_imbalance</th>\n",
              "      <th>price_change</th>\n",
              "      <th>Mean</th>\n",
              "    </tr>\n",
              "    <tr>\n",
              "      <th>Date</th>\n",
              "      <th></th>\n",
              "      <th></th>\n",
              "      <th></th>\n",
              "      <th></th>\n",
              "      <th></th>\n",
              "      <th></th>\n",
              "      <th></th>\n",
              "      <th></th>\n",
              "      <th></th>\n",
              "      <th></th>\n",
              "      <th></th>\n",
              "      <th></th>\n",
              "      <th></th>\n",
              "    </tr>\n",
              "  </thead>\n",
              "  <tbody>\n",
              "    <tr>\n",
              "      <th>2019-04-18</th>\n",
              "      <td>5202.41</td>\n",
              "      <td>5287.00</td>\n",
              "      <td>5198.80</td>\n",
              "      <td>5258.44</td>\n",
              "      <td>22619.239001</td>\n",
              "      <td>1.185731e+08</td>\n",
              "      <td>167110</td>\n",
              "      <td>12104.852932</td>\n",
              "      <td>6.346413e+07</td>\n",
              "      <td>10514.386069</td>\n",
              "      <td>0.131391</td>\n",
              "      <td>0.010690</td>\n",
              "      <td>5242.900</td>\n",
              "    </tr>\n",
              "    <tr>\n",
              "      <th>2019-04-19</th>\n",
              "      <td>5258.44</td>\n",
              "      <td>5320.00</td>\n",
              "      <td>5175.00</td>\n",
              "      <td>5258.68</td>\n",
              "      <td>24611.236323</td>\n",
              "      <td>1.289373e+08</td>\n",
              "      <td>178148</td>\n",
              "      <td>12889.683344</td>\n",
              "      <td>6.754970e+07</td>\n",
              "      <td>11721.552979</td>\n",
              "      <td>0.090625</td>\n",
              "      <td>0.000046</td>\n",
              "      <td>5247.500</td>\n",
              "    </tr>\n",
              "    <tr>\n",
              "      <th>2019-04-20</th>\n",
              "      <td>5258.68</td>\n",
              "      <td>5333.42</td>\n",
              "      <td>5230.10</td>\n",
              "      <td>5291.73</td>\n",
              "      <td>19168.908274</td>\n",
              "      <td>1.013437e+08</td>\n",
              "      <td>157080</td>\n",
              "      <td>10029.272262</td>\n",
              "      <td>5.302954e+07</td>\n",
              "      <td>9139.636012</td>\n",
              "      <td>0.088704</td>\n",
              "      <td>0.006285</td>\n",
              "      <td>5281.760</td>\n",
              "    </tr>\n",
              "    <tr>\n",
              "      <th>2019-04-21</th>\n",
              "      <td>5292.91</td>\n",
              "      <td>5314.35</td>\n",
              "      <td>5165.00</td>\n",
              "      <td>5256.14</td>\n",
              "      <td>25549.570939</td>\n",
              "      <td>1.339299e+08</td>\n",
              "      <td>210494</td>\n",
              "      <td>13147.771016</td>\n",
              "      <td>6.890987e+07</td>\n",
              "      <td>12401.799923</td>\n",
              "      <td>0.056737</td>\n",
              "      <td>-0.006726</td>\n",
              "      <td>5239.675</td>\n",
              "    </tr>\n",
              "    <tr>\n",
              "      <th>2019-04-22</th>\n",
              "      <td>5257.41</td>\n",
              "      <td>5400.00</td>\n",
              "      <td>5208.35</td>\n",
              "      <td>5357.14</td>\n",
              "      <td>29563.852309</td>\n",
              "      <td>1.566322e+08</td>\n",
              "      <td>210361</td>\n",
              "      <td>15828.004851</td>\n",
              "      <td>8.387936e+07</td>\n",
              "      <td>13735.847458</td>\n",
              "      <td>0.132181</td>\n",
              "      <td>0.019216</td>\n",
              "      <td>5304.175</td>\n",
              "    </tr>\n",
              "    <tr>\n",
              "      <th>...</th>\n",
              "      <td>...</td>\n",
              "      <td>...</td>\n",
              "      <td>...</td>\n",
              "      <td>...</td>\n",
              "      <td>...</td>\n",
              "      <td>...</td>\n",
              "      <td>...</td>\n",
              "      <td>...</td>\n",
              "      <td>...</td>\n",
              "      <td>...</td>\n",
              "      <td>...</td>\n",
              "      <td>...</td>\n",
              "      <td>...</td>\n",
              "    </tr>\n",
              "    <tr>\n",
              "      <th>2022-01-06</th>\n",
              "      <td>43451.14</td>\n",
              "      <td>43816.00</td>\n",
              "      <td>42430.58</td>\n",
              "      <td>43082.31</td>\n",
              "      <td>38880.373050</td>\n",
              "      <td>1.674466e+09</td>\n",
              "      <td>1150707</td>\n",
              "      <td>19268.826620</td>\n",
              "      <td>8.298866e+08</td>\n",
              "      <td>19611.546430</td>\n",
              "      <td>-0.017786</td>\n",
              "      <td>-0.008488</td>\n",
              "      <td>43123.290</td>\n",
              "    </tr>\n",
              "    <tr>\n",
              "      <th>2022-01-07</th>\n",
              "      <td>43082.30</td>\n",
              "      <td>43145.83</td>\n",
              "      <td>40610.00</td>\n",
              "      <td>41566.48</td>\n",
              "      <td>54836.508180</td>\n",
              "      <td>2.293851e+09</td>\n",
              "      <td>1406635</td>\n",
              "      <td>26519.392610</td>\n",
              "      <td>1.109740e+09</td>\n",
              "      <td>28317.115570</td>\n",
              "      <td>-0.067789</td>\n",
              "      <td>-0.035185</td>\n",
              "      <td>41877.915</td>\n",
              "    </tr>\n",
              "    <tr>\n",
              "      <th>2022-01-08</th>\n",
              "      <td>41566.48</td>\n",
              "      <td>42300.00</td>\n",
              "      <td>40501.00</td>\n",
              "      <td>41679.74</td>\n",
              "      <td>32952.731110</td>\n",
              "      <td>1.367233e+09</td>\n",
              "      <td>1021908</td>\n",
              "      <td>16462.537470</td>\n",
              "      <td>6.831555e+08</td>\n",
              "      <td>16490.193640</td>\n",
              "      <td>-0.001680</td>\n",
              "      <td>0.002725</td>\n",
              "      <td>41400.500</td>\n",
              "    </tr>\n",
              "    <tr>\n",
              "      <th>2022-01-09</th>\n",
              "      <td>41679.74</td>\n",
              "      <td>42786.70</td>\n",
              "      <td>41200.02</td>\n",
              "      <td>41864.62</td>\n",
              "      <td>22724.394260</td>\n",
              "      <td>9.528301e+08</td>\n",
              "      <td>752733</td>\n",
              "      <td>11399.789790</td>\n",
              "      <td>4.780469e+08</td>\n",
              "      <td>11324.604470</td>\n",
              "      <td>0.006595</td>\n",
              "      <td>0.004436</td>\n",
              "      <td>41993.360</td>\n",
              "    </tr>\n",
              "    <tr>\n",
              "      <th>2022-01-10</th>\n",
              "      <td>41864.62</td>\n",
              "      <td>42248.50</td>\n",
              "      <td>41601.00</td>\n",
              "      <td>41824.84</td>\n",
              "      <td>7578.326710</td>\n",
              "      <td>3.177198e+08</td>\n",
              "      <td>258803</td>\n",
              "      <td>3707.429800</td>\n",
              "      <td>1.554474e+08</td>\n",
              "      <td>3870.896910</td>\n",
              "      <td>-0.044092</td>\n",
              "      <td>-0.000950</td>\n",
              "      <td>41924.750</td>\n",
              "    </tr>\n",
              "  </tbody>\n",
              "</table>\n",
              "<p>999 rows × 13 columns</p>\n",
              "</div>\n",
              "      <button class=\"colab-df-convert\" onclick=\"convertToInteractive('df-600dddaf-3ccf-4ec7-aab1-2392e9904961')\"\n",
              "              title=\"Convert this dataframe to an interactive table.\"\n",
              "              style=\"display:none;\">\n",
              "        \n",
              "  <svg xmlns=\"http://www.w3.org/2000/svg\" height=\"24px\"viewBox=\"0 0 24 24\"\n",
              "       width=\"24px\">\n",
              "    <path d=\"M0 0h24v24H0V0z\" fill=\"none\"/>\n",
              "    <path d=\"M18.56 5.44l.94 2.06.94-2.06 2.06-.94-2.06-.94-.94-2.06-.94 2.06-2.06.94zm-11 1L8.5 8.5l.94-2.06 2.06-.94-2.06-.94L8.5 2.5l-.94 2.06-2.06.94zm10 10l.94 2.06.94-2.06 2.06-.94-2.06-.94-.94-2.06-.94 2.06-2.06.94z\"/><path d=\"M17.41 7.96l-1.37-1.37c-.4-.4-.92-.59-1.43-.59-.52 0-1.04.2-1.43.59L10.3 9.45l-7.72 7.72c-.78.78-.78 2.05 0 2.83L4 21.41c.39.39.9.59 1.41.59.51 0 1.02-.2 1.41-.59l7.78-7.78 2.81-2.81c.8-.78.8-2.07 0-2.86zM5.41 20L4 18.59l7.72-7.72 1.47 1.35L5.41 20z\"/>\n",
              "  </svg>\n",
              "      </button>\n",
              "      \n",
              "  <style>\n",
              "    .colab-df-container {\n",
              "      display:flex;\n",
              "      flex-wrap:wrap;\n",
              "      gap: 12px;\n",
              "    }\n",
              "\n",
              "    .colab-df-convert {\n",
              "      background-color: #E8F0FE;\n",
              "      border: none;\n",
              "      border-radius: 50%;\n",
              "      cursor: pointer;\n",
              "      display: none;\n",
              "      fill: #1967D2;\n",
              "      height: 32px;\n",
              "      padding: 0 0 0 0;\n",
              "      width: 32px;\n",
              "    }\n",
              "\n",
              "    .colab-df-convert:hover {\n",
              "      background-color: #E2EBFA;\n",
              "      box-shadow: 0px 1px 2px rgba(60, 64, 67, 0.3), 0px 1px 3px 1px rgba(60, 64, 67, 0.15);\n",
              "      fill: #174EA6;\n",
              "    }\n",
              "\n",
              "    [theme=dark] .colab-df-convert {\n",
              "      background-color: #3B4455;\n",
              "      fill: #D2E3FC;\n",
              "    }\n",
              "\n",
              "    [theme=dark] .colab-df-convert:hover {\n",
              "      background-color: #434B5C;\n",
              "      box-shadow: 0px 1px 3px 1px rgba(0, 0, 0, 0.15);\n",
              "      filter: drop-shadow(0px 1px 2px rgba(0, 0, 0, 0.3));\n",
              "      fill: #FFFFFF;\n",
              "    }\n",
              "  </style>\n",
              "\n",
              "      <script>\n",
              "        const buttonEl =\n",
              "          document.querySelector('#df-600dddaf-3ccf-4ec7-aab1-2392e9904961 button.colab-df-convert');\n",
              "        buttonEl.style.display =\n",
              "          google.colab.kernel.accessAllowed ? 'block' : 'none';\n",
              "\n",
              "        async function convertToInteractive(key) {\n",
              "          const element = document.querySelector('#df-600dddaf-3ccf-4ec7-aab1-2392e9904961');\n",
              "          const dataTable =\n",
              "            await google.colab.kernel.invokeFunction('convertToInteractive',\n",
              "                                                     [key], {});\n",
              "          if (!dataTable) return;\n",
              "\n",
              "          const docLinkHtml = 'Like what you see? Visit the ' +\n",
              "            '<a target=\"_blank\" href=https://colab.research.google.com/notebooks/data_table.ipynb>data table notebook</a>'\n",
              "            + ' to learn more about interactive tables.';\n",
              "          element.innerHTML = '';\n",
              "          dataTable['output_type'] = 'display_data';\n",
              "          await google.colab.output.renderOutput(dataTable, element);\n",
              "          const docLink = document.createElement('div');\n",
              "          docLink.innerHTML = docLinkHtml;\n",
              "          element.appendChild(docLink);\n",
              "        }\n",
              "      </script>\n",
              "    </div>\n",
              "  </div>\n",
              "  "
            ],
            "text/plain": [
              "                open      high  ...  price_change       Mean\n",
              "Date                            ...                         \n",
              "2019-04-18   5202.41   5287.00  ...      0.010690   5242.900\n",
              "2019-04-19   5258.44   5320.00  ...      0.000046   5247.500\n",
              "2019-04-20   5258.68   5333.42  ...      0.006285   5281.760\n",
              "2019-04-21   5292.91   5314.35  ...     -0.006726   5239.675\n",
              "2019-04-22   5257.41   5400.00  ...      0.019216   5304.175\n",
              "...              ...       ...  ...           ...        ...\n",
              "2022-01-06  43451.14  43816.00  ...     -0.008488  43123.290\n",
              "2022-01-07  43082.30  43145.83  ...     -0.035185  41877.915\n",
              "2022-01-08  41566.48  42300.00  ...      0.002725  41400.500\n",
              "2022-01-09  41679.74  42786.70  ...      0.004436  41993.360\n",
              "2022-01-10  41864.62  42248.50  ...     -0.000950  41924.750\n",
              "\n",
              "[999 rows x 13 columns]"
            ]
          },
          "metadata": {},
          "execution_count": 12
        }
      ],
      "metadata": {
        "colab": {
          "base_uri": "https://localhost:8080/",
          "height": 693
        },
        "id": "nMSO6em5WLsW",
        "outputId": "25ee1fbb-26e8-492c-f680-e3802a41e869"
      }
    },
    {
      "cell_type": "code",
      "execution_count": 13,
      "source": [
        "dataset_for_prediction = df.copy()\n",
        "dataset_for_prediction['Actual']=dataset_for_prediction['price_change'].shift()\n",
        "dataset_for_prediction=dataset_for_prediction.dropna()\n",
        "dataset_for_prediction"
      ],
      "outputs": [
        {
          "output_type": "execute_result",
          "data": {
            "text/html": [
              "\n",
              "  <div id=\"df-f1889a4e-086b-4642-963e-341422699a77\">\n",
              "    <div class=\"colab-df-container\">\n",
              "      <div>\n",
              "<style scoped>\n",
              "    .dataframe tbody tr th:only-of-type {\n",
              "        vertical-align: middle;\n",
              "    }\n",
              "\n",
              "    .dataframe tbody tr th {\n",
              "        vertical-align: top;\n",
              "    }\n",
              "\n",
              "    .dataframe thead th {\n",
              "        text-align: right;\n",
              "    }\n",
              "</style>\n",
              "<table border=\"1\" class=\"dataframe\">\n",
              "  <thead>\n",
              "    <tr style=\"text-align: right;\">\n",
              "      <th></th>\n",
              "      <th>open</th>\n",
              "      <th>high</th>\n",
              "      <th>low</th>\n",
              "      <th>close</th>\n",
              "      <th>volume</th>\n",
              "      <th>quote_asset_volume</th>\n",
              "      <th>number_of_trades</th>\n",
              "      <th>taker_buy_base_asset_volume</th>\n",
              "      <th>taker_buy_quote_asset_volume</th>\n",
              "      <th>taker_sell_base_asset_volume</th>\n",
              "      <th>order_flow_imbalance</th>\n",
              "      <th>price_change</th>\n",
              "      <th>Mean</th>\n",
              "      <th>Actual</th>\n",
              "    </tr>\n",
              "    <tr>\n",
              "      <th>Date</th>\n",
              "      <th></th>\n",
              "      <th></th>\n",
              "      <th></th>\n",
              "      <th></th>\n",
              "      <th></th>\n",
              "      <th></th>\n",
              "      <th></th>\n",
              "      <th></th>\n",
              "      <th></th>\n",
              "      <th></th>\n",
              "      <th></th>\n",
              "      <th></th>\n",
              "      <th></th>\n",
              "      <th></th>\n",
              "    </tr>\n",
              "  </thead>\n",
              "  <tbody>\n",
              "    <tr>\n",
              "      <th>2019-04-19</th>\n",
              "      <td>5258.44</td>\n",
              "      <td>5320.00</td>\n",
              "      <td>5175.00</td>\n",
              "      <td>5258.68</td>\n",
              "      <td>24611.236323</td>\n",
              "      <td>1.289373e+08</td>\n",
              "      <td>178148</td>\n",
              "      <td>12889.683344</td>\n",
              "      <td>6.754970e+07</td>\n",
              "      <td>11721.552979</td>\n",
              "      <td>0.090625</td>\n",
              "      <td>0.000046</td>\n",
              "      <td>5247.500</td>\n",
              "      <td>0.010690</td>\n",
              "    </tr>\n",
              "    <tr>\n",
              "      <th>2019-04-20</th>\n",
              "      <td>5258.68</td>\n",
              "      <td>5333.42</td>\n",
              "      <td>5230.10</td>\n",
              "      <td>5291.73</td>\n",
              "      <td>19168.908274</td>\n",
              "      <td>1.013437e+08</td>\n",
              "      <td>157080</td>\n",
              "      <td>10029.272262</td>\n",
              "      <td>5.302954e+07</td>\n",
              "      <td>9139.636012</td>\n",
              "      <td>0.088704</td>\n",
              "      <td>0.006285</td>\n",
              "      <td>5281.760</td>\n",
              "      <td>0.000046</td>\n",
              "    </tr>\n",
              "    <tr>\n",
              "      <th>2019-04-21</th>\n",
              "      <td>5292.91</td>\n",
              "      <td>5314.35</td>\n",
              "      <td>5165.00</td>\n",
              "      <td>5256.14</td>\n",
              "      <td>25549.570939</td>\n",
              "      <td>1.339299e+08</td>\n",
              "      <td>210494</td>\n",
              "      <td>13147.771016</td>\n",
              "      <td>6.890987e+07</td>\n",
              "      <td>12401.799923</td>\n",
              "      <td>0.056737</td>\n",
              "      <td>-0.006726</td>\n",
              "      <td>5239.675</td>\n",
              "      <td>0.006285</td>\n",
              "    </tr>\n",
              "    <tr>\n",
              "      <th>2019-04-22</th>\n",
              "      <td>5257.41</td>\n",
              "      <td>5400.00</td>\n",
              "      <td>5208.35</td>\n",
              "      <td>5357.14</td>\n",
              "      <td>29563.852309</td>\n",
              "      <td>1.566322e+08</td>\n",
              "      <td>210361</td>\n",
              "      <td>15828.004851</td>\n",
              "      <td>8.387936e+07</td>\n",
              "      <td>13735.847458</td>\n",
              "      <td>0.132181</td>\n",
              "      <td>0.019216</td>\n",
              "      <td>5304.175</td>\n",
              "      <td>-0.006726</td>\n",
              "    </tr>\n",
              "    <tr>\n",
              "      <th>2019-04-23</th>\n",
              "      <td>5357.14</td>\n",
              "      <td>5600.00</td>\n",
              "      <td>5332.41</td>\n",
              "      <td>5493.31</td>\n",
              "      <td>41262.103917</td>\n",
              "      <td>2.271541e+08</td>\n",
              "      <td>282563</td>\n",
              "      <td>21260.014469</td>\n",
              "      <td>1.170548e+08</td>\n",
              "      <td>20002.089448</td>\n",
              "      <td>0.059169</td>\n",
              "      <td>0.025418</td>\n",
              "      <td>5466.205</td>\n",
              "      <td>0.019216</td>\n",
              "    </tr>\n",
              "    <tr>\n",
              "      <th>...</th>\n",
              "      <td>...</td>\n",
              "      <td>...</td>\n",
              "      <td>...</td>\n",
              "      <td>...</td>\n",
              "      <td>...</td>\n",
              "      <td>...</td>\n",
              "      <td>...</td>\n",
              "      <td>...</td>\n",
              "      <td>...</td>\n",
              "      <td>...</td>\n",
              "      <td>...</td>\n",
              "      <td>...</td>\n",
              "      <td>...</td>\n",
              "      <td>...</td>\n",
              "    </tr>\n",
              "    <tr>\n",
              "      <th>2022-01-06</th>\n",
              "      <td>43451.14</td>\n",
              "      <td>43816.00</td>\n",
              "      <td>42430.58</td>\n",
              "      <td>43082.31</td>\n",
              "      <td>38880.373050</td>\n",
              "      <td>1.674466e+09</td>\n",
              "      <td>1150707</td>\n",
              "      <td>19268.826620</td>\n",
              "      <td>8.298866e+08</td>\n",
              "      <td>19611.546430</td>\n",
              "      <td>-0.017786</td>\n",
              "      <td>-0.008488</td>\n",
              "      <td>43123.290</td>\n",
              "      <td>-0.051948</td>\n",
              "    </tr>\n",
              "    <tr>\n",
              "      <th>2022-01-07</th>\n",
              "      <td>43082.30</td>\n",
              "      <td>43145.83</td>\n",
              "      <td>40610.00</td>\n",
              "      <td>41566.48</td>\n",
              "      <td>54836.508180</td>\n",
              "      <td>2.293851e+09</td>\n",
              "      <td>1406635</td>\n",
              "      <td>26519.392610</td>\n",
              "      <td>1.109740e+09</td>\n",
              "      <td>28317.115570</td>\n",
              "      <td>-0.067789</td>\n",
              "      <td>-0.035185</td>\n",
              "      <td>41877.915</td>\n",
              "      <td>-0.008488</td>\n",
              "    </tr>\n",
              "    <tr>\n",
              "      <th>2022-01-08</th>\n",
              "      <td>41566.48</td>\n",
              "      <td>42300.00</td>\n",
              "      <td>40501.00</td>\n",
              "      <td>41679.74</td>\n",
              "      <td>32952.731110</td>\n",
              "      <td>1.367233e+09</td>\n",
              "      <td>1021908</td>\n",
              "      <td>16462.537470</td>\n",
              "      <td>6.831555e+08</td>\n",
              "      <td>16490.193640</td>\n",
              "      <td>-0.001680</td>\n",
              "      <td>0.002725</td>\n",
              "      <td>41400.500</td>\n",
              "      <td>-0.035185</td>\n",
              "    </tr>\n",
              "    <tr>\n",
              "      <th>2022-01-09</th>\n",
              "      <td>41679.74</td>\n",
              "      <td>42786.70</td>\n",
              "      <td>41200.02</td>\n",
              "      <td>41864.62</td>\n",
              "      <td>22724.394260</td>\n",
              "      <td>9.528301e+08</td>\n",
              "      <td>752733</td>\n",
              "      <td>11399.789790</td>\n",
              "      <td>4.780469e+08</td>\n",
              "      <td>11324.604470</td>\n",
              "      <td>0.006595</td>\n",
              "      <td>0.004436</td>\n",
              "      <td>41993.360</td>\n",
              "      <td>0.002725</td>\n",
              "    </tr>\n",
              "    <tr>\n",
              "      <th>2022-01-10</th>\n",
              "      <td>41864.62</td>\n",
              "      <td>42248.50</td>\n",
              "      <td>41601.00</td>\n",
              "      <td>41824.84</td>\n",
              "      <td>7578.326710</td>\n",
              "      <td>3.177198e+08</td>\n",
              "      <td>258803</td>\n",
              "      <td>3707.429800</td>\n",
              "      <td>1.554474e+08</td>\n",
              "      <td>3870.896910</td>\n",
              "      <td>-0.044092</td>\n",
              "      <td>-0.000950</td>\n",
              "      <td>41924.750</td>\n",
              "      <td>0.004436</td>\n",
              "    </tr>\n",
              "  </tbody>\n",
              "</table>\n",
              "<p>998 rows × 14 columns</p>\n",
              "</div>\n",
              "      <button class=\"colab-df-convert\" onclick=\"convertToInteractive('df-f1889a4e-086b-4642-963e-341422699a77')\"\n",
              "              title=\"Convert this dataframe to an interactive table.\"\n",
              "              style=\"display:none;\">\n",
              "        \n",
              "  <svg xmlns=\"http://www.w3.org/2000/svg\" height=\"24px\"viewBox=\"0 0 24 24\"\n",
              "       width=\"24px\">\n",
              "    <path d=\"M0 0h24v24H0V0z\" fill=\"none\"/>\n",
              "    <path d=\"M18.56 5.44l.94 2.06.94-2.06 2.06-.94-2.06-.94-.94-2.06-.94 2.06-2.06.94zm-11 1L8.5 8.5l.94-2.06 2.06-.94-2.06-.94L8.5 2.5l-.94 2.06-2.06.94zm10 10l.94 2.06.94-2.06 2.06-.94-2.06-.94-.94-2.06-.94 2.06-2.06.94z\"/><path d=\"M17.41 7.96l-1.37-1.37c-.4-.4-.92-.59-1.43-.59-.52 0-1.04.2-1.43.59L10.3 9.45l-7.72 7.72c-.78.78-.78 2.05 0 2.83L4 21.41c.39.39.9.59 1.41.59.51 0 1.02-.2 1.41-.59l7.78-7.78 2.81-2.81c.8-.78.8-2.07 0-2.86zM5.41 20L4 18.59l7.72-7.72 1.47 1.35L5.41 20z\"/>\n",
              "  </svg>\n",
              "      </button>\n",
              "      \n",
              "  <style>\n",
              "    .colab-df-container {\n",
              "      display:flex;\n",
              "      flex-wrap:wrap;\n",
              "      gap: 12px;\n",
              "    }\n",
              "\n",
              "    .colab-df-convert {\n",
              "      background-color: #E8F0FE;\n",
              "      border: none;\n",
              "      border-radius: 50%;\n",
              "      cursor: pointer;\n",
              "      display: none;\n",
              "      fill: #1967D2;\n",
              "      height: 32px;\n",
              "      padding: 0 0 0 0;\n",
              "      width: 32px;\n",
              "    }\n",
              "\n",
              "    .colab-df-convert:hover {\n",
              "      background-color: #E2EBFA;\n",
              "      box-shadow: 0px 1px 2px rgba(60, 64, 67, 0.3), 0px 1px 3px 1px rgba(60, 64, 67, 0.15);\n",
              "      fill: #174EA6;\n",
              "    }\n",
              "\n",
              "    [theme=dark] .colab-df-convert {\n",
              "      background-color: #3B4455;\n",
              "      fill: #D2E3FC;\n",
              "    }\n",
              "\n",
              "    [theme=dark] .colab-df-convert:hover {\n",
              "      background-color: #434B5C;\n",
              "      box-shadow: 0px 1px 3px 1px rgba(0, 0, 0, 0.15);\n",
              "      filter: drop-shadow(0px 1px 2px rgba(0, 0, 0, 0.3));\n",
              "      fill: #FFFFFF;\n",
              "    }\n",
              "  </style>\n",
              "\n",
              "      <script>\n",
              "        const buttonEl =\n",
              "          document.querySelector('#df-f1889a4e-086b-4642-963e-341422699a77 button.colab-df-convert');\n",
              "        buttonEl.style.display =\n",
              "          google.colab.kernel.accessAllowed ? 'block' : 'none';\n",
              "\n",
              "        async function convertToInteractive(key) {\n",
              "          const element = document.querySelector('#df-f1889a4e-086b-4642-963e-341422699a77');\n",
              "          const dataTable =\n",
              "            await google.colab.kernel.invokeFunction('convertToInteractive',\n",
              "                                                     [key], {});\n",
              "          if (!dataTable) return;\n",
              "\n",
              "          const docLinkHtml = 'Like what you see? Visit the ' +\n",
              "            '<a target=\"_blank\" href=https://colab.research.google.com/notebooks/data_table.ipynb>data table notebook</a>'\n",
              "            + ' to learn more about interactive tables.';\n",
              "          element.innerHTML = '';\n",
              "          dataTable['output_type'] = 'display_data';\n",
              "          await google.colab.output.renderOutput(dataTable, element);\n",
              "          const docLink = document.createElement('div');\n",
              "          docLink.innerHTML = docLinkHtml;\n",
              "          element.appendChild(docLink);\n",
              "        }\n",
              "      </script>\n",
              "    </div>\n",
              "  </div>\n",
              "  "
            ],
            "text/plain": [
              "                open      high       low  ...  price_change       Mean    Actual\n",
              "Date                                      ...                                   \n",
              "2019-04-19   5258.44   5320.00   5175.00  ...      0.000046   5247.500  0.010690\n",
              "2019-04-20   5258.68   5333.42   5230.10  ...      0.006285   5281.760  0.000046\n",
              "2019-04-21   5292.91   5314.35   5165.00  ...     -0.006726   5239.675  0.006285\n",
              "2019-04-22   5257.41   5400.00   5208.35  ...      0.019216   5304.175 -0.006726\n",
              "2019-04-23   5357.14   5600.00   5332.41  ...      0.025418   5466.205  0.019216\n",
              "...              ...       ...       ...  ...           ...        ...       ...\n",
              "2022-01-06  43451.14  43816.00  42430.58  ...     -0.008488  43123.290 -0.051948\n",
              "2022-01-07  43082.30  43145.83  40610.00  ...     -0.035185  41877.915 -0.008488\n",
              "2022-01-08  41566.48  42300.00  40501.00  ...      0.002725  41400.500 -0.035185\n",
              "2022-01-09  41679.74  42786.70  41200.02  ...      0.004436  41993.360  0.002725\n",
              "2022-01-10  41864.62  42248.50  41601.00  ...     -0.000950  41924.750  0.004436\n",
              "\n",
              "[998 rows x 14 columns]"
            ]
          },
          "metadata": {},
          "execution_count": 13
        }
      ],
      "metadata": {
        "colab": {
          "base_uri": "https://localhost:8080/",
          "height": 693
        },
        "id": "68Pxih2SWUrD",
        "outputId": "da4372e0-1db9-4f8f-a099-b7f8e35ccaa1"
      }
    },
    {
      "cell_type": "code",
      "execution_count": 14,
      "source": [
        "from sklearn.preprocessing import PolynomialFeatures \n",
        "from sklearn.linear_model import LinearRegression\n",
        "N=2411"
      ],
      "outputs": [],
      "metadata": {
        "id": "tjYbSpjsWftc"
      }
    },
    {
      "cell_type": "code",
      "execution_count": 15,
      "source": [
        "X=[]\n",
        "for i in range(2411):\n",
        "    X.append([i])\n",
        "X=np.array(X)\n",
        "Xtrain=X[:N]\n",
        "Xtest=X[-272:]\n",
        "Y=df[\"price_change\"]\n",
        "Y=np.array(Y,dtype='float32')\n",
        "ytrain=Y[:N]\n",
        "ytest=Y[-272:]\n",
        "arr=ytest\n",
        "plt.plot(arr,label='actual')"
      ],
      "outputs": [
        {
          "output_type": "execute_result",
          "data": {
            "text/plain": [
              "[<matplotlib.lines.Line2D at 0x7fdb647a4dd0>]"
            ]
          },
          "metadata": {},
          "execution_count": 15
        },
        {
          "output_type": "display_data",
          "data": {
            "image/png": "[encoded data removed]",
            "text/plain": [
              "<Figure size 432x288 with 1 Axes>"
            ]
          },
          "metadata": {
            "needs_background": "light"
          }
        }
      ],
      "metadata": {
        "colab": {
          "base_uri": "https://localhost:8080/",
          "height": 282
        },
        "id": "YjKYRbF2WhmP",
        "outputId": "87d2ee2c-099b-4016-85ae-0124912afb66"
      }
    },
    {
      "cell_type": "code",
      "execution_count": 16,
      "source": [
        "from sklearn.preprocessing import MinMaxScaler\n",
        "sc_in = MinMaxScaler(feature_range=(0, 1))\n",
        "scaled_input = sc_in.fit_transform(dataset_for_prediction[['low', 'high', 'open', 'close', 'volume', 'price_change']])\n",
        "scaled_input = pd.DataFrame(scaled_input, index=dataset_for_prediction.index)\n",
        "X= scaled_input\n",
        "X.rename(columns={0:'low', 1:'high', 2:'open', 3:'close', 4:'volume', 5:'price_change'}, inplace=True)\n",
        "print(X.head())"
      ],
      "outputs": [
        {
          "output_type": "stream",
          "name": "stdout",
          "text": [
            "                 low      high      open     close    volume  price_change\n",
            "Date                                                                      \n",
            "2019-04-19  0.022307  0.000089  0.007308  0.007312  0.043162      0.669186\n",
            "2019-04-20  0.023190  0.000299  0.007312  0.007839  0.029371      0.679754\n",
            "2019-04-21  0.022147  0.000000  0.007858  0.007272  0.045540      0.657717\n",
            "2019-04-22  0.022841  0.001345  0.007292  0.008882  0.055713      0.701655\n",
            "2019-04-23  0.024828  0.004485  0.008882  0.011053  0.085357      0.712161\n"
          ]
        }
      ],
      "metadata": {
        "colab": {
          "base_uri": "https://localhost:8080/"
        },
        "id": "G7E1AVTRWhoz",
        "outputId": "c24673cb-146a-4447-d772-a6de4dd5d59d"
      }
    },
    {
      "cell_type": "code",
      "execution_count": 17,
      "source": [
        "sc_out = MinMaxScaler(feature_range=(0, 1))\n",
        "scaler_output = sc_out.fit_transform(dataset_for_prediction[['Actual']])\n",
        "scaler_output =pd.DataFrame(scaler_output, index=dataset_for_prediction.index)\n",
        "y=scaler_output\n",
        "y.rename(columns={0:'BTC Price next day'}, inplace= True)\n",
        "y.index=dataset_for_prediction.index\n",
        "print(y.head())"
      ],
      "outputs": [
        {
          "output_type": "stream",
          "name": "stdout",
          "text": [
            "            BTC Price next day\n",
            "Date                          \n",
            "2019-04-19            0.687216\n",
            "2019-04-20            0.669186\n",
            "2019-04-21            0.679754\n",
            "2019-04-22            0.657717\n",
            "2019-04-23            0.701655\n"
          ]
        }
      ],
      "metadata": {
        "colab": {
          "base_uri": "https://localhost:8080/"
        },
        "id": "_yBgQG8WWhq3",
        "outputId": "17517545-c647-434a-9d9f-cd327599cf20"
      }
    },
    {
      "cell_type": "code",
      "execution_count": 18,
      "source": [
        "train_size=int(len(df) *0.9)\n",
        "test_size = int(len(df)) - train_size\n",
        "train_X, train_y = X[:train_size].dropna(), y[:train_size].dropna()\n",
        "test_X, test_y = X[train_size:].dropna(), y[train_size:].dropna()"
      ],
      "outputs": [],
      "metadata": {
        "id": "q6k7UhNvWhuO"
      }
    },
    {
      "cell_type": "code",
      "execution_count": 19,
      "source": [
        "from statsmodels.tsa.statespace.sarimax import SARIMAX\n"
      ],
      "outputs": [],
      "metadata": {
        "id": "ryDTYzrQWvG2"
      }
    },
    {
      "cell_type": "code",
      "execution_count": 20,
      "source": [
        "predic_garch =[]\n",
        "for i in range(test_size):\n",
        "  model= SARIMAX(pd.concat([train_y,test_y.iloc[:i+1]]),\n",
        "  exog=pd.concat([train_X,test_X.iloc[:i+1]]),\n",
        "  order=(0,1,1),\n",
        "  seasonal_order =(0, 0, 1, 12),\n",
        "  enforce_invertibility=False, enforce_stationarity=False)\n",
        "  results= model.fit()\n",
        "  garch = arch.arch_model(results.resid, p=1, q=1,vol='GARCH')\n",
        "  garch_model = garch.fit(update_freq=1)\n",
        "  garch_forecast = garch_model.forecast(start = train_size-1,horizon=1,method='simulation')\n",
        "  predicted_et = garch_forecast.mean['h.1'].iloc[-1]\n",
        "  predic_garch.append(predicted_et)\n",
        "  print(predicted_et)"
      ],
      "outputs": [
        {
          "output_type": "stream",
          "name": "stderr",
          "text": [
            "/usr/local/lib/python3.7/dist-packages/statsmodels/tsa/base/tsa_model.py:539: ValueWarning: No frequency information was provided, so inferred frequency D will be used.\n",
            "  % freq, ValueWarning)\n",
            "/usr/local/lib/python3.7/dist-packages/statsmodels/tsa/base/tsa_model.py:539: ValueWarning: No frequency information was provided, so inferred frequency D will be used.\n",
            "  % freq, ValueWarning)\n",
            "/usr/local/lib/python3.7/dist-packages/statsmodels/base/model.py:606: ConvergenceWarning: Maximum Likelihood optimization failed to converge. Check mle_retvals\n",
            "  ConvergenceWarning)\n"
          ]
        },
        {
          "output_type": "stream",
          "name": "stdout",
          "text": [
            "Iteration:      1,   Func. Count:      6,   Neg. LLF: -1152.2123955881725\n",
            "Iteration:      2,   Func. Count:     18,   Neg. LLF: -1152.5524394852218\n",
            "Iteration:      3,   Func. Count:     27,   Neg. LLF: -1152.74863228224\n",
            "Iteration:      4,   Func. Count:     34,   Neg. LLF: -1152.9527553293403\n",
            "Iteration:      5,   Func. Count:     42,   Neg. LLF: -1153.173079250942\n",
            "Iteration:      6,   Func. Count:     49,   Neg. LLF: -1153.22285212164\n",
            "Iteration:      7,   Func. Count:     56,   Neg. LLF: -1153.2816175657354\n",
            "Iteration:      8,   Func. Count:     62,   Neg. LLF: -1153.3899800790869\n",
            "Iteration:      9,   Func. Count:     68,   Neg. LLF: -1153.3912731158687\n",
            "Iteration:     10,   Func. Count:     74,   Neg. LLF: -1153.3912751509224\n",
            "Optimization terminated successfully.    (Exit mode 0)\n",
            "            Current function value: -1153.3912751510043\n",
            "            Iterations: 10\n",
            "            Function evaluations: 74\n",
            "            Gradient evaluations: 10\n",
            "4.218697223507e-06\n"
          ]
        },
        {
          "output_type": "stream",
          "name": "stderr",
          "text": [
            "/usr/local/lib/python3.7/dist-packages/statsmodels/tsa/base/tsa_model.py:539: ValueWarning: No frequency information was provided, so inferred frequency D will be used.\n",
            "  % freq, ValueWarning)\n",
            "/usr/local/lib/python3.7/dist-packages/statsmodels/tsa/base/tsa_model.py:539: ValueWarning: No frequency information was provided, so inferred frequency D will be used.\n",
            "  % freq, ValueWarning)\n",
            "/usr/local/lib/python3.7/dist-packages/statsmodels/base/model.py:606: ConvergenceWarning: Maximum Likelihood optimization failed to converge. Check mle_retvals\n",
            "  ConvergenceWarning)\n"
          ]
        },
        {
          "output_type": "stream",
          "name": "stdout",
          "text": [
            "Iteration:      1,   Func. Count:      6,   Neg. LLF: -1153.0777204923345\n",
            "Iteration:      2,   Func. Count:     18,   Neg. LLF: -1153.4377766553312\n",
            "Iteration:      3,   Func. Count:     27,   Neg. LLF: -1153.6431688758369\n",
            "Iteration:      4,   Func. Count:     35,   Neg. LLF: -1153.91860539883\n",
            "Iteration:      5,   Func. Count:     43,   Neg. LLF: -1154.085775274382\n",
            "Iteration:      6,   Func. Count:     51,   Neg. LLF: -1154.181918932893\n",
            "Iteration:      7,   Func. Count:     58,   Neg. LLF: -1154.2029854813686\n",
            "Iteration:      8,   Func. Count:     64,   Neg. LLF: -1154.2110370080554\n",
            "Iteration:      9,   Func. Count:     70,   Neg. LLF: -1154.2118803885248\n",
            "Iteration:     10,   Func. Count:     76,   Neg. LLF: -1154.2118833643665\n",
            "Optimization terminated successfully.    (Exit mode 0)\n",
            "            Current function value: -1154.2118833643735\n",
            "            Iterations: 10\n",
            "            Function evaluations: 76\n",
            "            Gradient evaluations: 10\n",
            "-4.770451349214973e-05\n"
          ]
        },
        {
          "output_type": "stream",
          "name": "stderr",
          "text": [
            "/usr/local/lib/python3.7/dist-packages/statsmodels/tsa/base/tsa_model.py:539: ValueWarning: No frequency information was provided, so inferred frequency D will be used.\n",
            "  % freq, ValueWarning)\n",
            "/usr/local/lib/python3.7/dist-packages/statsmodels/tsa/base/tsa_model.py:539: ValueWarning: No frequency information was provided, so inferred frequency D will be used.\n",
            "  % freq, ValueWarning)\n",
            "/usr/local/lib/python3.7/dist-packages/statsmodels/base/model.py:606: ConvergenceWarning: Maximum Likelihood optimization failed to converge. Check mle_retvals\n",
            "  ConvergenceWarning)\n"
          ]
        },
        {
          "output_type": "stream",
          "name": "stdout",
          "text": [
            "Iteration:      1,   Func. Count:      6,   Neg. LLF: -1155.0587374803156\n",
            "Iteration:      2,   Func. Count:     18,   Neg. LLF: -1155.2734473047944\n",
            "Iteration:      3,   Func. Count:     27,   Neg. LLF: -1155.4442144992909\n",
            "Iteration:      4,   Func. Count:     35,   Neg. LLF: -1155.6327619131018\n",
            "Iteration:      5,   Func. Count:     43,   Neg. LLF: -1155.9066443713043\n",
            "Iteration:      6,   Func. Count:     50,   Neg. LLF: -1155.944708617783\n",
            "Iteration:      7,   Func. Count:     56,   Neg. LLF: -1155.9684227618993\n",
            "Iteration:      8,   Func. Count:     62,   Neg. LLF: -1155.9688285720215\n",
            "Optimization terminated successfully.    (Exit mode 0)\n",
            "            Current function value: -1155.968829295446\n",
            "            Iterations: 8\n",
            "            Function evaluations: 63\n",
            "            Gradient evaluations: 8\n",
            "0.00030288971440555303\n"
          ]
        },
        {
          "output_type": "stream",
          "name": "stderr",
          "text": [
            "/usr/local/lib/python3.7/dist-packages/statsmodels/tsa/base/tsa_model.py:539: ValueWarning: No frequency information was provided, so inferred frequency D will be used.\n",
            "  % freq, ValueWarning)\n",
            "/usr/local/lib/python3.7/dist-packages/statsmodels/tsa/base/tsa_model.py:539: ValueWarning: No frequency information was provided, so inferred frequency D will be used.\n",
            "  % freq, ValueWarning)\n",
            "/usr/local/lib/python3.7/dist-packages/statsmodels/base/model.py:606: ConvergenceWarning: Maximum Likelihood optimization failed to converge. Check mle_retvals\n",
            "  ConvergenceWarning)\n"
          ]
        },
        {
          "output_type": "stream",
          "name": "stdout",
          "text": [
            "Iteration:      1,   Func. Count:      6,   Neg. LLF: -1155.421475712306\n",
            "Iteration:      2,   Func. Count:     18,   Neg. LLF: -1155.7815134324583\n",
            "Iteration:      3,   Func. Count:     27,   Neg. LLF: -1156.021013253334\n",
            "Iteration:      4,   Func. Count:     35,   Neg. LLF: -1156.3089278482194\n",
            "Iteration:      5,   Func. Count:     43,   Neg. LLF: -1156.4619941575215\n",
            "Iteration:      6,   Func. Count:     51,   Neg. LLF: -1156.5445475760523\n",
            "Iteration:      7,   Func. Count:     58,   Neg. LLF: -1156.5616659168527\n",
            "Iteration:      8,   Func. Count:     64,   Neg. LLF: -1156.567678751077\n",
            "Iteration:      9,   Func. Count:     70,   Neg. LLF: -1156.567886408219\n",
            "Optimization terminated successfully.    (Exit mode 0)\n",
            "            Current function value: -1156.567886868599\n",
            "            Iterations: 9\n",
            "            Function evaluations: 71\n",
            "            Gradient evaluations: 9\n",
            "0.000183858829166926\n"
          ]
        },
        {
          "output_type": "stream",
          "name": "stderr",
          "text": [
            "/usr/local/lib/python3.7/dist-packages/statsmodels/tsa/base/tsa_model.py:539: ValueWarning: No frequency information was provided, so inferred frequency D will be used.\n",
            "  % freq, ValueWarning)\n",
            "/usr/local/lib/python3.7/dist-packages/statsmodels/tsa/base/tsa_model.py:539: ValueWarning: No frequency information was provided, so inferred frequency D will be used.\n",
            "  % freq, ValueWarning)\n",
            "/usr/local/lib/python3.7/dist-packages/statsmodels/base/model.py:606: ConvergenceWarning: Maximum Likelihood optimization failed to converge. Check mle_retvals\n",
            "  ConvergenceWarning)\n"
          ]
        },
        {
          "output_type": "stream",
          "name": "stdout",
          "text": [
            "Iteration:      1,   Func. Count:      6,   Neg. LLF: -1155.9709535418367\n",
            "Iteration:      2,   Func. Count:     18,   Neg. LLF: -1156.3208567402694\n",
            "Iteration:      3,   Func. Count:     27,   Neg. LLF: -1156.557382967435\n",
            "Iteration:      4,   Func. Count:     35,   Neg. LLF: -1156.815530846859\n",
            "Iteration:      5,   Func. Count:     43,   Neg. LLF: -1156.9891674575392\n",
            "Iteration:      6,   Func. Count:     51,   Neg. LLF: -1157.0665564724115\n",
            "Iteration:      7,   Func. Count:     58,   Neg. LLF: -1157.083311613996\n",
            "Iteration:      8,   Func. Count:     65,   Neg. LLF: -1157.1022563998413\n",
            "Iteration:      9,   Func. Count:     71,   Neg. LLF: -1157.1026834948598\n",
            "Iteration:     10,   Func. Count:     77,   Neg. LLF: -1157.1026845614886\n",
            "Optimization terminated successfully.    (Exit mode 0)\n",
            "            Current function value: -1157.1026845614392\n",
            "            Iterations: 10\n",
            "            Function evaluations: 77\n",
            "            Gradient evaluations: 10\n",
            "8.623924291828154e-05\n"
          ]
        },
        {
          "output_type": "stream",
          "name": "stderr",
          "text": [
            "/usr/local/lib/python3.7/dist-packages/statsmodels/tsa/base/tsa_model.py:539: ValueWarning: No frequency information was provided, so inferred frequency D will be used.\n",
            "  % freq, ValueWarning)\n",
            "/usr/local/lib/python3.7/dist-packages/statsmodels/tsa/base/tsa_model.py:539: ValueWarning: No frequency information was provided, so inferred frequency D will be used.\n",
            "  % freq, ValueWarning)\n",
            "/usr/local/lib/python3.7/dist-packages/statsmodels/base/model.py:606: ConvergenceWarning: Maximum Likelihood optimization failed to converge. Check mle_retvals\n",
            "  ConvergenceWarning)\n"
          ]
        },
        {
          "output_type": "stream",
          "name": "stdout",
          "text": [
            "Iteration:      1,   Func. Count:      6,   Neg. LLF: -1154.7883317684973\n",
            "Iteration:      2,   Func. Count:     19,   Neg. LLF: -1155.36606167921\n",
            "Iteration:      3,   Func. Count:     29,   Neg. LLF: -1156.0473708259478\n",
            "Iteration:      4,   Func. Count:     37,   Neg. LLF: -1156.068263713738\n",
            "Iteration:      5,   Func. Count:     45,   Neg. LLF: -1156.0815042291192\n",
            "Iteration:      6,   Func. Count:     52,   Neg. LLF: -1156.0820373916504\n",
            "Iteration:      7,   Func. Count:     59,   Neg. LLF: -1156.0828102358496\n",
            "Iteration:      8,   Func. Count:     65,   Neg. LLF: -1156.0828353017696\n",
            "Optimization terminated successfully.    (Exit mode 0)\n",
            "            Current function value: -1156.0828353012228\n",
            "            Iterations: 8\n",
            "            Function evaluations: 65\n",
            "            Gradient evaluations: 8\n",
            "0.00013634734758574034\n"
          ]
        },
        {
          "output_type": "stream",
          "name": "stderr",
          "text": [
            "/usr/local/lib/python3.7/dist-packages/statsmodels/tsa/base/tsa_model.py:539: ValueWarning: No frequency information was provided, so inferred frequency D will be used.\n",
            "  % freq, ValueWarning)\n",
            "/usr/local/lib/python3.7/dist-packages/statsmodels/tsa/base/tsa_model.py:539: ValueWarning: No frequency information was provided, so inferred frequency D will be used.\n",
            "  % freq, ValueWarning)\n",
            "/usr/local/lib/python3.7/dist-packages/statsmodels/base/model.py:606: ConvergenceWarning: Maximum Likelihood optimization failed to converge. Check mle_retvals\n",
            "  ConvergenceWarning)\n"
          ]
        },
        {
          "output_type": "stream",
          "name": "stdout",
          "text": [
            "Iteration:      1,   Func. Count:      6,   Neg. LLF: -1159.3662771065997\n",
            "Iteration:      2,   Func. Count:     18,   Neg. LLF: -1159.678913260269\n",
            "Iteration:      3,   Func. Count:     27,   Neg. LLF: -1159.87509753861\n",
            "Iteration:      4,   Func. Count:     35,   Neg. LLF: -1160.1194093676625\n",
            "Iteration:      5,   Func. Count:     43,   Neg. LLF: -1160.423264853487\n",
            "Iteration:      6,   Func. Count:     51,   Neg. LLF: -1160.4388240076626\n",
            "Iteration:      7,   Func. Count:     59,   Neg. LLF: -1160.4963504567074\n",
            "Iteration:      8,   Func. Count:     65,   Neg. LLF: -1160.507844834703\n",
            "Iteration:      9,   Func. Count:     71,   Neg. LLF: -1160.5078856619102\n",
            "Optimization terminated successfully.    (Exit mode 0)\n",
            "            Current function value: -1160.5078856619657\n",
            "            Iterations: 9\n",
            "            Function evaluations: 71\n",
            "            Gradient evaluations: 9\n",
            "4.571737742555204e-05\n"
          ]
        },
        {
          "output_type": "stream",
          "name": "stderr",
          "text": [
            "/usr/local/lib/python3.7/dist-packages/statsmodels/tsa/base/tsa_model.py:539: ValueWarning: No frequency information was provided, so inferred frequency D will be used.\n",
            "  % freq, ValueWarning)\n",
            "/usr/local/lib/python3.7/dist-packages/statsmodels/tsa/base/tsa_model.py:539: ValueWarning: No frequency information was provided, so inferred frequency D will be used.\n",
            "  % freq, ValueWarning)\n",
            "/usr/local/lib/python3.7/dist-packages/statsmodels/base/model.py:606: ConvergenceWarning: Maximum Likelihood optimization failed to converge. Check mle_retvals\n",
            "  ConvergenceWarning)\n"
          ]
        },
        {
          "output_type": "stream",
          "name": "stdout",
          "text": [
            "Iteration:      1,   Func. Count:      6,   Neg. LLF: -1161.1988596399128\n",
            "Iteration:      2,   Func. Count:     18,   Neg. LLF: -1161.522799960333\n",
            "Iteration:      3,   Func. Count:     27,   Neg. LLF: -1161.7594770776534\n",
            "Iteration:      4,   Func. Count:     35,   Neg. LLF: -1162.031002177755\n",
            "Iteration:      5,   Func. Count:     43,   Neg. LLF: -1162.3077414399554\n",
            "Iteration:      6,   Func. Count:     51,   Neg. LLF: -1162.3254512323551\n",
            "Iteration:      7,   Func. Count:     58,   Neg. LLF: -1162.3461304984332\n",
            "Iteration:      8,   Func. Count:     64,   Neg. LLF: -1162.3636976022551\n",
            "Iteration:      9,   Func. Count:     70,   Neg. LLF: -1162.3638308428522\n",
            "Optimization terminated successfully.    (Exit mode 0)\n",
            "            Current function value: -1162.3638313112901\n",
            "            Iterations: 9\n",
            "            Function evaluations: 71\n",
            "            Gradient evaluations: 9\n",
            "0.00011698344938021285\n"
          ]
        },
        {
          "output_type": "stream",
          "name": "stderr",
          "text": [
            "/usr/local/lib/python3.7/dist-packages/statsmodels/tsa/base/tsa_model.py:539: ValueWarning: No frequency information was provided, so inferred frequency D will be used.\n",
            "  % freq, ValueWarning)\n",
            "/usr/local/lib/python3.7/dist-packages/statsmodels/tsa/base/tsa_model.py:539: ValueWarning: No frequency information was provided, so inferred frequency D will be used.\n",
            "  % freq, ValueWarning)\n",
            "/usr/local/lib/python3.7/dist-packages/statsmodels/base/model.py:606: ConvergenceWarning: Maximum Likelihood optimization failed to converge. Check mle_retvals\n",
            "  ConvergenceWarning)\n"
          ]
        },
        {
          "output_type": "stream",
          "name": "stdout",
          "text": [
            "Iteration:      1,   Func. Count:      6,   Neg. LLF: -1162.8642463582812\n",
            "Iteration:      2,   Func. Count:     18,   Neg. LLF: -1163.2297214977787\n",
            "Iteration:      3,   Func. Count:     27,   Neg. LLF: -1163.420794487054\n",
            "Iteration:      4,   Func. Count:     34,   Neg. LLF: -1163.6145629527591\n",
            "Iteration:      5,   Func. Count:     42,   Neg. LLF: -1163.768627866892\n",
            "Iteration:      6,   Func. Count:     50,   Neg. LLF: -1163.8285821889174\n",
            "Iteration:      7,   Func. Count:     57,   Neg. LLF: -1164.0255378681998\n",
            "Iteration:      8,   Func. Count:     63,   Neg. LLF: -1164.0531490825272\n",
            "Iteration:      9,   Func. Count:     69,   Neg. LLF: -1164.055439387549\n",
            "Iteration:     10,   Func. Count:     75,   Neg. LLF: -1164.055478750668\n",
            "Optimization terminated successfully.    (Exit mode 0)\n",
            "            Current function value: -1164.0554797452048\n",
            "            Iterations: 10\n",
            "            Function evaluations: 76\n",
            "            Gradient evaluations: 10\n",
            "0.00022646421286275225\n"
          ]
        },
        {
          "output_type": "stream",
          "name": "stderr",
          "text": [
            "/usr/local/lib/python3.7/dist-packages/statsmodels/tsa/base/tsa_model.py:539: ValueWarning: No frequency information was provided, so inferred frequency D will be used.\n",
            "  % freq, ValueWarning)\n",
            "/usr/local/lib/python3.7/dist-packages/statsmodels/tsa/base/tsa_model.py:539: ValueWarning: No frequency information was provided, so inferred frequency D will be used.\n",
            "  % freq, ValueWarning)\n",
            "/usr/local/lib/python3.7/dist-packages/statsmodels/base/model.py:606: ConvergenceWarning: Maximum Likelihood optimization failed to converge. Check mle_retvals\n",
            "  ConvergenceWarning)\n"
          ]
        },
        {
          "output_type": "stream",
          "name": "stdout",
          "text": [
            "Iteration:      1,   Func. Count:      6,   Neg. LLF: -1164.0570242960898\n",
            "Iteration:      2,   Func. Count:     18,   Neg. LLF: -1164.3393897292713\n",
            "Iteration:      3,   Func. Count:     27,   Neg. LLF: -1164.5912029878696\n",
            "Iteration:      4,   Func. Count:     34,   Neg. LLF: -1164.7449636674282\n",
            "Iteration:      5,   Func. Count:     42,   Neg. LLF: -1165.0461002114944\n",
            "Iteration:      6,   Func. Count:     51,   Neg. LLF: -1165.0498645799673\n",
            "Iteration:      7,   Func. Count:     58,   Neg. LLF: -1165.2306154026055\n",
            "Iteration:      8,   Func. Count:     64,   Neg. LLF: -1165.2729705793595\n",
            "Iteration:      9,   Func. Count:     70,   Neg. LLF: -1165.2759840021868\n",
            "Iteration:     10,   Func. Count:     76,   Neg. LLF: -1165.2760303550858\n",
            "Optimization terminated successfully.    (Exit mode 0)\n",
            "            Current function value: -1165.2760309310806\n",
            "            Iterations: 10\n",
            "            Function evaluations: 77\n",
            "            Gradient evaluations: 10\n",
            "0.00016084307957328246\n"
          ]
        },
        {
          "output_type": "stream",
          "name": "stderr",
          "text": [
            "/usr/local/lib/python3.7/dist-packages/statsmodels/tsa/base/tsa_model.py:539: ValueWarning: No frequency information was provided, so inferred frequency D will be used.\n",
            "  % freq, ValueWarning)\n",
            "/usr/local/lib/python3.7/dist-packages/statsmodels/tsa/base/tsa_model.py:539: ValueWarning: No frequency information was provided, so inferred frequency D will be used.\n",
            "  % freq, ValueWarning)\n",
            "/usr/local/lib/python3.7/dist-packages/statsmodels/base/model.py:606: ConvergenceWarning: Maximum Likelihood optimization failed to converge. Check mle_retvals\n",
            "  ConvergenceWarning)\n"
          ]
        },
        {
          "output_type": "stream",
          "name": "stdout",
          "text": [
            "Iteration:      1,   Func. Count:      6,   Neg. LLF: -1161.7547287610512\n",
            "Iteration:      2,   Func. Count:     18,   Neg. LLF: -1161.8381084230878\n",
            "Iteration:      3,   Func. Count:     28,   Neg. LLF: -1162.3347901416416\n",
            "Iteration:      4,   Func. Count:     36,   Neg. LLF: -1162.7062492776847\n",
            "Iteration:      5,   Func. Count:     44,   Neg. LLF: -1162.7168876040205\n",
            "Iteration:      6,   Func. Count:     50,   Neg. LLF: -1162.7212037761628\n",
            "Iteration:      7,   Func. Count:     56,   Neg. LLF: -1162.727358239964\n",
            "Iteration:      8,   Func. Count:     62,   Neg. LLF: -1162.7274384013458\n",
            "Iteration:      9,   Func. Count:     68,   Neg. LLF: -1162.7274426042666\n",
            "Optimization terminated successfully.    (Exit mode 0)\n",
            "            Current function value: -1162.7274426042313\n",
            "            Iterations: 9\n",
            "            Function evaluations: 68\n",
            "            Gradient evaluations: 9\n",
            "-0.0009849238951681611\n"
          ]
        },
        {
          "output_type": "stream",
          "name": "stderr",
          "text": [
            "/usr/local/lib/python3.7/dist-packages/statsmodels/tsa/base/tsa_model.py:539: ValueWarning: No frequency information was provided, so inferred frequency D will be used.\n",
            "  % freq, ValueWarning)\n",
            "/usr/local/lib/python3.7/dist-packages/statsmodels/tsa/base/tsa_model.py:539: ValueWarning: No frequency information was provided, so inferred frequency D will be used.\n",
            "  % freq, ValueWarning)\n",
            "/usr/local/lib/python3.7/dist-packages/statsmodels/base/model.py:606: ConvergenceWarning: Maximum Likelihood optimization failed to converge. Check mle_retvals\n",
            "  ConvergenceWarning)\n"
          ]
        },
        {
          "output_type": "stream",
          "name": "stdout",
          "text": [
            "Iteration:      1,   Func. Count:      6,   Neg. LLF: -1163.653349596003\n",
            "Iteration:      2,   Func. Count:     19,   Neg. LLF: -1164.1863590170683\n",
            "Iteration:      3,   Func. Count:     29,   Neg. LLF: -1164.945382894049\n",
            "Iteration:      4,   Func. Count:     37,   Neg. LLF: -1164.9861558049606\n",
            "Iteration:      5,   Func. Count:     46,   Neg. LLF: -1164.988622778102\n",
            "Iteration:      6,   Func. Count:     52,   Neg. LLF: -1164.9903276602922\n",
            "Iteration:      7,   Func. Count:     58,   Neg. LLF: -1164.9905490846388\n",
            "Optimization terminated successfully.    (Exit mode 0)\n",
            "            Current function value: -1164.9905490839938\n",
            "            Iterations: 7\n",
            "            Function evaluations: 58\n",
            "            Gradient evaluations: 7\n",
            "1.7337639859018946e-05\n"
          ]
        },
        {
          "output_type": "stream",
          "name": "stderr",
          "text": [
            "/usr/local/lib/python3.7/dist-packages/statsmodels/tsa/base/tsa_model.py:539: ValueWarning: No frequency information was provided, so inferred frequency D will be used.\n",
            "  % freq, ValueWarning)\n",
            "/usr/local/lib/python3.7/dist-packages/statsmodels/tsa/base/tsa_model.py:539: ValueWarning: No frequency information was provided, so inferred frequency D will be used.\n",
            "  % freq, ValueWarning)\n",
            "/usr/local/lib/python3.7/dist-packages/statsmodels/base/model.py:606: ConvergenceWarning: Maximum Likelihood optimization failed to converge. Check mle_retvals\n",
            "  ConvergenceWarning)\n"
          ]
        },
        {
          "output_type": "stream",
          "name": "stdout",
          "text": [
            "Iteration:      1,   Func. Count:      6,   Neg. LLF: -1167.888818378377\n",
            "Iteration:      2,   Func. Count:     18,   Neg. LLF: -1168.1370407321065\n",
            "Iteration:      3,   Func. Count:     27,   Neg. LLF: -1168.344450853528\n",
            "Iteration:      4,   Func. Count:     35,   Neg. LLF: -1168.4943329980788\n",
            "Iteration:      5,   Func. Count:     43,   Neg. LLF: -1169.0368836414384\n",
            "Iteration:      6,   Func. Count:     51,   Neg. LLF: -1169.0568274931952\n",
            "Iteration:      7,   Func. Count:     58,   Neg. LLF: -1169.130726393661\n",
            "Iteration:      8,   Func. Count:     64,   Neg. LLF: -1169.1520103925636\n",
            "Iteration:      9,   Func. Count:     70,   Neg. LLF: -1169.1528202034401\n",
            "Iteration:     10,   Func. Count:     76,   Neg. LLF: -1169.152836981048\n",
            "Optimization terminated successfully.    (Exit mode 0)\n",
            "            Current function value: -1169.1528369810076\n",
            "            Iterations: 10\n",
            "            Function evaluations: 76\n",
            "            Gradient evaluations: 10\n",
            "0.0003249293049527698\n"
          ]
        },
        {
          "output_type": "stream",
          "name": "stderr",
          "text": [
            "/usr/local/lib/python3.7/dist-packages/statsmodels/tsa/base/tsa_model.py:539: ValueWarning: No frequency information was provided, so inferred frequency D will be used.\n",
            "  % freq, ValueWarning)\n",
            "/usr/local/lib/python3.7/dist-packages/statsmodels/tsa/base/tsa_model.py:539: ValueWarning: No frequency information was provided, so inferred frequency D will be used.\n",
            "  % freq, ValueWarning)\n",
            "/usr/local/lib/python3.7/dist-packages/statsmodels/base/model.py:606: ConvergenceWarning: Maximum Likelihood optimization failed to converge. Check mle_retvals\n",
            "  ConvergenceWarning)\n"
          ]
        },
        {
          "output_type": "stream",
          "name": "stdout",
          "text": [
            "Iteration:      1,   Func. Count:      6,   Neg. LLF: -1171.4987679168532\n",
            "Iteration:      2,   Func. Count:     18,   Neg. LLF: -1171.692908755601\n",
            "Iteration:      3,   Func. Count:     27,   Neg. LLF: -1171.8899366976912\n",
            "Iteration:      4,   Func. Count:     34,   Neg. LLF: -1172.1828340129384\n",
            "Iteration:      5,   Func. Count:     42,   Neg. LLF: -1172.5032034364024\n",
            "Iteration:      6,   Func. Count:     50,   Neg. LLF: -1172.527639336054\n",
            "Iteration:      7,   Func. Count:     57,   Neg. LLF: -1172.7959850179927\n",
            "Iteration:      8,   Func. Count:     63,   Neg. LLF: -1172.8562290684617\n",
            "Iteration:      9,   Func. Count:     69,   Neg. LLF: -1172.8615525540863\n",
            "Iteration:     10,   Func. Count:     75,   Neg. LLF: -1172.8616767100045\n",
            "Iteration:     11,   Func. Count:     81,   Neg. LLF: -1172.8616836360804\n",
            "Optimization terminated successfully.    (Exit mode 0)\n",
            "            Current function value: -1172.8616836366841\n",
            "            Iterations: 11\n",
            "            Function evaluations: 81\n",
            "            Gradient evaluations: 11\n",
            "0.000378451584038973\n"
          ]
        },
        {
          "output_type": "stream",
          "name": "stderr",
          "text": [
            "/usr/local/lib/python3.7/dist-packages/statsmodels/tsa/base/tsa_model.py:539: ValueWarning: No frequency information was provided, so inferred frequency D will be used.\n",
            "  % freq, ValueWarning)\n",
            "/usr/local/lib/python3.7/dist-packages/statsmodels/tsa/base/tsa_model.py:539: ValueWarning: No frequency information was provided, so inferred frequency D will be used.\n",
            "  % freq, ValueWarning)\n",
            "/usr/local/lib/python3.7/dist-packages/statsmodels/base/model.py:606: ConvergenceWarning: Maximum Likelihood optimization failed to converge. Check mle_retvals\n",
            "  ConvergenceWarning)\n"
          ]
        },
        {
          "output_type": "stream",
          "name": "stdout",
          "text": [
            "Iteration:      1,   Func. Count:      6,   Neg. LLF: -1171.1042982183726\n",
            "Iteration:      2,   Func. Count:     18,   Neg. LLF: -1171.3723677455182\n",
            "Iteration:      3,   Func. Count:     28,   Neg. LLF: -1171.8695596251612\n",
            "Iteration:      4,   Func. Count:     36,   Neg. LLF: -1172.094021456352\n",
            "Iteration:      5,   Func. Count:     44,   Neg. LLF: -1172.2927145767417\n",
            "Iteration:      6,   Func. Count:     52,   Neg. LLF: -1172.2933657397723\n",
            "Iteration:      7,   Func. Count:     59,   Neg. LLF: -1172.3048921974867\n",
            "Iteration:      8,   Func. Count:     65,   Neg. LLF: -1172.3055549835121\n",
            "Iteration:      9,   Func. Count:     71,   Neg. LLF: -1172.3055834185323\n",
            "Optimization terminated successfully.    (Exit mode 0)\n",
            "            Current function value: -1172.3055834182433\n",
            "            Iterations: 9\n",
            "            Function evaluations: 71\n",
            "            Gradient evaluations: 9\n",
            "0.00020994978251111723\n"
          ]
        },
        {
          "output_type": "stream",
          "name": "stderr",
          "text": [
            "/usr/local/lib/python3.7/dist-packages/statsmodels/tsa/base/tsa_model.py:539: ValueWarning: No frequency information was provided, so inferred frequency D will be used.\n",
            "  % freq, ValueWarning)\n",
            "/usr/local/lib/python3.7/dist-packages/statsmodels/tsa/base/tsa_model.py:539: ValueWarning: No frequency information was provided, so inferred frequency D will be used.\n",
            "  % freq, ValueWarning)\n",
            "/usr/local/lib/python3.7/dist-packages/statsmodels/base/model.py:606: ConvergenceWarning: Maximum Likelihood optimization failed to converge. Check mle_retvals\n",
            "  ConvergenceWarning)\n"
          ]
        },
        {
          "output_type": "stream",
          "name": "stdout",
          "text": [
            "Iteration:      1,   Func. Count:      6,   Neg. LLF: -1172.997227992188\n",
            "Iteration:      2,   Func. Count:     18,   Neg. LLF: -1173.2395172968158\n",
            "Iteration:      3,   Func. Count:     27,   Neg. LLF: -1173.4592825065165\n",
            "Iteration:      4,   Func. Count:     35,   Neg. LLF: -1173.5936646611403\n",
            "Iteration:      5,   Func. Count:     43,   Neg. LLF: -1174.0886109223843\n",
            "Iteration:      6,   Func. Count:     51,   Neg. LLF: -1174.0980933016215\n",
            "Iteration:      7,   Func. Count:     58,   Neg. LLF: -1174.177642358734\n",
            "Iteration:      8,   Func. Count:     64,   Neg. LLF: -1174.19945014072\n",
            "Iteration:      9,   Func. Count:     70,   Neg. LLF: -1174.2001807240924\n",
            "Iteration:     10,   Func. Count:     76,   Neg. LLF: -1174.2001914894813\n",
            "Optimization terminated successfully.    (Exit mode 0)\n",
            "            Current function value: -1174.2001914896246\n",
            "            Iterations: 10\n",
            "            Function evaluations: 76\n",
            "            Gradient evaluations: 10\n",
            "0.00025741407002639476\n"
          ]
        },
        {
          "output_type": "stream",
          "name": "stderr",
          "text": [
            "/usr/local/lib/python3.7/dist-packages/statsmodels/tsa/base/tsa_model.py:539: ValueWarning: No frequency information was provided, so inferred frequency D will be used.\n",
            "  % freq, ValueWarning)\n",
            "/usr/local/lib/python3.7/dist-packages/statsmodels/tsa/base/tsa_model.py:539: ValueWarning: No frequency information was provided, so inferred frequency D will be used.\n",
            "  % freq, ValueWarning)\n",
            "/usr/local/lib/python3.7/dist-packages/statsmodels/base/model.py:606: ConvergenceWarning: Maximum Likelihood optimization failed to converge. Check mle_retvals\n",
            "  ConvergenceWarning)\n"
          ]
        },
        {
          "output_type": "stream",
          "name": "stdout",
          "text": [
            "Iteration:      1,   Func. Count:      6,   Neg. LLF: -1172.3963560795805\n",
            "Iteration:      2,   Func. Count:     19,   Neg. LLF: -1173.0024359980478\n",
            "Iteration:      3,   Func. Count:     29,   Neg. LLF: -1173.6793438063623\n",
            "Iteration:      4,   Func. Count:     37,   Neg. LLF: -1173.7135447918888\n",
            "Iteration:      5,   Func. Count:     45,   Neg. LLF: -1173.7339862783479\n",
            "Iteration:      6,   Func. Count:     52,   Neg. LLF: -1173.7359768018582\n",
            "Iteration:      7,   Func. Count:     58,   Neg. LLF: -1173.7363415494506\n",
            "Iteration:      8,   Func. Count:     64,   Neg. LLF: -1173.7363482202427\n",
            "Optimization terminated successfully.    (Exit mode 0)\n",
            "            Current function value: -1173.7363482199266\n",
            "            Iterations: 8\n",
            "            Function evaluations: 64\n",
            "            Gradient evaluations: 8\n",
            "0.00025515294533908433\n"
          ]
        },
        {
          "output_type": "stream",
          "name": "stderr",
          "text": [
            "/usr/local/lib/python3.7/dist-packages/statsmodels/tsa/base/tsa_model.py:539: ValueWarning: No frequency information was provided, so inferred frequency D will be used.\n",
            "  % freq, ValueWarning)\n",
            "/usr/local/lib/python3.7/dist-packages/statsmodels/tsa/base/tsa_model.py:539: ValueWarning: No frequency information was provided, so inferred frequency D will be used.\n",
            "  % freq, ValueWarning)\n",
            "/usr/local/lib/python3.7/dist-packages/statsmodels/base/model.py:606: ConvergenceWarning: Maximum Likelihood optimization failed to converge. Check mle_retvals\n",
            "  ConvergenceWarning)\n"
          ]
        },
        {
          "output_type": "stream",
          "name": "stdout",
          "text": [
            "Iteration:      1,   Func. Count:      6,   Neg. LLF: -1176.919312462016\n",
            "Iteration:      2,   Func. Count:     19,   Neg. LLF: -1177.5860675699075\n",
            "Iteration:      3,   Func. Count:     29,   Neg. LLF: -1178.2889816544211\n",
            "Iteration:      4,   Func. Count:     37,   Neg. LLF: -1178.4020587509917\n",
            "Iteration:      5,   Func. Count:     45,   Neg. LLF: -1178.4164083302016\n",
            "Iteration:      6,   Func. Count:     52,   Neg. LLF: -1178.4202758621623\n",
            "Iteration:      7,   Func. Count:     58,   Neg. LLF: -1178.4208271521657\n",
            "Iteration:      8,   Func. Count:     64,   Neg. LLF: -1178.4208472691937\n",
            "Optimization terminated successfully.    (Exit mode 0)\n",
            "            Current function value: -1178.4208472689247\n",
            "            Iterations: 8\n",
            "            Function evaluations: 64\n",
            "            Gradient evaluations: 8\n",
            "0.0003898706144394528\n"
          ]
        },
        {
          "output_type": "stream",
          "name": "stderr",
          "text": [
            "/usr/local/lib/python3.7/dist-packages/statsmodels/tsa/base/tsa_model.py:539: ValueWarning: No frequency information was provided, so inferred frequency D will be used.\n",
            "  % freq, ValueWarning)\n",
            "/usr/local/lib/python3.7/dist-packages/statsmodels/tsa/base/tsa_model.py:539: ValueWarning: No frequency information was provided, so inferred frequency D will be used.\n",
            "  % freq, ValueWarning)\n",
            "/usr/local/lib/python3.7/dist-packages/statsmodels/base/model.py:606: ConvergenceWarning: Maximum Likelihood optimization failed to converge. Check mle_retvals\n",
            "  ConvergenceWarning)\n"
          ]
        },
        {
          "output_type": "stream",
          "name": "stdout",
          "text": [
            "Iteration:      1,   Func. Count:      6,   Neg. LLF: -1176.3331616969585\n",
            "Iteration:      2,   Func. Count:     18,   Neg. LLF: -1176.6690404328501\n",
            "Iteration:      3,   Func. Count:     28,   Neg. LLF: -1177.2142026523875\n",
            "Iteration:      4,   Func. Count:     36,   Neg. LLF: -1177.2988332360965\n",
            "Iteration:      5,   Func. Count:     44,   Neg. LLF: -1177.5163678163644\n",
            "Iteration:      6,   Func. Count:     52,   Neg. LLF: -1177.5462622549144\n",
            "Iteration:      7,   Func. Count:     59,   Neg. LLF: -1177.5521342864004\n",
            "Iteration:      8,   Func. Count:     65,   Neg. LLF: -1177.5557702755316\n",
            "Iteration:      9,   Func. Count:     71,   Neg. LLF: -1177.5558097580981\n",
            "Optimization terminated successfully.    (Exit mode 0)\n",
            "            Current function value: -1177.5558097578987\n",
            "            Iterations: 9\n",
            "            Function evaluations: 71\n",
            "            Gradient evaluations: 9\n",
            "0.00010414214560654301\n"
          ]
        },
        {
          "output_type": "stream",
          "name": "stderr",
          "text": [
            "/usr/local/lib/python3.7/dist-packages/statsmodels/tsa/base/tsa_model.py:539: ValueWarning: No frequency information was provided, so inferred frequency D will be used.\n",
            "  % freq, ValueWarning)\n",
            "/usr/local/lib/python3.7/dist-packages/statsmodels/tsa/base/tsa_model.py:539: ValueWarning: No frequency information was provided, so inferred frequency D will be used.\n",
            "  % freq, ValueWarning)\n",
            "/usr/local/lib/python3.7/dist-packages/statsmodels/base/model.py:606: ConvergenceWarning: Maximum Likelihood optimization failed to converge. Check mle_retvals\n",
            "  ConvergenceWarning)\n"
          ]
        },
        {
          "output_type": "stream",
          "name": "stdout",
          "text": [
            "Iteration:      1,   Func. Count:      6,   Neg. LLF: -1176.7255501455643\n",
            "Iteration:      2,   Func. Count:     19,   Neg. LLF: -1177.3544826364027\n",
            "Iteration:      3,   Func. Count:     29,   Neg. LLF: -1178.0481622947434\n",
            "Iteration:      4,   Func. Count:     37,   Neg. LLF: -1178.121153362357\n",
            "Iteration:      5,   Func. Count:     45,   Neg. LLF: -1178.1669370393174\n",
            "Iteration:      6,   Func. Count:     53,   Neg. LLF: -1178.1846223681114\n",
            "Iteration:      7,   Func. Count:     59,   Neg. LLF: -1178.1856700567696\n",
            "Iteration:      8,   Func. Count:     65,   Neg. LLF: -1178.1873413969074\n",
            "Iteration:      9,   Func. Count:     71,   Neg. LLF: -1178.1874068716857\n",
            "Optimization terminated successfully.    (Exit mode 0)\n",
            "            Current function value: -1178.1874073416852\n",
            "            Iterations: 9\n",
            "            Function evaluations: 72\n",
            "            Gradient evaluations: 9\n",
            "3.977803678991909e-05\n"
          ]
        },
        {
          "output_type": "stream",
          "name": "stderr",
          "text": [
            "/usr/local/lib/python3.7/dist-packages/statsmodels/tsa/base/tsa_model.py:539: ValueWarning: No frequency information was provided, so inferred frequency D will be used.\n",
            "  % freq, ValueWarning)\n",
            "/usr/local/lib/python3.7/dist-packages/statsmodels/tsa/base/tsa_model.py:539: ValueWarning: No frequency information was provided, so inferred frequency D will be used.\n",
            "  % freq, ValueWarning)\n",
            "/usr/local/lib/python3.7/dist-packages/statsmodels/base/model.py:606: ConvergenceWarning: Maximum Likelihood optimization failed to converge. Check mle_retvals\n",
            "  ConvergenceWarning)\n"
          ]
        },
        {
          "output_type": "stream",
          "name": "stdout",
          "text": [
            "Iteration:      1,   Func. Count:      6,   Neg. LLF: -1179.1733323305257\n",
            "Iteration:      2,   Func. Count:     18,   Neg. LLF: -1179.4415292923068\n",
            "Iteration:      3,   Func. Count:     28,   Neg. LLF: -1179.9842782245905\n",
            "Iteration:      4,   Func. Count:     36,   Neg. LLF: -1180.2156688925056\n",
            "Iteration:      5,   Func. Count:     44,   Neg. LLF: -1180.3674120194505\n",
            "Iteration:      6,   Func. Count:     52,   Neg. LLF: -1180.3675685971753\n",
            "Iteration:      7,   Func. Count:     59,   Neg. LLF: -1180.376969610716\n",
            "Iteration:      8,   Func. Count:     65,   Neg. LLF: -1180.3773710827286\n",
            "Iteration:      9,   Func. Count:     71,   Neg. LLF: -1180.3773876122973\n",
            "Optimization terminated successfully.    (Exit mode 0)\n",
            "            Current function value: -1180.3773876120358\n",
            "            Iterations: 9\n",
            "            Function evaluations: 71\n",
            "            Gradient evaluations: 9\n",
            "6.075977597026605e-05\n"
          ]
        },
        {
          "output_type": "stream",
          "name": "stderr",
          "text": [
            "/usr/local/lib/python3.7/dist-packages/statsmodels/tsa/base/tsa_model.py:539: ValueWarning: No frequency information was provided, so inferred frequency D will be used.\n",
            "  % freq, ValueWarning)\n",
            "/usr/local/lib/python3.7/dist-packages/statsmodels/tsa/base/tsa_model.py:539: ValueWarning: No frequency information was provided, so inferred frequency D will be used.\n",
            "  % freq, ValueWarning)\n",
            "/usr/local/lib/python3.7/dist-packages/statsmodels/base/model.py:606: ConvergenceWarning: Maximum Likelihood optimization failed to converge. Check mle_retvals\n",
            "  ConvergenceWarning)\n"
          ]
        },
        {
          "output_type": "stream",
          "name": "stdout",
          "text": [
            "Iteration:      1,   Func. Count:      6,   Neg. LLF: -1181.121858370775\n",
            "Iteration:      2,   Func. Count:     18,   Neg. LLF: -1181.4094368337296\n",
            "Iteration:      3,   Func. Count:     27,   Neg. LLF: -1181.6587363496042\n",
            "Iteration:      4,   Func. Count:     35,   Neg. LLF: -1181.7694639571787\n",
            "Iteration:      5,   Func. Count:     43,   Neg. LLF: -1182.2157922043566\n",
            "Iteration:      6,   Func. Count:     51,   Neg. LLF: -1182.222227950353\n",
            "Iteration:      7,   Func. Count:     58,   Neg. LLF: -1182.287240446673\n",
            "Iteration:      8,   Func. Count:     64,   Neg. LLF: -1182.3050796709588\n",
            "Iteration:      9,   Func. Count:     70,   Neg. LLF: -1182.3052848495552\n",
            "Iteration:     10,   Func. Count:     76,   Neg. LLF: -1182.3052894265963\n",
            "Optimization terminated successfully.    (Exit mode 0)\n",
            "            Current function value: -1182.3052894266466\n",
            "            Iterations: 10\n",
            "            Function evaluations: 76\n",
            "            Gradient evaluations: 10\n",
            "6.298451690045746e-05\n"
          ]
        },
        {
          "output_type": "stream",
          "name": "stderr",
          "text": [
            "/usr/local/lib/python3.7/dist-packages/statsmodels/tsa/base/tsa_model.py:539: ValueWarning: No frequency information was provided, so inferred frequency D will be used.\n",
            "  % freq, ValueWarning)\n",
            "/usr/local/lib/python3.7/dist-packages/statsmodels/tsa/base/tsa_model.py:539: ValueWarning: No frequency information was provided, so inferred frequency D will be used.\n",
            "  % freq, ValueWarning)\n",
            "/usr/local/lib/python3.7/dist-packages/statsmodels/base/model.py:606: ConvergenceWarning: Maximum Likelihood optimization failed to converge. Check mle_retvals\n",
            "  ConvergenceWarning)\n"
          ]
        },
        {
          "output_type": "stream",
          "name": "stdout",
          "text": [
            "Iteration:      1,   Func. Count:      6,   Neg. LLF: -1182.4029870989348\n",
            "Iteration:      2,   Func. Count:     19,   Neg. LLF: -1182.9623566270825\n",
            "Iteration:      3,   Func. Count:     28,   Neg. LLF: -1183.2089169561011\n",
            "Iteration:      4,   Func. Count:     36,   Neg. LLF: -1183.3130208479934\n",
            "Iteration:      5,   Func. Count:     44,   Neg. LLF: -1183.542795801483\n",
            "Iteration:      6,   Func. Count:     51,   Neg. LLF: -1183.6850774987738\n",
            "Iteration:      7,   Func. Count:     57,   Neg. LLF: -1183.6918899914428\n",
            "Iteration:      8,   Func. Count:     63,   Neg. LLF: -1183.6929719562127\n",
            "Iteration:      9,   Func. Count:     69,   Neg. LLF: -1183.692980485925\n",
            "Optimization terminated successfully.    (Exit mode 0)\n",
            "            Current function value: -1183.6929804865035\n",
            "            Iterations: 9\n",
            "            Function evaluations: 69\n",
            "            Gradient evaluations: 9\n",
            "1.1502004117963323e-05\n"
          ]
        },
        {
          "output_type": "stream",
          "name": "stderr",
          "text": [
            "/usr/local/lib/python3.7/dist-packages/statsmodels/tsa/base/tsa_model.py:539: ValueWarning: No frequency information was provided, so inferred frequency D will be used.\n",
            "  % freq, ValueWarning)\n",
            "/usr/local/lib/python3.7/dist-packages/statsmodels/tsa/base/tsa_model.py:539: ValueWarning: No frequency information was provided, so inferred frequency D will be used.\n",
            "  % freq, ValueWarning)\n",
            "/usr/local/lib/python3.7/dist-packages/statsmodels/base/model.py:606: ConvergenceWarning: Maximum Likelihood optimization failed to converge. Check mle_retvals\n",
            "  ConvergenceWarning)\n"
          ]
        },
        {
          "output_type": "stream",
          "name": "stdout",
          "text": [
            "Iteration:      1,   Func. Count:      6,   Neg. LLF: -1182.3777682946786\n",
            "Iteration:      2,   Func. Count:     18,   Neg. LLF: -1182.7375972268533\n",
            "Iteration:      3,   Func. Count:     28,   Neg. LLF: -1183.3371799233914\n",
            "Iteration:      4,   Func. Count:     36,   Neg. LLF: -1183.3890717004247\n",
            "Iteration:      5,   Func. Count:     44,   Neg. LLF: -1183.475340416649\n",
            "Iteration:      6,   Func. Count:     52,   Neg. LLF: -1183.534698023132\n",
            "Iteration:      7,   Func. Count:     58,   Neg. LLF: -1183.539261487344\n",
            "Iteration:      8,   Func. Count:     64,   Neg. LLF: -1183.5396130532513\n",
            "Iteration:      9,   Func. Count:     70,   Neg. LLF: -1183.5396176207807\n",
            "Optimization terminated successfully.    (Exit mode 0)\n",
            "            Current function value: -1183.5396176207496\n",
            "            Iterations: 9\n",
            "            Function evaluations: 70\n",
            "            Gradient evaluations: 9\n",
            "-7.305735019216174e-05\n"
          ]
        },
        {
          "output_type": "stream",
          "name": "stderr",
          "text": [
            "/usr/local/lib/python3.7/dist-packages/statsmodels/tsa/base/tsa_model.py:539: ValueWarning: No frequency information was provided, so inferred frequency D will be used.\n",
            "  % freq, ValueWarning)\n",
            "/usr/local/lib/python3.7/dist-packages/statsmodels/tsa/base/tsa_model.py:539: ValueWarning: No frequency information was provided, so inferred frequency D will be used.\n",
            "  % freq, ValueWarning)\n",
            "/usr/local/lib/python3.7/dist-packages/statsmodels/base/model.py:606: ConvergenceWarning: Maximum Likelihood optimization failed to converge. Check mle_retvals\n",
            "  ConvergenceWarning)\n"
          ]
        },
        {
          "output_type": "stream",
          "name": "stdout",
          "text": [
            "Iteration:      1,   Func. Count:      6,   Neg. LLF: -1184.094094344773\n",
            "Iteration:      2,   Func. Count:     18,   Neg. LLF: -1184.3997196092164\n",
            "Iteration:      3,   Func. Count:     28,   Neg. LLF: -1185.003097374246\n",
            "Iteration:      4,   Func. Count:     36,   Neg. LLF: -1185.0685764155255\n",
            "Iteration:      5,   Func. Count:     44,   Neg. LLF: -1185.2475521435294\n",
            "Iteration:      6,   Func. Count:     52,   Neg. LLF: -1185.2982712213689\n",
            "Iteration:      7,   Func. Count:     59,   Neg. LLF: -1185.3007927741096\n",
            "Iteration:      8,   Func. Count:     65,   Neg. LLF: -1185.3027838455023\n",
            "Iteration:      9,   Func. Count:     71,   Neg. LLF: -1185.3050248937616\n",
            "Iteration:     10,   Func. Count:     77,   Neg. LLF: -1185.3050265894194\n",
            "Optimization terminated successfully.    (Exit mode 0)\n",
            "            Current function value: -1185.3050265893644\n",
            "            Iterations: 10\n",
            "            Function evaluations: 77\n",
            "            Gradient evaluations: 10\n",
            "-0.0001386468240972085\n"
          ]
        },
        {
          "output_type": "stream",
          "name": "stderr",
          "text": [
            "/usr/local/lib/python3.7/dist-packages/statsmodels/tsa/base/tsa_model.py:539: ValueWarning: No frequency information was provided, so inferred frequency D will be used.\n",
            "  % freq, ValueWarning)\n",
            "/usr/local/lib/python3.7/dist-packages/statsmodels/tsa/base/tsa_model.py:539: ValueWarning: No frequency information was provided, so inferred frequency D will be used.\n",
            "  % freq, ValueWarning)\n",
            "/usr/local/lib/python3.7/dist-packages/statsmodels/base/model.py:606: ConvergenceWarning: Maximum Likelihood optimization failed to converge. Check mle_retvals\n",
            "  ConvergenceWarning)\n"
          ]
        },
        {
          "output_type": "stream",
          "name": "stdout",
          "text": [
            "Iteration:      1,   Func. Count:      6,   Neg. LLF: -1186.1382305179175\n",
            "Iteration:      2,   Func. Count:     18,   Neg. LLF: -1186.472847817937\n",
            "Iteration:      3,   Func. Count:     28,   Neg. LLF: -1187.020808924833\n",
            "Iteration:      4,   Func. Count:     36,   Neg. LLF: -1187.0713715944803\n",
            "Iteration:      5,   Func. Count:     44,   Neg. LLF: -1187.2131049344118\n",
            "Iteration:      6,   Func. Count:     52,   Neg. LLF: -1187.284956998309\n",
            "Iteration:      7,   Func. Count:     58,   Neg. LLF: -1187.2905598405316\n",
            "Iteration:      8,   Func. Count:     64,   Neg. LLF: -1187.290824353259\n",
            "Iteration:      9,   Func. Count:     70,   Neg. LLF: -1187.2911648495642\n",
            "Iteration:     10,   Func. Count:     76,   Neg. LLF: -1187.2911661496116\n",
            "Optimization terminated successfully.    (Exit mode 0)\n",
            "            Current function value: -1187.29116614946\n",
            "            Iterations: 10\n",
            "            Function evaluations: 76\n",
            "            Gradient evaluations: 10\n",
            "-0.00010753414635636143\n"
          ]
        },
        {
          "output_type": "stream",
          "name": "stderr",
          "text": [
            "/usr/local/lib/python3.7/dist-packages/statsmodels/tsa/base/tsa_model.py:539: ValueWarning: No frequency information was provided, so inferred frequency D will be used.\n",
            "  % freq, ValueWarning)\n",
            "/usr/local/lib/python3.7/dist-packages/statsmodels/tsa/base/tsa_model.py:539: ValueWarning: No frequency information was provided, so inferred frequency D will be used.\n",
            "  % freq, ValueWarning)\n",
            "/usr/local/lib/python3.7/dist-packages/statsmodels/base/model.py:606: ConvergenceWarning: Maximum Likelihood optimization failed to converge. Check mle_retvals\n",
            "  ConvergenceWarning)\n"
          ]
        },
        {
          "output_type": "stream",
          "name": "stdout",
          "text": [
            "Iteration:      1,   Func. Count:      6,   Neg. LLF: -1187.6465251507368\n",
            "Iteration:      2,   Func. Count:     18,   Neg. LLF: -1187.9777979688506\n",
            "Iteration:      3,   Func. Count:     28,   Neg. LLF: -1188.5482004814667\n",
            "Iteration:      4,   Func. Count:     36,   Neg. LLF: -1188.6046953403716\n",
            "Iteration:      5,   Func. Count:     44,   Neg. LLF: -1188.7222893061016\n",
            "Iteration:      6,   Func. Count:     52,   Neg. LLF: -1188.7964629705643\n",
            "Iteration:      7,   Func. Count:     58,   Neg. LLF: -1188.800868408723\n",
            "Iteration:      8,   Func. Count:     64,   Neg. LLF: -1188.8012559125048\n",
            "Iteration:      9,   Func. Count:     70,   Neg. LLF: -1188.80183509823\n",
            "Optimization terminated successfully.    (Exit mode 0)\n",
            "            Current function value: -1188.8018354378203\n",
            "            Iterations: 9\n",
            "            Function evaluations: 71\n",
            "            Gradient evaluations: 9\n",
            "-0.00014653901226585142\n"
          ]
        },
        {
          "output_type": "stream",
          "name": "stderr",
          "text": [
            "/usr/local/lib/python3.7/dist-packages/statsmodels/tsa/base/tsa_model.py:539: ValueWarning: No frequency information was provided, so inferred frequency D will be used.\n",
            "  % freq, ValueWarning)\n",
            "/usr/local/lib/python3.7/dist-packages/statsmodels/tsa/base/tsa_model.py:539: ValueWarning: No frequency information was provided, so inferred frequency D will be used.\n",
            "  % freq, ValueWarning)\n",
            "/usr/local/lib/python3.7/dist-packages/statsmodels/base/model.py:606: ConvergenceWarning: Maximum Likelihood optimization failed to converge. Check mle_retvals\n",
            "  ConvergenceWarning)\n"
          ]
        },
        {
          "output_type": "stream",
          "name": "stdout",
          "text": [
            "Iteration:      1,   Func. Count:      6,   Neg. LLF: -1186.0708589336093\n",
            "Iteration:      2,   Func. Count:     19,   Neg. LLF: -1186.6080060873303\n",
            "Iteration:      3,   Func. Count:     29,   Neg. LLF: -1187.733103693763\n",
            "Iteration:      4,   Func. Count:     37,   Neg. LLF: -1187.8526603792498\n",
            "Iteration:      5,   Func. Count:     45,   Neg. LLF: -1187.876755490515\n",
            "Iteration:      6,   Func. Count:     52,   Neg. LLF: -1187.9783711506452\n",
            "Iteration:      7,   Func. Count:     59,   Neg. LLF: -1187.9848266634328\n",
            "Iteration:      8,   Func. Count:     65,   Neg. LLF: -1187.988726032758\n",
            "Iteration:      9,   Func. Count:     71,   Neg. LLF: -1187.988755652576\n",
            "Optimization terminated successfully.    (Exit mode 0)\n",
            "            Current function value: -1187.9887556528693\n",
            "            Iterations: 9\n",
            "            Function evaluations: 71\n",
            "            Gradient evaluations: 9\n",
            "-9.726748298373892e-05\n"
          ]
        },
        {
          "output_type": "stream",
          "name": "stderr",
          "text": [
            "/usr/local/lib/python3.7/dist-packages/statsmodels/tsa/base/tsa_model.py:539: ValueWarning: No frequency information was provided, so inferred frequency D will be used.\n",
            "  % freq, ValueWarning)\n",
            "/usr/local/lib/python3.7/dist-packages/statsmodels/tsa/base/tsa_model.py:539: ValueWarning: No frequency information was provided, so inferred frequency D will be used.\n",
            "  % freq, ValueWarning)\n",
            "/usr/local/lib/python3.7/dist-packages/statsmodels/base/model.py:606: ConvergenceWarning: Maximum Likelihood optimization failed to converge. Check mle_retvals\n",
            "  ConvergenceWarning)\n"
          ]
        },
        {
          "output_type": "stream",
          "name": "stdout",
          "text": [
            "Iteration:      1,   Func. Count:      6,   Neg. LLF: -1192.5040416584839\n",
            "Iteration:      2,   Func. Count:     18,   Neg. LLF: -1192.8459498833254\n",
            "Iteration:      3,   Func. Count:     27,   Neg. LLF: -1193.0735087021508\n",
            "Iteration:      4,   Func. Count:     35,   Neg. LLF: -1193.3333015082712\n",
            "Iteration:      5,   Func. Count:     43,   Neg. LLF: -1193.4873588880628\n",
            "Iteration:      6,   Func. Count:     50,   Neg. LLF: -1193.512043383816\n",
            "Iteration:      7,   Func. Count:     56,   Neg. LLF: -1193.5639776227288\n",
            "Iteration:      8,   Func. Count:     62,   Neg. LLF: -1193.5653043043044\n",
            "Iteration:      9,   Func. Count:     68,   Neg. LLF: -1193.565324955544\n",
            "Optimization terminated successfully.    (Exit mode 0)\n",
            "            Current function value: -1193.565324955026\n",
            "            Iterations: 9\n",
            "            Function evaluations: 68\n",
            "            Gradient evaluations: 9\n",
            "-0.00019313184699402635\n"
          ]
        },
        {
          "output_type": "stream",
          "name": "stderr",
          "text": [
            "/usr/local/lib/python3.7/dist-packages/statsmodels/tsa/base/tsa_model.py:539: ValueWarning: No frequency information was provided, so inferred frequency D will be used.\n",
            "  % freq, ValueWarning)\n",
            "/usr/local/lib/python3.7/dist-packages/statsmodels/tsa/base/tsa_model.py:539: ValueWarning: No frequency information was provided, so inferred frequency D will be used.\n",
            "  % freq, ValueWarning)\n",
            "/usr/local/lib/python3.7/dist-packages/statsmodels/base/model.py:606: ConvergenceWarning: Maximum Likelihood optimization failed to converge. Check mle_retvals\n",
            "  ConvergenceWarning)\n"
          ]
        },
        {
          "output_type": "stream",
          "name": "stdout",
          "text": [
            "Iteration:      1,   Func. Count:      6,   Neg. LLF: -1193.3874631168387\n",
            "Iteration:      2,   Func. Count:     18,   Neg. LLF: -1193.7459062662629\n",
            "Iteration:      3,   Func. Count:     27,   Neg. LLF: -1193.9867403165927\n",
            "Iteration:      4,   Func. Count:     35,   Neg. LLF: -1194.082094187324\n",
            "Iteration:      5,   Func. Count:     43,   Neg. LLF: -1194.3098994447362\n",
            "Iteration:      6,   Func. Count:     50,   Neg. LLF: -1194.4290310739018\n",
            "Iteration:      7,   Func. Count:     56,   Neg. LLF: -1194.4513360818337\n",
            "Iteration:      8,   Func. Count:     63,   Neg. LLF: -1194.4778998631753\n",
            "Iteration:      9,   Func. Count:     69,   Neg. LLF: -1194.4829640946855\n",
            "Iteration:     10,   Func. Count:     75,   Neg. LLF: -1194.4832658679443\n",
            "Optimization terminated successfully.    (Exit mode 0)\n",
            "            Current function value: -1194.4832658680411\n",
            "            Iterations: 10\n",
            "            Function evaluations: 75\n",
            "            Gradient evaluations: 10\n",
            "-0.0002085606287300146\n"
          ]
        },
        {
          "output_type": "stream",
          "name": "stderr",
          "text": [
            "/usr/local/lib/python3.7/dist-packages/statsmodels/tsa/base/tsa_model.py:539: ValueWarning: No frequency information was provided, so inferred frequency D will be used.\n",
            "  % freq, ValueWarning)\n",
            "/usr/local/lib/python3.7/dist-packages/statsmodels/tsa/base/tsa_model.py:539: ValueWarning: No frequency information was provided, so inferred frequency D will be used.\n",
            "  % freq, ValueWarning)\n",
            "/usr/local/lib/python3.7/dist-packages/statsmodels/base/model.py:606: ConvergenceWarning: Maximum Likelihood optimization failed to converge. Check mle_retvals\n",
            "  ConvergenceWarning)\n"
          ]
        },
        {
          "output_type": "stream",
          "name": "stdout",
          "text": [
            "Iteration:      1,   Func. Count:      6,   Neg. LLF: -1189.3363539106667\n",
            "Iteration:      2,   Func. Count:     18,   Neg. LLF: -1189.5203745580693\n",
            "Iteration:      3,   Func. Count:     28,   Neg. LLF: -1190.246815301653\n",
            "Iteration:      4,   Func. Count:     36,   Neg. LLF: -1190.3958076899494\n",
            "Iteration:      5,   Func. Count:     44,   Neg. LLF: -1190.3992827102106\n",
            "Iteration:      6,   Func. Count:     50,   Neg. LLF: -1190.4035633136905\n",
            "Iteration:      7,   Func. Count:     56,   Neg. LLF: -1190.4052605098664\n",
            "Iteration:      8,   Func. Count:     62,   Neg. LLF: -1190.4052775153486\n",
            "Iteration:      9,   Func. Count:     68,   Neg. LLF: -1190.4052788128345\n",
            "Optimization terminated successfully.    (Exit mode 0)\n",
            "            Current function value: -1190.40527881283\n",
            "            Iterations: 9\n",
            "            Function evaluations: 68\n",
            "            Gradient evaluations: 9\n",
            "-0.0013534130885573432\n"
          ]
        },
        {
          "output_type": "stream",
          "name": "stderr",
          "text": [
            "/usr/local/lib/python3.7/dist-packages/statsmodels/tsa/base/tsa_model.py:539: ValueWarning: No frequency information was provided, so inferred frequency D will be used.\n",
            "  % freq, ValueWarning)\n",
            "/usr/local/lib/python3.7/dist-packages/statsmodels/tsa/base/tsa_model.py:539: ValueWarning: No frequency information was provided, so inferred frequency D will be used.\n",
            "  % freq, ValueWarning)\n",
            "/usr/local/lib/python3.7/dist-packages/statsmodels/base/model.py:606: ConvergenceWarning: Maximum Likelihood optimization failed to converge. Check mle_retvals\n",
            "  ConvergenceWarning)\n"
          ]
        },
        {
          "output_type": "stream",
          "name": "stdout",
          "text": [
            "Iteration:      1,   Func. Count:      6,   Neg. LLF: -1196.5777356248575\n",
            "Iteration:      2,   Func. Count:     18,   Neg. LLF: -1196.9387011357103\n",
            "Iteration:      3,   Func. Count:     27,   Neg. LLF: -1197.1575041782762\n",
            "Iteration:      4,   Func. Count:     35,   Neg. LLF: -1197.2443192605338\n",
            "Iteration:      5,   Func. Count:     43,   Neg. LLF: -1197.4570675865598\n",
            "Iteration:      6,   Func. Count:     50,   Neg. LLF: -1197.6173783512181\n",
            "Iteration:      7,   Func. Count:     57,   Neg. LLF: -1197.6416941567795\n",
            "Iteration:      8,   Func. Count:     64,   Neg. LLF: -1197.653038395435\n",
            "Iteration:      9,   Func. Count:     70,   Neg. LLF: -1197.6530643398871\n",
            "Optimization terminated successfully.    (Exit mode 0)\n",
            "            Current function value: -1197.6530643393787\n",
            "            Iterations: 9\n",
            "            Function evaluations: 70\n",
            "            Gradient evaluations: 9\n",
            "-0.0002136520777181671\n"
          ]
        },
        {
          "output_type": "stream",
          "name": "stderr",
          "text": [
            "/usr/local/lib/python3.7/dist-packages/statsmodels/tsa/base/tsa_model.py:539: ValueWarning: No frequency information was provided, so inferred frequency D will be used.\n",
            "  % freq, ValueWarning)\n",
            "/usr/local/lib/python3.7/dist-packages/statsmodels/tsa/base/tsa_model.py:539: ValueWarning: No frequency information was provided, so inferred frequency D will be used.\n",
            "  % freq, ValueWarning)\n",
            "/usr/local/lib/python3.7/dist-packages/statsmodels/base/model.py:606: ConvergenceWarning: Maximum Likelihood optimization failed to converge. Check mle_retvals\n",
            "  ConvergenceWarning)\n"
          ]
        },
        {
          "output_type": "stream",
          "name": "stdout",
          "text": [
            "Iteration:      1,   Func. Count:      6,   Neg. LLF: -1193.4846669483345\n",
            "Iteration:      2,   Func. Count:     18,   Neg. LLF: -1193.840657117776\n",
            "Iteration:      3,   Func. Count:     28,   Neg. LLF: -1194.7246022190022\n",
            "Iteration:      4,   Func. Count:     36,   Neg. LLF: -1194.7561165937254\n",
            "Iteration:      5,   Func. Count:     44,   Neg. LLF: -1194.7696115872868\n",
            "Iteration:      6,   Func. Count:     51,   Neg. LLF: -1194.7731824649552\n",
            "Iteration:      7,   Func. Count:     57,   Neg. LLF: -1194.7736039304289\n",
            "Iteration:      8,   Func. Count:     63,   Neg. LLF: -1194.7736082832657\n",
            "Optimization terminated successfully.    (Exit mode 0)\n",
            "            Current function value: -1194.773608283263\n",
            "            Iterations: 8\n",
            "            Function evaluations: 63\n",
            "            Gradient evaluations: 8\n",
            "-0.0005238004729232091\n"
          ]
        },
        {
          "output_type": "stream",
          "name": "stderr",
          "text": [
            "/usr/local/lib/python3.7/dist-packages/statsmodels/tsa/base/tsa_model.py:539: ValueWarning: No frequency information was provided, so inferred frequency D will be used.\n",
            "  % freq, ValueWarning)\n",
            "/usr/local/lib/python3.7/dist-packages/statsmodels/tsa/base/tsa_model.py:539: ValueWarning: No frequency information was provided, so inferred frequency D will be used.\n",
            "  % freq, ValueWarning)\n",
            "/usr/local/lib/python3.7/dist-packages/statsmodels/base/model.py:606: ConvergenceWarning: Maximum Likelihood optimization failed to converge. Check mle_retvals\n",
            "  ConvergenceWarning)\n"
          ]
        },
        {
          "output_type": "stream",
          "name": "stdout",
          "text": [
            "Iteration:      1,   Func. Count:      6,   Neg. LLF: -1187.446409036228\n",
            "Iteration:      2,   Func. Count:     18,   Neg. LLF: -1187.557113990842\n",
            "Iteration:      3,   Func. Count:     28,   Neg. LLF: -1188.7368232045878\n",
            "Iteration:      4,   Func. Count:     36,   Neg. LLF: -1189.1858066956438\n",
            "Iteration:      5,   Func. Count:     43,   Neg. LLF: -1189.4387364958266\n",
            "Iteration:      6,   Func. Count:     51,   Neg. LLF: -1189.4576749745106\n",
            "Iteration:      7,   Func. Count:     57,   Neg. LLF: -1189.4904416924578\n",
            "Iteration:      8,   Func. Count:     63,   Neg. LLF: -1189.5297289433347\n",
            "Iteration:      9,   Func. Count:     69,   Neg. LLF: -1189.5304042523424\n",
            "Iteration:     10,   Func. Count:     75,   Neg. LLF: -1189.5304105820185\n",
            "Optimization terminated successfully.    (Exit mode 0)\n",
            "            Current function value: -1189.5304105822647\n",
            "            Iterations: 10\n",
            "            Function evaluations: 75\n",
            "            Gradient evaluations: 10\n",
            "-0.00133347317651377\n"
          ]
        },
        {
          "output_type": "stream",
          "name": "stderr",
          "text": [
            "/usr/local/lib/python3.7/dist-packages/statsmodels/tsa/base/tsa_model.py:539: ValueWarning: No frequency information was provided, so inferred frequency D will be used.\n",
            "  % freq, ValueWarning)\n",
            "/usr/local/lib/python3.7/dist-packages/statsmodels/tsa/base/tsa_model.py:539: ValueWarning: No frequency information was provided, so inferred frequency D will be used.\n",
            "  % freq, ValueWarning)\n",
            "/usr/local/lib/python3.7/dist-packages/statsmodels/base/model.py:606: ConvergenceWarning: Maximum Likelihood optimization failed to converge. Check mle_retvals\n",
            "  ConvergenceWarning)\n"
          ]
        },
        {
          "output_type": "stream",
          "name": "stdout",
          "text": [
            "Iteration:      1,   Func. Count:      6,   Neg. LLF: -1201.9831935714133\n",
            "Iteration:      2,   Func. Count:     18,   Neg. LLF: -1202.3360819885534\n",
            "Iteration:      3,   Func. Count:     27,   Neg. LLF: -1202.5841113743927\n",
            "Iteration:      4,   Func. Count:     35,   Neg. LLF: -1202.6981773673965\n",
            "Iteration:      5,   Func. Count:     43,   Neg. LLF: -1202.914307837407\n",
            "Iteration:      6,   Func. Count:     50,   Neg. LLF: -1203.0152464010312\n",
            "Iteration:      7,   Func. Count:     56,   Neg. LLF: -1203.048347770547\n",
            "Iteration:      8,   Func. Count:     63,   Neg. LLF: -1203.0756145330306\n",
            "Iteration:      9,   Func. Count:     69,   Neg. LLF: -1203.0808200780577\n",
            "Iteration:     10,   Func. Count:     75,   Neg. LLF: -1203.0810583174875\n",
            "Optimization terminated successfully.    (Exit mode 0)\n",
            "            Current function value: -1203.081058317542\n",
            "            Iterations: 10\n",
            "            Function evaluations: 75\n",
            "            Gradient evaluations: 10\n",
            "-3.597960753205382e-05\n"
          ]
        },
        {
          "output_type": "stream",
          "name": "stderr",
          "text": [
            "/usr/local/lib/python3.7/dist-packages/statsmodels/tsa/base/tsa_model.py:539: ValueWarning: No frequency information was provided, so inferred frequency D will be used.\n",
            "  % freq, ValueWarning)\n",
            "/usr/local/lib/python3.7/dist-packages/statsmodels/tsa/base/tsa_model.py:539: ValueWarning: No frequency information was provided, so inferred frequency D will be used.\n",
            "  % freq, ValueWarning)\n",
            "/usr/local/lib/python3.7/dist-packages/statsmodels/base/model.py:606: ConvergenceWarning: Maximum Likelihood optimization failed to converge. Check mle_retvals\n",
            "  ConvergenceWarning)\n"
          ]
        },
        {
          "output_type": "stream",
          "name": "stdout",
          "text": [
            "Iteration:      1,   Func. Count:      6,   Neg. LLF: -1208.7667739277388\n",
            "Iteration:      2,   Func. Count:     18,   Neg. LLF: -1209.0918432612075\n",
            "Iteration:      3,   Func. Count:     28,   Neg. LLF: -1209.2485653361239\n",
            "Iteration:      4,   Func. Count:     36,   Neg. LLF: -1209.4577968243484\n",
            "Iteration:      5,   Func. Count:     43,   Neg. LLF: -1209.749259033149\n",
            "Iteration:      6,   Func. Count:     50,   Neg. LLF: -1209.9305483206062\n",
            "Iteration:      7,   Func. Count:     57,   Neg. LLF: -1210.1748431744431\n",
            "Iteration:      8,   Func. Count:     63,   Neg. LLF: -1210.177014142705\n",
            "Iteration:      9,   Func. Count:     69,   Neg. LLF: -1210.177437741751\n",
            "Iteration:     10,   Func. Count:     75,   Neg. LLF: -1210.1774445860751\n",
            "Iteration:     11,   Func. Count:     81,   Neg. LLF: -1210.1774458269215\n",
            "Optimization terminated successfully.    (Exit mode 0)\n",
            "            Current function value: -1210.1774458269147\n",
            "            Iterations: 11\n",
            "            Function evaluations: 81\n",
            "            Gradient evaluations: 11\n",
            "8.054811411932215e-05\n"
          ]
        },
        {
          "output_type": "stream",
          "name": "stderr",
          "text": [
            "/usr/local/lib/python3.7/dist-packages/statsmodels/tsa/base/tsa_model.py:539: ValueWarning: No frequency information was provided, so inferred frequency D will be used.\n",
            "  % freq, ValueWarning)\n",
            "/usr/local/lib/python3.7/dist-packages/statsmodels/tsa/base/tsa_model.py:539: ValueWarning: No frequency information was provided, so inferred frequency D will be used.\n",
            "  % freq, ValueWarning)\n",
            "/usr/local/lib/python3.7/dist-packages/statsmodels/base/model.py:606: ConvergenceWarning: Maximum Likelihood optimization failed to converge. Check mle_retvals\n",
            "  ConvergenceWarning)\n"
          ]
        },
        {
          "output_type": "stream",
          "name": "stdout",
          "text": [
            "Iteration:      1,   Func. Count:      6,   Neg. LLF: -1204.2646828683914\n",
            "Iteration:      2,   Func. Count:     18,   Neg. LLF: -1204.622313357675\n",
            "Iteration:      3,   Func. Count:     28,   Neg. LLF: -1205.1457128473003\n",
            "Iteration:      4,   Func. Count:     36,   Neg. LLF: -1205.2052382650122\n",
            "Iteration:      5,   Func. Count:     44,   Neg. LLF: -1205.301143542695\n",
            "Iteration:      6,   Func. Count:     52,   Neg. LLF: -1205.3512157492764\n",
            "Iteration:      7,   Func. Count:     58,   Neg. LLF: -1205.3569835595185\n",
            "Iteration:      8,   Func. Count:     64,   Neg. LLF: -1205.3573706729262\n",
            "Iteration:      9,   Func. Count:     70,   Neg. LLF: -1205.3573797388744\n",
            "Optimization terminated successfully.    (Exit mode 0)\n",
            "            Current function value: -1205.3573797388526\n",
            "            Iterations: 9\n",
            "            Function evaluations: 70\n",
            "            Gradient evaluations: 9\n",
            "-0.0002495526436401826\n"
          ]
        },
        {
          "output_type": "stream",
          "name": "stderr",
          "text": [
            "/usr/local/lib/python3.7/dist-packages/statsmodels/tsa/base/tsa_model.py:539: ValueWarning: No frequency information was provided, so inferred frequency D will be used.\n",
            "  % freq, ValueWarning)\n",
            "/usr/local/lib/python3.7/dist-packages/statsmodels/tsa/base/tsa_model.py:539: ValueWarning: No frequency information was provided, so inferred frequency D will be used.\n",
            "  % freq, ValueWarning)\n",
            "/usr/local/lib/python3.7/dist-packages/statsmodels/base/model.py:606: ConvergenceWarning: Maximum Likelihood optimization failed to converge. Check mle_retvals\n",
            "  ConvergenceWarning)\n"
          ]
        },
        {
          "output_type": "stream",
          "name": "stdout",
          "text": [
            "Iteration:      1,   Func. Count:      6,   Neg. LLF: -1205.505088293281\n",
            "Iteration:      2,   Func. Count:     18,   Neg. LLF: -1205.8696357466952\n",
            "Iteration:      3,   Func. Count:     27,   Neg. LLF: -1206.0859994259479\n",
            "Iteration:      4,   Func. Count:     35,   Neg. LLF: -1206.1774863402825\n",
            "Iteration:      5,   Func. Count:     43,   Neg. LLF: -1206.357780079044\n",
            "Iteration:      6,   Func. Count:     50,   Neg. LLF: -1206.5410351608102\n",
            "Iteration:      7,   Func. Count:     56,   Neg. LLF: -1206.5469681712298\n",
            "Iteration:      8,   Func. Count:     62,   Neg. LLF: -1206.5474046498343\n",
            "Iteration:      9,   Func. Count:     68,   Neg. LLF: -1206.547628497031\n",
            "Iteration:     10,   Func. Count:     74,   Neg. LLF: -1206.5476356616214\n",
            "Optimization terminated successfully.    (Exit mode 0)\n",
            "            Current function value: -1206.547635661011\n",
            "            Iterations: 10\n",
            "            Function evaluations: 74\n",
            "            Gradient evaluations: 10\n",
            "-0.00027999101244386023\n"
          ]
        },
        {
          "output_type": "stream",
          "name": "stderr",
          "text": [
            "/usr/local/lib/python3.7/dist-packages/statsmodels/tsa/base/tsa_model.py:539: ValueWarning: No frequency information was provided, so inferred frequency D will be used.\n",
            "  % freq, ValueWarning)\n",
            "/usr/local/lib/python3.7/dist-packages/statsmodels/tsa/base/tsa_model.py:539: ValueWarning: No frequency information was provided, so inferred frequency D will be used.\n",
            "  % freq, ValueWarning)\n",
            "/usr/local/lib/python3.7/dist-packages/statsmodels/base/model.py:606: ConvergenceWarning: Maximum Likelihood optimization failed to converge. Check mle_retvals\n",
            "  ConvergenceWarning)\n"
          ]
        },
        {
          "output_type": "stream",
          "name": "stdout",
          "text": [
            "Iteration:      1,   Func. Count:      6,   Neg. LLF: -1206.614416567024\n",
            "Iteration:      2,   Func. Count:     18,   Neg. LLF: -1206.9673923139194\n",
            "Iteration:      3,   Func. Count:     28,   Neg. LLF: -1207.522143821504\n",
            "Iteration:      4,   Func. Count:     36,   Neg. LLF: -1207.567945462318\n",
            "Iteration:      5,   Func. Count:     44,   Neg. LLF: -1207.6587748152924\n",
            "Iteration:      6,   Func. Count:     52,   Neg. LLF: -1207.7128471455194\n",
            "Iteration:      7,   Func. Count:     58,   Neg. LLF: -1207.7175093465949\n",
            "Iteration:      8,   Func. Count:     64,   Neg. LLF: -1207.7178208133762\n",
            "Iteration:      9,   Func. Count:     70,   Neg. LLF: -1207.7178256953366\n",
            "Optimization terminated successfully.    (Exit mode 0)\n",
            "            Current function value: -1207.7178256953189\n",
            "            Iterations: 9\n",
            "            Function evaluations: 70\n",
            "            Gradient evaluations: 9\n",
            "-0.00032609175962041223\n"
          ]
        },
        {
          "output_type": "stream",
          "name": "stderr",
          "text": [
            "/usr/local/lib/python3.7/dist-packages/statsmodels/tsa/base/tsa_model.py:539: ValueWarning: No frequency information was provided, so inferred frequency D will be used.\n",
            "  % freq, ValueWarning)\n",
            "/usr/local/lib/python3.7/dist-packages/statsmodels/tsa/base/tsa_model.py:539: ValueWarning: No frequency information was provided, so inferred frequency D will be used.\n",
            "  % freq, ValueWarning)\n",
            "/usr/local/lib/python3.7/dist-packages/statsmodels/base/model.py:606: ConvergenceWarning: Maximum Likelihood optimization failed to converge. Check mle_retvals\n",
            "  ConvergenceWarning)\n"
          ]
        },
        {
          "output_type": "stream",
          "name": "stdout",
          "text": [
            "Iteration:      1,   Func. Count:      6,   Neg. LLF: -1207.4031767518477\n",
            "Iteration:      2,   Func. Count:     18,   Neg. LLF: -1207.7685288428975\n",
            "Iteration:      3,   Func. Count:     28,   Neg. LLF: -1208.377117686479\n",
            "Iteration:      4,   Func. Count:     36,   Neg. LLF: -1208.4139120474476\n",
            "Iteration:      5,   Func. Count:     44,   Neg. LLF: -1208.4474787054987\n",
            "Iteration:      6,   Func. Count:     51,   Neg. LLF: -1208.4701004893336\n",
            "Iteration:      7,   Func. Count:     57,   Neg. LLF: -1208.4730220728445\n",
            "Iteration:      8,   Func. Count:     63,   Neg. LLF: -1208.4731074799397\n",
            "Iteration:      9,   Func. Count:     69,   Neg. LLF: -1208.4731102189783\n",
            "Optimization terminated successfully.    (Exit mode 0)\n",
            "            Current function value: -1208.4731102189771\n",
            "            Iterations: 9\n",
            "            Function evaluations: 69\n",
            "            Gradient evaluations: 9\n",
            "-0.0004220043981099326\n"
          ]
        },
        {
          "output_type": "stream",
          "name": "stderr",
          "text": [
            "/usr/local/lib/python3.7/dist-packages/statsmodels/tsa/base/tsa_model.py:539: ValueWarning: No frequency information was provided, so inferred frequency D will be used.\n",
            "  % freq, ValueWarning)\n",
            "/usr/local/lib/python3.7/dist-packages/statsmodels/tsa/base/tsa_model.py:539: ValueWarning: No frequency information was provided, so inferred frequency D will be used.\n",
            "  % freq, ValueWarning)\n",
            "/usr/local/lib/python3.7/dist-packages/statsmodels/base/model.py:606: ConvergenceWarning: Maximum Likelihood optimization failed to converge. Check mle_retvals\n",
            "  ConvergenceWarning)\n"
          ]
        },
        {
          "output_type": "stream",
          "name": "stdout",
          "text": [
            "Iteration:      1,   Func. Count:      6,   Neg. LLF: -1203.3827172473825\n",
            "Iteration:      2,   Func. Count:     18,   Neg. LLF: -1203.7093671755497\n",
            "Iteration:      3,   Func. Count:     28,   Neg. LLF: -1205.1166650358953\n",
            "Iteration:      4,   Func. Count:     36,   Neg. LLF: -1205.1692903468906\n",
            "Iteration:      5,   Func. Count:     43,   Neg. LLF: -1205.5826671453106\n",
            "Iteration:      6,   Func. Count:     50,   Neg. LLF: -1205.66589793797\n",
            "Iteration:      7,   Func. Count:     57,   Neg. LLF: -1205.6729446974473\n",
            "Iteration:      8,   Func. Count:     64,   Neg. LLF: -1205.6957246595373\n",
            "Iteration:      9,   Func. Count:     70,   Neg. LLF: -1205.6957530392951\n",
            "Optimization terminated successfully.    (Exit mode 0)\n",
            "            Current function value: -1205.6957530398506\n",
            "            Iterations: 9\n",
            "            Function evaluations: 70\n",
            "            Gradient evaluations: 9\n",
            "-0.00032895634068447487\n"
          ]
        },
        {
          "output_type": "stream",
          "name": "stderr",
          "text": [
            "/usr/local/lib/python3.7/dist-packages/statsmodels/tsa/base/tsa_model.py:539: ValueWarning: No frequency information was provided, so inferred frequency D will be used.\n",
            "  % freq, ValueWarning)\n",
            "/usr/local/lib/python3.7/dist-packages/statsmodels/tsa/base/tsa_model.py:539: ValueWarning: No frequency information was provided, so inferred frequency D will be used.\n",
            "  % freq, ValueWarning)\n",
            "/usr/local/lib/python3.7/dist-packages/statsmodels/base/model.py:606: ConvergenceWarning: Maximum Likelihood optimization failed to converge. Check mle_retvals\n",
            "  ConvergenceWarning)\n"
          ]
        },
        {
          "output_type": "stream",
          "name": "stdout",
          "text": [
            "Iteration:      1,   Func. Count:      6,   Neg. LLF: -1211.2711007074709\n",
            "Iteration:      2,   Func. Count:     18,   Neg. LLF: -1211.6332405511557\n",
            "Iteration:      3,   Func. Count:     27,   Neg. LLF: -1211.8767869155527\n",
            "Iteration:      4,   Func. Count:     35,   Neg. LLF: -1211.9636438128566\n",
            "Iteration:      5,   Func. Count:     43,   Neg. LLF: -1212.0862812657724\n",
            "Iteration:      6,   Func. Count:     50,   Neg. LLF: -1212.3003887230782\n",
            "Iteration:      7,   Func. Count:     56,   Neg. LLF: -1212.3069716306195\n",
            "Iteration:      8,   Func. Count:     63,   Neg. LLF: -1212.308347918317\n",
            "Iteration:      9,   Func. Count:     69,   Neg. LLF: -1212.3085920368787\n",
            "Iteration:     10,   Func. Count:     75,   Neg. LLF: -1212.3086240268808\n",
            "Optimization terminated successfully.    (Exit mode 0)\n",
            "            Current function value: -1212.3086240268422\n",
            "            Iterations: 10\n",
            "            Function evaluations: 75\n",
            "            Gradient evaluations: 10\n",
            "-0.00042925120272761417\n"
          ]
        },
        {
          "output_type": "stream",
          "name": "stderr",
          "text": [
            "/usr/local/lib/python3.7/dist-packages/statsmodels/tsa/base/tsa_model.py:539: ValueWarning: No frequency information was provided, so inferred frequency D will be used.\n",
            "  % freq, ValueWarning)\n",
            "/usr/local/lib/python3.7/dist-packages/statsmodels/tsa/base/tsa_model.py:539: ValueWarning: No frequency information was provided, so inferred frequency D will be used.\n",
            "  % freq, ValueWarning)\n",
            "/usr/local/lib/python3.7/dist-packages/statsmodels/base/model.py:606: ConvergenceWarning: Maximum Likelihood optimization failed to converge. Check mle_retvals\n",
            "  ConvergenceWarning)\n"
          ]
        },
        {
          "output_type": "stream",
          "name": "stdout",
          "text": [
            "Iteration:      1,   Func. Count:      6,   Neg. LLF: -1213.473979192723\n",
            "Iteration:      2,   Func. Count:     18,   Neg. LLF: -1213.8234249797629\n",
            "Iteration:      3,   Func. Count:     28,   Neg. LLF: -1214.3421759222535\n",
            "Iteration:      4,   Func. Count:     36,   Neg. LLF: -1214.365062438646\n",
            "Iteration:      5,   Func. Count:     44,   Neg. LLF: -1214.4133660625125\n",
            "Iteration:      6,   Func. Count:     51,   Neg. LLF: -1214.4174618767913\n",
            "Iteration:      7,   Func. Count:     57,   Neg. LLF: -1214.4190739752405\n",
            "Iteration:      8,   Func. Count:     63,   Neg. LLF: -1214.4192134455268\n",
            "Iteration:      9,   Func. Count:     69,   Neg. LLF: -1214.4192150166218\n",
            "Optimization terminated successfully.    (Exit mode 0)\n",
            "            Current function value: -1214.419215016445\n",
            "            Iterations: 9\n",
            "            Function evaluations: 69\n",
            "            Gradient evaluations: 9\n",
            "-0.00015981960065168603\n"
          ]
        },
        {
          "output_type": "stream",
          "name": "stderr",
          "text": [
            "/usr/local/lib/python3.7/dist-packages/statsmodels/tsa/base/tsa_model.py:539: ValueWarning: No frequency information was provided, so inferred frequency D will be used.\n",
            "  % freq, ValueWarning)\n",
            "/usr/local/lib/python3.7/dist-packages/statsmodels/tsa/base/tsa_model.py:539: ValueWarning: No frequency information was provided, so inferred frequency D will be used.\n",
            "  % freq, ValueWarning)\n",
            "/usr/local/lib/python3.7/dist-packages/statsmodels/base/model.py:606: ConvergenceWarning: Maximum Likelihood optimization failed to converge. Check mle_retvals\n",
            "  ConvergenceWarning)\n"
          ]
        },
        {
          "output_type": "stream",
          "name": "stdout",
          "text": [
            "Iteration:      1,   Func. Count:      6,   Neg. LLF: -1214.9388389080682\n",
            "Iteration:      2,   Func. Count:     18,   Neg. LLF: -1215.292306155039\n",
            "Iteration:      3,   Func. Count:     28,   Neg. LLF: -1215.8243048547743\n",
            "Iteration:      4,   Func. Count:     36,   Neg. LLF: -1215.8630817067497\n",
            "Iteration:      5,   Func. Count:     44,   Neg. LLF: -1215.9164511001504\n",
            "Iteration:      6,   Func. Count:     51,   Neg. LLF: -1215.9211093770564\n",
            "Iteration:      7,   Func. Count:     57,   Neg. LLF: -1215.9233900150346\n",
            "Iteration:      8,   Func. Count:     63,   Neg. LLF: -1215.9235245512427\n",
            "Iteration:      9,   Func. Count:     69,   Neg. LLF: -1215.9235270603854\n",
            "Optimization terminated successfully.    (Exit mode 0)\n",
            "            Current function value: -1215.9235270602458\n",
            "            Iterations: 9\n",
            "            Function evaluations: 69\n",
            "            Gradient evaluations: 9\n",
            "-0.0004798532098911792\n"
          ]
        },
        {
          "output_type": "stream",
          "name": "stderr",
          "text": [
            "/usr/local/lib/python3.7/dist-packages/statsmodels/tsa/base/tsa_model.py:539: ValueWarning: No frequency information was provided, so inferred frequency D will be used.\n",
            "  % freq, ValueWarning)\n",
            "/usr/local/lib/python3.7/dist-packages/statsmodels/tsa/base/tsa_model.py:539: ValueWarning: No frequency information was provided, so inferred frequency D will be used.\n",
            "  % freq, ValueWarning)\n",
            "/usr/local/lib/python3.7/dist-packages/statsmodels/base/model.py:606: ConvergenceWarning: Maximum Likelihood optimization failed to converge. Check mle_retvals\n",
            "  ConvergenceWarning)\n"
          ]
        },
        {
          "output_type": "stream",
          "name": "stdout",
          "text": [
            "Iteration:      1,   Func. Count:      6,   Neg. LLF: -1215.1472850948785\n",
            "Iteration:      2,   Func. Count:     18,   Neg. LLF: -1215.5091329060224\n",
            "Iteration:      3,   Func. Count:     28,   Neg. LLF: -1216.0909843830493\n",
            "Iteration:      4,   Func. Count:     36,   Neg. LLF: -1216.1355763273132\n",
            "Iteration:      5,   Func. Count:     44,   Neg. LLF: -1216.1965748943196\n",
            "Iteration:      6,   Func. Count:     51,   Neg. LLF: -1216.2084335394616\n",
            "Iteration:      7,   Func. Count:     57,   Neg. LLF: -1216.213396217522\n",
            "Iteration:      8,   Func. Count:     63,   Neg. LLF: -1216.2136499440687\n",
            "Iteration:      9,   Func. Count:     69,   Neg. LLF: -1216.2136582915323\n",
            "Optimization terminated successfully.    (Exit mode 0)\n",
            "            Current function value: -1216.2136582914209\n",
            "            Iterations: 9\n",
            "            Function evaluations: 69\n",
            "            Gradient evaluations: 9\n",
            "-0.0005365317256046574\n"
          ]
        },
        {
          "output_type": "stream",
          "name": "stderr",
          "text": [
            "/usr/local/lib/python3.7/dist-packages/statsmodels/tsa/base/tsa_model.py:539: ValueWarning: No frequency information was provided, so inferred frequency D will be used.\n",
            "  % freq, ValueWarning)\n",
            "/usr/local/lib/python3.7/dist-packages/statsmodels/tsa/base/tsa_model.py:539: ValueWarning: No frequency information was provided, so inferred frequency D will be used.\n",
            "  % freq, ValueWarning)\n",
            "/usr/local/lib/python3.7/dist-packages/statsmodels/base/model.py:606: ConvergenceWarning: Maximum Likelihood optimization failed to converge. Check mle_retvals\n",
            "  ConvergenceWarning)\n"
          ]
        },
        {
          "output_type": "stream",
          "name": "stdout",
          "text": [
            "Iteration:      1,   Func. Count:      6,   Neg. LLF: -1216.5027515568477\n",
            "Iteration:      2,   Func. Count:     18,   Neg. LLF: -1216.850029728358\n",
            "Iteration:      3,   Func. Count:     27,   Neg. LLF: -1217.198168473095\n",
            "Iteration:      4,   Func. Count:     35,   Neg. LLF: -1217.2985231035311\n",
            "Iteration:      5,   Func. Count:     43,   Neg. LLF: -1217.384397838869\n",
            "Iteration:      6,   Func. Count:     50,   Neg. LLF: -1217.5410751365462\n",
            "Iteration:      7,   Func. Count:     57,   Neg. LLF: -1217.582351602992\n",
            "Iteration:      8,   Func. Count:     63,   Neg. LLF: -1217.605401043295\n",
            "Iteration:      9,   Func. Count:     69,   Neg. LLF: -1217.6328727271357\n",
            "Iteration:     10,   Func. Count:     75,   Neg. LLF: -1217.63289435462\n",
            "Optimization terminated successfully.    (Exit mode 0)\n",
            "            Current function value: -1217.6328943545118\n",
            "            Iterations: 10\n",
            "            Function evaluations: 75\n",
            "            Gradient evaluations: 10\n",
            "-0.000473132062951308\n"
          ]
        },
        {
          "output_type": "stream",
          "name": "stderr",
          "text": [
            "/usr/local/lib/python3.7/dist-packages/statsmodels/tsa/base/tsa_model.py:539: ValueWarning: No frequency information was provided, so inferred frequency D will be used.\n",
            "  % freq, ValueWarning)\n",
            "/usr/local/lib/python3.7/dist-packages/statsmodels/tsa/base/tsa_model.py:539: ValueWarning: No frequency information was provided, so inferred frequency D will be used.\n",
            "  % freq, ValueWarning)\n",
            "/usr/local/lib/python3.7/dist-packages/statsmodels/base/model.py:606: ConvergenceWarning: Maximum Likelihood optimization failed to converge. Check mle_retvals\n",
            "  ConvergenceWarning)\n"
          ]
        },
        {
          "output_type": "stream",
          "name": "stdout",
          "text": [
            "Iteration:      1,   Func. Count:      6,   Neg. LLF: -1217.095181397706\n",
            "Iteration:      2,   Func. Count:     18,   Neg. LLF: -1217.4570700857548\n",
            "Iteration:      3,   Func. Count:     28,   Neg. LLF: -1218.1019155987794\n",
            "Iteration:      4,   Func. Count:     36,   Neg. LLF: -1218.1557106438368\n",
            "Iteration:      5,   Func. Count:     44,   Neg. LLF: -1218.1948830682697\n",
            "Iteration:      6,   Func. Count:     51,   Neg. LLF: -1218.222449634166\n",
            "Iteration:      7,   Func. Count:     57,   Neg. LLF: -1218.2265180188656\n",
            "Iteration:      8,   Func. Count:     63,   Neg. LLF: -1218.226647019218\n",
            "Iteration:      9,   Func. Count:     69,   Neg. LLF: -1218.2266516935815\n",
            "Optimization terminated successfully.    (Exit mode 0)\n",
            "            Current function value: -1218.226651693559\n",
            "            Iterations: 9\n",
            "            Function evaluations: 69\n",
            "            Gradient evaluations: 9\n",
            "-0.0005369725183443076\n"
          ]
        },
        {
          "output_type": "stream",
          "name": "stderr",
          "text": [
            "/usr/local/lib/python3.7/dist-packages/statsmodels/tsa/base/tsa_model.py:539: ValueWarning: No frequency information was provided, so inferred frequency D will be used.\n",
            "  % freq, ValueWarning)\n",
            "/usr/local/lib/python3.7/dist-packages/statsmodels/tsa/base/tsa_model.py:539: ValueWarning: No frequency information was provided, so inferred frequency D will be used.\n",
            "  % freq, ValueWarning)\n",
            "/usr/local/lib/python3.7/dist-packages/statsmodels/base/model.py:606: ConvergenceWarning: Maximum Likelihood optimization failed to converge. Check mle_retvals\n",
            "  ConvergenceWarning)\n"
          ]
        },
        {
          "output_type": "stream",
          "name": "stdout",
          "text": [
            "Iteration:      1,   Func. Count:      6,   Neg. LLF: -1218.8873926830515\n",
            "Iteration:      2,   Func. Count:     18,   Neg. LLF: -1219.2540199104253\n",
            "Iteration:      3,   Func. Count:     28,   Neg. LLF: -1219.8804439083317\n",
            "Iteration:      4,   Func. Count:     36,   Neg. LLF: -1219.9378824557598\n",
            "Iteration:      5,   Func. Count:     44,   Neg. LLF: -1219.9732386889546\n",
            "Iteration:      6,   Func. Count:     51,   Neg. LLF: -1219.9860155781494\n",
            "Iteration:      7,   Func. Count:     57,   Neg. LLF: -1219.9890420973088\n",
            "Iteration:      8,   Func. Count:     63,   Neg. LLF: -1219.9891501100296\n",
            "Iteration:      9,   Func. Count:     69,   Neg. LLF: -1219.989154076446\n",
            "Optimization terminated successfully.    (Exit mode 0)\n",
            "            Current function value: -1219.9891540764434\n",
            "            Iterations: 9\n",
            "            Function evaluations: 69\n",
            "            Gradient evaluations: 9\n",
            "-0.0005725161597114875\n"
          ]
        },
        {
          "output_type": "stream",
          "name": "stderr",
          "text": [
            "/usr/local/lib/python3.7/dist-packages/statsmodels/tsa/base/tsa_model.py:539: ValueWarning: No frequency information was provided, so inferred frequency D will be used.\n",
            "  % freq, ValueWarning)\n",
            "/usr/local/lib/python3.7/dist-packages/statsmodels/tsa/base/tsa_model.py:539: ValueWarning: No frequency information was provided, so inferred frequency D will be used.\n",
            "  % freq, ValueWarning)\n",
            "/usr/local/lib/python3.7/dist-packages/statsmodels/base/model.py:606: ConvergenceWarning: Maximum Likelihood optimization failed to converge. Check mle_retvals\n",
            "  ConvergenceWarning)\n"
          ]
        },
        {
          "output_type": "stream",
          "name": "stdout",
          "text": [
            "Iteration:      1,   Func. Count:      6,   Neg. LLF: -1217.2311303775055\n",
            "Iteration:      2,   Func. Count:     18,   Neg. LLF: -1217.564870352701\n",
            "Iteration:      3,   Func. Count:     28,   Neg. LLF: -1218.7946444133618\n",
            "Iteration:      4,   Func. Count:     36,   Neg. LLF: -1218.903437198735\n",
            "Iteration:      5,   Func. Count:     43,   Neg. LLF: -1219.2091705365547\n",
            "Iteration:      6,   Func. Count:     51,   Neg. LLF: -1219.21772180883\n",
            "Iteration:      7,   Func. Count:     58,   Neg. LLF: -1219.2478322589045\n",
            "Iteration:      8,   Func. Count:     64,   Neg. LLF: -1219.2508648174478\n",
            "Iteration:      9,   Func. Count:     70,   Neg. LLF: -1219.2509552257618\n",
            "Optimization terminated successfully.    (Exit mode 0)\n",
            "            Current function value: -1219.2509552249553\n",
            "            Iterations: 9\n",
            "            Function evaluations: 70\n",
            "            Gradient evaluations: 9\n",
            "-0.000454398285962037\n"
          ]
        },
        {
          "output_type": "stream",
          "name": "stderr",
          "text": [
            "/usr/local/lib/python3.7/dist-packages/statsmodels/tsa/base/tsa_model.py:539: ValueWarning: No frequency information was provided, so inferred frequency D will be used.\n",
            "  % freq, ValueWarning)\n",
            "/usr/local/lib/python3.7/dist-packages/statsmodels/tsa/base/tsa_model.py:539: ValueWarning: No frequency information was provided, so inferred frequency D will be used.\n",
            "  % freq, ValueWarning)\n",
            "/usr/local/lib/python3.7/dist-packages/statsmodels/base/model.py:606: ConvergenceWarning: Maximum Likelihood optimization failed to converge. Check mle_retvals\n",
            "  ConvergenceWarning)\n"
          ]
        },
        {
          "output_type": "stream",
          "name": "stdout",
          "text": [
            "Iteration:      1,   Func. Count:      6,   Neg. LLF: -1223.9012338596017\n",
            "Iteration:      2,   Func. Count:     19,   Neg. LLF: -1224.4219660854142\n",
            "Iteration:      3,   Func. Count:     29,   Neg. LLF: -1224.972459494256\n",
            "Iteration:      4,   Func. Count:     37,   Neg. LLF: -1225.031629939984\n",
            "Iteration:      5,   Func. Count:     45,   Neg. LLF: -1225.0944966486522\n",
            "Iteration:      6,   Func. Count:     52,   Neg. LLF: -1225.0976344947612\n",
            "Iteration:      7,   Func. Count:     58,   Neg. LLF: -1225.1000307724084\n",
            "Iteration:      8,   Func. Count:     64,   Neg. LLF: -1225.1001077641517\n",
            "Iteration:      9,   Func. Count:     70,   Neg. LLF: -1225.1001092411168\n",
            "Optimization terminated successfully.    (Exit mode 0)\n",
            "            Current function value: -1225.1001092410495\n",
            "            Iterations: 9\n",
            "            Function evaluations: 70\n",
            "            Gradient evaluations: 9\n",
            "-0.00029976887162559603\n"
          ]
        },
        {
          "output_type": "stream",
          "name": "stderr",
          "text": [
            "/usr/local/lib/python3.7/dist-packages/statsmodels/tsa/base/tsa_model.py:539: ValueWarning: No frequency information was provided, so inferred frequency D will be used.\n",
            "  % freq, ValueWarning)\n",
            "/usr/local/lib/python3.7/dist-packages/statsmodels/tsa/base/tsa_model.py:539: ValueWarning: No frequency information was provided, so inferred frequency D will be used.\n",
            "  % freq, ValueWarning)\n",
            "/usr/local/lib/python3.7/dist-packages/statsmodels/base/model.py:606: ConvergenceWarning: Maximum Likelihood optimization failed to converge. Check mle_retvals\n",
            "  ConvergenceWarning)\n"
          ]
        },
        {
          "output_type": "stream",
          "name": "stdout",
          "text": [
            "Iteration:      1,   Func. Count:      6,   Neg. LLF: -1223.362979421191\n",
            "Iteration:      2,   Func. Count:     18,   Neg. LLF: -1223.722673171339\n",
            "Iteration:      3,   Func. Count:     28,   Neg. LLF: -1224.3496160463094\n",
            "Iteration:      4,   Func. Count:     36,   Neg. LLF: -1224.4136050263614\n",
            "Iteration:      5,   Func. Count:     44,   Neg. LLF: -1224.447961405404\n",
            "Iteration:      6,   Func. Count:     51,   Neg. LLF: -1224.4588301966728\n",
            "Iteration:      7,   Func. Count:     57,   Neg. LLF: -1224.4617117245377\n",
            "Iteration:      8,   Func. Count:     63,   Neg. LLF: -1224.4618185321742\n",
            "Iteration:      9,   Func. Count:     69,   Neg. LLF: -1224.4618223584362\n",
            "Optimization terminated successfully.    (Exit mode 0)\n",
            "            Current function value: -1224.4618223584362\n",
            "            Iterations: 9\n",
            "            Function evaluations: 69\n",
            "            Gradient evaluations: 9\n",
            "-0.0006382663269907298\n"
          ]
        },
        {
          "output_type": "stream",
          "name": "stderr",
          "text": [
            "/usr/local/lib/python3.7/dist-packages/statsmodels/tsa/base/tsa_model.py:539: ValueWarning: No frequency information was provided, so inferred frequency D will be used.\n",
            "  % freq, ValueWarning)\n",
            "/usr/local/lib/python3.7/dist-packages/statsmodels/tsa/base/tsa_model.py:539: ValueWarning: No frequency information was provided, so inferred frequency D will be used.\n",
            "  % freq, ValueWarning)\n",
            "/usr/local/lib/python3.7/dist-packages/statsmodels/base/model.py:606: ConvergenceWarning: Maximum Likelihood optimization failed to converge. Check mle_retvals\n",
            "  ConvergenceWarning)\n"
          ]
        },
        {
          "output_type": "stream",
          "name": "stdout",
          "text": [
            "Iteration:      1,   Func. Count:      6,   Neg. LLF: -1225.0116897251903\n",
            "Iteration:      2,   Func. Count:     18,   Neg. LLF: -1225.3539375462722\n",
            "Iteration:      3,   Func. Count:     28,   Neg. LLF: -1225.9684584257798\n",
            "Iteration:      4,   Func. Count:     36,   Neg. LLF: -1226.0338670459078\n",
            "Iteration:      5,   Func. Count:     44,   Neg. LLF: -1226.0622930390603\n",
            "Iteration:      6,   Func. Count:     53,   Neg. LLF: -1226.069184691682\n",
            "Iteration:      7,   Func. Count:     59,   Neg. LLF: -1226.072253837672\n",
            "Iteration:      8,   Func. Count:     65,   Neg. LLF: -1226.0723831464727\n",
            "Iteration:      9,   Func. Count:     71,   Neg. LLF: -1226.0723880852215\n",
            "Optimization terminated successfully.    (Exit mode 0)\n",
            "            Current function value: -1226.0723880852374\n",
            "            Iterations: 9\n",
            "            Function evaluations: 71\n",
            "            Gradient evaluations: 9\n",
            "-0.0006743613225015001\n"
          ]
        },
        {
          "output_type": "stream",
          "name": "stderr",
          "text": [
            "/usr/local/lib/python3.7/dist-packages/statsmodels/tsa/base/tsa_model.py:539: ValueWarning: No frequency information was provided, so inferred frequency D will be used.\n",
            "  % freq, ValueWarning)\n",
            "/usr/local/lib/python3.7/dist-packages/statsmodels/tsa/base/tsa_model.py:539: ValueWarning: No frequency information was provided, so inferred frequency D will be used.\n",
            "  % freq, ValueWarning)\n",
            "/usr/local/lib/python3.7/dist-packages/statsmodels/base/model.py:606: ConvergenceWarning: Maximum Likelihood optimization failed to converge. Check mle_retvals\n",
            "  ConvergenceWarning)\n"
          ]
        },
        {
          "output_type": "stream",
          "name": "stdout",
          "text": [
            "Iteration:      1,   Func. Count:      6,   Neg. LLF: -1225.1562690353694\n",
            "Iteration:      2,   Func. Count:     18,   Neg. LLF: -1225.2940012066251\n",
            "Iteration:      3,   Func. Count:     28,   Neg. LLF: -1225.93500865367\n",
            "Iteration:      4,   Func. Count:     36,   Neg. LLF: -1226.1416654830625\n",
            "Iteration:      5,   Func. Count:     44,   Neg. LLF: -1226.1618829072895\n",
            "Iteration:      6,   Func. Count:     51,   Neg. LLF: -1226.1678314449682\n",
            "Iteration:      7,   Func. Count:     57,   Neg. LLF: -1226.1695841799597\n",
            "Iteration:      8,   Func. Count:     63,   Neg. LLF: -1226.1696505440332\n",
            "Optimization terminated successfully.    (Exit mode 0)\n",
            "            Current function value: -1226.1696505437383\n",
            "            Iterations: 8\n",
            "            Function evaluations: 63\n",
            "            Gradient evaluations: 8\n",
            "-0.0009728868070605868\n"
          ]
        },
        {
          "output_type": "stream",
          "name": "stderr",
          "text": [
            "/usr/local/lib/python3.7/dist-packages/statsmodels/tsa/base/tsa_model.py:539: ValueWarning: No frequency information was provided, so inferred frequency D will be used.\n",
            "  % freq, ValueWarning)\n",
            "/usr/local/lib/python3.7/dist-packages/statsmodels/tsa/base/tsa_model.py:539: ValueWarning: No frequency information was provided, so inferred frequency D will be used.\n",
            "  % freq, ValueWarning)\n",
            "/usr/local/lib/python3.7/dist-packages/statsmodels/base/model.py:606: ConvergenceWarning: Maximum Likelihood optimization failed to converge. Check mle_retvals\n",
            "  ConvergenceWarning)\n"
          ]
        },
        {
          "output_type": "stream",
          "name": "stdout",
          "text": [
            "Iteration:      1,   Func. Count:      6,   Neg. LLF: -1228.8000549908352\n",
            "Iteration:      2,   Func. Count:     18,   Neg. LLF: -1229.1568419131172\n",
            "Iteration:      3,   Func. Count:     28,   Neg. LLF: -1229.715945370564\n",
            "Iteration:      4,   Func. Count:     36,   Neg. LLF: -1229.752633014928\n",
            "Iteration:      5,   Func. Count:     44,   Neg. LLF: -1229.8076272908118\n",
            "Iteration:      6,   Func. Count:     53,   Neg. LLF: -1229.8171516474708\n",
            "Iteration:      7,   Func. Count:     59,   Neg. LLF: -1229.8203438818578\n",
            "Iteration:      8,   Func. Count:     65,   Neg. LLF: -1229.8205189669452\n",
            "Iteration:      9,   Func. Count:     71,   Neg. LLF: -1229.8205220989337\n",
            "Optimization terminated successfully.    (Exit mode 0)\n",
            "            Current function value: -1229.82052209897\n",
            "            Iterations: 9\n",
            "            Function evaluations: 71\n",
            "            Gradient evaluations: 9\n",
            "-0.0005666857240468449\n"
          ]
        },
        {
          "output_type": "stream",
          "name": "stderr",
          "text": [
            "/usr/local/lib/python3.7/dist-packages/statsmodels/tsa/base/tsa_model.py:539: ValueWarning: No frequency information was provided, so inferred frequency D will be used.\n",
            "  % freq, ValueWarning)\n",
            "/usr/local/lib/python3.7/dist-packages/statsmodels/tsa/base/tsa_model.py:539: ValueWarning: No frequency information was provided, so inferred frequency D will be used.\n",
            "  % freq, ValueWarning)\n",
            "/usr/local/lib/python3.7/dist-packages/statsmodels/base/model.py:606: ConvergenceWarning: Maximum Likelihood optimization failed to converge. Check mle_retvals\n",
            "  ConvergenceWarning)\n"
          ]
        },
        {
          "output_type": "stream",
          "name": "stdout",
          "text": [
            "Iteration:      1,   Func. Count:      6,   Neg. LLF: -1226.5906958164228\n",
            "Iteration:      2,   Func. Count:     18,   Neg. LLF: -1226.920007287737\n",
            "Iteration:      3,   Func. Count:     28,   Neg. LLF: -1227.6396085582091\n",
            "Iteration:      4,   Func. Count:     36,   Neg. LLF: -1227.7273751876737\n",
            "Iteration:      5,   Func. Count:     44,   Neg. LLF: -1227.797227398364\n",
            "Iteration:      6,   Func. Count:     51,   Neg. LLF: -1227.800389399593\n",
            "Iteration:      7,   Func. Count:     57,   Neg. LLF: -1227.8028573461743\n",
            "Iteration:      8,   Func. Count:     63,   Neg. LLF: -1227.802944879667\n",
            "Iteration:      9,   Func. Count:     69,   Neg. LLF: -1227.802947513445\n",
            "Optimization terminated successfully.    (Exit mode 0)\n",
            "            Current function value: -1227.8029475133922\n",
            "            Iterations: 9\n",
            "            Function evaluations: 69\n",
            "            Gradient evaluations: 9\n",
            "-0.0007464096254612538\n"
          ]
        },
        {
          "output_type": "stream",
          "name": "stderr",
          "text": [
            "/usr/local/lib/python3.7/dist-packages/statsmodels/tsa/base/tsa_model.py:539: ValueWarning: No frequency information was provided, so inferred frequency D will be used.\n",
            "  % freq, ValueWarning)\n",
            "/usr/local/lib/python3.7/dist-packages/statsmodels/tsa/base/tsa_model.py:539: ValueWarning: No frequency information was provided, so inferred frequency D will be used.\n",
            "  % freq, ValueWarning)\n",
            "/usr/local/lib/python3.7/dist-packages/statsmodels/base/model.py:606: ConvergenceWarning: Maximum Likelihood optimization failed to converge. Check mle_retvals\n",
            "  ConvergenceWarning)\n"
          ]
        },
        {
          "output_type": "stream",
          "name": "stdout",
          "text": [
            "Iteration:      1,   Func. Count:      6,   Neg. LLF: -1223.666921829361\n",
            "Iteration:      2,   Func. Count:     18,   Neg. LLF: -1223.748447643826\n",
            "Optimization terminated successfully.    (Exit mode 0)\n",
            "            Current function value: -1223.748450025588\n",
            "            Iterations: 6\n",
            "            Function evaluations: 18\n",
            "            Gradient evaluations: 2\n",
            "-0.0015960362855632427\n"
          ]
        },
        {
          "output_type": "stream",
          "name": "stderr",
          "text": [
            "/usr/local/lib/python3.7/dist-packages/statsmodels/tsa/base/tsa_model.py:539: ValueWarning: No frequency information was provided, so inferred frequency D will be used.\n",
            "  % freq, ValueWarning)\n",
            "/usr/local/lib/python3.7/dist-packages/statsmodels/tsa/base/tsa_model.py:539: ValueWarning: No frequency information was provided, so inferred frequency D will be used.\n",
            "  % freq, ValueWarning)\n",
            "/usr/local/lib/python3.7/dist-packages/statsmodels/base/model.py:606: ConvergenceWarning: Maximum Likelihood optimization failed to converge. Check mle_retvals\n",
            "  ConvergenceWarning)\n"
          ]
        },
        {
          "output_type": "stream",
          "name": "stdout",
          "text": [
            "Iteration:      1,   Func. Count:      6,   Neg. LLF: -1219.0785321978055\n",
            "Iteration:      2,   Func. Count:     18,   Neg. LLF: -1219.0967753323534\n",
            "Optimization terminated successfully.    (Exit mode 0)\n",
            "            Current function value: -1219.09677758156\n",
            "            Iterations: 6\n",
            "            Function evaluations: 18\n",
            "            Gradient evaluations: 2\n",
            "-0.001847771650957528\n"
          ]
        },
        {
          "output_type": "stream",
          "name": "stderr",
          "text": [
            "/usr/local/lib/python3.7/dist-packages/statsmodels/tsa/base/tsa_model.py:539: ValueWarning: No frequency information was provided, so inferred frequency D will be used.\n",
            "  % freq, ValueWarning)\n",
            "/usr/local/lib/python3.7/dist-packages/statsmodels/tsa/base/tsa_model.py:539: ValueWarning: No frequency information was provided, so inferred frequency D will be used.\n",
            "  % freq, ValueWarning)\n",
            "/usr/local/lib/python3.7/dist-packages/statsmodels/base/model.py:606: ConvergenceWarning: Maximum Likelihood optimization failed to converge. Check mle_retvals\n",
            "  ConvergenceWarning)\n"
          ]
        },
        {
          "output_type": "stream",
          "name": "stdout",
          "text": [
            "Iteration:      1,   Func. Count:      6,   Neg. LLF: -1230.993133887363\n",
            "Iteration:      2,   Func. Count:     18,   Neg. LLF: -1231.3440827242916\n",
            "Iteration:      3,   Func. Count:     28,   Neg. LLF: -1232.040599443184\n",
            "Iteration:      4,   Func. Count:     36,   Neg. LLF: -1232.1257021590234\n",
            "Iteration:      5,   Func. Count:     44,   Neg. LLF: -1232.1693235660837\n",
            "Iteration:      6,   Func. Count:     51,   Neg. LLF: -1232.174639855733\n",
            "Iteration:      7,   Func. Count:     57,   Neg. LLF: -1232.1769495657245\n",
            "Iteration:      8,   Func. Count:     63,   Neg. LLF: -1232.1770408095797\n",
            "Iteration:      9,   Func. Count:     69,   Neg. LLF: -1232.1770442890843\n",
            "Optimization terminated successfully.    (Exit mode 0)\n",
            "            Current function value: -1232.1770442890636\n",
            "            Iterations: 9\n",
            "            Function evaluations: 69\n",
            "            Gradient evaluations: 9\n",
            "-0.0006461654388796134\n"
          ]
        },
        {
          "output_type": "stream",
          "name": "stderr",
          "text": [
            "/usr/local/lib/python3.7/dist-packages/statsmodels/tsa/base/tsa_model.py:539: ValueWarning: No frequency information was provided, so inferred frequency D will be used.\n",
            "  % freq, ValueWarning)\n",
            "/usr/local/lib/python3.7/dist-packages/statsmodels/tsa/base/tsa_model.py:539: ValueWarning: No frequency information was provided, so inferred frequency D will be used.\n",
            "  % freq, ValueWarning)\n",
            "/usr/local/lib/python3.7/dist-packages/statsmodels/base/model.py:606: ConvergenceWarning: Maximum Likelihood optimization failed to converge. Check mle_retvals\n",
            "  ConvergenceWarning)\n"
          ]
        },
        {
          "output_type": "stream",
          "name": "stdout",
          "text": [
            "Iteration:      1,   Func. Count:      6,   Neg. LLF: -1229.750966832664\n",
            "Iteration:      2,   Func. Count:     19,   Neg. LLF: -1230.281491331787\n",
            "Iteration:      3,   Func. Count:     29,   Neg. LLF: -1231.6398239260252\n",
            "Iteration:      4,   Func. Count:     37,   Neg. LLF: -1231.7952269209122\n",
            "Iteration:      5,   Func. Count:     44,   Neg. LLF: -1231.9665205383671\n",
            "Iteration:      6,   Func. Count:     52,   Neg. LLF: -1231.9760088018602\n",
            "Iteration:      7,   Func. Count:     58,   Neg. LLF: -1231.9927976121714\n",
            "Iteration:      8,   Func. Count:     64,   Neg. LLF: -1231.9941328034884\n",
            "Iteration:      9,   Func. Count:     70,   Neg. LLF: -1231.9941392646015\n",
            "Optimization terminated successfully.    (Exit mode 0)\n",
            "            Current function value: -1231.9941392649555\n",
            "            Iterations: 9\n",
            "            Function evaluations: 70\n",
            "            Gradient evaluations: 9\n",
            "-0.00047698940402179116\n"
          ]
        },
        {
          "output_type": "stream",
          "name": "stderr",
          "text": [
            "/usr/local/lib/python3.7/dist-packages/statsmodels/tsa/base/tsa_model.py:539: ValueWarning: No frequency information was provided, so inferred frequency D will be used.\n",
            "  % freq, ValueWarning)\n",
            "/usr/local/lib/python3.7/dist-packages/statsmodels/tsa/base/tsa_model.py:539: ValueWarning: No frequency information was provided, so inferred frequency D will be used.\n",
            "  % freq, ValueWarning)\n",
            "/usr/local/lib/python3.7/dist-packages/statsmodels/base/model.py:606: ConvergenceWarning: Maximum Likelihood optimization failed to converge. Check mle_retvals\n",
            "  ConvergenceWarning)\n"
          ]
        },
        {
          "output_type": "stream",
          "name": "stdout",
          "text": [
            "Iteration:      1,   Func. Count:      6,   Neg. LLF: -1233.2317423670474\n",
            "Iteration:      2,   Func. Count:     18,   Neg. LLF: -1233.5988546314918\n",
            "Iteration:      3,   Func. Count:     28,   Neg. LLF: -1234.390066777978\n",
            "Iteration:      4,   Func. Count:     36,   Neg. LLF: -1234.4871878101426\n",
            "Iteration:      5,   Func. Count:     44,   Neg. LLF: -1234.494957992197\n",
            "Iteration:      6,   Func. Count:     52,   Neg. LLF: -1234.507545676602\n",
            "Iteration:      7,   Func. Count:     58,   Neg. LLF: -1234.5093324185918\n",
            "Iteration:      8,   Func. Count:     64,   Neg. LLF: -1234.5093608295965\n",
            "Iteration:      9,   Func. Count:     70,   Neg. LLF: -1234.5093629595353\n",
            "Optimization terminated successfully.    (Exit mode 0)\n",
            "            Current function value: -1234.5093629595533\n",
            "            Iterations: 9\n",
            "            Function evaluations: 70\n",
            "            Gradient evaluations: 9\n",
            "-0.0006846138783427675\n"
          ]
        },
        {
          "output_type": "stream",
          "name": "stderr",
          "text": [
            "/usr/local/lib/python3.7/dist-packages/statsmodels/tsa/base/tsa_model.py:539: ValueWarning: No frequency information was provided, so inferred frequency D will be used.\n",
            "  % freq, ValueWarning)\n",
            "/usr/local/lib/python3.7/dist-packages/statsmodels/tsa/base/tsa_model.py:539: ValueWarning: No frequency information was provided, so inferred frequency D will be used.\n",
            "  % freq, ValueWarning)\n",
            "/usr/local/lib/python3.7/dist-packages/statsmodels/base/model.py:606: ConvergenceWarning: Maximum Likelihood optimization failed to converge. Check mle_retvals\n",
            "  ConvergenceWarning)\n"
          ]
        },
        {
          "output_type": "stream",
          "name": "stdout",
          "text": [
            "Iteration:      1,   Func. Count:      6,   Neg. LLF: -1235.5774078954428\n",
            "Iteration:      2,   Func. Count:     18,   Neg. LLF: -1235.8650683513542\n",
            "Iteration:      3,   Func. Count:     28,   Neg. LLF: -1236.5420153728473\n",
            "Iteration:      4,   Func. Count:     36,   Neg. LLF: -1236.6403560337951\n",
            "Iteration:      5,   Func. Count:     44,   Neg. LLF: -1236.6783084542997\n",
            "Iteration:      6,   Func. Count:     51,   Neg. LLF: -1236.6821492581669\n",
            "Iteration:      7,   Func. Count:     57,   Neg. LLF: -1236.6842329480155\n",
            "Iteration:      8,   Func. Count:     63,   Neg. LLF: -1236.6842748597917\n",
            "Iteration:      9,   Func. Count:     69,   Neg. LLF: -1236.6842759874175\n",
            "Optimization terminated successfully.    (Exit mode 0)\n",
            "            Current function value: -1236.6842759874173\n",
            "            Iterations: 9\n",
            "            Function evaluations: 69\n",
            "            Gradient evaluations: 9\n",
            "-0.0007907157980273988\n"
          ]
        },
        {
          "output_type": "stream",
          "name": "stderr",
          "text": [
            "/usr/local/lib/python3.7/dist-packages/statsmodels/tsa/base/tsa_model.py:539: ValueWarning: No frequency information was provided, so inferred frequency D will be used.\n",
            "  % freq, ValueWarning)\n",
            "/usr/local/lib/python3.7/dist-packages/statsmodels/tsa/base/tsa_model.py:539: ValueWarning: No frequency information was provided, so inferred frequency D will be used.\n",
            "  % freq, ValueWarning)\n",
            "/usr/local/lib/python3.7/dist-packages/statsmodels/base/model.py:606: ConvergenceWarning: Maximum Likelihood optimization failed to converge. Check mle_retvals\n",
            "  ConvergenceWarning)\n"
          ]
        },
        {
          "output_type": "stream",
          "name": "stdout",
          "text": [
            "Iteration:      1,   Func. Count:      6,   Neg. LLF: -1237.7595298891401\n",
            "Iteration:      2,   Func. Count:     18,   Neg. LLF: -1238.046548707242\n",
            "Iteration:      3,   Func. Count:     28,   Neg. LLF: -1238.6689746052823\n",
            "Iteration:      4,   Func. Count:     36,   Neg. LLF: -1238.7841033273608\n",
            "Iteration:      5,   Func. Count:     44,   Neg. LLF: -1238.8477025551838\n",
            "Iteration:      6,   Func. Count:     53,   Neg. LLF: -1238.8679604276945\n",
            "Iteration:      7,   Func. Count:     59,   Neg. LLF: -1238.874017602137\n",
            "Iteration:      8,   Func. Count:     65,   Neg. LLF: -1238.8748479513772\n",
            "Optimization terminated successfully.    (Exit mode 0)\n",
            "            Current function value: -1238.8748479509754\n",
            "            Iterations: 8\n",
            "            Function evaluations: 65\n",
            "            Gradient evaluations: 8\n",
            "-0.0009012651617183796\n"
          ]
        },
        {
          "output_type": "stream",
          "name": "stderr",
          "text": [
            "/usr/local/lib/python3.7/dist-packages/statsmodels/tsa/base/tsa_model.py:539: ValueWarning: No frequency information was provided, so inferred frequency D will be used.\n",
            "  % freq, ValueWarning)\n",
            "/usr/local/lib/python3.7/dist-packages/statsmodels/tsa/base/tsa_model.py:539: ValueWarning: No frequency information was provided, so inferred frequency D will be used.\n",
            "  % freq, ValueWarning)\n",
            "/usr/local/lib/python3.7/dist-packages/statsmodels/base/model.py:606: ConvergenceWarning: Maximum Likelihood optimization failed to converge. Check mle_retvals\n",
            "  ConvergenceWarning)\n"
          ]
        },
        {
          "output_type": "stream",
          "name": "stdout",
          "text": [
            "Iteration:      1,   Func. Count:      6,   Neg. LLF: -1230.093122030224\n",
            "Iteration:      2,   Func. Count:     18,   Neg. LLF: -1230.153169863056\n",
            "Iteration:      3,   Func. Count:     26,   Neg. LLF: -1230.9503963349769\n",
            "Iteration:      4,   Func. Count:     34,   Neg. LLF: -1231.8439338774704\n",
            "Iteration:      5,   Func. Count:     42,   Neg. LLF: -1231.908318809\n",
            "Iteration:      6,   Func. Count:     51,   Neg. LLF: -1231.9235716028152\n",
            "Iteration:      7,   Func. Count:     59,   Neg. LLF: -1231.932753161868\n",
            "Iteration:      8,   Func. Count:     65,   Neg. LLF: -1231.9358193359276\n",
            "Iteration:      9,   Func. Count:     71,   Neg. LLF: -1231.9361413350039\n",
            "Optimization terminated successfully.    (Exit mode 0)\n",
            "            Current function value: -1231.936141335344\n",
            "            Iterations: 9\n",
            "            Function evaluations: 71\n",
            "            Gradient evaluations: 9\n",
            "-0.0011409597939039029\n"
          ]
        },
        {
          "output_type": "stream",
          "name": "stderr",
          "text": [
            "/usr/local/lib/python3.7/dist-packages/statsmodels/tsa/base/tsa_model.py:539: ValueWarning: No frequency information was provided, so inferred frequency D will be used.\n",
            "  % freq, ValueWarning)\n",
            "/usr/local/lib/python3.7/dist-packages/statsmodels/tsa/base/tsa_model.py:539: ValueWarning: No frequency information was provided, so inferred frequency D will be used.\n",
            "  % freq, ValueWarning)\n",
            "/usr/local/lib/python3.7/dist-packages/statsmodels/base/model.py:606: ConvergenceWarning: Maximum Likelihood optimization failed to converge. Check mle_retvals\n",
            "  ConvergenceWarning)\n"
          ]
        },
        {
          "output_type": "stream",
          "name": "stdout",
          "text": [
            "Iteration:      1,   Func. Count:      6,   Neg. LLF: -1237.799383325827\n",
            "Iteration:      2,   Func. Count:     18,   Neg. LLF: -1238.0518196133985\n",
            "Iteration:      3,   Func. Count:     28,   Neg. LLF: -1238.867736061913\n",
            "Iteration:      4,   Func. Count:     36,   Neg. LLF: -1239.0130900283195\n",
            "Iteration:      5,   Func. Count:     44,   Neg. LLF: -1239.0182532274796\n",
            "Iteration:      6,   Func. Count:     52,   Neg. LLF: -1239.024910478755\n",
            "Iteration:      7,   Func. Count:     59,   Neg. LLF: -1239.0325989619687\n",
            "Iteration:      8,   Func. Count:     65,   Neg. LLF: -1239.032983963893\n",
            "Iteration:      9,   Func. Count:     71,   Neg. LLF: -1239.033003380588\n",
            "Optimization terminated successfully.    (Exit mode 0)\n",
            "            Current function value: -1239.0330033799914\n",
            "            Iterations: 9\n",
            "            Function evaluations: 71\n",
            "            Gradient evaluations: 9\n",
            "-0.0009630068125950608\n"
          ]
        },
        {
          "output_type": "stream",
          "name": "stderr",
          "text": [
            "/usr/local/lib/python3.7/dist-packages/statsmodels/tsa/base/tsa_model.py:539: ValueWarning: No frequency information was provided, so inferred frequency D will be used.\n",
            "  % freq, ValueWarning)\n",
            "/usr/local/lib/python3.7/dist-packages/statsmodels/tsa/base/tsa_model.py:539: ValueWarning: No frequency information was provided, so inferred frequency D will be used.\n",
            "  % freq, ValueWarning)\n",
            "/usr/local/lib/python3.7/dist-packages/statsmodels/base/model.py:606: ConvergenceWarning: Maximum Likelihood optimization failed to converge. Check mle_retvals\n",
            "  ConvergenceWarning)\n"
          ]
        },
        {
          "output_type": "stream",
          "name": "stdout",
          "text": [
            "Iteration:      1,   Func. Count:      6,   Neg. LLF: -1236.0647348018538\n",
            "Iteration:      2,   Func. Count:     18,   Neg. LLF: -1236.1394397000972\n",
            "Iteration:      3,   Func. Count:     26,   Neg. LLF: -1236.953867115542\n",
            "Iteration:      4,   Func. Count:     34,   Neg. LLF: -1237.7134778896998\n",
            "Iteration:      5,   Func. Count:     42,   Neg. LLF: -1237.8111627988048\n",
            "Iteration:      6,   Func. Count:     50,   Neg. LLF: -1237.8178596237217\n",
            "Iteration:      7,   Func. Count:     57,   Neg. LLF: -1237.8247259191514\n",
            "Iteration:      8,   Func. Count:     63,   Neg. LLF: -1237.830708544384\n",
            "Iteration:      9,   Func. Count:     69,   Neg. LLF: -1237.830839581665\n",
            "Iteration:     10,   Func. Count:     75,   Neg. LLF: -1237.8308610350794\n",
            "Optimization terminated successfully.    (Exit mode 0)\n",
            "            Current function value: -1237.830861035028\n",
            "            Iterations: 10\n",
            "            Function evaluations: 75\n",
            "            Gradient evaluations: 10\n",
            "-0.000981987269790683\n"
          ]
        },
        {
          "output_type": "stream",
          "name": "stderr",
          "text": [
            "/usr/local/lib/python3.7/dist-packages/statsmodels/tsa/base/tsa_model.py:539: ValueWarning: No frequency information was provided, so inferred frequency D will be used.\n",
            "  % freq, ValueWarning)\n",
            "/usr/local/lib/python3.7/dist-packages/statsmodels/tsa/base/tsa_model.py:539: ValueWarning: No frequency information was provided, so inferred frequency D will be used.\n",
            "  % freq, ValueWarning)\n",
            "/usr/local/lib/python3.7/dist-packages/statsmodels/base/model.py:606: ConvergenceWarning: Maximum Likelihood optimization failed to converge. Check mle_retvals\n",
            "  ConvergenceWarning)\n"
          ]
        },
        {
          "output_type": "stream",
          "name": "stdout",
          "text": [
            "Iteration:      1,   Func. Count:      6,   Neg. LLF: -1238.441272892081\n",
            "Iteration:      2,   Func. Count:     18,   Neg. LLF: -1238.52502158164\n",
            "Iteration:      3,   Func. Count:     26,   Neg. LLF: -1238.6584529065426\n",
            "Iteration:      4,   Func. Count:     38,   Neg. LLF: -1239.088993363934\n",
            "Iteration:      5,   Func. Count:     49,   Neg. LLF: -1239.0901253031584\n",
            "Iteration:      6,   Func. Count:     61,   Neg. LLF: -1239.091139275526\n",
            "Iteration:      7,   Func. Count:     69,   Neg. LLF: -1239.393069576564\n",
            "Iteration:      8,   Func. Count:     77,   Neg. LLF: -1240.4483295228272\n",
            "Iteration:      9,   Func. Count:     85,   Neg. LLF: -1240.5400244344887\n",
            "Iteration:     10,   Func. Count:     93,   Neg. LLF: -1240.5813787452857\n",
            "Iteration:     11,   Func. Count:    101,   Neg. LLF: -1240.5826340752828\n",
            "Iteration:     12,   Func. Count:    107,   Neg. LLF: -1240.6088139930707\n",
            "Iteration:     13,   Func. Count:    113,   Neg. LLF: -1240.614090420594\n",
            "Iteration:     14,   Func. Count:    119,   Neg. LLF: -1240.6141072601754\n",
            "Optimization terminated successfully.    (Exit mode 0)\n",
            "            Current function value: -1240.6141072603593\n",
            "            Iterations: 18\n",
            "            Function evaluations: 119\n",
            "            Gradient evaluations: 14\n",
            "-0.0009008637465168433\n"
          ]
        },
        {
          "output_type": "stream",
          "name": "stderr",
          "text": [
            "/usr/local/lib/python3.7/dist-packages/statsmodels/tsa/base/tsa_model.py:539: ValueWarning: No frequency information was provided, so inferred frequency D will be used.\n",
            "  % freq, ValueWarning)\n",
            "/usr/local/lib/python3.7/dist-packages/statsmodels/tsa/base/tsa_model.py:539: ValueWarning: No frequency information was provided, so inferred frequency D will be used.\n",
            "  % freq, ValueWarning)\n",
            "/usr/local/lib/python3.7/dist-packages/statsmodels/base/model.py:606: ConvergenceWarning: Maximum Likelihood optimization failed to converge. Check mle_retvals\n",
            "  ConvergenceWarning)\n"
          ]
        },
        {
          "output_type": "stream",
          "name": "stdout",
          "text": [
            "Iteration:      1,   Func. Count:      6,   Neg. LLF: -1240.2313356915265\n",
            "Iteration:      2,   Func. Count:     18,   Neg. LLF: -1240.3073636115123\n",
            "Iteration:      3,   Func. Count:     27,   Neg. LLF: -1240.509778821288\n",
            "Iteration:      4,   Func. Count:     35,   Neg. LLF: -1241.1897329796743\n",
            "Iteration:      5,   Func. Count:     43,   Neg. LLF: -1241.9170205032747\n",
            "Iteration:      6,   Func. Count:     51,   Neg. LLF: -1242.3155276070231\n",
            "Iteration:      7,   Func. Count:     59,   Neg. LLF: -1242.4000076499344\n",
            "Iteration:      8,   Func. Count:     67,   Neg. LLF: -1242.4066633704697\n",
            "Iteration:      9,   Func. Count:     75,   Neg. LLF: -1242.4096652029502\n",
            "Iteration:     10,   Func. Count:     81,   Neg. LLF: -1242.4271366391206\n",
            "Iteration:     11,   Func. Count:     87,   Neg. LLF: -1242.427257442474\n",
            "Iteration:     12,   Func. Count:     93,   Neg. LLF: -1242.4272624701082\n",
            "Optimization terminated successfully.    (Exit mode 0)\n",
            "            Current function value: -1242.4272624700843\n",
            "            Iterations: 13\n",
            "            Function evaluations: 93\n",
            "            Gradient evaluations: 12\n",
            "-0.0011290340214135863\n"
          ]
        },
        {
          "output_type": "stream",
          "name": "stderr",
          "text": [
            "/usr/local/lib/python3.7/dist-packages/statsmodels/tsa/base/tsa_model.py:539: ValueWarning: No frequency information was provided, so inferred frequency D will be used.\n",
            "  % freq, ValueWarning)\n",
            "/usr/local/lib/python3.7/dist-packages/statsmodels/tsa/base/tsa_model.py:539: ValueWarning: No frequency information was provided, so inferred frequency D will be used.\n",
            "  % freq, ValueWarning)\n",
            "/usr/local/lib/python3.7/dist-packages/statsmodels/base/model.py:606: ConvergenceWarning: Maximum Likelihood optimization failed to converge. Check mle_retvals\n",
            "  ConvergenceWarning)\n"
          ]
        },
        {
          "output_type": "stream",
          "name": "stdout",
          "text": [
            "Iteration:      1,   Func. Count:      6,   Neg. LLF: -1240.6374300165796\n",
            "Iteration:      2,   Func. Count:     18,   Neg. LLF: -1240.7106557367204\n",
            "Optimization terminated successfully.    (Exit mode 0)\n",
            "            Current function value: -1240.7106580370128\n",
            "            Iterations: 6\n",
            "            Function evaluations: 18\n",
            "            Gradient evaluations: 2\n",
            "-0.0014850853160897285\n"
          ]
        },
        {
          "output_type": "stream",
          "name": "stderr",
          "text": [
            "/usr/local/lib/python3.7/dist-packages/statsmodels/tsa/base/tsa_model.py:539: ValueWarning: No frequency information was provided, so inferred frequency D will be used.\n",
            "  % freq, ValueWarning)\n",
            "/usr/local/lib/python3.7/dist-packages/statsmodels/tsa/base/tsa_model.py:539: ValueWarning: No frequency information was provided, so inferred frequency D will be used.\n",
            "  % freq, ValueWarning)\n",
            "/usr/local/lib/python3.7/dist-packages/statsmodels/base/model.py:606: ConvergenceWarning: Maximum Likelihood optimization failed to converge. Check mle_retvals\n",
            "  ConvergenceWarning)\n"
          ]
        },
        {
          "output_type": "stream",
          "name": "stdout",
          "text": [
            "Iteration:      1,   Func. Count:      6,   Neg. LLF: -1241.9789903960936\n",
            "Iteration:      2,   Func. Count:     18,   Neg. LLF: -1242.0438602764668\n",
            "Optimization terminated successfully.    (Exit mode 0)\n",
            "            Current function value: -1242.0438625298634\n",
            "            Iterations: 6\n",
            "            Function evaluations: 18\n",
            "            Gradient evaluations: 2\n",
            "-0.0015196749592051792\n"
          ]
        },
        {
          "output_type": "stream",
          "name": "stderr",
          "text": [
            "/usr/local/lib/python3.7/dist-packages/statsmodels/tsa/base/tsa_model.py:539: ValueWarning: No frequency information was provided, so inferred frequency D will be used.\n",
            "  % freq, ValueWarning)\n",
            "/usr/local/lib/python3.7/dist-packages/statsmodels/tsa/base/tsa_model.py:539: ValueWarning: No frequency information was provided, so inferred frequency D will be used.\n",
            "  % freq, ValueWarning)\n",
            "/usr/local/lib/python3.7/dist-packages/statsmodels/base/model.py:606: ConvergenceWarning: Maximum Likelihood optimization failed to converge. Check mle_retvals\n",
            "  ConvergenceWarning)\n"
          ]
        },
        {
          "output_type": "stream",
          "name": "stdout",
          "text": [
            "Iteration:      1,   Func. Count:      6,   Neg. LLF: -1245.8433061616588\n",
            "Iteration:      2,   Func. Count:     18,   Neg. LLF: -1246.0001948867384\n",
            "Iteration:      3,   Func. Count:     27,   Neg. LLF: -1246.6129863101219\n",
            "Iteration:      4,   Func. Count:     35,   Neg. LLF: -1247.0540711909634\n",
            "Iteration:      5,   Func. Count:     43,   Neg. LLF: -1247.0613909184126\n",
            "Iteration:      6,   Func. Count:     50,   Neg. LLF: -1247.2259203421997\n",
            "Iteration:      7,   Func. Count:     56,   Neg. LLF: -1247.227834424782\n",
            "Iteration:      8,   Func. Count:     62,   Neg. LLF: -1247.2278937618426\n",
            "Optimization terminated successfully.    (Exit mode 0)\n",
            "            Current function value: -1247.2278945530134\n",
            "            Iterations: 8\n",
            "            Function evaluations: 64\n",
            "            Gradient evaluations: 8\n",
            "-0.0011954011800787343\n"
          ]
        },
        {
          "output_type": "stream",
          "name": "stderr",
          "text": [
            "/usr/local/lib/python3.7/dist-packages/statsmodels/tsa/base/tsa_model.py:539: ValueWarning: No frequency information was provided, so inferred frequency D will be used.\n",
            "  % freq, ValueWarning)\n",
            "/usr/local/lib/python3.7/dist-packages/statsmodels/tsa/base/tsa_model.py:539: ValueWarning: No frequency information was provided, so inferred frequency D will be used.\n",
            "  % freq, ValueWarning)\n",
            "/usr/local/lib/python3.7/dist-packages/statsmodels/base/model.py:606: ConvergenceWarning: Maximum Likelihood optimization failed to converge. Check mle_retvals\n",
            "  ConvergenceWarning)\n"
          ]
        },
        {
          "output_type": "stream",
          "name": "stdout",
          "text": [
            "Iteration:      1,   Func. Count:      6,   Neg. LLF: -1248.8404137778075\n",
            "Iteration:      2,   Func. Count:     18,   Neg. LLF: -1249.084093518669\n",
            "Iteration:      3,   Func. Count:     28,   Neg. LLF: -1250.1959086959691\n",
            "Iteration:      4,   Func. Count:     36,   Neg. LLF: -1250.4617897711737\n",
            "Iteration:      5,   Func. Count:     44,   Neg. LLF: -1250.5803308568743\n",
            "Iteration:      6,   Func. Count:     52,   Neg. LLF: -1250.6065050670154\n",
            "Iteration:      7,   Func. Count:     60,   Neg. LLF: -1250.6440174692339\n",
            "Iteration:      8,   Func. Count:     66,   Neg. LLF: -1250.6445828117771\n",
            "Iteration:      9,   Func. Count:     72,   Neg. LLF: -1250.644626779651\n",
            "Optimization terminated successfully.    (Exit mode 0)\n",
            "            Current function value: -1250.6446274396603\n",
            "            Iterations: 9\n",
            "            Function evaluations: 73\n",
            "            Gradient evaluations: 9\n",
            "-0.0006396155938378759\n"
          ]
        },
        {
          "output_type": "stream",
          "name": "stderr",
          "text": [
            "/usr/local/lib/python3.7/dist-packages/statsmodels/tsa/base/tsa_model.py:539: ValueWarning: No frequency information was provided, so inferred frequency D will be used.\n",
            "  % freq, ValueWarning)\n",
            "/usr/local/lib/python3.7/dist-packages/statsmodels/tsa/base/tsa_model.py:539: ValueWarning: No frequency information was provided, so inferred frequency D will be used.\n",
            "  % freq, ValueWarning)\n",
            "/usr/local/lib/python3.7/dist-packages/statsmodels/base/model.py:606: ConvergenceWarning: Maximum Likelihood optimization failed to converge. Check mle_retvals\n",
            "  ConvergenceWarning)\n"
          ]
        },
        {
          "output_type": "stream",
          "name": "stdout",
          "text": [
            "Iteration:      1,   Func. Count:      6,   Neg. LLF: -1248.087970011507\n",
            "Iteration:      2,   Func. Count:     18,   Neg. LLF: -1248.395383575973\n",
            "Iteration:      3,   Func. Count:     28,   Neg. LLF: -1249.345656528321\n",
            "Iteration:      4,   Func. Count:     36,   Neg. LLF: -1249.4963276793512\n",
            "Iteration:      5,   Func. Count:     44,   Neg. LLF: -1249.4983945240338\n",
            "Iteration:      6,   Func. Count:     51,   Neg. LLF: -1249.5016166279079\n",
            "Iteration:      7,   Func. Count:     57,   Neg. LLF: -1249.5016224266096\n",
            "Optimization terminated successfully.    (Exit mode 0)\n",
            "            Current function value: -1249.5016224272358\n",
            "            Iterations: 7\n",
            "            Function evaluations: 57\n",
            "            Gradient evaluations: 7\n",
            "-0.0009485644396336218\n"
          ]
        },
        {
          "output_type": "stream",
          "name": "stderr",
          "text": [
            "/usr/local/lib/python3.7/dist-packages/statsmodels/tsa/base/tsa_model.py:539: ValueWarning: No frequency information was provided, so inferred frequency D will be used.\n",
            "  % freq, ValueWarning)\n",
            "/usr/local/lib/python3.7/dist-packages/statsmodels/tsa/base/tsa_model.py:539: ValueWarning: No frequency information was provided, so inferred frequency D will be used.\n",
            "  % freq, ValueWarning)\n",
            "/usr/local/lib/python3.7/dist-packages/statsmodels/base/model.py:606: ConvergenceWarning: Maximum Likelihood optimization failed to converge. Check mle_retvals\n",
            "  ConvergenceWarning)\n"
          ]
        },
        {
          "output_type": "stream",
          "name": "stdout",
          "text": [
            "Iteration:      1,   Func. Count:      6,   Neg. LLF: -1252.3806888931558\n",
            "Iteration:      2,   Func. Count:     18,   Neg. LLF: -1252.738038721603\n",
            "Iteration:      3,   Func. Count:     28,   Neg. LLF: -1253.5246862414367\n",
            "Iteration:      4,   Func. Count:     36,   Neg. LLF: -1253.6504530016705\n",
            "Iteration:      5,   Func. Count:     44,   Neg. LLF: -1253.6758266018726\n",
            "Iteration:      6,   Func. Count:     51,   Neg. LLF: -1253.685923263405\n",
            "Iteration:      7,   Func. Count:     57,   Neg. LLF: -1253.688255780049\n",
            "Iteration:      8,   Func. Count:     63,   Neg. LLF: -1253.6883642503096\n",
            "Iteration:      9,   Func. Count:     69,   Neg. LLF: -1253.688368129957\n",
            "Optimization terminated successfully.    (Exit mode 0)\n",
            "            Current function value: -1253.6883681299623\n",
            "            Iterations: 9\n",
            "            Function evaluations: 69\n",
            "            Gradient evaluations: 9\n",
            "-0.0007277017182621921\n"
          ]
        },
        {
          "output_type": "stream",
          "name": "stderr",
          "text": [
            "/usr/local/lib/python3.7/dist-packages/statsmodels/tsa/base/tsa_model.py:539: ValueWarning: No frequency information was provided, so inferred frequency D will be used.\n",
            "  % freq, ValueWarning)\n",
            "/usr/local/lib/python3.7/dist-packages/statsmodels/tsa/base/tsa_model.py:539: ValueWarning: No frequency information was provided, so inferred frequency D will be used.\n",
            "  % freq, ValueWarning)\n",
            "/usr/local/lib/python3.7/dist-packages/statsmodels/base/model.py:606: ConvergenceWarning: Maximum Likelihood optimization failed to converge. Check mle_retvals\n",
            "  ConvergenceWarning)\n"
          ]
        },
        {
          "output_type": "stream",
          "name": "stdout",
          "text": [
            "Iteration:      1,   Func. Count:      6,   Neg. LLF: -1246.6215038616767\n",
            "Iteration:      2,   Func. Count:     18,   Neg. LLF: -1246.6673272012242\n",
            "Iteration:      3,   Func. Count:     26,   Neg. LLF: -1247.251427120557\n",
            "Iteration:      4,   Func. Count:     34,   Neg. LLF: -1247.9277245039682\n",
            "Iteration:      5,   Func. Count:     43,   Neg. LLF: -1247.929207333879\n",
            "Iteration:      6,   Func. Count:     51,   Neg. LLF: -1247.9550082799162\n",
            "Iteration:      7,   Func. Count:     60,   Neg. LLF: -1247.9551348960958\n",
            "Iteration:      8,   Func. Count:     66,   Neg. LLF: -1247.9571522005426\n",
            "Iteration:      9,   Func. Count:     72,   Neg. LLF: -1247.9572437637134\n",
            "Optimization terminated successfully.    (Exit mode 0)\n",
            "            Current function value: -1247.9572444418293\n",
            "            Iterations: 9\n",
            "            Function evaluations: 73\n",
            "            Gradient evaluations: 9\n",
            "-0.0013561658302079604\n"
          ]
        },
        {
          "output_type": "stream",
          "name": "stderr",
          "text": [
            "/usr/local/lib/python3.7/dist-packages/statsmodels/tsa/base/tsa_model.py:539: ValueWarning: No frequency information was provided, so inferred frequency D will be used.\n",
            "  % freq, ValueWarning)\n",
            "/usr/local/lib/python3.7/dist-packages/statsmodels/tsa/base/tsa_model.py:539: ValueWarning: No frequency information was provided, so inferred frequency D will be used.\n",
            "  % freq, ValueWarning)\n",
            "/usr/local/lib/python3.7/dist-packages/statsmodels/base/model.py:606: ConvergenceWarning: Maximum Likelihood optimization failed to converge. Check mle_retvals\n",
            "  ConvergenceWarning)\n"
          ]
        },
        {
          "output_type": "stream",
          "name": "stdout",
          "text": [
            "Iteration:      1,   Func. Count:      6,   Neg. LLF: -1251.6568155890204\n",
            "Iteration:      2,   Func. Count:     18,   Neg. LLF: -1251.9724374496195\n",
            "Iteration:      3,   Func. Count:     28,   Neg. LLF: -1253.029039867397\n",
            "Iteration:      4,   Func. Count:     36,   Neg. LLF: -1253.1507099959586\n",
            "Iteration:      5,   Func. Count:     43,   Neg. LLF: -1253.179473548792\n",
            "Iteration:      6,   Func. Count:     50,   Neg. LLF: -1253.1859615732114\n",
            "Iteration:      7,   Func. Count:     56,   Neg. LLF: -1253.194676022129\n",
            "Iteration:      8,   Func. Count:     62,   Neg. LLF: -1253.1955650066602\n",
            "Iteration:      9,   Func. Count:     68,   Neg. LLF: -1253.1955664718018\n",
            "Optimization terminated successfully.    (Exit mode 0)\n",
            "            Current function value: -1253.195566472189\n",
            "            Iterations: 9\n",
            "            Function evaluations: 68\n",
            "            Gradient evaluations: 9\n",
            "-0.0005650547843983687\n"
          ]
        },
        {
          "output_type": "stream",
          "name": "stderr",
          "text": [
            "/usr/local/lib/python3.7/dist-packages/statsmodels/tsa/base/tsa_model.py:539: ValueWarning: No frequency information was provided, so inferred frequency D will be used.\n",
            "  % freq, ValueWarning)\n",
            "/usr/local/lib/python3.7/dist-packages/statsmodels/tsa/base/tsa_model.py:539: ValueWarning: No frequency information was provided, so inferred frequency D will be used.\n",
            "  % freq, ValueWarning)\n",
            "/usr/local/lib/python3.7/dist-packages/statsmodels/base/model.py:606: ConvergenceWarning: Maximum Likelihood optimization failed to converge. Check mle_retvals\n",
            "  ConvergenceWarning)\n"
          ]
        },
        {
          "output_type": "stream",
          "name": "stdout",
          "text": [
            "Iteration:      1,   Func. Count:      6,   Neg. LLF: -1254.7073978290623\n",
            "Iteration:      2,   Func. Count:     18,   Neg. LLF: -1254.9644262807942\n",
            "Iteration:      3,   Func. Count:     28,   Neg. LLF: -1255.8142244042613\n",
            "Iteration:      4,   Func. Count:     36,   Neg. LLF: -1256.0013366037233\n",
            "Iteration:      5,   Func. Count:     45,   Neg. LLF: -1256.0021934795639\n",
            "Iteration:      6,   Func. Count:     52,   Neg. LLF: -1256.0046540710387\n",
            "Iteration:      7,   Func. Count:     59,   Neg. LLF: -1256.005754643644\n",
            "Iteration:      8,   Func. Count:     65,   Neg. LLF: -1256.0057927989087\n",
            "Iteration:      9,   Func. Count:     71,   Neg. LLF: -1256.005796541966\n",
            "Optimization terminated successfully.    (Exit mode 0)\n",
            "            Current function value: -1256.0057965419626\n",
            "            Iterations: 9\n",
            "            Function evaluations: 71\n",
            "            Gradient evaluations: 9\n",
            "-0.0010383216948004757\n"
          ]
        },
        {
          "output_type": "stream",
          "name": "stderr",
          "text": [
            "/usr/local/lib/python3.7/dist-packages/statsmodels/tsa/base/tsa_model.py:539: ValueWarning: No frequency information was provided, so inferred frequency D will be used.\n",
            "  % freq, ValueWarning)\n",
            "/usr/local/lib/python3.7/dist-packages/statsmodels/tsa/base/tsa_model.py:539: ValueWarning: No frequency information was provided, so inferred frequency D will be used.\n",
            "  % freq, ValueWarning)\n",
            "/usr/local/lib/python3.7/dist-packages/statsmodels/base/model.py:606: ConvergenceWarning: Maximum Likelihood optimization failed to converge. Check mle_retvals\n",
            "  ConvergenceWarning)\n"
          ]
        },
        {
          "output_type": "stream",
          "name": "stdout",
          "text": [
            "Iteration:      1,   Func. Count:      6,   Neg. LLF: -1253.6926997878018\n",
            "Iteration:      2,   Func. Count:     18,   Neg. LLF: -1253.7634424030573\n",
            "Optimization terminated successfully.    (Exit mode 0)\n",
            "            Current function value: -1253.7634447824971\n",
            "            Iterations: 6\n",
            "            Function evaluations: 18\n",
            "            Gradient evaluations: 2\n",
            "-0.0014972971343904058\n"
          ]
        },
        {
          "output_type": "stream",
          "name": "stderr",
          "text": [
            "/usr/local/lib/python3.7/dist-packages/statsmodels/tsa/base/tsa_model.py:539: ValueWarning: No frequency information was provided, so inferred frequency D will be used.\n",
            "  % freq, ValueWarning)\n",
            "/usr/local/lib/python3.7/dist-packages/statsmodels/tsa/base/tsa_model.py:539: ValueWarning: No frequency information was provided, so inferred frequency D will be used.\n",
            "  % freq, ValueWarning)\n",
            "/usr/local/lib/python3.7/dist-packages/statsmodels/base/model.py:606: ConvergenceWarning: Maximum Likelihood optimization failed to converge. Check mle_retvals\n",
            "  ConvergenceWarning)\n"
          ]
        },
        {
          "output_type": "stream",
          "name": "stdout",
          "text": [
            "Iteration:      1,   Func. Count:      6,   Neg. LLF: -1259.6062194099773\n",
            "Iteration:      2,   Func. Count:     18,   Neg. LLF: -1259.7273066193093\n",
            "Iteration:      3,   Func. Count:     28,   Neg. LLF: -1260.515243312168\n",
            "Iteration:      4,   Func. Count:     36,   Neg. LLF: -1260.7461948133055\n",
            "Iteration:      5,   Func. Count:     45,   Neg. LLF: -1260.7485441581298\n",
            "Iteration:      6,   Func. Count:     51,   Neg. LLF: -1260.7525708787487\n",
            "Iteration:      7,   Func. Count:     57,   Neg. LLF: -1260.756303235394\n",
            "Iteration:      8,   Func. Count:     63,   Neg. LLF: -1260.7563391585059\n",
            "Iteration:      9,   Func. Count:     69,   Neg. LLF: -1260.7563417348144\n",
            "Optimization terminated successfully.    (Exit mode 0)\n",
            "            Current function value: -1260.756341734801\n",
            "            Iterations: 9\n",
            "            Function evaluations: 69\n",
            "            Gradient evaluations: 9\n",
            "-0.0011155683681386129\n"
          ]
        },
        {
          "output_type": "stream",
          "name": "stderr",
          "text": [
            "/usr/local/lib/python3.7/dist-packages/statsmodels/tsa/base/tsa_model.py:539: ValueWarning: No frequency information was provided, so inferred frequency D will be used.\n",
            "  % freq, ValueWarning)\n",
            "/usr/local/lib/python3.7/dist-packages/statsmodels/tsa/base/tsa_model.py:539: ValueWarning: No frequency information was provided, so inferred frequency D will be used.\n",
            "  % freq, ValueWarning)\n",
            "/usr/local/lib/python3.7/dist-packages/statsmodels/base/model.py:606: ConvergenceWarning: Maximum Likelihood optimization failed to converge. Check mle_retvals\n",
            "  ConvergenceWarning)\n"
          ]
        },
        {
          "output_type": "stream",
          "name": "stdout",
          "text": [
            "Iteration:      1,   Func. Count:      6,   Neg. LLF: -1256.159358932187\n",
            "Iteration:      2,   Func. Count:     18,   Neg. LLF: -1256.2264342364592\n",
            "Optimization terminated successfully.    (Exit mode 0)\n",
            "            Current function value: -1256.2264364522507\n",
            "            Iterations: 6\n",
            "            Function evaluations: 18\n",
            "            Gradient evaluations: 2\n",
            "-0.001473950013800423\n"
          ]
        },
        {
          "output_type": "stream",
          "name": "stderr",
          "text": [
            "/usr/local/lib/python3.7/dist-packages/statsmodels/tsa/base/tsa_model.py:539: ValueWarning: No frequency information was provided, so inferred frequency D will be used.\n",
            "  % freq, ValueWarning)\n",
            "/usr/local/lib/python3.7/dist-packages/statsmodels/tsa/base/tsa_model.py:539: ValueWarning: No frequency information was provided, so inferred frequency D will be used.\n",
            "  % freq, ValueWarning)\n",
            "/usr/local/lib/python3.7/dist-packages/statsmodels/base/model.py:606: ConvergenceWarning: Maximum Likelihood optimization failed to converge. Check mle_retvals\n",
            "  ConvergenceWarning)\n"
          ]
        },
        {
          "output_type": "stream",
          "name": "stdout",
          "text": [
            "Iteration:      1,   Func. Count:      6,   Neg. LLF: -1260.65332877965\n",
            "Iteration:      2,   Func. Count:     18,   Neg. LLF: -1260.8854118694499\n",
            "Iteration:      3,   Func. Count:     28,   Neg. LLF: -1261.7660801317352\n",
            "Iteration:      4,   Func. Count:     36,   Neg. LLF: -1261.9503203798147\n",
            "Iteration:      5,   Func. Count:     45,   Neg. LLF: -1261.9504356432444\n",
            "Iteration:      6,   Func. Count:     52,   Neg. LLF: -1261.9540090701996\n",
            "Iteration:      7,   Func. Count:     58,   Neg. LLF: -1261.9540163616161\n",
            "Optimization terminated successfully.    (Exit mode 0)\n",
            "            Current function value: -1261.9540163609188\n",
            "            Iterations: 7\n",
            "            Function evaluations: 58\n",
            "            Gradient evaluations: 7\n",
            "-0.0010471594737778756\n"
          ]
        },
        {
          "output_type": "stream",
          "name": "stderr",
          "text": [
            "/usr/local/lib/python3.7/dist-packages/statsmodels/tsa/base/tsa_model.py:539: ValueWarning: No frequency information was provided, so inferred frequency D will be used.\n",
            "  % freq, ValueWarning)\n",
            "/usr/local/lib/python3.7/dist-packages/statsmodels/tsa/base/tsa_model.py:539: ValueWarning: No frequency information was provided, so inferred frequency D will be used.\n",
            "  % freq, ValueWarning)\n",
            "/usr/local/lib/python3.7/dist-packages/statsmodels/base/model.py:606: ConvergenceWarning: Maximum Likelihood optimization failed to converge. Check mle_retvals\n",
            "  ConvergenceWarning)\n"
          ]
        },
        {
          "output_type": "stream",
          "name": "stdout",
          "text": [
            "Iteration:      1,   Func. Count:      6,   Neg. LLF: -1261.9941674899378\n",
            "Iteration:      2,   Func. Count:     18,   Neg. LLF: -1262.2196758070907\n",
            "Iteration:      3,   Func. Count:     28,   Neg. LLF: -1263.1505698600242\n",
            "Iteration:      4,   Func. Count:     36,   Neg. LLF: -1263.29855399079\n",
            "Iteration:      5,   Func. Count:     44,   Neg. LLF: -1263.3119660629482\n",
            "Iteration:      6,   Func. Count:     51,   Neg. LLF: -1263.316580394348\n",
            "Iteration:      7,   Func. Count:     57,   Neg. LLF: -1263.316597688599\n",
            "Optimization terminated successfully.    (Exit mode 0)\n",
            "            Current function value: -1263.3165976879404\n",
            "            Iterations: 7\n",
            "            Function evaluations: 57\n",
            "            Gradient evaluations: 7\n",
            "-0.0009806750525452202\n"
          ]
        },
        {
          "output_type": "stream",
          "name": "stderr",
          "text": [
            "/usr/local/lib/python3.7/dist-packages/statsmodels/tsa/base/tsa_model.py:539: ValueWarning: No frequency information was provided, so inferred frequency D will be used.\n",
            "  % freq, ValueWarning)\n",
            "/usr/local/lib/python3.7/dist-packages/statsmodels/tsa/base/tsa_model.py:539: ValueWarning: No frequency information was provided, so inferred frequency D will be used.\n",
            "  % freq, ValueWarning)\n",
            "/usr/local/lib/python3.7/dist-packages/statsmodels/base/model.py:606: ConvergenceWarning: Maximum Likelihood optimization failed to converge. Check mle_retvals\n",
            "  ConvergenceWarning)\n"
          ]
        },
        {
          "output_type": "stream",
          "name": "stdout",
          "text": [
            "Iteration:      1,   Func. Count:      6,   Neg. LLF: -1260.7521697456998\n",
            "Iteration:      2,   Func. Count:     18,   Neg. LLF: -1260.830588678431\n",
            "Optimization terminated successfully.    (Exit mode 0)\n",
            "            Current function value: -1260.830590923106\n",
            "            Iterations: 6\n",
            "            Function evaluations: 18\n",
            "            Gradient evaluations: 2\n",
            "-0.0013195764447189611\n"
          ]
        },
        {
          "output_type": "stream",
          "name": "stderr",
          "text": [
            "/usr/local/lib/python3.7/dist-packages/statsmodels/tsa/base/tsa_model.py:539: ValueWarning: No frequency information was provided, so inferred frequency D will be used.\n",
            "  % freq, ValueWarning)\n",
            "/usr/local/lib/python3.7/dist-packages/statsmodels/tsa/base/tsa_model.py:539: ValueWarning: No frequency information was provided, so inferred frequency D will be used.\n",
            "  % freq, ValueWarning)\n",
            "/usr/local/lib/python3.7/dist-packages/statsmodels/base/model.py:606: ConvergenceWarning: Maximum Likelihood optimization failed to converge. Check mle_retvals\n",
            "  ConvergenceWarning)\n"
          ]
        },
        {
          "output_type": "stream",
          "name": "stdout",
          "text": [
            "Iteration:      1,   Func. Count:      6,   Neg. LLF: -1264.2329893302663\n",
            "Iteration:      2,   Func. Count:     19,   Neg. LLF: -1264.7772171514312\n",
            "Iteration:      3,   Func. Count:     29,   Neg. LLF: -1266.2261397683496\n",
            "Iteration:      4,   Func. Count:     37,   Neg. LLF: -1266.4570639138194\n",
            "Iteration:      5,   Func. Count:     44,   Neg. LLF: -1266.6707424544447\n",
            "Iteration:      6,   Func. Count:     52,   Neg. LLF: -1266.6826637341885\n",
            "Iteration:      7,   Func. Count:     58,   Neg. LLF: -1266.7101637177539\n",
            "Iteration:      8,   Func. Count:     64,   Neg. LLF: -1266.717477937485\n",
            "Iteration:      9,   Func. Count:     70,   Neg. LLF: -1266.7175348394167\n",
            "Optimization terminated successfully.    (Exit mode 0)\n",
            "            Current function value: -1266.7175348402102\n",
            "            Iterations: 9\n",
            "            Function evaluations: 70\n",
            "            Gradient evaluations: 9\n",
            "-0.0005296460113428885\n"
          ]
        },
        {
          "output_type": "stream",
          "name": "stderr",
          "text": [
            "/usr/local/lib/python3.7/dist-packages/statsmodels/tsa/base/tsa_model.py:539: ValueWarning: No frequency information was provided, so inferred frequency D will be used.\n",
            "  % freq, ValueWarning)\n",
            "/usr/local/lib/python3.7/dist-packages/statsmodels/tsa/base/tsa_model.py:539: ValueWarning: No frequency information was provided, so inferred frequency D will be used.\n",
            "  % freq, ValueWarning)\n",
            "/usr/local/lib/python3.7/dist-packages/statsmodels/base/model.py:606: ConvergenceWarning: Maximum Likelihood optimization failed to converge. Check mle_retvals\n",
            "  ConvergenceWarning)\n"
          ]
        },
        {
          "output_type": "stream",
          "name": "stdout",
          "text": [
            "Iteration:      1,   Func. Count:      6,   Neg. LLF: -1267.4252982959174\n",
            "Iteration:      2,   Func. Count:     18,   Neg. LLF: -1267.7712250990185\n",
            "Iteration:      3,   Func. Count:     28,   Neg. LLF: -1268.752293780718\n",
            "Iteration:      4,   Func. Count:     36,   Neg. LLF: -1268.8579984051769\n",
            "Iteration:      5,   Func. Count:     43,   Neg. LLF: -1268.872464794664\n",
            "Iteration:      6,   Func. Count:     51,   Neg. LLF: -1268.8820598912298\n",
            "Iteration:      7,   Func. Count:     57,   Neg. LLF: -1268.897948714972\n",
            "Iteration:      8,   Func. Count:     63,   Neg. LLF: -1268.8983064054582\n",
            "Optimization terminated successfully.    (Exit mode 0)\n",
            "            Current function value: -1268.8983068190223\n",
            "            Iterations: 8\n",
            "            Function evaluations: 64\n",
            "            Gradient evaluations: 8\n",
            "-0.0006102438797264298\n"
          ]
        },
        {
          "output_type": "stream",
          "name": "stderr",
          "text": [
            "/usr/local/lib/python3.7/dist-packages/statsmodels/tsa/base/tsa_model.py:539: ValueWarning: No frequency information was provided, so inferred frequency D will be used.\n",
            "  % freq, ValueWarning)\n",
            "/usr/local/lib/python3.7/dist-packages/statsmodels/tsa/base/tsa_model.py:539: ValueWarning: No frequency information was provided, so inferred frequency D will be used.\n",
            "  % freq, ValueWarning)\n",
            "/usr/local/lib/python3.7/dist-packages/statsmodels/base/model.py:606: ConvergenceWarning: Maximum Likelihood optimization failed to converge. Check mle_retvals\n",
            "  ConvergenceWarning)\n"
          ]
        },
        {
          "output_type": "stream",
          "name": "stdout",
          "text": [
            "Iteration:      1,   Func. Count:      6,   Neg. LLF: -1266.5286162796533\n",
            "Iteration:      2,   Func. Count:     18,   Neg. LLF: -1266.6686114926795\n",
            "Iteration:      3,   Func. Count:     26,   Neg. LLF: -1267.0834977580203\n",
            "Iteration:      4,   Func. Count:     35,   Neg. LLF: -1267.4085730825816\n",
            "Iteration:      5,   Func. Count:     44,   Neg. LLF: -1267.4412552746574\n",
            "Iteration:      6,   Func. Count:     52,   Neg. LLF: -1268.2042509179928\n",
            "Iteration:      7,   Func. Count:     60,   Neg. LLF: -1268.2549787930498\n",
            "Iteration:      8,   Func. Count:     68,   Neg. LLF: -1268.2645663242154\n",
            "Iteration:      9,   Func. Count:     75,   Neg. LLF: -1268.2667700415373\n",
            "Iteration:     10,   Func. Count:     81,   Neg. LLF: -1268.2675428783905\n",
            "Optimization terminated successfully.    (Exit mode 0)\n",
            "            Current function value: -1268.2675428785062\n",
            "            Iterations: 11\n",
            "            Function evaluations: 81\n",
            "            Gradient evaluations: 10\n",
            "-0.0010408415497828482\n"
          ]
        },
        {
          "output_type": "stream",
          "name": "stderr",
          "text": [
            "/usr/local/lib/python3.7/dist-packages/statsmodels/tsa/base/tsa_model.py:539: ValueWarning: No frequency information was provided, so inferred frequency D will be used.\n",
            "  % freq, ValueWarning)\n",
            "/usr/local/lib/python3.7/dist-packages/statsmodels/tsa/base/tsa_model.py:539: ValueWarning: No frequency information was provided, so inferred frequency D will be used.\n",
            "  % freq, ValueWarning)\n",
            "/usr/local/lib/python3.7/dist-packages/statsmodels/base/model.py:606: ConvergenceWarning: Maximum Likelihood optimization failed to converge. Check mle_retvals\n",
            "  ConvergenceWarning)\n"
          ]
        },
        {
          "output_type": "stream",
          "name": "stdout",
          "text": [
            "Iteration:      1,   Func. Count:      6,   Neg. LLF: -1277.9815617797499\n",
            "Iteration:      2,   Func. Count:     18,   Neg. LLF: -1278.2217990532617\n",
            "Iteration:      3,   Func. Count:     27,   Neg. LLF: -1278.4303489619556\n",
            "Iteration:      4,   Func. Count:     35,   Neg. LLF: -1278.722881872293\n",
            "Iteration:      5,   Func. Count:     43,   Neg. LLF: -1279.1088449969814\n",
            "Iteration:      6,   Func. Count:     50,   Neg. LLF: -1279.125380568631\n",
            "Iteration:      7,   Func. Count:     56,   Neg. LLF: -1279.1551930728458\n",
            "Iteration:      8,   Func. Count:     62,   Neg. LLF: -1279.157176893481\n",
            "Iteration:      9,   Func. Count:     68,   Neg. LLF: -1279.1597546414964\n",
            "Optimization terminated successfully.    (Exit mode 0)\n",
            "            Current function value: -1279.1597546410896\n",
            "            Iterations: 9\n",
            "            Function evaluations: 68\n",
            "            Gradient evaluations: 9\n",
            "-0.0006144195425616381\n"
          ]
        },
        {
          "output_type": "stream",
          "name": "stderr",
          "text": [
            "/usr/local/lib/python3.7/dist-packages/statsmodels/tsa/base/tsa_model.py:539: ValueWarning: No frequency information was provided, so inferred frequency D will be used.\n",
            "  % freq, ValueWarning)\n",
            "/usr/local/lib/python3.7/dist-packages/statsmodels/tsa/base/tsa_model.py:539: ValueWarning: No frequency information was provided, so inferred frequency D will be used.\n",
            "  % freq, ValueWarning)\n",
            "/usr/local/lib/python3.7/dist-packages/statsmodels/base/model.py:606: ConvergenceWarning: Maximum Likelihood optimization failed to converge. Check mle_retvals\n",
            "  ConvergenceWarning)\n"
          ]
        },
        {
          "output_type": "stream",
          "name": "stdout",
          "text": [
            "Iteration:      1,   Func. Count:      6,   Neg. LLF: -1268.323430422514\n",
            "Iteration:      2,   Func. Count:     18,   Neg. LLF: -1268.376174744288\n",
            "Iteration:      3,   Func. Count:     26,   Neg. LLF: -1269.1476726106262\n",
            "Iteration:      4,   Func. Count:     34,   Neg. LLF: -1269.5295022132757\n",
            "Iteration:      5,   Func. Count:     42,   Neg. LLF: -1269.6673035808185\n",
            "Iteration:      6,   Func. Count:     50,   Neg. LLF: -1269.6762464498\n",
            "Iteration:      7,   Func. Count:     58,   Neg. LLF: -1269.687789948156\n",
            "Iteration:      8,   Func. Count:     64,   Neg. LLF: -1269.6967820989578\n",
            "Iteration:      9,   Func. Count:     70,   Neg. LLF: -1269.6976955803812\n",
            "Iteration:     10,   Func. Count:     76,   Neg. LLF: -1269.6977919924857\n",
            "Optimization terminated successfully.    (Exit mode 0)\n",
            "            Current function value: -1269.6977919925534\n",
            "            Iterations: 10\n",
            "            Function evaluations: 76\n",
            "            Gradient evaluations: 10\n",
            "-0.0011222983646908401\n"
          ]
        },
        {
          "output_type": "stream",
          "name": "stderr",
          "text": [
            "/usr/local/lib/python3.7/dist-packages/statsmodels/tsa/base/tsa_model.py:539: ValueWarning: No frequency information was provided, so inferred frequency D will be used.\n",
            "  % freq, ValueWarning)\n",
            "/usr/local/lib/python3.7/dist-packages/statsmodels/tsa/base/tsa_model.py:539: ValueWarning: No frequency information was provided, so inferred frequency D will be used.\n",
            "  % freq, ValueWarning)\n",
            "/usr/local/lib/python3.7/dist-packages/statsmodels/base/model.py:606: ConvergenceWarning: Maximum Likelihood optimization failed to converge. Check mle_retvals\n",
            "  ConvergenceWarning)\n"
          ]
        },
        {
          "output_type": "stream",
          "name": "stdout",
          "text": [
            "Iteration:      1,   Func. Count:      6,   Neg. LLF: -1273.4668032867567\n",
            "Iteration:      2,   Func. Count:     18,   Neg. LLF: -1273.8164470114575\n",
            "Iteration:      3,   Func. Count:     28,   Neg. LLF: -1274.8453666289772\n",
            "Iteration:      4,   Func. Count:     36,   Neg. LLF: -1275.0281003730277\n",
            "Iteration:      5,   Func. Count:     44,   Neg. LLF: -1275.0445557228836\n",
            "Iteration:      6,   Func. Count:     52,   Neg. LLF: -1275.0543444210034\n",
            "Iteration:      7,   Func. Count:     58,   Neg. LLF: -1275.0543545682035\n",
            "Optimization terminated successfully.    (Exit mode 0)\n",
            "            Current function value: -1275.0543545682194\n",
            "            Iterations: 7\n",
            "            Function evaluations: 58\n",
            "            Gradient evaluations: 7\n",
            "-0.000895469067437904\n"
          ]
        },
        {
          "output_type": "stream",
          "name": "stderr",
          "text": [
            "/usr/local/lib/python3.7/dist-packages/statsmodels/tsa/base/tsa_model.py:539: ValueWarning: No frequency information was provided, so inferred frequency D will be used.\n",
            "  % freq, ValueWarning)\n",
            "/usr/local/lib/python3.7/dist-packages/statsmodels/tsa/base/tsa_model.py:539: ValueWarning: No frequency information was provided, so inferred frequency D will be used.\n",
            "  % freq, ValueWarning)\n",
            "/usr/local/lib/python3.7/dist-packages/statsmodels/base/model.py:606: ConvergenceWarning: Maximum Likelihood optimization failed to converge. Check mle_retvals\n",
            "  ConvergenceWarning)\n"
          ]
        },
        {
          "output_type": "stream",
          "name": "stdout",
          "text": [
            "Iteration:      1,   Func. Count:      6,   Neg. LLF: -1275.4317961195716\n",
            "Iteration:      2,   Func. Count:     18,   Neg. LLF: -1275.770887648709\n",
            "Iteration:      3,   Func. Count:     27,   Neg. LLF: -1277.0296425009647\n",
            "Iteration:      4,   Func. Count:     35,   Neg. LLF: -1277.5773635786659\n",
            "Iteration:      5,   Func. Count:     42,   Neg. LLF: -1277.7072071213256\n",
            "Iteration:      6,   Func. Count:     49,   Neg. LLF: -1277.7440651813986\n",
            "Iteration:      7,   Func. Count:     55,   Neg. LLF: -1277.7688416822602\n",
            "Iteration:      8,   Func. Count:     61,   Neg. LLF: -1277.7696857598016\n",
            "Iteration:      9,   Func. Count:     67,   Neg. LLF: -1277.7698318083847\n",
            "Iteration:     10,   Func. Count:     73,   Neg. LLF: -1277.7698344665582\n",
            "Optimization terminated successfully.    (Exit mode 0)\n",
            "            Current function value: -1277.769834466635\n",
            "            Iterations: 10\n",
            "            Function evaluations: 73\n",
            "            Gradient evaluations: 10\n",
            "-0.00047431077408272915\n"
          ]
        },
        {
          "output_type": "stream",
          "name": "stderr",
          "text": [
            "/usr/local/lib/python3.7/dist-packages/statsmodels/tsa/base/tsa_model.py:539: ValueWarning: No frequency information was provided, so inferred frequency D will be used.\n",
            "  % freq, ValueWarning)\n",
            "/usr/local/lib/python3.7/dist-packages/statsmodels/tsa/base/tsa_model.py:539: ValueWarning: No frequency information was provided, so inferred frequency D will be used.\n",
            "  % freq, ValueWarning)\n",
            "/usr/local/lib/python3.7/dist-packages/statsmodels/base/model.py:606: ConvergenceWarning: Maximum Likelihood optimization failed to converge. Check mle_retvals\n",
            "  ConvergenceWarning)\n"
          ]
        },
        {
          "output_type": "stream",
          "name": "stdout",
          "text": [
            "Iteration:      1,   Func. Count:      6,   Neg. LLF: -1276.4546221986766\n",
            "Iteration:      2,   Func. Count:     18,   Neg. LLF: -1276.5785735488066\n",
            "Iteration:      3,   Func. Count:     28,   Neg. LLF: -1277.7085899305769\n",
            "Iteration:      4,   Func. Count:     36,   Neg. LLF: -1277.9722323842952\n",
            "Iteration:      5,   Func. Count:     43,   Neg. LLF: -1278.0381637925966\n",
            "Iteration:      6,   Func. Count:     50,   Neg. LLF: -1278.0419823835828\n",
            "Iteration:      7,   Func. Count:     56,   Neg. LLF: -1278.0458032514139\n",
            "Iteration:      8,   Func. Count:     62,   Neg. LLF: -1278.0458188847456\n",
            "Optimization terminated successfully.    (Exit mode 0)\n",
            "            Current function value: -1278.0458188852372\n",
            "            Iterations: 8\n",
            "            Function evaluations: 62\n",
            "            Gradient evaluations: 8\n",
            "-0.0015347329615933655\n"
          ]
        },
        {
          "output_type": "stream",
          "name": "stderr",
          "text": [
            "/usr/local/lib/python3.7/dist-packages/statsmodels/tsa/base/tsa_model.py:539: ValueWarning: No frequency information was provided, so inferred frequency D will be used.\n",
            "  % freq, ValueWarning)\n",
            "/usr/local/lib/python3.7/dist-packages/statsmodels/tsa/base/tsa_model.py:539: ValueWarning: No frequency information was provided, so inferred frequency D will be used.\n",
            "  % freq, ValueWarning)\n",
            "/usr/local/lib/python3.7/dist-packages/statsmodels/base/model.py:606: ConvergenceWarning: Maximum Likelihood optimization failed to converge. Check mle_retvals\n",
            "  ConvergenceWarning)\n"
          ]
        },
        {
          "output_type": "stream",
          "name": "stdout",
          "text": [
            "Iteration:      1,   Func. Count:      6,   Neg. LLF: -1277.6349252831099\n",
            "Iteration:      2,   Func. Count:     18,   Neg. LLF: -1277.8974598609407\n",
            "Iteration:      3,   Func. Count:     28,   Neg. LLF: -1278.9205665234267\n",
            "Iteration:      4,   Func. Count:     36,   Neg. LLF: -1279.1199981230473\n",
            "Iteration:      5,   Func. Count:     44,   Neg. LLF: -1279.1483340014202\n",
            "Iteration:      6,   Func. Count:     51,   Neg. LLF: -1279.1527914539506\n",
            "Iteration:      7,   Func. Count:     57,   Neg. LLF: -1279.1530200132286\n",
            "Iteration:      8,   Func. Count:     63,   Neg. LLF: -1279.1532568606676\n",
            "Iteration:      9,   Func. Count:     69,   Neg. LLF: -1279.153265119688\n",
            "Optimization terminated successfully.    (Exit mode 0)\n",
            "            Current function value: -1279.1532651198138\n",
            "            Iterations: 9\n",
            "            Function evaluations: 69\n",
            "            Gradient evaluations: 9\n",
            "-0.001057696807385532\n"
          ]
        },
        {
          "output_type": "stream",
          "name": "stderr",
          "text": [
            "/usr/local/lib/python3.7/dist-packages/statsmodels/tsa/base/tsa_model.py:539: ValueWarning: No frequency information was provided, so inferred frequency D will be used.\n",
            "  % freq, ValueWarning)\n",
            "/usr/local/lib/python3.7/dist-packages/statsmodels/tsa/base/tsa_model.py:539: ValueWarning: No frequency information was provided, so inferred frequency D will be used.\n",
            "  % freq, ValueWarning)\n",
            "/usr/local/lib/python3.7/dist-packages/statsmodels/base/model.py:606: ConvergenceWarning: Maximum Likelihood optimization failed to converge. Check mle_retvals\n",
            "  ConvergenceWarning)\n"
          ]
        },
        {
          "output_type": "stream",
          "name": "stdout",
          "text": [
            "Iteration:      1,   Func. Count:      6,   Neg. LLF: -1278.6623706999512\n",
            "Iteration:      2,   Func. Count:     18,   Neg. LLF: -1278.7594660488717\n",
            "Iteration:      3,   Func. Count:     28,   Neg. LLF: -1279.9808673895138\n",
            "Iteration:      4,   Func. Count:     36,   Neg. LLF: -1280.3134459100934\n",
            "Iteration:      5,   Func. Count:     44,   Neg. LLF: -1280.4245146937233\n",
            "Iteration:      6,   Func. Count:     51,   Neg. LLF: -1280.538389565092\n",
            "Iteration:      7,   Func. Count:     58,   Neg. LLF: -1280.5439279944937\n",
            "Iteration:      8,   Func. Count:     64,   Neg. LLF: -1280.5471190825742\n",
            "Iteration:      9,   Func. Count:     70,   Neg. LLF: -1280.547280054521\n",
            "Iteration:     10,   Func. Count:     76,   Neg. LLF: -1280.5472812531161\n",
            "Optimization terminated successfully.    (Exit mode 0)\n",
            "            Current function value: -1280.547281253418\n",
            "            Iterations: 10\n",
            "            Function evaluations: 76\n",
            "            Gradient evaluations: 10\n",
            "-0.0013755326529325267\n"
          ]
        },
        {
          "output_type": "stream",
          "name": "stderr",
          "text": [
            "/usr/local/lib/python3.7/dist-packages/statsmodels/tsa/base/tsa_model.py:539: ValueWarning: No frequency information was provided, so inferred frequency D will be used.\n",
            "  % freq, ValueWarning)\n",
            "/usr/local/lib/python3.7/dist-packages/statsmodels/tsa/base/tsa_model.py:539: ValueWarning: No frequency information was provided, so inferred frequency D will be used.\n",
            "  % freq, ValueWarning)\n",
            "/usr/local/lib/python3.7/dist-packages/statsmodels/base/model.py:606: ConvergenceWarning: Maximum Likelihood optimization failed to converge. Check mle_retvals\n",
            "  ConvergenceWarning)\n"
          ]
        },
        {
          "output_type": "stream",
          "name": "stdout",
          "text": [
            "Iteration:      1,   Func. Count:      6,   Neg. LLF: -1282.9319765673708\n",
            "Iteration:      2,   Func. Count:     18,   Neg. LLF: -1283.2624077065993\n",
            "Iteration:      3,   Func. Count:     28,   Neg. LLF: -1284.278505857671\n",
            "Iteration:      4,   Func. Count:     36,   Neg. LLF: -1284.5063281169173\n",
            "Iteration:      5,   Func. Count:     43,   Neg. LLF: -1284.5379271675197\n",
            "Iteration:      6,   Func. Count:     52,   Neg. LLF: -1284.5742550534464\n",
            "Iteration:      7,   Func. Count:     58,   Neg. LLF: -1284.591204991858\n",
            "Iteration:      8,   Func. Count:     64,   Neg. LLF: -1284.5912675244704\n",
            "Optimization terminated successfully.    (Exit mode 0)\n",
            "            Current function value: -1284.5912675239824\n",
            "            Iterations: 8\n",
            "            Function evaluations: 64\n",
            "            Gradient evaluations: 8\n",
            "-0.0005419883017343927\n"
          ]
        },
        {
          "output_type": "stream",
          "name": "stderr",
          "text": [
            "/usr/local/lib/python3.7/dist-packages/statsmodels/tsa/base/tsa_model.py:539: ValueWarning: No frequency information was provided, so inferred frequency D will be used.\n",
            "  % freq, ValueWarning)\n",
            "/usr/local/lib/python3.7/dist-packages/statsmodels/tsa/base/tsa_model.py:539: ValueWarning: No frequency information was provided, so inferred frequency D will be used.\n",
            "  % freq, ValueWarning)\n",
            "/usr/local/lib/python3.7/dist-packages/statsmodels/base/model.py:606: ConvergenceWarning: Maximum Likelihood optimization failed to converge. Check mle_retvals\n",
            "  ConvergenceWarning)\n"
          ]
        },
        {
          "output_type": "stream",
          "name": "stdout",
          "text": [
            "Iteration:      1,   Func. Count:      6,   Neg. LLF: -1280.8595644710606\n",
            "Iteration:      2,   Func. Count:     18,   Neg. LLF: -1280.931654361922\n",
            "Iteration:      3,   Func. Count:     26,   Neg. LLF: -1281.6199666882399\n",
            "Iteration:      4,   Func. Count:     35,   Neg. LLF: -1281.7446054028346\n",
            "Iteration:      5,   Func. Count:     43,   Neg. LLF: -1282.3307447369098\n",
            "Iteration:      6,   Func. Count:     51,   Neg. LLF: -1282.4050250172036\n",
            "Iteration:      7,   Func. Count:     59,   Neg. LLF: -1282.40555285372\n",
            "Iteration:      8,   Func. Count:     67,   Neg. LLF: -1282.4215643882612\n",
            "Iteration:      9,   Func. Count:     73,   Neg. LLF: -1282.422730453924\n",
            "Iteration:     10,   Func. Count:     79,   Neg. LLF: -1282.4227389972127\n",
            "Optimization terminated successfully.    (Exit mode 0)\n",
            "            Current function value: -1282.4227389972893\n",
            "            Iterations: 11\n",
            "            Function evaluations: 79\n",
            "            Gradient evaluations: 10\n",
            "-0.0011692607096087696\n"
          ]
        },
        {
          "output_type": "stream",
          "name": "stderr",
          "text": [
            "/usr/local/lib/python3.7/dist-packages/statsmodels/tsa/base/tsa_model.py:539: ValueWarning: No frequency information was provided, so inferred frequency D will be used.\n",
            "  % freq, ValueWarning)\n",
            "/usr/local/lib/python3.7/dist-packages/statsmodels/tsa/base/tsa_model.py:539: ValueWarning: No frequency information was provided, so inferred frequency D will be used.\n",
            "  % freq, ValueWarning)\n",
            "/usr/local/lib/python3.7/dist-packages/statsmodels/base/model.py:606: ConvergenceWarning: Maximum Likelihood optimization failed to converge. Check mle_retvals\n",
            "  ConvergenceWarning)\n"
          ]
        },
        {
          "output_type": "stream",
          "name": "stdout",
          "text": [
            "Iteration:      1,   Func. Count:      6,   Neg. LLF: -1281.7640860383642\n",
            "Iteration:      2,   Func. Count:     18,   Neg. LLF: -1281.8267205257998\n",
            "Iteration:      3,   Func. Count:     26,   Neg. LLF: -1282.6241389319812\n",
            "Iteration:      4,   Func. Count:     34,   Neg. LLF: -1283.1203116688566\n",
            "Iteration:      5,   Func. Count:     42,   Neg. LLF: -1283.2249900787915\n",
            "Iteration:      6,   Func. Count:     50,   Neg. LLF: -1283.2337774550024\n",
            "Iteration:      7,   Func. Count:     58,   Neg. LLF: -1283.2378531381733\n",
            "Iteration:      8,   Func. Count:     64,   Neg. LLF: -1283.2497931795674\n",
            "Iteration:      9,   Func. Count:     70,   Neg. LLF: -1283.250688569869\n",
            "Iteration:     10,   Func. Count:     76,   Neg. LLF: -1283.250766208349\n",
            "Optimization terminated successfully.    (Exit mode 0)\n",
            "            Current function value: -1283.2507662087444\n",
            "            Iterations: 10\n",
            "            Function evaluations: 76\n",
            "            Gradient evaluations: 10\n",
            "-0.0012701328490052363\n"
          ]
        },
        {
          "output_type": "stream",
          "name": "stderr",
          "text": [
            "/usr/local/lib/python3.7/dist-packages/statsmodels/tsa/base/tsa_model.py:539: ValueWarning: No frequency information was provided, so inferred frequency D will be used.\n",
            "  % freq, ValueWarning)\n",
            "/usr/local/lib/python3.7/dist-packages/statsmodels/tsa/base/tsa_model.py:539: ValueWarning: No frequency information was provided, so inferred frequency D will be used.\n",
            "  % freq, ValueWarning)\n",
            "/usr/local/lib/python3.7/dist-packages/statsmodels/base/model.py:606: ConvergenceWarning: Maximum Likelihood optimization failed to converge. Check mle_retvals\n",
            "  ConvergenceWarning)\n"
          ]
        },
        {
          "output_type": "stream",
          "name": "stdout",
          "text": [
            "Iteration:      1,   Func. Count:      6,   Neg. LLF: -1284.9041327074888\n",
            "Iteration:      2,   Func. Count:     18,   Neg. LLF: -1285.0245772369785\n",
            "Iteration:      3,   Func. Count:     28,   Neg. LLF: -1286.1349638932213\n",
            "Iteration:      4,   Func. Count:     36,   Neg. LLF: -1286.4462816793969\n",
            "Iteration:      5,   Func. Count:     43,   Neg. LLF: -1286.5117383091206\n",
            "Iteration:      6,   Func. Count:     50,   Neg. LLF: -1286.517803324443\n",
            "Iteration:      7,   Func. Count:     56,   Neg. LLF: -1286.519203731209\n",
            "Iteration:      8,   Func. Count:     62,   Neg. LLF: -1286.5192323045794\n",
            "Optimization terminated successfully.    (Exit mode 0)\n",
            "            Current function value: -1286.519232732311\n",
            "            Iterations: 8\n",
            "            Function evaluations: 63\n",
            "            Gradient evaluations: 8\n",
            "-0.0018310289481802762\n"
          ]
        },
        {
          "output_type": "stream",
          "name": "stderr",
          "text": [
            "/usr/local/lib/python3.7/dist-packages/statsmodels/tsa/base/tsa_model.py:539: ValueWarning: No frequency information was provided, so inferred frequency D will be used.\n",
            "  % freq, ValueWarning)\n",
            "/usr/local/lib/python3.7/dist-packages/statsmodels/tsa/base/tsa_model.py:539: ValueWarning: No frequency information was provided, so inferred frequency D will be used.\n",
            "  % freq, ValueWarning)\n",
            "/usr/local/lib/python3.7/dist-packages/statsmodels/base/model.py:606: ConvergenceWarning: Maximum Likelihood optimization failed to converge. Check mle_retvals\n",
            "  ConvergenceWarning)\n"
          ]
        },
        {
          "output_type": "stream",
          "name": "stdout",
          "text": [
            "Iteration:      1,   Func. Count:      6,   Neg. LLF: -1283.8457291670998\n",
            "Iteration:      2,   Func. Count:     18,   Neg. LLF: -1283.9633200634962\n",
            "Iteration:      3,   Func. Count:     28,   Neg. LLF: -1285.4276348999433\n",
            "Iteration:      4,   Func. Count:     36,   Neg. LLF: -1285.5245655364745\n",
            "Iteration:      5,   Func. Count:     44,   Neg. LLF: -1285.6715781201424\n",
            "Iteration:      6,   Func. Count:     51,   Neg. LLF: -1285.9439532300933\n",
            "Iteration:      7,   Func. Count:     58,   Neg. LLF: -1285.9732983407162\n",
            "Iteration:      8,   Func. Count:     65,   Neg. LLF: -1286.0545648893735\n",
            "Iteration:      9,   Func. Count:     71,   Neg. LLF: -1286.0559248660827\n",
            "Iteration:     10,   Func. Count:     77,   Neg. LLF: -1286.0559355547111\n",
            "Optimization terminated successfully.    (Exit mode 0)\n",
            "            Current function value: -1286.0559355545752\n",
            "            Iterations: 10\n",
            "            Function evaluations: 77\n",
            "            Gradient evaluations: 10\n",
            "-0.0016012988787622903\n"
          ]
        },
        {
          "output_type": "stream",
          "name": "stderr",
          "text": [
            "/usr/local/lib/python3.7/dist-packages/statsmodels/tsa/base/tsa_model.py:539: ValueWarning: No frequency information was provided, so inferred frequency D will be used.\n",
            "  % freq, ValueWarning)\n",
            "/usr/local/lib/python3.7/dist-packages/statsmodels/tsa/base/tsa_model.py:539: ValueWarning: No frequency information was provided, so inferred frequency D will be used.\n",
            "  % freq, ValueWarning)\n",
            "/usr/local/lib/python3.7/dist-packages/statsmodels/base/model.py:606: ConvergenceWarning: Maximum Likelihood optimization failed to converge. Check mle_retvals\n",
            "  ConvergenceWarning)\n"
          ]
        },
        {
          "output_type": "stream",
          "name": "stdout",
          "text": [
            "Iteration:      1,   Func. Count:      6,   Neg. LLF: -1289.61849023686\n",
            "Iteration:      2,   Func. Count:     18,   Neg. LLF: -1289.8485246472856\n",
            "Iteration:      3,   Func. Count:     28,   Neg. LLF: -1290.870895371332\n",
            "Iteration:      4,   Func. Count:     36,   Neg. LLF: -1291.1050816454522\n",
            "Iteration:      5,   Func. Count:     43,   Neg. LLF: -1291.1266571051488\n",
            "Iteration:      6,   Func. Count:     50,   Neg. LLF: -1291.1345853119915\n",
            "Iteration:      7,   Func. Count:     56,   Neg. LLF: -1291.1453383445664\n",
            "Iteration:      8,   Func. Count:     62,   Neg. LLF: -1291.1461684393626\n",
            "Optimization terminated successfully.    (Exit mode 0)\n",
            "            Current function value: -1291.1461689310854\n",
            "            Iterations: 8\n",
            "            Function evaluations: 63\n",
            "            Gradient evaluations: 8\n",
            "-0.0012924587172532193\n"
          ]
        },
        {
          "output_type": "stream",
          "name": "stderr",
          "text": [
            "/usr/local/lib/python3.7/dist-packages/statsmodels/tsa/base/tsa_model.py:539: ValueWarning: No frequency information was provided, so inferred frequency D will be used.\n",
            "  % freq, ValueWarning)\n",
            "/usr/local/lib/python3.7/dist-packages/statsmodels/tsa/base/tsa_model.py:539: ValueWarning: No frequency information was provided, so inferred frequency D will be used.\n",
            "  % freq, ValueWarning)\n",
            "/usr/local/lib/python3.7/dist-packages/statsmodels/base/model.py:606: ConvergenceWarning: Maximum Likelihood optimization failed to converge. Check mle_retvals\n",
            "  ConvergenceWarning)\n"
          ]
        },
        {
          "output_type": "stream",
          "name": "stdout",
          "text": [
            "Iteration:      1,   Func. Count:      6,   Neg. LLF: -1293.608772940338\n",
            "Iteration:      2,   Func. Count:     18,   Neg. LLF: -1293.81897174214\n",
            "Iteration:      3,   Func. Count:     28,   Neg. LLF: -1294.6236654369131\n",
            "Iteration:      4,   Func. Count:     36,   Neg. LLF: -1294.8666000931269\n",
            "Iteration:      5,   Func. Count:     45,   Neg. LLF: -1294.8666406742755\n",
            "Iteration:      6,   Func. Count:     52,   Neg. LLF: -1294.8732217140573\n",
            "Iteration:      7,   Func. Count:     58,   Neg. LLF: -1294.8733202969522\n",
            "Iteration:      8,   Func. Count:     64,   Neg. LLF: -1294.8733281280943\n",
            "Optimization terminated successfully.    (Exit mode 0)\n",
            "            Current function value: -1294.8733281280965\n",
            "            Iterations: 8\n",
            "            Function evaluations: 64\n",
            "            Gradient evaluations: 8\n",
            "-0.000981582063818991\n"
          ]
        },
        {
          "output_type": "stream",
          "name": "stderr",
          "text": [
            "/usr/local/lib/python3.7/dist-packages/statsmodels/tsa/base/tsa_model.py:539: ValueWarning: No frequency information was provided, so inferred frequency D will be used.\n",
            "  % freq, ValueWarning)\n",
            "/usr/local/lib/python3.7/dist-packages/statsmodels/tsa/base/tsa_model.py:539: ValueWarning: No frequency information was provided, so inferred frequency D will be used.\n",
            "  % freq, ValueWarning)\n",
            "/usr/local/lib/python3.7/dist-packages/statsmodels/base/model.py:606: ConvergenceWarning: Maximum Likelihood optimization failed to converge. Check mle_retvals\n",
            "  ConvergenceWarning)\n"
          ]
        },
        {
          "output_type": "stream",
          "name": "stdout",
          "text": [
            "Iteration:      1,   Func. Count:      6,   Neg. LLF: -1293.608772940338\n",
            "Iteration:      2,   Func. Count:     18,   Neg. LLF: -1293.81897174214\n",
            "Iteration:      3,   Func. Count:     28,   Neg. LLF: -1294.6236654369131\n",
            "Iteration:      4,   Func. Count:     36,   Neg. LLF: -1294.8666000931269\n",
            "Iteration:      5,   Func. Count:     45,   Neg. LLF: -1294.8666406742755\n",
            "Iteration:      6,   Func. Count:     52,   Neg. LLF: -1294.8732217140573\n",
            "Iteration:      7,   Func. Count:     58,   Neg. LLF: -1294.8733202969522\n",
            "Iteration:      8,   Func. Count:     64,   Neg. LLF: -1294.8733281280943\n",
            "Optimization terminated successfully.    (Exit mode 0)\n",
            "            Current function value: -1294.8733281280965\n",
            "            Iterations: 8\n",
            "            Function evaluations: 64\n",
            "            Gradient evaluations: 8\n",
            "-0.000981582063818991\n"
          ]
        }
      ],
      "metadata": {
        "colab": {
          "base_uri": "https://localhost:8080/"
        },
        "id": "ZPZ-LACOWvix",
        "outputId": "1f901c92-e7fc-4921-8f64-d3bc58487f92"
      }
    },
    {
      "cell_type": "code",
      "execution_count": 21,
      "source": [
        "model= SARIMAX(train_y,\n",
        " exog=train_X,\n",
        " order=(0,1,1),\n",
        " seasonal_order =(0, 0, 1, 12),\n",
        " enforce_invertibility=False, enforce_stationarity=False)\n"
      ],
      "outputs": [
        {
          "output_type": "stream",
          "name": "stderr",
          "text": [
            "/usr/local/lib/python3.7/dist-packages/statsmodels/tsa/base/tsa_model.py:539: ValueWarning: No frequency information was provided, so inferred frequency D will be used.\n",
            "  % freq, ValueWarning)\n",
            "/usr/local/lib/python3.7/dist-packages/statsmodels/tsa/base/tsa_model.py:539: ValueWarning: No frequency information was provided, so inferred frequency D will be used.\n",
            "  % freq, ValueWarning)\n"
          ]
        }
      ],
      "metadata": {
        "id": "5ui01m20W3Yr",
        "colab": {
          "base_uri": "https://localhost:8080/"
        },
        "outputId": "f473efa6-9103-4982-f3d0-11b1bd034660"
      }
    },
    {
      "cell_type": "code",
      "execution_count": 22,
      "source": [
        "# training the model\n",
        "results= model.fit()\n",
        "\n",
        "# plotting residuals\n",
        "results.resid.plot()"
      ],
      "outputs": [
        {
          "output_type": "stream",
          "name": "stderr",
          "text": [
            "/usr/local/lib/python3.7/dist-packages/statsmodels/base/model.py:606: ConvergenceWarning: Maximum Likelihood optimization failed to converge. Check mle_retvals\n",
            "  ConvergenceWarning)\n"
          ]
        },
        {
          "output_type": "execute_result",
          "data": {
            "text/plain": [
              "<matplotlib.axes._subplots.AxesSubplot at 0x7fdb63feb5d0>"
            ]
          },
          "metadata": {},
          "execution_count": 22
        },
        {
          "output_type": "display_data",
          "data": {
            "image/png": "[encoded data removed]",
            "text/plain": [
              "<Figure size 432x288 with 1 Axes>"
            ]
          },
          "metadata": {
            "needs_background": "light"
          }
        }
      ],
      "metadata": {
        "id": "TmP2xvc3W3iS",
        "colab": {
          "base_uri": "https://localhost:8080/",
          "height": 343
        },
        "outputId": "545e6b17-9f57-4bdf-9596-ecbe93a84e75"
      }
    },
    {
      "cell_type": "code",
      "execution_count": 23,
      "source": [
        "predictions= results.predict(start =train_size, end=train_size+test_size-2,exog=test_X)\n",
        "act= pd.DataFrame(scaler_output.iloc[train_size:, 0])\n",
        "predictions=pd.DataFrame(predictions)\n",
        "predictions.reset_index(drop=True, inplace=True)\n",
        "predictions.index=test_X.index\n",
        "predictions['Actual'] = act['BTC Price next day']\n",
        "predictions.rename(columns={'predicted_mean':'Pred'}, inplace=True)\n",
        "print(predictions)\n",
        "for i in range(len(predictions)) : \n",
        "  predictions.iloc[i,0]= predictions.iloc[i,0]+predic_garch[i]"
      ],
      "outputs": [
        {
          "output_type": "stream",
          "name": "stdout",
          "text": [
            "                Pred    Actual\n",
            "Date                          \n",
            "2021-10-04  0.677865  0.689202\n",
            "2021-10-05  0.674152  0.705125\n",
            "2021-10-06  0.651283  0.746426\n",
            "2021-10-07  0.700583  0.795567\n",
            "2021-10-08  0.686846  0.622267\n",
            "...              ...       ...\n",
            "2022-01-06  0.686015  0.581123\n",
            "2022-01-07  0.676811  0.654732\n",
            "2022-01-08  0.675976  0.609515\n",
            "2022-01-09  0.676121  0.673724\n",
            "2022-01-10  0.686235  0.676622\n",
            "\n",
            "[99 rows x 2 columns]\n"
          ]
        }
      ],
      "metadata": {
        "id": "tb3m1FEWXAgA",
        "colab": {
          "base_uri": "https://localhost:8080/"
        },
        "outputId": "afa2f631-661f-4c4c-9c29-6db1a555086b"
      }
    },
    {
      "cell_type": "code",
      "execution_count": 24,
      "source": [
        "trainPredict = sc_out.inverse_transform(predictions[['Pred']])\n",
        "testPredict = sc_out.inverse_transform(predictions[['Actual']])\n",
        "\n",
        "plt.figure(figsize=(20,10))\n",
        "plt.plot(predictions.index, trainPredict, label='Pred', color='blue')\n",
        "plt.plot(predictions.index, testPredict, label='Actual', color='red')\n",
        "plt.legend()\n",
        "plt.show()\n",
        "\n",
        "from statsmodels.tools.eval_measures import rmse\n",
        "error=rmse(trainPredict, testPredict)\n",
        "print(\"RMSE:\",error)"
      ],
      "outputs": [
        {
          "output_type": "display_data",
          "data": {
            "image/png": "[encoded data removed]",
            "text/plain": [
              "<Figure size 1440x720 with 1 Axes>"
            ]
          },
          "metadata": {
            "needs_background": "light"
          }
        },
        {
          "output_type": "stream",
          "name": "stdout",
          "text": [
            "RMSE: [0.0333178]\n"
          ]
        }
      ],
      "metadata": {
        "id": "b0OsUdSFaWBZ",
        "colab": {
          "base_uri": "https://localhost:8080/",
          "height": 609
        },
        "outputId": "c10d690e-5556-433a-97cd-730f86e3c602"
      }
    },
    {
      "cell_type": "code",
      "execution_count": 24,
      "source": [
        "\n"
      ],
      "outputs": [],
      "metadata": {
        "id": "qpXwm_CiaWK1"
      }
    }
  ]
}